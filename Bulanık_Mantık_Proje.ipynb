{
  "nbformat": 4,
  "nbformat_minor": 0,
  "metadata": {
    "colab": {
      "name": "Bulanık_Mantık_Proje.ipynb",
      "provenance": [],
      "collapsed_sections": []
    },
    "kernelspec": {
      "name": "python3",
      "display_name": "Python 3"
    },
    "language_info": {
      "name": "python"
    }
  },
  "cells": [
    {
      "cell_type": "code",
      "source": [
        "!pip install kaggle"
      ],
      "metadata": {
        "colab": {
          "base_uri": "https://localhost:8080/"
        },
        "id": "H8UhViyjsMAn",
        "outputId": "858c0250-de56-4803-a5e5-8c9b17ec24b1"
      },
      "execution_count": null,
      "outputs": [
        {
          "output_type": "stream",
          "name": "stdout",
          "text": [
            "Requirement already satisfied: kaggle in /usr/local/lib/python3.7/dist-packages (1.5.12)\n",
            "Requirement already satisfied: python-slugify in /usr/local/lib/python3.7/dist-packages (from kaggle) (6.1.2)\n",
            "Requirement already satisfied: urllib3 in /usr/local/lib/python3.7/dist-packages (from kaggle) (1.24.3)\n",
            "Requirement already satisfied: certifi in /usr/local/lib/python3.7/dist-packages (from kaggle) (2021.10.8)\n",
            "Requirement already satisfied: six>=1.10 in /usr/local/lib/python3.7/dist-packages (from kaggle) (1.15.0)\n",
            "Requirement already satisfied: python-dateutil in /usr/local/lib/python3.7/dist-packages (from kaggle) (2.8.2)\n",
            "Requirement already satisfied: requests in /usr/local/lib/python3.7/dist-packages (from kaggle) (2.23.0)\n",
            "Requirement already satisfied: tqdm in /usr/local/lib/python3.7/dist-packages (from kaggle) (4.64.0)\n",
            "Requirement already satisfied: text-unidecode>=1.3 in /usr/local/lib/python3.7/dist-packages (from python-slugify->kaggle) (1.3)\n",
            "Requirement already satisfied: idna<3,>=2.5 in /usr/local/lib/python3.7/dist-packages (from requests->kaggle) (2.10)\n",
            "Requirement already satisfied: chardet<4,>=3.0.2 in /usr/local/lib/python3.7/dist-packages (from requests->kaggle) (3.0.4)\n"
          ]
        }
      ]
    },
    {
      "cell_type": "code",
      "source": [
        "from google.colab import drive\n",
        "drive.mount('/content/gdrive')"
      ],
      "metadata": {
        "colab": {
          "base_uri": "https://localhost:8080/"
        },
        "id": "81r28yMrsQUS",
        "outputId": "be3c0cd6-5c9e-4ca0-e1b9-78731c448a2e"
      },
      "execution_count": null,
      "outputs": [
        {
          "output_type": "stream",
          "name": "stdout",
          "text": [
            "Mounted at /content/gdrive\n"
          ]
        }
      ]
    },
    {
      "cell_type": "code",
      "source": [
        "import os\n",
        "os.environ['KAGGLE_CONFIG_DIR'] = \"/content/gdrive/My Drive/\"\n",
        "%cd /content/gdrive/MyDrive/"
      ],
      "metadata": {
        "colab": {
          "base_uri": "https://localhost:8080/"
        },
        "id": "uE0dSyQHsU0Z",
        "outputId": "0a9654cb-81f9-4ded-e825-29a8b9f6e3a1"
      },
      "execution_count": null,
      "outputs": [
        {
          "output_type": "stream",
          "name": "stdout",
          "text": [
            "/content/gdrive/MyDrive\n"
          ]
        }
      ]
    },
    {
      "cell_type": "code",
      "execution_count": null,
      "metadata": {
        "colab": {
          "base_uri": "https://localhost:8080/"
        },
        "id": "ry-Xz7rksGNw",
        "outputId": "ae8f3295-26b4-4360-f351-e79f5099ddd5"
      },
      "outputs": [
        {
          "output_type": "stream",
          "name": "stdout",
          "text": [
            "heart-failure-prediction.zip: Skipping, found more recently modified local copy (use --force to force download)\n"
          ]
        }
      ],
      "source": [
        "!kaggle datasets download -d fedesoriano/heart-failure-prediction"
      ]
    },
    {
      "cell_type": "code",
      "source": [
        "%cp heart-failure-prediction.zip  /content/"
      ],
      "metadata": {
        "id": "JKeSepkPscqc"
      },
      "execution_count": null,
      "outputs": []
    },
    {
      "cell_type": "code",
      "source": [
        "%cd /content/"
      ],
      "metadata": {
        "colab": {
          "base_uri": "https://localhost:8080/"
        },
        "id": "lo1ZXZiisMKJ",
        "outputId": "ea92567b-2fa3-4236-c843-bc3e84c896eb"
      },
      "execution_count": null,
      "outputs": [
        {
          "output_type": "stream",
          "name": "stdout",
          "text": [
            "/content\n"
          ]
        }
      ]
    },
    {
      "cell_type": "code",
      "source": [
        "!unzip heart-failure-prediction.zip"
      ],
      "metadata": {
        "colab": {
          "base_uri": "https://localhost:8080/"
        },
        "id": "AsmNDgUBsyZg",
        "outputId": "0719fe7a-9135-447a-a3b8-8bba7a50b14c"
      },
      "execution_count": null,
      "outputs": [
        {
          "output_type": "stream",
          "name": "stdout",
          "text": [
            "Archive:  heart-failure-prediction.zip\n",
            "  inflating: heart.csv               \n"
          ]
        }
      ]
    },
    {
      "cell_type": "code",
      "source": [
        "import numpy as np # linear algebra\n",
        "import pandas as pd # data processing, CSV file I/O (e.g. pd.read_csv)"
      ],
      "metadata": {
        "id": "2tC55lfhs7sE"
      },
      "execution_count": null,
      "outputs": []
    },
    {
      "cell_type": "code",
      "source": [
        "from matplotlib import pyplot as plt\n",
        "from sklearn import preprocessing\n",
        "from sklearn.preprocessing import LabelEncoder\n",
        "from sklearn.model_selection import train_test_split\n",
        "from sklearn import tree\n",
        "from sklearn.tree import DecisionTreeClassifier\n",
        "from sklearn import metrics\n",
        "import graphviz"
      ],
      "metadata": {
        "id": "cIKY8vPss7ts"
      },
      "execution_count": null,
      "outputs": []
    },
    {
      "cell_type": "code",
      "source": [
        "data = pd.read_csv('/content/heart.csv')\n",
        "data.head()"
      ],
      "metadata": {
        "colab": {
          "base_uri": "https://localhost:8080/",
          "height": 270
        },
        "id": "dqaG7I7ms7xE",
        "outputId": "0d7c3d09-554b-4c88-eb5f-fecaed4d4ba9"
      },
      "execution_count": null,
      "outputs": [
        {
          "output_type": "execute_result",
          "data": {
            "text/plain": [
              "   Age Sex ChestPainType  RestingBP  Cholesterol  FastingBS RestingECG  MaxHR  \\\n",
              "0   40   M           ATA        140          289          0     Normal    172   \n",
              "1   49   F           NAP        160          180          0     Normal    156   \n",
              "2   37   M           ATA        130          283          0         ST     98   \n",
              "3   48   F           ASY        138          214          0     Normal    108   \n",
              "4   54   M           NAP        150          195          0     Normal    122   \n",
              "\n",
              "  ExerciseAngina  Oldpeak ST_Slope  HeartDisease  \n",
              "0              N      0.0       Up             0  \n",
              "1              N      1.0     Flat             1  \n",
              "2              N      0.0       Up             0  \n",
              "3              Y      1.5     Flat             1  \n",
              "4              N      0.0       Up             0  "
            ],
            "text/html": [
              "\n",
              "  <div id=\"df-f836968c-e706-419a-84d7-f7ab0132691f\">\n",
              "    <div class=\"colab-df-container\">\n",
              "      <div>\n",
              "<style scoped>\n",
              "    .dataframe tbody tr th:only-of-type {\n",
              "        vertical-align: middle;\n",
              "    }\n",
              "\n",
              "    .dataframe tbody tr th {\n",
              "        vertical-align: top;\n",
              "    }\n",
              "\n",
              "    .dataframe thead th {\n",
              "        text-align: right;\n",
              "    }\n",
              "</style>\n",
              "<table border=\"1\" class=\"dataframe\">\n",
              "  <thead>\n",
              "    <tr style=\"text-align: right;\">\n",
              "      <th></th>\n",
              "      <th>Age</th>\n",
              "      <th>Sex</th>\n",
              "      <th>ChestPainType</th>\n",
              "      <th>RestingBP</th>\n",
              "      <th>Cholesterol</th>\n",
              "      <th>FastingBS</th>\n",
              "      <th>RestingECG</th>\n",
              "      <th>MaxHR</th>\n",
              "      <th>ExerciseAngina</th>\n",
              "      <th>Oldpeak</th>\n",
              "      <th>ST_Slope</th>\n",
              "      <th>HeartDisease</th>\n",
              "    </tr>\n",
              "  </thead>\n",
              "  <tbody>\n",
              "    <tr>\n",
              "      <th>0</th>\n",
              "      <td>40</td>\n",
              "      <td>M</td>\n",
              "      <td>ATA</td>\n",
              "      <td>140</td>\n",
              "      <td>289</td>\n",
              "      <td>0</td>\n",
              "      <td>Normal</td>\n",
              "      <td>172</td>\n",
              "      <td>N</td>\n",
              "      <td>0.0</td>\n",
              "      <td>Up</td>\n",
              "      <td>0</td>\n",
              "    </tr>\n",
              "    <tr>\n",
              "      <th>1</th>\n",
              "      <td>49</td>\n",
              "      <td>F</td>\n",
              "      <td>NAP</td>\n",
              "      <td>160</td>\n",
              "      <td>180</td>\n",
              "      <td>0</td>\n",
              "      <td>Normal</td>\n",
              "      <td>156</td>\n",
              "      <td>N</td>\n",
              "      <td>1.0</td>\n",
              "      <td>Flat</td>\n",
              "      <td>1</td>\n",
              "    </tr>\n",
              "    <tr>\n",
              "      <th>2</th>\n",
              "      <td>37</td>\n",
              "      <td>M</td>\n",
              "      <td>ATA</td>\n",
              "      <td>130</td>\n",
              "      <td>283</td>\n",
              "      <td>0</td>\n",
              "      <td>ST</td>\n",
              "      <td>98</td>\n",
              "      <td>N</td>\n",
              "      <td>0.0</td>\n",
              "      <td>Up</td>\n",
              "      <td>0</td>\n",
              "    </tr>\n",
              "    <tr>\n",
              "      <th>3</th>\n",
              "      <td>48</td>\n",
              "      <td>F</td>\n",
              "      <td>ASY</td>\n",
              "      <td>138</td>\n",
              "      <td>214</td>\n",
              "      <td>0</td>\n",
              "      <td>Normal</td>\n",
              "      <td>108</td>\n",
              "      <td>Y</td>\n",
              "      <td>1.5</td>\n",
              "      <td>Flat</td>\n",
              "      <td>1</td>\n",
              "    </tr>\n",
              "    <tr>\n",
              "      <th>4</th>\n",
              "      <td>54</td>\n",
              "      <td>M</td>\n",
              "      <td>NAP</td>\n",
              "      <td>150</td>\n",
              "      <td>195</td>\n",
              "      <td>0</td>\n",
              "      <td>Normal</td>\n",
              "      <td>122</td>\n",
              "      <td>N</td>\n",
              "      <td>0.0</td>\n",
              "      <td>Up</td>\n",
              "      <td>0</td>\n",
              "    </tr>\n",
              "  </tbody>\n",
              "</table>\n",
              "</div>\n",
              "      <button class=\"colab-df-convert\" onclick=\"convertToInteractive('df-f836968c-e706-419a-84d7-f7ab0132691f')\"\n",
              "              title=\"Convert this dataframe to an interactive table.\"\n",
              "              style=\"display:none;\">\n",
              "        \n",
              "  <svg xmlns=\"http://www.w3.org/2000/svg\" height=\"24px\"viewBox=\"0 0 24 24\"\n",
              "       width=\"24px\">\n",
              "    <path d=\"M0 0h24v24H0V0z\" fill=\"none\"/>\n",
              "    <path d=\"M18.56 5.44l.94 2.06.94-2.06 2.06-.94-2.06-.94-.94-2.06-.94 2.06-2.06.94zm-11 1L8.5 8.5l.94-2.06 2.06-.94-2.06-.94L8.5 2.5l-.94 2.06-2.06.94zm10 10l.94 2.06.94-2.06 2.06-.94-2.06-.94-.94-2.06-.94 2.06-2.06.94z\"/><path d=\"M17.41 7.96l-1.37-1.37c-.4-.4-.92-.59-1.43-.59-.52 0-1.04.2-1.43.59L10.3 9.45l-7.72 7.72c-.78.78-.78 2.05 0 2.83L4 21.41c.39.39.9.59 1.41.59.51 0 1.02-.2 1.41-.59l7.78-7.78 2.81-2.81c.8-.78.8-2.07 0-2.86zM5.41 20L4 18.59l7.72-7.72 1.47 1.35L5.41 20z\"/>\n",
              "  </svg>\n",
              "      </button>\n",
              "      \n",
              "  <style>\n",
              "    .colab-df-container {\n",
              "      display:flex;\n",
              "      flex-wrap:wrap;\n",
              "      gap: 12px;\n",
              "    }\n",
              "\n",
              "    .colab-df-convert {\n",
              "      background-color: #E8F0FE;\n",
              "      border: none;\n",
              "      border-radius: 50%;\n",
              "      cursor: pointer;\n",
              "      display: none;\n",
              "      fill: #1967D2;\n",
              "      height: 32px;\n",
              "      padding: 0 0 0 0;\n",
              "      width: 32px;\n",
              "    }\n",
              "\n",
              "    .colab-df-convert:hover {\n",
              "      background-color: #E2EBFA;\n",
              "      box-shadow: 0px 1px 2px rgba(60, 64, 67, 0.3), 0px 1px 3px 1px rgba(60, 64, 67, 0.15);\n",
              "      fill: #174EA6;\n",
              "    }\n",
              "\n",
              "    [theme=dark] .colab-df-convert {\n",
              "      background-color: #3B4455;\n",
              "      fill: #D2E3FC;\n",
              "    }\n",
              "\n",
              "    [theme=dark] .colab-df-convert:hover {\n",
              "      background-color: #434B5C;\n",
              "      box-shadow: 0px 1px 3px 1px rgba(0, 0, 0, 0.15);\n",
              "      filter: drop-shadow(0px 1px 2px rgba(0, 0, 0, 0.3));\n",
              "      fill: #FFFFFF;\n",
              "    }\n",
              "  </style>\n",
              "\n",
              "      <script>\n",
              "        const buttonEl =\n",
              "          document.querySelector('#df-f836968c-e706-419a-84d7-f7ab0132691f button.colab-df-convert');\n",
              "        buttonEl.style.display =\n",
              "          google.colab.kernel.accessAllowed ? 'block' : 'none';\n",
              "\n",
              "        async function convertToInteractive(key) {\n",
              "          const element = document.querySelector('#df-f836968c-e706-419a-84d7-f7ab0132691f');\n",
              "          const dataTable =\n",
              "            await google.colab.kernel.invokeFunction('convertToInteractive',\n",
              "                                                     [key], {});\n",
              "          if (!dataTable) return;\n",
              "\n",
              "          const docLinkHtml = 'Like what you see? Visit the ' +\n",
              "            '<a target=\"_blank\" href=https://colab.research.google.com/notebooks/data_table.ipynb>data table notebook</a>'\n",
              "            + ' to learn more about interactive tables.';\n",
              "          element.innerHTML = '';\n",
              "          dataTable['output_type'] = 'display_data';\n",
              "          await google.colab.output.renderOutput(dataTable, element);\n",
              "          const docLink = document.createElement('div');\n",
              "          docLink.innerHTML = docLinkHtml;\n",
              "          element.appendChild(docLink);\n",
              "        }\n",
              "      </script>\n",
              "    </div>\n",
              "  </div>\n",
              "  "
            ]
          },
          "metadata": {},
          "execution_count": 9
        }
      ]
    },
    {
      "cell_type": "code",
      "source": [
        "data['FastingBS'].unique()"
      ],
      "metadata": {
        "colab": {
          "base_uri": "https://localhost:8080/"
        },
        "id": "RtsgHoSDOegs",
        "outputId": "f0532e5c-2616-4c9f-c8f0-435aab464314"
      },
      "execution_count": null,
      "outputs": [
        {
          "output_type": "execute_result",
          "data": {
            "text/plain": [
              "array([0, 1])"
            ]
          },
          "metadata": {},
          "execution_count": 13
        }
      ]
    },
    {
      "cell_type": "code",
      "source": [
        "data.info()\n"
      ],
      "metadata": {
        "colab": {
          "base_uri": "https://localhost:8080/"
        },
        "id": "PL-Gyk-Ss7y3",
        "outputId": "326a060b-2a29-4ad3-a2b9-1381cfe0fcc9"
      },
      "execution_count": null,
      "outputs": [
        {
          "output_type": "stream",
          "name": "stdout",
          "text": [
            "<class 'pandas.core.frame.DataFrame'>\n",
            "RangeIndex: 918 entries, 0 to 917\n",
            "Data columns (total 12 columns):\n",
            " #   Column          Non-Null Count  Dtype  \n",
            "---  ------          --------------  -----  \n",
            " 0   Age             918 non-null    int64  \n",
            " 1   Sex             918 non-null    object \n",
            " 2   ChestPainType   918 non-null    object \n",
            " 3   RestingBP       918 non-null    int64  \n",
            " 4   Cholesterol     918 non-null    int64  \n",
            " 5   FastingBS       918 non-null    int64  \n",
            " 6   RestingECG      918 non-null    object \n",
            " 7   MaxHR           918 non-null    int64  \n",
            " 8   ExerciseAngina  918 non-null    object \n",
            " 9   Oldpeak         918 non-null    float64\n",
            " 10  ST_Slope        918 non-null    object \n",
            " 11  HeartDisease    918 non-null    int64  \n",
            "dtypes: float64(1), int64(6), object(5)\n",
            "memory usage: 86.2+ KB\n"
          ]
        }
      ]
    },
    {
      "cell_type": "code",
      "source": [
        "# check missing value\n",
        "data.isnull().sum()"
      ],
      "metadata": {
        "colab": {
          "base_uri": "https://localhost:8080/"
        },
        "id": "7GO9DCJys73N",
        "outputId": "13c548f4-13ed-4289-936b-f16cec90f4a5"
      },
      "execution_count": null,
      "outputs": [
        {
          "output_type": "execute_result",
          "data": {
            "text/plain": [
              "Age               0\n",
              "Sex               0\n",
              "ChestPainType     0\n",
              "RestingBP         0\n",
              "Cholesterol       0\n",
              "FastingBS         0\n",
              "RestingECG        0\n",
              "MaxHR             0\n",
              "ExerciseAngina    0\n",
              "Oldpeak           0\n",
              "ST_Slope          0\n",
              "HeartDisease      0\n",
              "dtype: int64"
            ]
          },
          "metadata": {},
          "execution_count": 12
        }
      ]
    },
    {
      "cell_type": "code",
      "source": [
        "non_numerical_data = ['Sex','ChestPainType','RestingECG','ExerciseAngina','ST_Slope']\n",
        "for col in non_numerical_data:\n",
        "    print(col, \": \\n\\n\", data[col].unique())"
      ],
      "metadata": {
        "colab": {
          "base_uri": "https://localhost:8080/"
        },
        "id": "-zByIAMBtNb8",
        "outputId": "633731d5-4c67-4d1d-a5d7-bacdaa4f4ed5"
      },
      "execution_count": null,
      "outputs": [
        {
          "output_type": "stream",
          "name": "stdout",
          "text": [
            "Sex : \n",
            "\n",
            " ['M' 'F']\n",
            "ChestPainType : \n",
            "\n",
            " ['ATA' 'NAP' 'ASY' 'TA']\n",
            "RestingECG : \n",
            "\n",
            " ['Normal' 'ST' 'LVH']\n",
            "ExerciseAngina : \n",
            "\n",
            " ['N' 'Y']\n",
            "ST_Slope : \n",
            "\n",
            " ['Up' 'Flat' 'Down']\n"
          ]
        }
      ]
    },
    {
      "cell_type": "code",
      "source": [
        "# check duplicates\n",
        "data.duplicated().sum()"
      ],
      "metadata": {
        "colab": {
          "base_uri": "https://localhost:8080/"
        },
        "id": "EaA27Bn4tNda",
        "outputId": "d22fc2fb-f712-4198-8701-b2b2e03fcc51"
      },
      "execution_count": null,
      "outputs": [
        {
          "output_type": "execute_result",
          "data": {
            "text/plain": [
              "0"
            ]
          },
          "metadata": {},
          "execution_count": 14
        }
      ]
    },
    {
      "cell_type": "code",
      "source": [
        "encoder = LabelEncoder()\n",
        "new_data = data.copy()\n",
        "for col in non_numerical_data:\n",
        "    new_data[col] = encoder.fit_transform(data[col])\n",
        "new_data.head()"
      ],
      "metadata": {
        "colab": {
          "base_uri": "https://localhost:8080/",
          "height": 206
        },
        "id": "7hxIE_JntTNG",
        "outputId": "2c551acd-0c09-42e5-f542-d75380ab0868"
      },
      "execution_count": null,
      "outputs": [
        {
          "output_type": "execute_result",
          "data": {
            "text/plain": [
              "   Age  Sex  ChestPainType  RestingBP  Cholesterol  FastingBS  RestingECG  \\\n",
              "0   40    1              1        140          289          0           1   \n",
              "1   49    0              2        160          180          0           1   \n",
              "2   37    1              1        130          283          0           2   \n",
              "3   48    0              0        138          214          0           1   \n",
              "4   54    1              2        150          195          0           1   \n",
              "\n",
              "   MaxHR  ExerciseAngina  Oldpeak  ST_Slope  HeartDisease  \n",
              "0    172               0      0.0         2             0  \n",
              "1    156               0      1.0         1             1  \n",
              "2     98               0      0.0         2             0  \n",
              "3    108               1      1.5         1             1  \n",
              "4    122               0      0.0         2             0  "
            ],
            "text/html": [
              "\n",
              "  <div id=\"df-f79df511-fbf3-4991-af56-a6bd4846c6aa\">\n",
              "    <div class=\"colab-df-container\">\n",
              "      <div>\n",
              "<style scoped>\n",
              "    .dataframe tbody tr th:only-of-type {\n",
              "        vertical-align: middle;\n",
              "    }\n",
              "\n",
              "    .dataframe tbody tr th {\n",
              "        vertical-align: top;\n",
              "    }\n",
              "\n",
              "    .dataframe thead th {\n",
              "        text-align: right;\n",
              "    }\n",
              "</style>\n",
              "<table border=\"1\" class=\"dataframe\">\n",
              "  <thead>\n",
              "    <tr style=\"text-align: right;\">\n",
              "      <th></th>\n",
              "      <th>Age</th>\n",
              "      <th>Sex</th>\n",
              "      <th>ChestPainType</th>\n",
              "      <th>RestingBP</th>\n",
              "      <th>Cholesterol</th>\n",
              "      <th>FastingBS</th>\n",
              "      <th>RestingECG</th>\n",
              "      <th>MaxHR</th>\n",
              "      <th>ExerciseAngina</th>\n",
              "      <th>Oldpeak</th>\n",
              "      <th>ST_Slope</th>\n",
              "      <th>HeartDisease</th>\n",
              "    </tr>\n",
              "  </thead>\n",
              "  <tbody>\n",
              "    <tr>\n",
              "      <th>0</th>\n",
              "      <td>40</td>\n",
              "      <td>1</td>\n",
              "      <td>1</td>\n",
              "      <td>140</td>\n",
              "      <td>289</td>\n",
              "      <td>0</td>\n",
              "      <td>1</td>\n",
              "      <td>172</td>\n",
              "      <td>0</td>\n",
              "      <td>0.0</td>\n",
              "      <td>2</td>\n",
              "      <td>0</td>\n",
              "    </tr>\n",
              "    <tr>\n",
              "      <th>1</th>\n",
              "      <td>49</td>\n",
              "      <td>0</td>\n",
              "      <td>2</td>\n",
              "      <td>160</td>\n",
              "      <td>180</td>\n",
              "      <td>0</td>\n",
              "      <td>1</td>\n",
              "      <td>156</td>\n",
              "      <td>0</td>\n",
              "      <td>1.0</td>\n",
              "      <td>1</td>\n",
              "      <td>1</td>\n",
              "    </tr>\n",
              "    <tr>\n",
              "      <th>2</th>\n",
              "      <td>37</td>\n",
              "      <td>1</td>\n",
              "      <td>1</td>\n",
              "      <td>130</td>\n",
              "      <td>283</td>\n",
              "      <td>0</td>\n",
              "      <td>2</td>\n",
              "      <td>98</td>\n",
              "      <td>0</td>\n",
              "      <td>0.0</td>\n",
              "      <td>2</td>\n",
              "      <td>0</td>\n",
              "    </tr>\n",
              "    <tr>\n",
              "      <th>3</th>\n",
              "      <td>48</td>\n",
              "      <td>0</td>\n",
              "      <td>0</td>\n",
              "      <td>138</td>\n",
              "      <td>214</td>\n",
              "      <td>0</td>\n",
              "      <td>1</td>\n",
              "      <td>108</td>\n",
              "      <td>1</td>\n",
              "      <td>1.5</td>\n",
              "      <td>1</td>\n",
              "      <td>1</td>\n",
              "    </tr>\n",
              "    <tr>\n",
              "      <th>4</th>\n",
              "      <td>54</td>\n",
              "      <td>1</td>\n",
              "      <td>2</td>\n",
              "      <td>150</td>\n",
              "      <td>195</td>\n",
              "      <td>0</td>\n",
              "      <td>1</td>\n",
              "      <td>122</td>\n",
              "      <td>0</td>\n",
              "      <td>0.0</td>\n",
              "      <td>2</td>\n",
              "      <td>0</td>\n",
              "    </tr>\n",
              "  </tbody>\n",
              "</table>\n",
              "</div>\n",
              "      <button class=\"colab-df-convert\" onclick=\"convertToInteractive('df-f79df511-fbf3-4991-af56-a6bd4846c6aa')\"\n",
              "              title=\"Convert this dataframe to an interactive table.\"\n",
              "              style=\"display:none;\">\n",
              "        \n",
              "  <svg xmlns=\"http://www.w3.org/2000/svg\" height=\"24px\"viewBox=\"0 0 24 24\"\n",
              "       width=\"24px\">\n",
              "    <path d=\"M0 0h24v24H0V0z\" fill=\"none\"/>\n",
              "    <path d=\"M18.56 5.44l.94 2.06.94-2.06 2.06-.94-2.06-.94-.94-2.06-.94 2.06-2.06.94zm-11 1L8.5 8.5l.94-2.06 2.06-.94-2.06-.94L8.5 2.5l-.94 2.06-2.06.94zm10 10l.94 2.06.94-2.06 2.06-.94-2.06-.94-.94-2.06-.94 2.06-2.06.94z\"/><path d=\"M17.41 7.96l-1.37-1.37c-.4-.4-.92-.59-1.43-.59-.52 0-1.04.2-1.43.59L10.3 9.45l-7.72 7.72c-.78.78-.78 2.05 0 2.83L4 21.41c.39.39.9.59 1.41.59.51 0 1.02-.2 1.41-.59l7.78-7.78 2.81-2.81c.8-.78.8-2.07 0-2.86zM5.41 20L4 18.59l7.72-7.72 1.47 1.35L5.41 20z\"/>\n",
              "  </svg>\n",
              "      </button>\n",
              "      \n",
              "  <style>\n",
              "    .colab-df-container {\n",
              "      display:flex;\n",
              "      flex-wrap:wrap;\n",
              "      gap: 12px;\n",
              "    }\n",
              "\n",
              "    .colab-df-convert {\n",
              "      background-color: #E8F0FE;\n",
              "      border: none;\n",
              "      border-radius: 50%;\n",
              "      cursor: pointer;\n",
              "      display: none;\n",
              "      fill: #1967D2;\n",
              "      height: 32px;\n",
              "      padding: 0 0 0 0;\n",
              "      width: 32px;\n",
              "    }\n",
              "\n",
              "    .colab-df-convert:hover {\n",
              "      background-color: #E2EBFA;\n",
              "      box-shadow: 0px 1px 2px rgba(60, 64, 67, 0.3), 0px 1px 3px 1px rgba(60, 64, 67, 0.15);\n",
              "      fill: #174EA6;\n",
              "    }\n",
              "\n",
              "    [theme=dark] .colab-df-convert {\n",
              "      background-color: #3B4455;\n",
              "      fill: #D2E3FC;\n",
              "    }\n",
              "\n",
              "    [theme=dark] .colab-df-convert:hover {\n",
              "      background-color: #434B5C;\n",
              "      box-shadow: 0px 1px 3px 1px rgba(0, 0, 0, 0.15);\n",
              "      filter: drop-shadow(0px 1px 2px rgba(0, 0, 0, 0.3));\n",
              "      fill: #FFFFFF;\n",
              "    }\n",
              "  </style>\n",
              "\n",
              "      <script>\n",
              "        const buttonEl =\n",
              "          document.querySelector('#df-f79df511-fbf3-4991-af56-a6bd4846c6aa button.colab-df-convert');\n",
              "        buttonEl.style.display =\n",
              "          google.colab.kernel.accessAllowed ? 'block' : 'none';\n",
              "\n",
              "        async function convertToInteractive(key) {\n",
              "          const element = document.querySelector('#df-f79df511-fbf3-4991-af56-a6bd4846c6aa');\n",
              "          const dataTable =\n",
              "            await google.colab.kernel.invokeFunction('convertToInteractive',\n",
              "                                                     [key], {});\n",
              "          if (!dataTable) return;\n",
              "\n",
              "          const docLinkHtml = 'Like what you see? Visit the ' +\n",
              "            '<a target=\"_blank\" href=https://colab.research.google.com/notebooks/data_table.ipynb>data table notebook</a>'\n",
              "            + ' to learn more about interactive tables.';\n",
              "          element.innerHTML = '';\n",
              "          dataTable['output_type'] = 'display_data';\n",
              "          await google.colab.output.renderOutput(dataTable, element);\n",
              "          const docLink = document.createElement('div');\n",
              "          docLink.innerHTML = docLinkHtml;\n",
              "          element.appendChild(docLink);\n",
              "        }\n",
              "      </script>\n",
              "    </div>\n",
              "  </div>\n",
              "  "
            ]
          },
          "metadata": {},
          "execution_count": 15
        }
      ]
    },
    {
      "cell_type": "code",
      "source": [
        "X = new_data.drop(labels = ['HeartDisease'], axis = 1)\n",
        "X.head()"
      ],
      "metadata": {
        "colab": {
          "base_uri": "https://localhost:8080/",
          "height": 206
        },
        "id": "0FOjV3M5tTOv",
        "outputId": "b051331e-e070-44f0-c27b-f3c59967caad"
      },
      "execution_count": null,
      "outputs": [
        {
          "output_type": "execute_result",
          "data": {
            "text/plain": [
              "   Age  Sex  ChestPainType  RestingBP  Cholesterol  FastingBS  RestingECG  \\\n",
              "0   40    1              1        140          289          0           1   \n",
              "1   49    0              2        160          180          0           1   \n",
              "2   37    1              1        130          283          0           2   \n",
              "3   48    0              0        138          214          0           1   \n",
              "4   54    1              2        150          195          0           1   \n",
              "\n",
              "   MaxHR  ExerciseAngina  Oldpeak  ST_Slope  \n",
              "0    172               0      0.0         2  \n",
              "1    156               0      1.0         1  \n",
              "2     98               0      0.0         2  \n",
              "3    108               1      1.5         1  \n",
              "4    122               0      0.0         2  "
            ],
            "text/html": [
              "\n",
              "  <div id=\"df-4572aa30-9e8f-4f71-9574-f744f0bc0639\">\n",
              "    <div class=\"colab-df-container\">\n",
              "      <div>\n",
              "<style scoped>\n",
              "    .dataframe tbody tr th:only-of-type {\n",
              "        vertical-align: middle;\n",
              "    }\n",
              "\n",
              "    .dataframe tbody tr th {\n",
              "        vertical-align: top;\n",
              "    }\n",
              "\n",
              "    .dataframe thead th {\n",
              "        text-align: right;\n",
              "    }\n",
              "</style>\n",
              "<table border=\"1\" class=\"dataframe\">\n",
              "  <thead>\n",
              "    <tr style=\"text-align: right;\">\n",
              "      <th></th>\n",
              "      <th>Age</th>\n",
              "      <th>Sex</th>\n",
              "      <th>ChestPainType</th>\n",
              "      <th>RestingBP</th>\n",
              "      <th>Cholesterol</th>\n",
              "      <th>FastingBS</th>\n",
              "      <th>RestingECG</th>\n",
              "      <th>MaxHR</th>\n",
              "      <th>ExerciseAngina</th>\n",
              "      <th>Oldpeak</th>\n",
              "      <th>ST_Slope</th>\n",
              "    </tr>\n",
              "  </thead>\n",
              "  <tbody>\n",
              "    <tr>\n",
              "      <th>0</th>\n",
              "      <td>40</td>\n",
              "      <td>1</td>\n",
              "      <td>1</td>\n",
              "      <td>140</td>\n",
              "      <td>289</td>\n",
              "      <td>0</td>\n",
              "      <td>1</td>\n",
              "      <td>172</td>\n",
              "      <td>0</td>\n",
              "      <td>0.0</td>\n",
              "      <td>2</td>\n",
              "    </tr>\n",
              "    <tr>\n",
              "      <th>1</th>\n",
              "      <td>49</td>\n",
              "      <td>0</td>\n",
              "      <td>2</td>\n",
              "      <td>160</td>\n",
              "      <td>180</td>\n",
              "      <td>0</td>\n",
              "      <td>1</td>\n",
              "      <td>156</td>\n",
              "      <td>0</td>\n",
              "      <td>1.0</td>\n",
              "      <td>1</td>\n",
              "    </tr>\n",
              "    <tr>\n",
              "      <th>2</th>\n",
              "      <td>37</td>\n",
              "      <td>1</td>\n",
              "      <td>1</td>\n",
              "      <td>130</td>\n",
              "      <td>283</td>\n",
              "      <td>0</td>\n",
              "      <td>2</td>\n",
              "      <td>98</td>\n",
              "      <td>0</td>\n",
              "      <td>0.0</td>\n",
              "      <td>2</td>\n",
              "    </tr>\n",
              "    <tr>\n",
              "      <th>3</th>\n",
              "      <td>48</td>\n",
              "      <td>0</td>\n",
              "      <td>0</td>\n",
              "      <td>138</td>\n",
              "      <td>214</td>\n",
              "      <td>0</td>\n",
              "      <td>1</td>\n",
              "      <td>108</td>\n",
              "      <td>1</td>\n",
              "      <td>1.5</td>\n",
              "      <td>1</td>\n",
              "    </tr>\n",
              "    <tr>\n",
              "      <th>4</th>\n",
              "      <td>54</td>\n",
              "      <td>1</td>\n",
              "      <td>2</td>\n",
              "      <td>150</td>\n",
              "      <td>195</td>\n",
              "      <td>0</td>\n",
              "      <td>1</td>\n",
              "      <td>122</td>\n",
              "      <td>0</td>\n",
              "      <td>0.0</td>\n",
              "      <td>2</td>\n",
              "    </tr>\n",
              "  </tbody>\n",
              "</table>\n",
              "</div>\n",
              "      <button class=\"colab-df-convert\" onclick=\"convertToInteractive('df-4572aa30-9e8f-4f71-9574-f744f0bc0639')\"\n",
              "              title=\"Convert this dataframe to an interactive table.\"\n",
              "              style=\"display:none;\">\n",
              "        \n",
              "  <svg xmlns=\"http://www.w3.org/2000/svg\" height=\"24px\"viewBox=\"0 0 24 24\"\n",
              "       width=\"24px\">\n",
              "    <path d=\"M0 0h24v24H0V0z\" fill=\"none\"/>\n",
              "    <path d=\"M18.56 5.44l.94 2.06.94-2.06 2.06-.94-2.06-.94-.94-2.06-.94 2.06-2.06.94zm-11 1L8.5 8.5l.94-2.06 2.06-.94-2.06-.94L8.5 2.5l-.94 2.06-2.06.94zm10 10l.94 2.06.94-2.06 2.06-.94-2.06-.94-.94-2.06-.94 2.06-2.06.94z\"/><path d=\"M17.41 7.96l-1.37-1.37c-.4-.4-.92-.59-1.43-.59-.52 0-1.04.2-1.43.59L10.3 9.45l-7.72 7.72c-.78.78-.78 2.05 0 2.83L4 21.41c.39.39.9.59 1.41.59.51 0 1.02-.2 1.41-.59l7.78-7.78 2.81-2.81c.8-.78.8-2.07 0-2.86zM5.41 20L4 18.59l7.72-7.72 1.47 1.35L5.41 20z\"/>\n",
              "  </svg>\n",
              "      </button>\n",
              "      \n",
              "  <style>\n",
              "    .colab-df-container {\n",
              "      display:flex;\n",
              "      flex-wrap:wrap;\n",
              "      gap: 12px;\n",
              "    }\n",
              "\n",
              "    .colab-df-convert {\n",
              "      background-color: #E8F0FE;\n",
              "      border: none;\n",
              "      border-radius: 50%;\n",
              "      cursor: pointer;\n",
              "      display: none;\n",
              "      fill: #1967D2;\n",
              "      height: 32px;\n",
              "      padding: 0 0 0 0;\n",
              "      width: 32px;\n",
              "    }\n",
              "\n",
              "    .colab-df-convert:hover {\n",
              "      background-color: #E2EBFA;\n",
              "      box-shadow: 0px 1px 2px rgba(60, 64, 67, 0.3), 0px 1px 3px 1px rgba(60, 64, 67, 0.15);\n",
              "      fill: #174EA6;\n",
              "    }\n",
              "\n",
              "    [theme=dark] .colab-df-convert {\n",
              "      background-color: #3B4455;\n",
              "      fill: #D2E3FC;\n",
              "    }\n",
              "\n",
              "    [theme=dark] .colab-df-convert:hover {\n",
              "      background-color: #434B5C;\n",
              "      box-shadow: 0px 1px 3px 1px rgba(0, 0, 0, 0.15);\n",
              "      filter: drop-shadow(0px 1px 2px rgba(0, 0, 0, 0.3));\n",
              "      fill: #FFFFFF;\n",
              "    }\n",
              "  </style>\n",
              "\n",
              "      <script>\n",
              "        const buttonEl =\n",
              "          document.querySelector('#df-4572aa30-9e8f-4f71-9574-f744f0bc0639 button.colab-df-convert');\n",
              "        buttonEl.style.display =\n",
              "          google.colab.kernel.accessAllowed ? 'block' : 'none';\n",
              "\n",
              "        async function convertToInteractive(key) {\n",
              "          const element = document.querySelector('#df-4572aa30-9e8f-4f71-9574-f744f0bc0639');\n",
              "          const dataTable =\n",
              "            await google.colab.kernel.invokeFunction('convertToInteractive',\n",
              "                                                     [key], {});\n",
              "          if (!dataTable) return;\n",
              "\n",
              "          const docLinkHtml = 'Like what you see? Visit the ' +\n",
              "            '<a target=\"_blank\" href=https://colab.research.google.com/notebooks/data_table.ipynb>data table notebook</a>'\n",
              "            + ' to learn more about interactive tables.';\n",
              "          element.innerHTML = '';\n",
              "          dataTable['output_type'] = 'display_data';\n",
              "          await google.colab.output.renderOutput(dataTable, element);\n",
              "          const docLink = document.createElement('div');\n",
              "          docLink.innerHTML = docLinkHtml;\n",
              "          element.appendChild(docLink);\n",
              "        }\n",
              "      </script>\n",
              "    </div>\n",
              "  </div>\n",
              "  "
            ]
          },
          "metadata": {},
          "execution_count": 16
        }
      ]
    },
    {
      "cell_type": "code",
      "source": [
        "y = new_data['HeartDisease']\n",
        "y.head()"
      ],
      "metadata": {
        "colab": {
          "base_uri": "https://localhost:8080/"
        },
        "id": "ukpiRn-htTSS",
        "outputId": "1e523bf7-2b62-4950-a7b7-d36ff6a3f4ae"
      },
      "execution_count": null,
      "outputs": [
        {
          "output_type": "execute_result",
          "data": {
            "text/plain": [
              "0    0\n",
              "1    1\n",
              "2    0\n",
              "3    1\n",
              "4    0\n",
              "Name: HeartDisease, dtype: int64"
            ]
          },
          "metadata": {},
          "execution_count": 17
        }
      ]
    },
    {
      "cell_type": "code",
      "source": [
        "x_train, x_test, y_train, y_test = train_test_split(X, y, test_size = 0.1, random_state = 0)\n",
        "print('Train Size: \\n', x_train.shape)\n",
        "print('Test Size: \\n', x_test.shape)"
      ],
      "metadata": {
        "colab": {
          "base_uri": "https://localhost:8080/"
        },
        "id": "acDUJYGItTUB",
        "outputId": "326d950e-517b-419f-fae7-c0d8708e7445"
      },
      "execution_count": null,
      "outputs": [
        {
          "output_type": "stream",
          "name": "stdout",
          "text": [
            "Train Size: \n",
            " (826, 11)\n",
            "Test Size: \n",
            " (92, 11)\n"
          ]
        }
      ]
    },
    {
      "cell_type": "code",
      "source": [
        "dtc = DecisionTreeClassifier(criterion = 'entropy')\n",
        "model = dtc.fit(x_train, y_train)"
      ],
      "metadata": {
        "id": "Mowf9Pfktey3"
      },
      "execution_count": null,
      "outputs": []
    },
    {
      "cell_type": "code",
      "source": [
        "prediction = dtc.predict(x_test)\n",
        "print('Accuracy: ', metrics.accuracy_score(y_test, prediction))"
      ],
      "metadata": {
        "colab": {
          "base_uri": "https://localhost:8080/"
        },
        "id": "BWtssNihte4r",
        "outputId": "4c274eb8-61ae-41fd-aeb6-e57546b7d2b8"
      },
      "execution_count": null,
      "outputs": [
        {
          "output_type": "stream",
          "name": "stdout",
          "text": [
            "Accuracy:  0.8804347826086957\n"
          ]
        }
      ]
    },
    {
      "cell_type": "code",
      "source": [
        "metrics.confusion_matrix(y_test, prediction)"
      ],
      "metadata": {
        "colab": {
          "base_uri": "https://localhost:8080/"
        },
        "id": "Ck8rXc_7te6N",
        "outputId": "9d68bc88-1b77-4bc8-bc30-9333ddd80779"
      },
      "execution_count": null,
      "outputs": [
        {
          "output_type": "execute_result",
          "data": {
            "text/plain": [
              "array([[35,  5],\n",
              "       [ 6, 46]])"
            ]
          },
          "metadata": {},
          "execution_count": 112
        }
      ]
    },
    {
      "cell_type": "code",
      "source": [
        "dot_data = tree.export_graphviz(dtc,filled=True)\n",
        "graph = graphviz.Source(dot_data, format=\"png\") \n",
        "graph\n"
      ],
      "metadata": {
        "colab": {
          "base_uri": "https://localhost:8080/",
          "height": 1000
        },
        "id": "tdoscmfotj_i",
        "outputId": "2759506c-3efd-410f-9022-d5211586033c"
      },
      "execution_count": null,
      "outputs": [
        {
          "output_type": "execute_result",
          "data": {
            "text/plain": [
              "<graphviz.files.Source at 0x7fa4a6a7f990>"
            ],
            "image/svg+xml": "<?xml version=\"1.0\" encoding=\"UTF-8\" standalone=\"no\"?>\n<!DOCTYPE svg PUBLIC \"-//W3C//DTD SVG 1.1//EN\"\n \"http://www.w3.org/Graphics/SVG/1.1/DTD/svg11.dtd\">\n<!-- Generated by graphviz version 2.40.1 (20161225.0304)\n -->\n<!-- Title: Tree Pages: 1 -->\n<svg width=\"5276pt\" height=\"1517pt\"\n viewBox=\"0.00 0.00 5276.00 1517.00\" xmlns=\"http://www.w3.org/2000/svg\" xmlns:xlink=\"http://www.w3.org/1999/xlink\">\n<g id=\"graph0\" class=\"graph\" transform=\"scale(1 1) rotate(0) translate(4 1513)\">\n<title>Tree</title>\n<polygon fill=\"#ffffff\" stroke=\"transparent\" points=\"-4,4 -4,-1513 5272,-1513 5272,4 -4,4\"/>\n<!-- 0 -->\n<g id=\"node1\" class=\"node\">\n<title>0</title>\n<polygon fill=\"#daedfa\" stroke=\"#000000\" points=\"3319.5,-1509 3187.5,-1509 3187.5,-1441 3319.5,-1441 3319.5,-1509\"/>\n<text text-anchor=\"middle\" x=\"3253.5\" y=\"-1493.8\" font-family=\"Helvetica,sans-Serif\" font-size=\"14.00\" fill=\"#000000\">X[10] &lt;= 1.5</text>\n<text text-anchor=\"middle\" x=\"3253.5\" y=\"-1478.8\" font-family=\"Helvetica,sans-Serif\" font-size=\"14.00\" fill=\"#000000\">entropy = 0.992</text>\n<text text-anchor=\"middle\" x=\"3253.5\" y=\"-1463.8\" font-family=\"Helvetica,sans-Serif\" font-size=\"14.00\" fill=\"#000000\">samples = 826</text>\n<text text-anchor=\"middle\" x=\"3253.5\" y=\"-1448.8\" font-family=\"Helvetica,sans-Serif\" font-size=\"14.00\" fill=\"#000000\">value = [370, 456]</text>\n</g>\n<!-- 1 -->\n<g id=\"node2\" class=\"node\">\n<title>1</title>\n<polygon fill=\"#63b2eb\" stroke=\"#000000\" points=\"2566.5,-1405 2442.5,-1405 2442.5,-1337 2566.5,-1337 2566.5,-1405\"/>\n<text text-anchor=\"middle\" x=\"2504.5\" y=\"-1389.8\" font-family=\"Helvetica,sans-Serif\" font-size=\"14.00\" fill=\"#000000\">X[7] &lt;= 151.0</text>\n<text text-anchor=\"middle\" x=\"2504.5\" y=\"-1374.8\" font-family=\"Helvetica,sans-Serif\" font-size=\"14.00\" fill=\"#000000\">entropy = 0.669</text>\n<text text-anchor=\"middle\" x=\"2504.5\" y=\"-1359.8\" font-family=\"Helvetica,sans-Serif\" font-size=\"14.00\" fill=\"#000000\">samples = 468</text>\n<text text-anchor=\"middle\" x=\"2504.5\" y=\"-1344.8\" font-family=\"Helvetica,sans-Serif\" font-size=\"14.00\" fill=\"#000000\">value = [82, 386]</text>\n</g>\n<!-- 0&#45;&gt;1 -->\n<g id=\"edge1\" class=\"edge\">\n<title>0&#45;&gt;1</title>\n<path fill=\"none\" stroke=\"#000000\" d=\"M3187.3598,-1465.8163C3047.3625,-1446.3774 2722.0516,-1401.2074 2576.7972,-1381.0386\"/>\n<polygon fill=\"#000000\" stroke=\"#000000\" points=\"2577.0415,-1377.539 2566.6551,-1379.6303 2576.0787,-1384.4725 2577.0415,-1377.539\"/>\n<text text-anchor=\"middle\" x=\"2581.7335\" y=\"-1395.8713\" font-family=\"Helvetica,sans-Serif\" font-size=\"14.00\" fill=\"#000000\">True</text>\n</g>\n<!-- 154 -->\n<g id=\"node155\" class=\"node\">\n<title>154</title>\n<polygon fill=\"#eba069\" stroke=\"#000000\" points=\"3964.5,-1405 3840.5,-1405 3840.5,-1337 3964.5,-1337 3964.5,-1405\"/>\n<text text-anchor=\"middle\" x=\"3902.5\" y=\"-1389.8\" font-family=\"Helvetica,sans-Serif\" font-size=\"14.00\" fill=\"#000000\">X[2] &lt;= 0.5</text>\n<text text-anchor=\"middle\" x=\"3902.5\" y=\"-1374.8\" font-family=\"Helvetica,sans-Serif\" font-size=\"14.00\" fill=\"#000000\">entropy = 0.713</text>\n<text text-anchor=\"middle\" x=\"3902.5\" y=\"-1359.8\" font-family=\"Helvetica,sans-Serif\" font-size=\"14.00\" fill=\"#000000\">samples = 358</text>\n<text text-anchor=\"middle\" x=\"3902.5\" y=\"-1344.8\" font-family=\"Helvetica,sans-Serif\" font-size=\"14.00\" fill=\"#000000\">value = [288, 70]</text>\n</g>\n<!-- 0&#45;&gt;154 -->\n<g id=\"edge154\" class=\"edge\">\n<title>0&#45;&gt;154</title>\n<path fill=\"none\" stroke=\"#000000\" d=\"M3319.6025,-1464.4073C3442.1219,-1444.774 3703.5183,-1402.8861 3830.4115,-1382.5519\"/>\n<polygon fill=\"#000000\" stroke=\"#000000\" points=\"3831.0992,-1385.9865 3840.4194,-1380.9482 3829.9915,-1379.0747 3831.0992,-1385.9865\"/>\n<text text-anchor=\"middle\" x=\"3825.7615\" y=\"-1397.5003\" font-family=\"Helvetica,sans-Serif\" font-size=\"14.00\" fill=\"#000000\">False</text>\n</g>\n<!-- 2 -->\n<g id=\"node3\" class=\"node\">\n<title>2</title>\n<polygon fill=\"#53aae8\" stroke=\"#000000\" points=\"1550.5,-1301 1426.5,-1301 1426.5,-1233 1550.5,-1233 1550.5,-1301\"/>\n<text text-anchor=\"middle\" x=\"1488.5\" y=\"-1285.8\" font-family=\"Helvetica,sans-Serif\" font-size=\"14.00\" fill=\"#000000\">X[1] &lt;= 0.5</text>\n<text text-anchor=\"middle\" x=\"1488.5\" y=\"-1270.8\" font-family=\"Helvetica,sans-Serif\" font-size=\"14.00\" fill=\"#000000\">entropy = 0.515</text>\n<text text-anchor=\"middle\" x=\"1488.5\" y=\"-1255.8\" font-family=\"Helvetica,sans-Serif\" font-size=\"14.00\" fill=\"#000000\">samples = 391</text>\n<text text-anchor=\"middle\" x=\"1488.5\" y=\"-1240.8\" font-family=\"Helvetica,sans-Serif\" font-size=\"14.00\" fill=\"#000000\">value = [45, 346]</text>\n</g>\n<!-- 1&#45;&gt;2 -->\n<g id=\"edge2\" class=\"edge\">\n<title>1&#45;&gt;2</title>\n<path fill=\"none\" stroke=\"#000000\" d=\"M2442.4741,-1364.6509C2264.2628,-1346.4088 1751.3563,-1293.9066 1560.8642,-1274.4074\"/>\n<polygon fill=\"#000000\" stroke=\"#000000\" points=\"1560.9857,-1270.9016 1550.6813,-1273.365 1560.2729,-1277.8652 1560.9857,-1270.9016\"/>\n</g>\n<!-- 111 -->\n<g id=\"node112\" class=\"node\">\n<title>111</title>\n<polygon fill=\"#f0f8fd\" stroke=\"#000000\" points=\"2563.5,-1301 2445.5,-1301 2445.5,-1233 2563.5,-1233 2563.5,-1301\"/>\n<text text-anchor=\"middle\" x=\"2504.5\" y=\"-1285.8\" font-family=\"Helvetica,sans-Serif\" font-size=\"14.00\" fill=\"#000000\">X[2] &lt;= 0.5</text>\n<text text-anchor=\"middle\" x=\"2504.5\" y=\"-1270.8\" font-family=\"Helvetica,sans-Serif\" font-size=\"14.00\" fill=\"#000000\">entropy = 0.999</text>\n<text text-anchor=\"middle\" x=\"2504.5\" y=\"-1255.8\" font-family=\"Helvetica,sans-Serif\" font-size=\"14.00\" fill=\"#000000\">samples = 77</text>\n<text text-anchor=\"middle\" x=\"2504.5\" y=\"-1240.8\" font-family=\"Helvetica,sans-Serif\" font-size=\"14.00\" fill=\"#000000\">value = [37, 40]</text>\n</g>\n<!-- 1&#45;&gt;111 -->\n<g id=\"edge111\" class=\"edge\">\n<title>1&#45;&gt;111</title>\n<path fill=\"none\" stroke=\"#000000\" d=\"M2504.5,-1336.9465C2504.5,-1328.776 2504.5,-1319.9318 2504.5,-1311.3697\"/>\n<polygon fill=\"#000000\" stroke=\"#000000\" points=\"2508.0001,-1311.13 2504.5,-1301.13 2501.0001,-1311.13 2508.0001,-1311.13\"/>\n</g>\n<!-- 3 -->\n<g id=\"node4\" class=\"node\">\n<title>3</title>\n<polygon fill=\"#a8d4f4\" stroke=\"#000000\" points=\"923.5,-1197 805.5,-1197 805.5,-1129 923.5,-1129 923.5,-1197\"/>\n<text text-anchor=\"middle\" x=\"864.5\" y=\"-1181.8\" font-family=\"Helvetica,sans-Serif\" font-size=\"14.00\" fill=\"#000000\">X[5] &lt;= 0.5</text>\n<text text-anchor=\"middle\" x=\"864.5\" y=\"-1166.8\" font-family=\"Helvetica,sans-Serif\" font-size=\"14.00\" fill=\"#000000\">entropy = 0.943</text>\n<text text-anchor=\"middle\" x=\"864.5\" y=\"-1151.8\" font-family=\"Helvetica,sans-Serif\" font-size=\"14.00\" fill=\"#000000\">samples = 50</text>\n<text text-anchor=\"middle\" x=\"864.5\" y=\"-1136.8\" font-family=\"Helvetica,sans-Serif\" font-size=\"14.00\" fill=\"#000000\">value = [18, 32]</text>\n</g>\n<!-- 2&#45;&gt;3 -->\n<g id=\"edge3\" class=\"edge\">\n<title>2&#45;&gt;3</title>\n<path fill=\"none\" stroke=\"#000000\" d=\"M1426.3872,-1256.6479C1309.15,-1237.1083 1056.064,-1194.9273 933.6276,-1174.5213\"/>\n<polygon fill=\"#000000\" stroke=\"#000000\" points=\"934.0567,-1171.0446 923.6173,-1172.8529 932.9058,-1177.9493 934.0567,-1171.0446\"/>\n</g>\n<!-- 36 -->\n<g id=\"node37\" class=\"node\">\n<title>36</title>\n<polygon fill=\"#4aa5e7\" stroke=\"#000000\" points=\"1550.5,-1197 1426.5,-1197 1426.5,-1129 1550.5,-1129 1550.5,-1197\"/>\n<text text-anchor=\"middle\" x=\"1488.5\" y=\"-1181.8\" font-family=\"Helvetica,sans-Serif\" font-size=\"14.00\" fill=\"#000000\">X[7] &lt;= 130.5</text>\n<text text-anchor=\"middle\" x=\"1488.5\" y=\"-1166.8\" font-family=\"Helvetica,sans-Serif\" font-size=\"14.00\" fill=\"#000000\">entropy = 0.399</text>\n<text text-anchor=\"middle\" x=\"1488.5\" y=\"-1151.8\" font-family=\"Helvetica,sans-Serif\" font-size=\"14.00\" fill=\"#000000\">samples = 341</text>\n<text text-anchor=\"middle\" x=\"1488.5\" y=\"-1136.8\" font-family=\"Helvetica,sans-Serif\" font-size=\"14.00\" fill=\"#000000\">value = [27, 314]</text>\n</g>\n<!-- 2&#45;&gt;36 -->\n<g id=\"edge36\" class=\"edge\">\n<title>2&#45;&gt;36</title>\n<path fill=\"none\" stroke=\"#000000\" d=\"M1488.5,-1232.9465C1488.5,-1224.776 1488.5,-1215.9318 1488.5,-1207.3697\"/>\n<polygon fill=\"#000000\" stroke=\"#000000\" points=\"1492.0001,-1207.13 1488.5,-1197.13 1485.0001,-1207.13 1492.0001,-1207.13\"/>\n</g>\n<!-- 4 -->\n<g id=\"node5\" class=\"node\">\n<title>4</title>\n<polygon fill=\"#d4eaf9\" stroke=\"#000000\" points=\"590.5,-1093 472.5,-1093 472.5,-1025 590.5,-1025 590.5,-1093\"/>\n<text text-anchor=\"middle\" x=\"531.5\" y=\"-1077.8\" font-family=\"Helvetica,sans-Serif\" font-size=\"14.00\" fill=\"#000000\">X[8] &lt;= 0.5</text>\n<text text-anchor=\"middle\" x=\"531.5\" y=\"-1062.8\" font-family=\"Helvetica,sans-Serif\" font-size=\"14.00\" fill=\"#000000\">entropy = 0.989</text>\n<text text-anchor=\"middle\" x=\"531.5\" y=\"-1047.8\" font-family=\"Helvetica,sans-Serif\" font-size=\"14.00\" fill=\"#000000\">samples = 41</text>\n<text text-anchor=\"middle\" x=\"531.5\" y=\"-1032.8\" font-family=\"Helvetica,sans-Serif\" font-size=\"14.00\" fill=\"#000000\">value = [18, 23]</text>\n</g>\n<!-- 3&#45;&gt;4 -->\n<g id=\"edge4\" class=\"edge\">\n<title>3&#45;&gt;4</title>\n<path fill=\"none\" stroke=\"#000000\" d=\"M805.35,-1144.5267C747.9889,-1126.6121 660.9945,-1099.4427 600.5052,-1080.5512\"/>\n<polygon fill=\"#000000\" stroke=\"#000000\" points=\"601.2477,-1077.1164 590.659,-1077.4761 599.1609,-1083.7981 601.2477,-1077.1164\"/>\n</g>\n<!-- 35 -->\n<g id=\"node36\" class=\"node\">\n<title>35</title>\n<polygon fill=\"#399de5\" stroke=\"#000000\" points=\"915,-1085.5 814,-1085.5 814,-1032.5 915,-1032.5 915,-1085.5\"/>\n<text text-anchor=\"middle\" x=\"864.5\" y=\"-1070.3\" font-family=\"Helvetica,sans-Serif\" font-size=\"14.00\" fill=\"#000000\">entropy = 0.0</text>\n<text text-anchor=\"middle\" x=\"864.5\" y=\"-1055.3\" font-family=\"Helvetica,sans-Serif\" font-size=\"14.00\" fill=\"#000000\">samples = 9</text>\n<text text-anchor=\"middle\" x=\"864.5\" y=\"-1040.3\" font-family=\"Helvetica,sans-Serif\" font-size=\"14.00\" fill=\"#000000\">value = [0, 9]</text>\n</g>\n<!-- 3&#45;&gt;35 -->\n<g id=\"edge35\" class=\"edge\">\n<title>3&#45;&gt;35</title>\n<path fill=\"none\" stroke=\"#000000\" d=\"M864.5,-1128.9465C864.5,-1118.2621 864.5,-1106.4254 864.5,-1095.5742\"/>\n<polygon fill=\"#000000\" stroke=\"#000000\" points=\"868.0001,-1095.5421 864.5,-1085.5422 861.0001,-1095.5422 868.0001,-1095.5421\"/>\n</g>\n<!-- 5 -->\n<g id=\"node6\" class=\"node\">\n<title>5</title>\n<polygon fill=\"#f0b58b\" stroke=\"#000000\" points=\"400.5,-989 282.5,-989 282.5,-921 400.5,-921 400.5,-989\"/>\n<text text-anchor=\"middle\" x=\"341.5\" y=\"-973.8\" font-family=\"Helvetica,sans-Serif\" font-size=\"14.00\" fill=\"#000000\">X[3] &lt;= 145.0</text>\n<text text-anchor=\"middle\" x=\"341.5\" y=\"-958.8\" font-family=\"Helvetica,sans-Serif\" font-size=\"14.00\" fill=\"#000000\">entropy = 0.874</text>\n<text text-anchor=\"middle\" x=\"341.5\" y=\"-943.8\" font-family=\"Helvetica,sans-Serif\" font-size=\"14.00\" fill=\"#000000\">samples = 17</text>\n<text text-anchor=\"middle\" x=\"341.5\" y=\"-928.8\" font-family=\"Helvetica,sans-Serif\" font-size=\"14.00\" fill=\"#000000\">value = [12, 5]</text>\n</g>\n<!-- 4&#45;&gt;5 -->\n<g id=\"edge5\" class=\"edge\">\n<title>4&#45;&gt;5</title>\n<path fill=\"none\" stroke=\"#000000\" d=\"M472.4243,-1026.6638C452.4968,-1015.7561 430.0961,-1003.4947 409.5332,-992.2392\"/>\n<polygon fill=\"#000000\" stroke=\"#000000\" points=\"410.9916,-989.0475 400.5391,-987.3162 407.6305,-995.1878 410.9916,-989.0475\"/>\n</g>\n<!-- 16 -->\n<g id=\"node17\" class=\"node\">\n<title>16</title>\n<polygon fill=\"#7bbeee\" stroke=\"#000000\" points=\"590.5,-989 472.5,-989 472.5,-921 590.5,-921 590.5,-989\"/>\n<text text-anchor=\"middle\" x=\"531.5\" y=\"-973.8\" font-family=\"Helvetica,sans-Serif\" font-size=\"14.00\" fill=\"#000000\">X[9] &lt;= 0.5</text>\n<text text-anchor=\"middle\" x=\"531.5\" y=\"-958.8\" font-family=\"Helvetica,sans-Serif\" font-size=\"14.00\" fill=\"#000000\">entropy = 0.811</text>\n<text text-anchor=\"middle\" x=\"531.5\" y=\"-943.8\" font-family=\"Helvetica,sans-Serif\" font-size=\"14.00\" fill=\"#000000\">samples = 24</text>\n<text text-anchor=\"middle\" x=\"531.5\" y=\"-928.8\" font-family=\"Helvetica,sans-Serif\" font-size=\"14.00\" fill=\"#000000\">value = [6, 18]</text>\n</g>\n<!-- 4&#45;&gt;16 -->\n<g id=\"edge16\" class=\"edge\">\n<title>4&#45;&gt;16</title>\n<path fill=\"none\" stroke=\"#000000\" d=\"M531.5,-1024.9465C531.5,-1016.776 531.5,-1007.9318 531.5,-999.3697\"/>\n<polygon fill=\"#000000\" stroke=\"#000000\" points=\"535.0001,-999.13 531.5,-989.13 528.0001,-999.13 535.0001,-999.13\"/>\n</g>\n<!-- 6 -->\n<g id=\"node7\" class=\"node\">\n<title>6</title>\n<polygon fill=\"#ea985d\" stroke=\"#000000\" points=\"237.5,-885 119.5,-885 119.5,-817 237.5,-817 237.5,-885\"/>\n<text text-anchor=\"middle\" x=\"178.5\" y=\"-869.8\" font-family=\"Helvetica,sans-Serif\" font-size=\"14.00\" fill=\"#000000\">X[7] &lt;= 97.5</text>\n<text text-anchor=\"middle\" x=\"178.5\" y=\"-854.8\" font-family=\"Helvetica,sans-Serif\" font-size=\"14.00\" fill=\"#000000\">entropy = 0.619</text>\n<text text-anchor=\"middle\" x=\"178.5\" y=\"-839.8\" font-family=\"Helvetica,sans-Serif\" font-size=\"14.00\" fill=\"#000000\">samples = 13</text>\n<text text-anchor=\"middle\" x=\"178.5\" y=\"-824.8\" font-family=\"Helvetica,sans-Serif\" font-size=\"14.00\" fill=\"#000000\">value = [11, 2]</text>\n</g>\n<!-- 5&#45;&gt;6 -->\n<g id=\"edge6\" class=\"edge\">\n<title>5&#45;&gt;6</title>\n<path fill=\"none\" stroke=\"#000000\" d=\"M288.1277,-920.9465C272.9298,-911.2497 256.2445,-900.6039 240.5763,-890.6069\"/>\n<polygon fill=\"#000000\" stroke=\"#000000\" points=\"242.305,-887.5582 231.9922,-885.13 238.5398,-893.4594 242.305,-887.5582\"/>\n</g>\n<!-- 13 -->\n<g id=\"node14\" class=\"node\">\n<title>13</title>\n<polygon fill=\"#7bbeee\" stroke=\"#000000\" points=\"400.5,-885 282.5,-885 282.5,-817 400.5,-817 400.5,-885\"/>\n<text text-anchor=\"middle\" x=\"341.5\" y=\"-869.8\" font-family=\"Helvetica,sans-Serif\" font-size=\"14.00\" fill=\"#000000\">X[0] &lt;= 65.5</text>\n<text text-anchor=\"middle\" x=\"341.5\" y=\"-854.8\" font-family=\"Helvetica,sans-Serif\" font-size=\"14.00\" fill=\"#000000\">entropy = 0.811</text>\n<text text-anchor=\"middle\" x=\"341.5\" y=\"-839.8\" font-family=\"Helvetica,sans-Serif\" font-size=\"14.00\" fill=\"#000000\">samples = 4</text>\n<text text-anchor=\"middle\" x=\"341.5\" y=\"-824.8\" font-family=\"Helvetica,sans-Serif\" font-size=\"14.00\" fill=\"#000000\">value = [1, 3]</text>\n</g>\n<!-- 5&#45;&gt;13 -->\n<g id=\"edge13\" class=\"edge\">\n<title>5&#45;&gt;13</title>\n<path fill=\"none\" stroke=\"#000000\" d=\"M341.5,-920.9465C341.5,-912.776 341.5,-903.9318 341.5,-895.3697\"/>\n<polygon fill=\"#000000\" stroke=\"#000000\" points=\"345.0001,-895.13 341.5,-885.13 338.0001,-895.13 345.0001,-895.13\"/>\n</g>\n<!-- 7 -->\n<g id=\"node8\" class=\"node\">\n<title>7</title>\n<polygon fill=\"#399de5\" stroke=\"#000000\" points=\"101,-773.5 0,-773.5 0,-720.5 101,-720.5 101,-773.5\"/>\n<text text-anchor=\"middle\" x=\"50.5\" y=\"-758.3\" font-family=\"Helvetica,sans-Serif\" font-size=\"14.00\" fill=\"#000000\">entropy = 0.0</text>\n<text text-anchor=\"middle\" x=\"50.5\" y=\"-743.3\" font-family=\"Helvetica,sans-Serif\" font-size=\"14.00\" fill=\"#000000\">samples = 1</text>\n<text text-anchor=\"middle\" x=\"50.5\" y=\"-728.3\" font-family=\"Helvetica,sans-Serif\" font-size=\"14.00\" fill=\"#000000\">value = [0, 1]</text>\n</g>\n<!-- 6&#45;&gt;7 -->\n<g id=\"edge7\" class=\"edge\">\n<title>6&#45;&gt;7</title>\n<path fill=\"none\" stroke=\"#000000\" d=\"M136.588,-816.9465C121.9467,-805.0504 105.5474,-791.726 91.0215,-779.9237\"/>\n<polygon fill=\"#000000\" stroke=\"#000000\" points=\"93.1355,-777.1317 83.1673,-773.5422 88.7214,-782.5645 93.1355,-777.1317\"/>\n</g>\n<!-- 8 -->\n<g id=\"node9\" class=\"node\">\n<title>8</title>\n<polygon fill=\"#e78c4b\" stroke=\"#000000\" points=\"237.5,-781 119.5,-781 119.5,-713 237.5,-713 237.5,-781\"/>\n<text text-anchor=\"middle\" x=\"178.5\" y=\"-765.8\" font-family=\"Helvetica,sans-Serif\" font-size=\"14.00\" fill=\"#000000\">X[7] &lt;= 147.5</text>\n<text text-anchor=\"middle\" x=\"178.5\" y=\"-750.8\" font-family=\"Helvetica,sans-Serif\" font-size=\"14.00\" fill=\"#000000\">entropy = 0.414</text>\n<text text-anchor=\"middle\" x=\"178.5\" y=\"-735.8\" font-family=\"Helvetica,sans-Serif\" font-size=\"14.00\" fill=\"#000000\">samples = 12</text>\n<text text-anchor=\"middle\" x=\"178.5\" y=\"-720.8\" font-family=\"Helvetica,sans-Serif\" font-size=\"14.00\" fill=\"#000000\">value = [11, 1]</text>\n</g>\n<!-- 6&#45;&gt;8 -->\n<g id=\"edge8\" class=\"edge\">\n<title>6&#45;&gt;8</title>\n<path fill=\"none\" stroke=\"#000000\" d=\"M178.5,-816.9465C178.5,-808.776 178.5,-799.9318 178.5,-791.3697\"/>\n<polygon fill=\"#000000\" stroke=\"#000000\" points=\"182.0001,-791.13 178.5,-781.13 175.0001,-791.13 182.0001,-791.13\"/>\n</g>\n<!-- 9 -->\n<g id=\"node10\" class=\"node\">\n<title>9</title>\n<polygon fill=\"#e58139\" stroke=\"#000000\" points=\"110,-669.5 3,-669.5 3,-616.5 110,-616.5 110,-669.5\"/>\n<text text-anchor=\"middle\" x=\"56.5\" y=\"-654.3\" font-family=\"Helvetica,sans-Serif\" font-size=\"14.00\" fill=\"#000000\">entropy = 0.0</text>\n<text text-anchor=\"middle\" x=\"56.5\" y=\"-639.3\" font-family=\"Helvetica,sans-Serif\" font-size=\"14.00\" fill=\"#000000\">samples = 10</text>\n<text text-anchor=\"middle\" x=\"56.5\" y=\"-624.3\" font-family=\"Helvetica,sans-Serif\" font-size=\"14.00\" fill=\"#000000\">value = [10, 0]</text>\n</g>\n<!-- 8&#45;&gt;9 -->\n<g id=\"edge9\" class=\"edge\">\n<title>8&#45;&gt;9</title>\n<path fill=\"none\" stroke=\"#000000\" d=\"M138.5526,-712.9465C124.7268,-701.1606 109.2564,-687.9726 95.5071,-676.2519\"/>\n<polygon fill=\"#000000\" stroke=\"#000000\" points=\"97.5168,-673.366 87.636,-669.5422 92.9756,-678.6931 97.5168,-673.366\"/>\n</g>\n<!-- 10 -->\n<g id=\"node11\" class=\"node\">\n<title>10</title>\n<polygon fill=\"#ffffff\" stroke=\"#000000\" points=\"231,-677 128,-677 128,-609 231,-609 231,-677\"/>\n<text text-anchor=\"middle\" x=\"179.5\" y=\"-661.8\" font-family=\"Helvetica,sans-Serif\" font-size=\"14.00\" fill=\"#000000\">X[4] &lt;= 276.0</text>\n<text text-anchor=\"middle\" x=\"179.5\" y=\"-646.8\" font-family=\"Helvetica,sans-Serif\" font-size=\"14.00\" fill=\"#000000\">entropy = 1.0</text>\n<text text-anchor=\"middle\" x=\"179.5\" y=\"-631.8\" font-family=\"Helvetica,sans-Serif\" font-size=\"14.00\" fill=\"#000000\">samples = 2</text>\n<text text-anchor=\"middle\" x=\"179.5\" y=\"-616.8\" font-family=\"Helvetica,sans-Serif\" font-size=\"14.00\" fill=\"#000000\">value = [1, 1]</text>\n</g>\n<!-- 8&#45;&gt;10 -->\n<g id=\"edge10\" class=\"edge\">\n<title>8&#45;&gt;10</title>\n<path fill=\"none\" stroke=\"#000000\" d=\"M178.8274,-712.9465C178.906,-704.776 178.991,-695.9318 179.0734,-687.3697\"/>\n<polygon fill=\"#000000\" stroke=\"#000000\" points=\"182.5754,-687.1632 179.1718,-677.13 175.5757,-687.0958 182.5754,-687.1632\"/>\n</g>\n<!-- 11 -->\n<g id=\"node12\" class=\"node\">\n<title>11</title>\n<polygon fill=\"#e58139\" stroke=\"#000000\" points=\"166,-565.5 65,-565.5 65,-512.5 166,-512.5 166,-565.5\"/>\n<text text-anchor=\"middle\" x=\"115.5\" y=\"-550.3\" font-family=\"Helvetica,sans-Serif\" font-size=\"14.00\" fill=\"#000000\">entropy = 0.0</text>\n<text text-anchor=\"middle\" x=\"115.5\" y=\"-535.3\" font-family=\"Helvetica,sans-Serif\" font-size=\"14.00\" fill=\"#000000\">samples = 1</text>\n<text text-anchor=\"middle\" x=\"115.5\" y=\"-520.3\" font-family=\"Helvetica,sans-Serif\" font-size=\"14.00\" fill=\"#000000\">value = [1, 0]</text>\n</g>\n<!-- 10&#45;&gt;11 -->\n<g id=\"edge11\" class=\"edge\">\n<title>10&#45;&gt;11</title>\n<path fill=\"none\" stroke=\"#000000\" d=\"M158.544,-608.9465C151.6978,-597.8215 144.0829,-585.4473 137.1843,-574.237\"/>\n<polygon fill=\"#000000\" stroke=\"#000000\" points=\"140.0555,-572.2244 131.8336,-565.5422 134.0939,-575.8931 140.0555,-572.2244\"/>\n</g>\n<!-- 12 -->\n<g id=\"node13\" class=\"node\">\n<title>12</title>\n<polygon fill=\"#399de5\" stroke=\"#000000\" points=\"285,-565.5 184,-565.5 184,-512.5 285,-512.5 285,-565.5\"/>\n<text text-anchor=\"middle\" x=\"234.5\" y=\"-550.3\" font-family=\"Helvetica,sans-Serif\" font-size=\"14.00\" fill=\"#000000\">entropy = 0.0</text>\n<text text-anchor=\"middle\" x=\"234.5\" y=\"-535.3\" font-family=\"Helvetica,sans-Serif\" font-size=\"14.00\" fill=\"#000000\">samples = 1</text>\n<text text-anchor=\"middle\" x=\"234.5\" y=\"-520.3\" font-family=\"Helvetica,sans-Serif\" font-size=\"14.00\" fill=\"#000000\">value = [0, 1]</text>\n</g>\n<!-- 10&#45;&gt;12 -->\n<g id=\"edge12\" class=\"edge\">\n<title>10&#45;&gt;12</title>\n<path fill=\"none\" stroke=\"#000000\" d=\"M197.5091,-608.9465C203.3342,-597.9316 209.807,-585.6922 215.6888,-574.5703\"/>\n<polygon fill=\"#000000\" stroke=\"#000000\" points=\"218.8822,-576.0184 220.4633,-565.5422 212.6943,-572.7459 218.8822,-576.0184\"/>\n</g>\n<!-- 14 -->\n<g id=\"node15\" class=\"node\">\n<title>14</title>\n<polygon fill=\"#399de5\" stroke=\"#000000\" points=\"357,-773.5 256,-773.5 256,-720.5 357,-720.5 357,-773.5\"/>\n<text text-anchor=\"middle\" x=\"306.5\" y=\"-758.3\" font-family=\"Helvetica,sans-Serif\" font-size=\"14.00\" fill=\"#000000\">entropy = 0.0</text>\n<text text-anchor=\"middle\" x=\"306.5\" y=\"-743.3\" font-family=\"Helvetica,sans-Serif\" font-size=\"14.00\" fill=\"#000000\">samples = 3</text>\n<text text-anchor=\"middle\" x=\"306.5\" y=\"-728.3\" font-family=\"Helvetica,sans-Serif\" font-size=\"14.00\" fill=\"#000000\">value = [0, 3]</text>\n</g>\n<!-- 13&#45;&gt;14 -->\n<g id=\"edge14\" class=\"edge\">\n<title>13&#45;&gt;14</title>\n<path fill=\"none\" stroke=\"#000000\" d=\"M330.0397,-816.9465C326.4069,-806.1519 322.3783,-794.1813 318.6958,-783.2389\"/>\n<polygon fill=\"#000000\" stroke=\"#000000\" points=\"321.9393,-781.9035 315.4325,-773.5422 315.3049,-784.1362 321.9393,-781.9035\"/>\n</g>\n<!-- 15 -->\n<g id=\"node16\" class=\"node\">\n<title>15</title>\n<polygon fill=\"#e58139\" stroke=\"#000000\" points=\"476,-773.5 375,-773.5 375,-720.5 476,-720.5 476,-773.5\"/>\n<text text-anchor=\"middle\" x=\"425.5\" y=\"-758.3\" font-family=\"Helvetica,sans-Serif\" font-size=\"14.00\" fill=\"#000000\">entropy = 0.0</text>\n<text text-anchor=\"middle\" x=\"425.5\" y=\"-743.3\" font-family=\"Helvetica,sans-Serif\" font-size=\"14.00\" fill=\"#000000\">samples = 1</text>\n<text text-anchor=\"middle\" x=\"425.5\" y=\"-728.3\" font-family=\"Helvetica,sans-Serif\" font-size=\"14.00\" fill=\"#000000\">value = [1, 0]</text>\n</g>\n<!-- 13&#45;&gt;15 -->\n<g id=\"edge15\" class=\"edge\">\n<title>13&#45;&gt;15</title>\n<path fill=\"none\" stroke=\"#000000\" d=\"M369.0047,-816.9465C378.1683,-805.6012 388.3811,-792.9567 397.5761,-781.5724\"/>\n<polygon fill=\"#000000\" stroke=\"#000000\" points=\"400.5015,-783.5208 404.0621,-773.5422 395.0559,-779.1224 400.5015,-783.5208\"/>\n</g>\n<!-- 17 -->\n<g id=\"node18\" class=\"node\">\n<title>17</title>\n<polygon fill=\"#399de5\" stroke=\"#000000\" points=\"551,-877.5 450,-877.5 450,-824.5 551,-824.5 551,-877.5\"/>\n<text text-anchor=\"middle\" x=\"500.5\" y=\"-862.3\" font-family=\"Helvetica,sans-Serif\" font-size=\"14.00\" fill=\"#000000\">entropy = 0.0</text>\n<text text-anchor=\"middle\" x=\"500.5\" y=\"-847.3\" font-family=\"Helvetica,sans-Serif\" font-size=\"14.00\" fill=\"#000000\">samples = 5</text>\n<text text-anchor=\"middle\" x=\"500.5\" y=\"-832.3\" font-family=\"Helvetica,sans-Serif\" font-size=\"14.00\" fill=\"#000000\">value = [0, 5]</text>\n</g>\n<!-- 16&#45;&gt;17 -->\n<g id=\"edge17\" class=\"edge\">\n<title>16&#45;&gt;17</title>\n<path fill=\"none\" stroke=\"#000000\" d=\"M521.3494,-920.9465C518.1318,-910.1519 514.5636,-898.1813 511.302,-887.2389\"/>\n<polygon fill=\"#000000\" stroke=\"#000000\" points=\"514.6224,-886.1257 508.4116,-877.5422 507.9141,-888.1253 514.6224,-886.1257\"/>\n</g>\n<!-- 18 -->\n<g id=\"node19\" class=\"node\">\n<title>18</title>\n<polygon fill=\"#94caf1\" stroke=\"#000000\" points=\"676,-885 569,-885 569,-817 676,-817 676,-885\"/>\n<text text-anchor=\"middle\" x=\"622.5\" y=\"-869.8\" font-family=\"Helvetica,sans-Serif\" font-size=\"14.00\" fill=\"#000000\">X[7] &lt;= 144.0</text>\n<text text-anchor=\"middle\" x=\"622.5\" y=\"-854.8\" font-family=\"Helvetica,sans-Serif\" font-size=\"14.00\" fill=\"#000000\">entropy = 0.9</text>\n<text text-anchor=\"middle\" x=\"622.5\" y=\"-839.8\" font-family=\"Helvetica,sans-Serif\" font-size=\"14.00\" fill=\"#000000\">samples = 19</text>\n<text text-anchor=\"middle\" x=\"622.5\" y=\"-824.8\" font-family=\"Helvetica,sans-Serif\" font-size=\"14.00\" fill=\"#000000\">value = [6, 13]</text>\n</g>\n<!-- 16&#45;&gt;18 -->\n<g id=\"edge18\" class=\"edge\">\n<title>16&#45;&gt;18</title>\n<path fill=\"none\" stroke=\"#000000\" d=\"M561.2968,-920.9465C569.153,-911.968 577.7212,-902.1758 585.8913,-892.8385\"/>\n<polygon fill=\"#000000\" stroke=\"#000000\" points=\"588.6852,-894.9606 592.6363,-885.13 583.4171,-890.351 588.6852,-894.9606\"/>\n</g>\n<!-- 19 -->\n<g id=\"node20\" class=\"node\">\n<title>19</title>\n<polygon fill=\"#bddef6\" stroke=\"#000000\" points=\"612.5,-781 494.5,-781 494.5,-713 612.5,-713 612.5,-781\"/>\n<text text-anchor=\"middle\" x=\"553.5\" y=\"-765.8\" font-family=\"Helvetica,sans-Serif\" font-size=\"14.00\" fill=\"#000000\">X[7] &lt;= 109.0</text>\n<text text-anchor=\"middle\" x=\"553.5\" y=\"-750.8\" font-family=\"Helvetica,sans-Serif\" font-size=\"14.00\" fill=\"#000000\">entropy = 0.971</text>\n<text text-anchor=\"middle\" x=\"553.5\" y=\"-735.8\" font-family=\"Helvetica,sans-Serif\" font-size=\"14.00\" fill=\"#000000\">samples = 15</text>\n<text text-anchor=\"middle\" x=\"553.5\" y=\"-720.8\" font-family=\"Helvetica,sans-Serif\" font-size=\"14.00\" fill=\"#000000\">value = [6, 9]</text>\n</g>\n<!-- 18&#45;&gt;19 -->\n<g id=\"edge19\" class=\"edge\">\n<title>18&#45;&gt;19</title>\n<path fill=\"none\" stroke=\"#000000\" d=\"M599.9068,-816.9465C594.1286,-808.2373 587.8425,-798.7626 581.8166,-789.6801\"/>\n<polygon fill=\"#000000\" stroke=\"#000000\" points=\"584.589,-787.5278 576.1439,-781.13 578.756,-791.3978 584.589,-787.5278\"/>\n</g>\n<!-- 34 -->\n<g id=\"node35\" class=\"node\">\n<title>34</title>\n<polygon fill=\"#399de5\" stroke=\"#000000\" points=\"732,-773.5 631,-773.5 631,-720.5 732,-720.5 732,-773.5\"/>\n<text text-anchor=\"middle\" x=\"681.5\" y=\"-758.3\" font-family=\"Helvetica,sans-Serif\" font-size=\"14.00\" fill=\"#000000\">entropy = 0.0</text>\n<text text-anchor=\"middle\" x=\"681.5\" y=\"-743.3\" font-family=\"Helvetica,sans-Serif\" font-size=\"14.00\" fill=\"#000000\">samples = 4</text>\n<text text-anchor=\"middle\" x=\"681.5\" y=\"-728.3\" font-family=\"Helvetica,sans-Serif\" font-size=\"14.00\" fill=\"#000000\">value = [0, 4]</text>\n</g>\n<!-- 18&#45;&gt;34 -->\n<g id=\"edge34\" class=\"edge\">\n<title>18&#45;&gt;34</title>\n<path fill=\"none\" stroke=\"#000000\" d=\"M641.8188,-816.9465C648.0676,-805.9316 655.0112,-793.6922 661.3207,-782.5703\"/>\n<polygon fill=\"#000000\" stroke=\"#000000\" points=\"664.5523,-783.967 666.4424,-773.5422 658.4638,-780.513 664.5523,-783.967\"/>\n</g>\n<!-- 20 -->\n<g id=\"node21\" class=\"node\">\n<title>20</title>\n<polygon fill=\"#399de5\" stroke=\"#000000\" points=\"483,-669.5 382,-669.5 382,-616.5 483,-616.5 483,-669.5\"/>\n<text text-anchor=\"middle\" x=\"432.5\" y=\"-654.3\" font-family=\"Helvetica,sans-Serif\" font-size=\"14.00\" fill=\"#000000\">entropy = 0.0</text>\n<text text-anchor=\"middle\" x=\"432.5\" y=\"-639.3\" font-family=\"Helvetica,sans-Serif\" font-size=\"14.00\" fill=\"#000000\">samples = 3</text>\n<text text-anchor=\"middle\" x=\"432.5\" y=\"-624.3\" font-family=\"Helvetica,sans-Serif\" font-size=\"14.00\" fill=\"#000000\">value = [0, 3]</text>\n</g>\n<!-- 19&#45;&gt;20 -->\n<g id=\"edge20\" class=\"edge\">\n<title>19&#45;&gt;20</title>\n<path fill=\"none\" stroke=\"#000000\" d=\"M513.8801,-712.9465C500.1676,-701.1606 484.8239,-687.9726 471.1873,-676.2519\"/>\n<polygon fill=\"#000000\" stroke=\"#000000\" points=\"473.2459,-673.4061 463.3808,-669.5422 468.6831,-678.7147 473.2459,-673.4061\"/>\n</g>\n<!-- 21 -->\n<g id=\"node22\" class=\"node\">\n<title>21</title>\n<polygon fill=\"#ffffff\" stroke=\"#000000\" points=\"605.5,-677 501.5,-677 501.5,-609 605.5,-609 605.5,-677\"/>\n<text text-anchor=\"middle\" x=\"553.5\" y=\"-661.8\" font-family=\"Helvetica,sans-Serif\" font-size=\"14.00\" fill=\"#000000\">X[0] &lt;= 54.0</text>\n<text text-anchor=\"middle\" x=\"553.5\" y=\"-646.8\" font-family=\"Helvetica,sans-Serif\" font-size=\"14.00\" fill=\"#000000\">entropy = 1.0</text>\n<text text-anchor=\"middle\" x=\"553.5\" y=\"-631.8\" font-family=\"Helvetica,sans-Serif\" font-size=\"14.00\" fill=\"#000000\">samples = 12</text>\n<text text-anchor=\"middle\" x=\"553.5\" y=\"-616.8\" font-family=\"Helvetica,sans-Serif\" font-size=\"14.00\" fill=\"#000000\">value = [6, 6]</text>\n</g>\n<!-- 19&#45;&gt;21 -->\n<g id=\"edge21\" class=\"edge\">\n<title>19&#45;&gt;21</title>\n<path fill=\"none\" stroke=\"#000000\" d=\"M553.5,-712.9465C553.5,-704.776 553.5,-695.9318 553.5,-687.3697\"/>\n<polygon fill=\"#000000\" stroke=\"#000000\" points=\"557.0001,-687.13 553.5,-677.13 550.0001,-687.13 557.0001,-687.13\"/>\n</g>\n<!-- 22 -->\n<g id=\"node23\" class=\"node\">\n<title>22</title>\n<polygon fill=\"#eca06a\" stroke=\"#000000\" points=\"422.5,-573 304.5,-573 304.5,-505 422.5,-505 422.5,-573\"/>\n<text text-anchor=\"middle\" x=\"363.5\" y=\"-557.8\" font-family=\"Helvetica,sans-Serif\" font-size=\"14.00\" fill=\"#000000\">X[4] &lt;= 266.0</text>\n<text text-anchor=\"middle\" x=\"363.5\" y=\"-542.8\" font-family=\"Helvetica,sans-Serif\" font-size=\"14.00\" fill=\"#000000\">entropy = 0.722</text>\n<text text-anchor=\"middle\" x=\"363.5\" y=\"-527.8\" font-family=\"Helvetica,sans-Serif\" font-size=\"14.00\" fill=\"#000000\">samples = 5</text>\n<text text-anchor=\"middle\" x=\"363.5\" y=\"-512.8\" font-family=\"Helvetica,sans-Serif\" font-size=\"14.00\" fill=\"#000000\">value = [4, 1]</text>\n</g>\n<!-- 21&#45;&gt;22 -->\n<g id=\"edge22\" class=\"edge\">\n<title>21&#45;&gt;22</title>\n<path fill=\"none\" stroke=\"#000000\" d=\"M501.4072,-614.4273C498.0548,-612.5902 494.7302,-610.769 491.5,-609 472.1303,-598.3926 451.1066,-586.8905 431.8025,-576.3338\"/>\n<polygon fill=\"#000000\" stroke=\"#000000\" points=\"433.2268,-573.1236 422.7736,-571.3966 429.8683,-579.2653 433.2268,-573.1236\"/>\n</g>\n<!-- 27 -->\n<g id=\"node28\" class=\"node\">\n<title>27</title>\n<polygon fill=\"#88c4ef\" stroke=\"#000000\" points=\"612.5,-573 494.5,-573 494.5,-505 612.5,-505 612.5,-573\"/>\n<text text-anchor=\"middle\" x=\"553.5\" y=\"-557.8\" font-family=\"Helvetica,sans-Serif\" font-size=\"14.00\" fill=\"#000000\">X[9] &lt;= 0.9</text>\n<text text-anchor=\"middle\" x=\"553.5\" y=\"-542.8\" font-family=\"Helvetica,sans-Serif\" font-size=\"14.00\" fill=\"#000000\">entropy = 0.863</text>\n<text text-anchor=\"middle\" x=\"553.5\" y=\"-527.8\" font-family=\"Helvetica,sans-Serif\" font-size=\"14.00\" fill=\"#000000\">samples = 7</text>\n<text text-anchor=\"middle\" x=\"553.5\" y=\"-512.8\" font-family=\"Helvetica,sans-Serif\" font-size=\"14.00\" fill=\"#000000\">value = [2, 5]</text>\n</g>\n<!-- 21&#45;&gt;27 -->\n<g id=\"edge27\" class=\"edge\">\n<title>21&#45;&gt;27</title>\n<path fill=\"none\" stroke=\"#000000\" d=\"M553.5,-608.9465C553.5,-600.776 553.5,-591.9318 553.5,-583.3697\"/>\n<polygon fill=\"#000000\" stroke=\"#000000\" points=\"557.0001,-583.13 553.5,-573.13 550.0001,-583.13 557.0001,-583.13\"/>\n</g>\n<!-- 23 -->\n<g id=\"node24\" class=\"node\">\n<title>23</title>\n<polygon fill=\"#e58139\" stroke=\"#000000\" points=\"294,-461.5 193,-461.5 193,-408.5 294,-408.5 294,-461.5\"/>\n<text text-anchor=\"middle\" x=\"243.5\" y=\"-446.3\" font-family=\"Helvetica,sans-Serif\" font-size=\"14.00\" fill=\"#000000\">entropy = 0.0</text>\n<text text-anchor=\"middle\" x=\"243.5\" y=\"-431.3\" font-family=\"Helvetica,sans-Serif\" font-size=\"14.00\" fill=\"#000000\">samples = 3</text>\n<text text-anchor=\"middle\" x=\"243.5\" y=\"-416.3\" font-family=\"Helvetica,sans-Serif\" font-size=\"14.00\" fill=\"#000000\">value = [3, 0]</text>\n</g>\n<!-- 22&#45;&gt;23 -->\n<g id=\"edge23\" class=\"edge\">\n<title>22&#45;&gt;23</title>\n<path fill=\"none\" stroke=\"#000000\" d=\"M324.2075,-504.9465C310.6083,-493.1606 295.3915,-479.9726 281.8676,-468.2519\"/>\n<polygon fill=\"#000000\" stroke=\"#000000\" points=\"283.9748,-465.4466 274.1256,-461.5422 279.3902,-470.7364 283.9748,-465.4466\"/>\n</g>\n<!-- 24 -->\n<g id=\"node25\" class=\"node\">\n<title>24</title>\n<polygon fill=\"#ffffff\" stroke=\"#000000\" points=\"415,-469 312,-469 312,-401 415,-401 415,-469\"/>\n<text text-anchor=\"middle\" x=\"363.5\" y=\"-453.8\" font-family=\"Helvetica,sans-Serif\" font-size=\"14.00\" fill=\"#000000\">X[4] &lt;= 316.5</text>\n<text text-anchor=\"middle\" x=\"363.5\" y=\"-438.8\" font-family=\"Helvetica,sans-Serif\" font-size=\"14.00\" fill=\"#000000\">entropy = 1.0</text>\n<text text-anchor=\"middle\" x=\"363.5\" y=\"-423.8\" font-family=\"Helvetica,sans-Serif\" font-size=\"14.00\" fill=\"#000000\">samples = 2</text>\n<text text-anchor=\"middle\" x=\"363.5\" y=\"-408.8\" font-family=\"Helvetica,sans-Serif\" font-size=\"14.00\" fill=\"#000000\">value = [1, 1]</text>\n</g>\n<!-- 22&#45;&gt;24 -->\n<g id=\"edge24\" class=\"edge\">\n<title>22&#45;&gt;24</title>\n<path fill=\"none\" stroke=\"#000000\" d=\"M363.5,-504.9465C363.5,-496.776 363.5,-487.9318 363.5,-479.3697\"/>\n<polygon fill=\"#000000\" stroke=\"#000000\" points=\"367.0001,-479.13 363.5,-469.13 360.0001,-479.13 367.0001,-479.13\"/>\n</g>\n<!-- 25 -->\n<g id=\"node26\" class=\"node\">\n<title>25</title>\n<polygon fill=\"#399de5\" stroke=\"#000000\" points=\"297,-357.5 196,-357.5 196,-304.5 297,-304.5 297,-357.5\"/>\n<text text-anchor=\"middle\" x=\"246.5\" y=\"-342.3\" font-family=\"Helvetica,sans-Serif\" font-size=\"14.00\" fill=\"#000000\">entropy = 0.0</text>\n<text text-anchor=\"middle\" x=\"246.5\" y=\"-327.3\" font-family=\"Helvetica,sans-Serif\" font-size=\"14.00\" fill=\"#000000\">samples = 1</text>\n<text text-anchor=\"middle\" x=\"246.5\" y=\"-312.3\" font-family=\"Helvetica,sans-Serif\" font-size=\"14.00\" fill=\"#000000\">value = [0, 1]</text>\n</g>\n<!-- 24&#45;&gt;25 -->\n<g id=\"edge25\" class=\"edge\">\n<title>24&#45;&gt;25</title>\n<path fill=\"none\" stroke=\"#000000\" d=\"M325.1898,-400.9465C311.9306,-389.1606 297.0942,-375.9726 283.9084,-364.2519\"/>\n<polygon fill=\"#000000\" stroke=\"#000000\" points=\"286.1593,-361.5699 276.3599,-357.5422 281.5088,-366.8018 286.1593,-361.5699\"/>\n</g>\n<!-- 26 -->\n<g id=\"node27\" class=\"node\">\n<title>26</title>\n<polygon fill=\"#e58139\" stroke=\"#000000\" points=\"416,-357.5 315,-357.5 315,-304.5 416,-304.5 416,-357.5\"/>\n<text text-anchor=\"middle\" x=\"365.5\" y=\"-342.3\" font-family=\"Helvetica,sans-Serif\" font-size=\"14.00\" fill=\"#000000\">entropy = 0.0</text>\n<text text-anchor=\"middle\" x=\"365.5\" y=\"-327.3\" font-family=\"Helvetica,sans-Serif\" font-size=\"14.00\" fill=\"#000000\">samples = 1</text>\n<text text-anchor=\"middle\" x=\"365.5\" y=\"-312.3\" font-family=\"Helvetica,sans-Serif\" font-size=\"14.00\" fill=\"#000000\">value = [1, 0]</text>\n</g>\n<!-- 24&#45;&gt;26 -->\n<g id=\"edge26\" class=\"edge\">\n<title>24&#45;&gt;26</title>\n<path fill=\"none\" stroke=\"#000000\" d=\"M364.1549,-400.9465C364.3603,-390.2621 364.588,-378.4254 364.7966,-367.5742\"/>\n<polygon fill=\"#000000\" stroke=\"#000000\" points=\"368.2966,-367.6076 364.9896,-357.5422 361.2979,-367.473 368.2966,-367.6076\"/>\n</g>\n<!-- 28 -->\n<g id=\"node29\" class=\"node\">\n<title>28</title>\n<polygon fill=\"#e58139\" stroke=\"#000000\" points=\"534,-461.5 433,-461.5 433,-408.5 534,-408.5 534,-461.5\"/>\n<text text-anchor=\"middle\" x=\"483.5\" y=\"-446.3\" font-family=\"Helvetica,sans-Serif\" font-size=\"14.00\" fill=\"#000000\">entropy = 0.0</text>\n<text text-anchor=\"middle\" x=\"483.5\" y=\"-431.3\" font-family=\"Helvetica,sans-Serif\" font-size=\"14.00\" fill=\"#000000\">samples = 1</text>\n<text text-anchor=\"middle\" x=\"483.5\" y=\"-416.3\" font-family=\"Helvetica,sans-Serif\" font-size=\"14.00\" fill=\"#000000\">value = [1, 0]</text>\n</g>\n<!-- 27&#45;&gt;28 -->\n<g id=\"edge28\" class=\"edge\">\n<title>27&#45;&gt;28</title>\n<path fill=\"none\" stroke=\"#000000\" d=\"M530.5794,-504.9465C523.0172,-493.7113 514.5976,-481.2021 506.9933,-469.9043\"/>\n<polygon fill=\"#000000\" stroke=\"#000000\" points=\"509.8523,-467.8837 501.3649,-461.5422 504.0452,-471.7924 509.8523,-467.8837\"/>\n</g>\n<!-- 29 -->\n<g id=\"node30\" class=\"node\">\n<title>29</title>\n<polygon fill=\"#61b1ea\" stroke=\"#000000\" points=\"662.5,-469 552.5,-469 552.5,-401 662.5,-401 662.5,-469\"/>\n<text text-anchor=\"middle\" x=\"607.5\" y=\"-453.8\" font-family=\"Helvetica,sans-Serif\" font-size=\"14.00\" fill=\"#000000\">X[3] &lt;= 136.0</text>\n<text text-anchor=\"middle\" x=\"607.5\" y=\"-438.8\" font-family=\"Helvetica,sans-Serif\" font-size=\"14.00\" fill=\"#000000\">entropy = 0.65</text>\n<text text-anchor=\"middle\" x=\"607.5\" y=\"-423.8\" font-family=\"Helvetica,sans-Serif\" font-size=\"14.00\" fill=\"#000000\">samples = 6</text>\n<text text-anchor=\"middle\" x=\"607.5\" y=\"-408.8\" font-family=\"Helvetica,sans-Serif\" font-size=\"14.00\" fill=\"#000000\">value = [1, 5]</text>\n</g>\n<!-- 27&#45;&gt;29 -->\n<g id=\"edge29\" class=\"edge\">\n<title>27&#45;&gt;29</title>\n<path fill=\"none\" stroke=\"#000000\" d=\"M571.1816,-504.9465C575.6105,-496.4169 580.4206,-487.153 585.0472,-478.2424\"/>\n<polygon fill=\"#000000\" stroke=\"#000000\" points=\"588.2767,-479.6178 589.7787,-469.13 582.0642,-476.3921 588.2767,-479.6178\"/>\n</g>\n<!-- 30 -->\n<g id=\"node31\" class=\"node\">\n<title>30</title>\n<polygon fill=\"#ffffff\" stroke=\"#000000\" points=\"539,-365 436,-365 436,-297 539,-297 539,-365\"/>\n<text text-anchor=\"middle\" x=\"487.5\" y=\"-349.8\" font-family=\"Helvetica,sans-Serif\" font-size=\"14.00\" fill=\"#000000\">X[7] &lt;= 125.0</text>\n<text text-anchor=\"middle\" x=\"487.5\" y=\"-334.8\" font-family=\"Helvetica,sans-Serif\" font-size=\"14.00\" fill=\"#000000\">entropy = 1.0</text>\n<text text-anchor=\"middle\" x=\"487.5\" y=\"-319.8\" font-family=\"Helvetica,sans-Serif\" font-size=\"14.00\" fill=\"#000000\">samples = 2</text>\n<text text-anchor=\"middle\" x=\"487.5\" y=\"-304.8\" font-family=\"Helvetica,sans-Serif\" font-size=\"14.00\" fill=\"#000000\">value = [1, 1]</text>\n</g>\n<!-- 29&#45;&gt;30 -->\n<g id=\"edge30\" class=\"edge\">\n<title>29&#45;&gt;30</title>\n<path fill=\"none\" stroke=\"#000000\" d=\"M568.2075,-400.9465C557.4333,-391.6088 545.6436,-381.3911 534.485,-371.7203\"/>\n<polygon fill=\"#000000\" stroke=\"#000000\" points=\"536.7299,-369.0344 526.8808,-365.13 532.1454,-374.3243 536.7299,-369.0344\"/>\n</g>\n<!-- 33 -->\n<g id=\"node34\" class=\"node\">\n<title>33</title>\n<polygon fill=\"#399de5\" stroke=\"#000000\" points=\"658,-357.5 557,-357.5 557,-304.5 658,-304.5 658,-357.5\"/>\n<text text-anchor=\"middle\" x=\"607.5\" y=\"-342.3\" font-family=\"Helvetica,sans-Serif\" font-size=\"14.00\" fill=\"#000000\">entropy = 0.0</text>\n<text text-anchor=\"middle\" x=\"607.5\" y=\"-327.3\" font-family=\"Helvetica,sans-Serif\" font-size=\"14.00\" fill=\"#000000\">samples = 4</text>\n<text text-anchor=\"middle\" x=\"607.5\" y=\"-312.3\" font-family=\"Helvetica,sans-Serif\" font-size=\"14.00\" fill=\"#000000\">value = [0, 4]</text>\n</g>\n<!-- 29&#45;&gt;33 -->\n<g id=\"edge33\" class=\"edge\">\n<title>29&#45;&gt;33</title>\n<path fill=\"none\" stroke=\"#000000\" d=\"M607.5,-400.9465C607.5,-390.2621 607.5,-378.4254 607.5,-367.5742\"/>\n<polygon fill=\"#000000\" stroke=\"#000000\" points=\"611.0001,-367.5421 607.5,-357.5422 604.0001,-367.5422 611.0001,-367.5421\"/>\n</g>\n<!-- 31 -->\n<g id=\"node32\" class=\"node\">\n<title>31</title>\n<polygon fill=\"#e58139\" stroke=\"#000000\" points=\"479,-253.5 378,-253.5 378,-200.5 479,-200.5 479,-253.5\"/>\n<text text-anchor=\"middle\" x=\"428.5\" y=\"-238.3\" font-family=\"Helvetica,sans-Serif\" font-size=\"14.00\" fill=\"#000000\">entropy = 0.0</text>\n<text text-anchor=\"middle\" x=\"428.5\" y=\"-223.3\" font-family=\"Helvetica,sans-Serif\" font-size=\"14.00\" fill=\"#000000\">samples = 1</text>\n<text text-anchor=\"middle\" x=\"428.5\" y=\"-208.3\" font-family=\"Helvetica,sans-Serif\" font-size=\"14.00\" fill=\"#000000\">value = [1, 0]</text>\n</g>\n<!-- 30&#45;&gt;31 -->\n<g id=\"edge31\" class=\"edge\">\n<title>30&#45;&gt;31</title>\n<path fill=\"none\" stroke=\"#000000\" d=\"M468.1812,-296.9465C461.9324,-285.9316 454.9888,-273.6922 448.6793,-262.5703\"/>\n<polygon fill=\"#000000\" stroke=\"#000000\" points=\"451.5362,-260.513 443.5576,-253.5422 445.4477,-263.967 451.5362,-260.513\"/>\n</g>\n<!-- 32 -->\n<g id=\"node33\" class=\"node\">\n<title>32</title>\n<polygon fill=\"#399de5\" stroke=\"#000000\" points=\"598,-253.5 497,-253.5 497,-200.5 598,-200.5 598,-253.5\"/>\n<text text-anchor=\"middle\" x=\"547.5\" y=\"-238.3\" font-family=\"Helvetica,sans-Serif\" font-size=\"14.00\" fill=\"#000000\">entropy = 0.0</text>\n<text text-anchor=\"middle\" x=\"547.5\" y=\"-223.3\" font-family=\"Helvetica,sans-Serif\" font-size=\"14.00\" fill=\"#000000\">samples = 1</text>\n<text text-anchor=\"middle\" x=\"547.5\" y=\"-208.3\" font-family=\"Helvetica,sans-Serif\" font-size=\"14.00\" fill=\"#000000\">value = [0, 1]</text>\n</g>\n<!-- 30&#45;&gt;32 -->\n<g id=\"edge32\" class=\"edge\">\n<title>30&#45;&gt;32</title>\n<path fill=\"none\" stroke=\"#000000\" d=\"M507.1462,-296.9465C513.5645,-285.8215 520.7035,-273.4473 527.171,-262.237\"/>\n<polygon fill=\"#000000\" stroke=\"#000000\" points=\"530.2216,-263.9531 532.1872,-253.5422 524.1583,-260.455 530.2216,-263.9531\"/>\n</g>\n<!-- 37 -->\n<g id=\"node38\" class=\"node\">\n<title>37</title>\n<polygon fill=\"#43a2e6\" stroke=\"#000000\" points=\"1235.5,-1093 1111.5,-1093 1111.5,-1025 1235.5,-1025 1235.5,-1093\"/>\n<text text-anchor=\"middle\" x=\"1173.5\" y=\"-1077.8\" font-family=\"Helvetica,sans-Serif\" font-size=\"14.00\" fill=\"#000000\">X[0] &lt;= 52.5</text>\n<text text-anchor=\"middle\" x=\"1173.5\" y=\"-1062.8\" font-family=\"Helvetica,sans-Serif\" font-size=\"14.00\" fill=\"#000000\">entropy = 0.279</text>\n<text text-anchor=\"middle\" x=\"1173.5\" y=\"-1047.8\" font-family=\"Helvetica,sans-Serif\" font-size=\"14.00\" fill=\"#000000\">samples = 249</text>\n<text text-anchor=\"middle\" x=\"1173.5\" y=\"-1032.8\" font-family=\"Helvetica,sans-Serif\" font-size=\"14.00\" fill=\"#000000\">value = [12, 237]</text>\n</g>\n<!-- 36&#45;&gt;37 -->\n<g id=\"edge37\" class=\"edge\">\n<title>36&#45;&gt;37</title>\n<path fill=\"none\" stroke=\"#000000\" d=\"M1426.2661,-1142.4529C1374.1702,-1125.253 1299.8002,-1100.6991 1245.2138,-1082.6769\"/>\n<polygon fill=\"#000000\" stroke=\"#000000\" points=\"1246.1977,-1079.316 1235.6046,-1079.5044 1244.0031,-1085.9631 1246.1977,-1079.316\"/>\n</g>\n<!-- 76 -->\n<g id=\"node77\" class=\"node\">\n<title>76</title>\n<polygon fill=\"#60b0ea\" stroke=\"#000000\" points=\"1796.5,-1093 1678.5,-1093 1678.5,-1025 1796.5,-1025 1796.5,-1093\"/>\n<text text-anchor=\"middle\" x=\"1737.5\" y=\"-1077.8\" font-family=\"Helvetica,sans-Serif\" font-size=\"14.00\" fill=\"#000000\">X[2] &lt;= 0.5</text>\n<text text-anchor=\"middle\" x=\"1737.5\" y=\"-1062.8\" font-family=\"Helvetica,sans-Serif\" font-size=\"14.00\" fill=\"#000000\">entropy = 0.642</text>\n<text text-anchor=\"middle\" x=\"1737.5\" y=\"-1047.8\" font-family=\"Helvetica,sans-Serif\" font-size=\"14.00\" fill=\"#000000\">samples = 92</text>\n<text text-anchor=\"middle\" x=\"1737.5\" y=\"-1032.8\" font-family=\"Helvetica,sans-Serif\" font-size=\"14.00\" fill=\"#000000\">value = [15, 77]</text>\n</g>\n<!-- 36&#45;&gt;76 -->\n<g id=\"edge76\" class=\"edge\">\n<title>36&#45;&gt;76</title>\n<path fill=\"none\" stroke=\"#000000\" d=\"M1550.6909,-1137.0247C1586.5254,-1122.0577 1631.6389,-1103.2151 1668.5548,-1087.7964\"/>\n<polygon fill=\"#000000\" stroke=\"#000000\" points=\"1670.364,-1090.8338 1678.2425,-1083.7501 1667.6661,-1084.3746 1670.364,-1090.8338\"/>\n</g>\n<!-- 38 -->\n<g id=\"node39\" class=\"node\">\n<title>38</title>\n<polygon fill=\"#399de5\" stroke=\"#000000\" points=\"1093,-981.5 986,-981.5 986,-928.5 1093,-928.5 1093,-981.5\"/>\n<text text-anchor=\"middle\" x=\"1039.5\" y=\"-966.3\" font-family=\"Helvetica,sans-Serif\" font-size=\"14.00\" fill=\"#000000\">entropy = 0.0</text>\n<text text-anchor=\"middle\" x=\"1039.5\" y=\"-951.3\" font-family=\"Helvetica,sans-Serif\" font-size=\"14.00\" fill=\"#000000\">samples = 60</text>\n<text text-anchor=\"middle\" x=\"1039.5\" y=\"-936.3\" font-family=\"Helvetica,sans-Serif\" font-size=\"14.00\" fill=\"#000000\">value = [0, 60]</text>\n</g>\n<!-- 37&#45;&gt;38 -->\n<g id=\"edge38\" class=\"edge\">\n<title>37&#45;&gt;38</title>\n<path fill=\"none\" stroke=\"#000000\" d=\"M1129.6234,-1024.9465C1114.2957,-1013.0504 1097.1277,-999.726 1081.9209,-987.9237\"/>\n<polygon fill=\"#000000\" stroke=\"#000000\" points=\"1083.7444,-984.9085 1073.6986,-981.5422 1079.4525,-990.4384 1083.7444,-984.9085\"/>\n</g>\n<!-- 39 -->\n<g id=\"node40\" class=\"node\">\n<title>39</title>\n<polygon fill=\"#46a4e7\" stroke=\"#000000\" points=\"1235.5,-989 1111.5,-989 1111.5,-921 1235.5,-921 1235.5,-989\"/>\n<text text-anchor=\"middle\" x=\"1173.5\" y=\"-973.8\" font-family=\"Helvetica,sans-Serif\" font-size=\"14.00\" fill=\"#000000\">X[9] &lt;= 0.1</text>\n<text text-anchor=\"middle\" x=\"1173.5\" y=\"-958.8\" font-family=\"Helvetica,sans-Serif\" font-size=\"14.00\" fill=\"#000000\">entropy = 0.341</text>\n<text text-anchor=\"middle\" x=\"1173.5\" y=\"-943.8\" font-family=\"Helvetica,sans-Serif\" font-size=\"14.00\" fill=\"#000000\">samples = 189</text>\n<text text-anchor=\"middle\" x=\"1173.5\" y=\"-928.8\" font-family=\"Helvetica,sans-Serif\" font-size=\"14.00\" fill=\"#000000\">value = [12, 177]</text>\n</g>\n<!-- 37&#45;&gt;39 -->\n<g id=\"edge39\" class=\"edge\">\n<title>37&#45;&gt;39</title>\n<path fill=\"none\" stroke=\"#000000\" d=\"M1173.5,-1024.9465C1173.5,-1016.776 1173.5,-1007.9318 1173.5,-999.3697\"/>\n<polygon fill=\"#000000\" stroke=\"#000000\" points=\"1177.0001,-999.13 1173.5,-989.13 1170.0001,-999.13 1177.0001,-999.13\"/>\n</g>\n<!-- 40 -->\n<g id=\"node41\" class=\"node\">\n<title>40</title>\n<polygon fill=\"#399de5\" stroke=\"#000000\" points=\"1093,-877.5 986,-877.5 986,-824.5 1093,-824.5 1093,-877.5\"/>\n<text text-anchor=\"middle\" x=\"1039.5\" y=\"-862.3\" font-family=\"Helvetica,sans-Serif\" font-size=\"14.00\" fill=\"#000000\">entropy = 0.0</text>\n<text text-anchor=\"middle\" x=\"1039.5\" y=\"-847.3\" font-family=\"Helvetica,sans-Serif\" font-size=\"14.00\" fill=\"#000000\">samples = 44</text>\n<text text-anchor=\"middle\" x=\"1039.5\" y=\"-832.3\" font-family=\"Helvetica,sans-Serif\" font-size=\"14.00\" fill=\"#000000\">value = [0, 44]</text>\n</g>\n<!-- 39&#45;&gt;40 -->\n<g id=\"edge40\" class=\"edge\">\n<title>39&#45;&gt;40</title>\n<path fill=\"none\" stroke=\"#000000\" d=\"M1129.6234,-920.9465C1114.2957,-909.0504 1097.1277,-895.726 1081.9209,-883.9237\"/>\n<polygon fill=\"#000000\" stroke=\"#000000\" points=\"1083.7444,-880.9085 1073.6986,-877.5422 1079.4525,-886.4384 1083.7444,-880.9085\"/>\n</g>\n<!-- 41 -->\n<g id=\"node42\" class=\"node\">\n<title>41</title>\n<polygon fill=\"#4ba6e7\" stroke=\"#000000\" points=\"1235.5,-885 1111.5,-885 1111.5,-817 1235.5,-817 1235.5,-885\"/>\n<text text-anchor=\"middle\" x=\"1173.5\" y=\"-869.8\" font-family=\"Helvetica,sans-Serif\" font-size=\"14.00\" fill=\"#000000\">X[9] &lt;= 0.75</text>\n<text text-anchor=\"middle\" x=\"1173.5\" y=\"-854.8\" font-family=\"Helvetica,sans-Serif\" font-size=\"14.00\" fill=\"#000000\">entropy = 0.412</text>\n<text text-anchor=\"middle\" x=\"1173.5\" y=\"-839.8\" font-family=\"Helvetica,sans-Serif\" font-size=\"14.00\" fill=\"#000000\">samples = 145</text>\n<text text-anchor=\"middle\" x=\"1173.5\" y=\"-824.8\" font-family=\"Helvetica,sans-Serif\" font-size=\"14.00\" fill=\"#000000\">value = [12, 133]</text>\n</g>\n<!-- 39&#45;&gt;41 -->\n<g id=\"edge41\" class=\"edge\">\n<title>39&#45;&gt;41</title>\n<path fill=\"none\" stroke=\"#000000\" d=\"M1173.5,-920.9465C1173.5,-912.776 1173.5,-903.9318 1173.5,-895.3697\"/>\n<polygon fill=\"#000000\" stroke=\"#000000\" points=\"1177.0001,-895.13 1173.5,-885.13 1170.0001,-895.13 1177.0001,-895.13\"/>\n</g>\n<!-- 42 -->\n<g id=\"node43\" class=\"node\">\n<title>42</title>\n<polygon fill=\"#ffffff\" stroke=\"#000000\" points=\"1093,-781 990,-781 990,-713 1093,-713 1093,-781\"/>\n<text text-anchor=\"middle\" x=\"1041.5\" y=\"-765.8\" font-family=\"Helvetica,sans-Serif\" font-size=\"14.00\" fill=\"#000000\">X[3] &lt;= 142.5</text>\n<text text-anchor=\"middle\" x=\"1041.5\" y=\"-750.8\" font-family=\"Helvetica,sans-Serif\" font-size=\"14.00\" fill=\"#000000\">entropy = 1.0</text>\n<text text-anchor=\"middle\" x=\"1041.5\" y=\"-735.8\" font-family=\"Helvetica,sans-Serif\" font-size=\"14.00\" fill=\"#000000\">samples = 8</text>\n<text text-anchor=\"middle\" x=\"1041.5\" y=\"-720.8\" font-family=\"Helvetica,sans-Serif\" font-size=\"14.00\" fill=\"#000000\">value = [4, 4]</text>\n</g>\n<!-- 41&#45;&gt;42 -->\n<g id=\"edge42\" class=\"edge\">\n<title>41&#45;&gt;42</title>\n<path fill=\"none\" stroke=\"#000000\" d=\"M1130.2783,-816.9465C1118.3126,-807.519 1105.2085,-797.1946 1092.8296,-787.4415\"/>\n<polygon fill=\"#000000\" stroke=\"#000000\" points=\"1094.8398,-784.5695 1084.8188,-781.13 1090.5077,-790.068 1094.8398,-784.5695\"/>\n</g>\n<!-- 47 -->\n<g id=\"node48\" class=\"node\">\n<title>47</title>\n<polygon fill=\"#45a3e7\" stroke=\"#000000\" points=\"1232.5,-781 1114.5,-781 1114.5,-713 1232.5,-713 1232.5,-781\"/>\n<text text-anchor=\"middle\" x=\"1173.5\" y=\"-765.8\" font-family=\"Helvetica,sans-Serif\" font-size=\"14.00\" fill=\"#000000\">X[4] &lt;= 308.0</text>\n<text text-anchor=\"middle\" x=\"1173.5\" y=\"-750.8\" font-family=\"Helvetica,sans-Serif\" font-size=\"14.00\" fill=\"#000000\">entropy = 0.321</text>\n<text text-anchor=\"middle\" x=\"1173.5\" y=\"-735.8\" font-family=\"Helvetica,sans-Serif\" font-size=\"14.00\" fill=\"#000000\">samples = 137</text>\n<text text-anchor=\"middle\" x=\"1173.5\" y=\"-720.8\" font-family=\"Helvetica,sans-Serif\" font-size=\"14.00\" fill=\"#000000\">value = [8, 129]</text>\n</g>\n<!-- 41&#45;&gt;47 -->\n<g id=\"edge47\" class=\"edge\">\n<title>41&#45;&gt;47</title>\n<path fill=\"none\" stroke=\"#000000\" d=\"M1173.5,-816.9465C1173.5,-808.776 1173.5,-799.9318 1173.5,-791.3697\"/>\n<polygon fill=\"#000000\" stroke=\"#000000\" points=\"1177.0001,-791.13 1173.5,-781.13 1170.0001,-791.13 1177.0001,-791.13\"/>\n</g>\n<!-- 43 -->\n<g id=\"node44\" class=\"node\">\n<title>43</title>\n<polygon fill=\"#eca06a\" stroke=\"#000000\" points=\"968.5,-677 850.5,-677 850.5,-609 968.5,-609 968.5,-677\"/>\n<text text-anchor=\"middle\" x=\"909.5\" y=\"-661.8\" font-family=\"Helvetica,sans-Serif\" font-size=\"14.00\" fill=\"#000000\">X[3] &lt;= 119.0</text>\n<text text-anchor=\"middle\" x=\"909.5\" y=\"-646.8\" font-family=\"Helvetica,sans-Serif\" font-size=\"14.00\" fill=\"#000000\">entropy = 0.722</text>\n<text text-anchor=\"middle\" x=\"909.5\" y=\"-631.8\" font-family=\"Helvetica,sans-Serif\" font-size=\"14.00\" fill=\"#000000\">samples = 5</text>\n<text text-anchor=\"middle\" x=\"909.5\" y=\"-616.8\" font-family=\"Helvetica,sans-Serif\" font-size=\"14.00\" fill=\"#000000\">value = [4, 1]</text>\n</g>\n<!-- 42&#45;&gt;43 -->\n<g id=\"edge43\" class=\"edge\">\n<title>42&#45;&gt;43</title>\n<path fill=\"none\" stroke=\"#000000\" d=\"M998.2783,-712.9465C986.3126,-703.519 973.2085,-693.1946 960.8296,-683.4415\"/>\n<polygon fill=\"#000000\" stroke=\"#000000\" points=\"962.8398,-680.5695 952.8188,-677.13 958.5077,-686.068 962.8398,-680.5695\"/>\n</g>\n<!-- 46 -->\n<g id=\"node47\" class=\"node\">\n<title>46</title>\n<polygon fill=\"#399de5\" stroke=\"#000000\" points=\"1092,-669.5 991,-669.5 991,-616.5 1092,-616.5 1092,-669.5\"/>\n<text text-anchor=\"middle\" x=\"1041.5\" y=\"-654.3\" font-family=\"Helvetica,sans-Serif\" font-size=\"14.00\" fill=\"#000000\">entropy = 0.0</text>\n<text text-anchor=\"middle\" x=\"1041.5\" y=\"-639.3\" font-family=\"Helvetica,sans-Serif\" font-size=\"14.00\" fill=\"#000000\">samples = 3</text>\n<text text-anchor=\"middle\" x=\"1041.5\" y=\"-624.3\" font-family=\"Helvetica,sans-Serif\" font-size=\"14.00\" fill=\"#000000\">value = [0, 3]</text>\n</g>\n<!-- 42&#45;&gt;46 -->\n<g id=\"edge46\" class=\"edge\">\n<title>42&#45;&gt;46</title>\n<path fill=\"none\" stroke=\"#000000\" d=\"M1041.5,-712.9465C1041.5,-702.2621 1041.5,-690.4254 1041.5,-679.5742\"/>\n<polygon fill=\"#000000\" stroke=\"#000000\" points=\"1045.0001,-679.5421 1041.5,-669.5422 1038.0001,-679.5422 1045.0001,-679.5421\"/>\n</g>\n<!-- 44 -->\n<g id=\"node45\" class=\"node\">\n<title>44</title>\n<polygon fill=\"#399de5\" stroke=\"#000000\" points=\"841,-565.5 740,-565.5 740,-512.5 841,-512.5 841,-565.5\"/>\n<text text-anchor=\"middle\" x=\"790.5\" y=\"-550.3\" font-family=\"Helvetica,sans-Serif\" font-size=\"14.00\" fill=\"#000000\">entropy = 0.0</text>\n<text text-anchor=\"middle\" x=\"790.5\" y=\"-535.3\" font-family=\"Helvetica,sans-Serif\" font-size=\"14.00\" fill=\"#000000\">samples = 1</text>\n<text text-anchor=\"middle\" x=\"790.5\" y=\"-520.3\" font-family=\"Helvetica,sans-Serif\" font-size=\"14.00\" fill=\"#000000\">value = [0, 1]</text>\n</g>\n<!-- 43&#45;&gt;44 -->\n<g id=\"edge44\" class=\"edge\">\n<title>43&#45;&gt;44</title>\n<path fill=\"none\" stroke=\"#000000\" d=\"M870.5349,-608.9465C857.0491,-597.1606 841.9591,-583.9726 828.5479,-572.2519\"/>\n<polygon fill=\"#000000\" stroke=\"#000000\" points=\"830.7033,-569.4874 820.8704,-565.5422 826.0969,-574.7582 830.7033,-569.4874\"/>\n</g>\n<!-- 45 -->\n<g id=\"node46\" class=\"node\">\n<title>45</title>\n<polygon fill=\"#e58139\" stroke=\"#000000\" points=\"960,-565.5 859,-565.5 859,-512.5 960,-512.5 960,-565.5\"/>\n<text text-anchor=\"middle\" x=\"909.5\" y=\"-550.3\" font-family=\"Helvetica,sans-Serif\" font-size=\"14.00\" fill=\"#000000\">entropy = 0.0</text>\n<text text-anchor=\"middle\" x=\"909.5\" y=\"-535.3\" font-family=\"Helvetica,sans-Serif\" font-size=\"14.00\" fill=\"#000000\">samples = 4</text>\n<text text-anchor=\"middle\" x=\"909.5\" y=\"-520.3\" font-family=\"Helvetica,sans-Serif\" font-size=\"14.00\" fill=\"#000000\">value = [4, 0]</text>\n</g>\n<!-- 43&#45;&gt;45 -->\n<g id=\"edge45\" class=\"edge\">\n<title>43&#45;&gt;45</title>\n<path fill=\"none\" stroke=\"#000000\" d=\"M909.5,-608.9465C909.5,-598.2621 909.5,-586.4254 909.5,-575.5742\"/>\n<polygon fill=\"#000000\" stroke=\"#000000\" points=\"913.0001,-575.5421 909.5,-565.5422 906.0001,-575.5422 913.0001,-575.5421\"/>\n</g>\n<!-- 48 -->\n<g id=\"node49\" class=\"node\">\n<title>48</title>\n<polygon fill=\"#41a1e6\" stroke=\"#000000\" points=\"1232.5,-677 1114.5,-677 1114.5,-609 1232.5,-609 1232.5,-677\"/>\n<text text-anchor=\"middle\" x=\"1173.5\" y=\"-661.8\" font-family=\"Helvetica,sans-Serif\" font-size=\"14.00\" fill=\"#000000\">X[3] &lt;= 130.5</text>\n<text text-anchor=\"middle\" x=\"1173.5\" y=\"-646.8\" font-family=\"Helvetica,sans-Serif\" font-size=\"14.00\" fill=\"#000000\">entropy = 0.239</text>\n<text text-anchor=\"middle\" x=\"1173.5\" y=\"-631.8\" font-family=\"Helvetica,sans-Serif\" font-size=\"14.00\" fill=\"#000000\">samples = 127</text>\n<text text-anchor=\"middle\" x=\"1173.5\" y=\"-616.8\" font-family=\"Helvetica,sans-Serif\" font-size=\"14.00\" fill=\"#000000\">value = [5, 122]</text>\n</g>\n<!-- 47&#45;&gt;48 -->\n<g id=\"edge48\" class=\"edge\">\n<title>47&#45;&gt;48</title>\n<path fill=\"none\" stroke=\"#000000\" d=\"M1173.5,-712.9465C1173.5,-704.776 1173.5,-695.9318 1173.5,-687.3697\"/>\n<polygon fill=\"#000000\" stroke=\"#000000\" points=\"1177.0001,-687.13 1173.5,-677.13 1170.0001,-687.13 1177.0001,-687.13\"/>\n</g>\n<!-- 69 -->\n<g id=\"node70\" class=\"node\">\n<title>69</title>\n<polygon fill=\"#8ec7f0\" stroke=\"#000000\" points=\"1368.5,-677 1250.5,-677 1250.5,-609 1368.5,-609 1368.5,-677\"/>\n<text text-anchor=\"middle\" x=\"1309.5\" y=\"-661.8\" font-family=\"Helvetica,sans-Serif\" font-size=\"14.00\" fill=\"#000000\">X[0] &lt;= 74.5</text>\n<text text-anchor=\"middle\" x=\"1309.5\" y=\"-646.8\" font-family=\"Helvetica,sans-Serif\" font-size=\"14.00\" fill=\"#000000\">entropy = 0.881</text>\n<text text-anchor=\"middle\" x=\"1309.5\" y=\"-631.8\" font-family=\"Helvetica,sans-Serif\" font-size=\"14.00\" fill=\"#000000\">samples = 10</text>\n<text text-anchor=\"middle\" x=\"1309.5\" y=\"-616.8\" font-family=\"Helvetica,sans-Serif\" font-size=\"14.00\" fill=\"#000000\">value = [3, 7]</text>\n</g>\n<!-- 47&#45;&gt;69 -->\n<g id=\"edge69\" class=\"edge\">\n<title>47&#45;&gt;69</title>\n<path fill=\"none\" stroke=\"#000000\" d=\"M1218.0315,-712.9465C1230.3597,-703.519 1243.8609,-693.1946 1256.615,-683.4415\"/>\n<polygon fill=\"#000000\" stroke=\"#000000\" points=\"1259.051,-685.9848 1264.8685,-677.13 1254.7988,-680.4243 1259.051,-685.9848\"/>\n</g>\n<!-- 49 -->\n<g id=\"node50\" class=\"node\">\n<title>49</title>\n<polygon fill=\"#4da7e8\" stroke=\"#000000\" points=\"1096.5,-573 978.5,-573 978.5,-505 1096.5,-505 1096.5,-573\"/>\n<text text-anchor=\"middle\" x=\"1037.5\" y=\"-557.8\" font-family=\"Helvetica,sans-Serif\" font-size=\"14.00\" fill=\"#000000\">X[6] &lt;= 1.5</text>\n<text text-anchor=\"middle\" x=\"1037.5\" y=\"-542.8\" font-family=\"Helvetica,sans-Serif\" font-size=\"14.00\" fill=\"#000000\">entropy = 0.439</text>\n<text text-anchor=\"middle\" x=\"1037.5\" y=\"-527.8\" font-family=\"Helvetica,sans-Serif\" font-size=\"14.00\" fill=\"#000000\">samples = 44</text>\n<text text-anchor=\"middle\" x=\"1037.5\" y=\"-512.8\" font-family=\"Helvetica,sans-Serif\" font-size=\"14.00\" fill=\"#000000\">value = [4, 40]</text>\n</g>\n<!-- 48&#45;&gt;49 -->\n<g id=\"edge49\" class=\"edge\">\n<title>48&#45;&gt;49</title>\n<path fill=\"none\" stroke=\"#000000\" d=\"M1128.9685,-608.9465C1116.6403,-599.519 1103.1391,-589.1946 1090.385,-579.4415\"/>\n<polygon fill=\"#000000\" stroke=\"#000000\" points=\"1092.2012,-576.4243 1082.1315,-573.13 1087.949,-581.9848 1092.2012,-576.4243\"/>\n</g>\n<!-- 64 -->\n<g id=\"node65\" class=\"node\">\n<title>64</title>\n<polygon fill=\"#3b9ee5\" stroke=\"#000000\" points=\"1232.5,-573 1114.5,-573 1114.5,-505 1232.5,-505 1232.5,-573\"/>\n<text text-anchor=\"middle\" x=\"1173.5\" y=\"-557.8\" font-family=\"Helvetica,sans-Serif\" font-size=\"14.00\" fill=\"#000000\">X[0] &lt;= 71.5</text>\n<text text-anchor=\"middle\" x=\"1173.5\" y=\"-542.8\" font-family=\"Helvetica,sans-Serif\" font-size=\"14.00\" fill=\"#000000\">entropy = 0.094</text>\n<text text-anchor=\"middle\" x=\"1173.5\" y=\"-527.8\" font-family=\"Helvetica,sans-Serif\" font-size=\"14.00\" fill=\"#000000\">samples = 83</text>\n<text text-anchor=\"middle\" x=\"1173.5\" y=\"-512.8\" font-family=\"Helvetica,sans-Serif\" font-size=\"14.00\" fill=\"#000000\">value = [1, 82]</text>\n</g>\n<!-- 48&#45;&gt;64 -->\n<g id=\"edge64\" class=\"edge\">\n<title>48&#45;&gt;64</title>\n<path fill=\"none\" stroke=\"#000000\" d=\"M1173.5,-608.9465C1173.5,-600.776 1173.5,-591.9318 1173.5,-583.3697\"/>\n<polygon fill=\"#000000\" stroke=\"#000000\" points=\"1177.0001,-583.13 1173.5,-573.13 1170.0001,-583.13 1177.0001,-583.13\"/>\n</g>\n<!-- 50 -->\n<g id=\"node51\" class=\"node\">\n<title>50</title>\n<polygon fill=\"#3fa0e6\" stroke=\"#000000\" points=\"915.5,-469 797.5,-469 797.5,-401 915.5,-401 915.5,-469\"/>\n<text text-anchor=\"middle\" x=\"856.5\" y=\"-453.8\" font-family=\"Helvetica,sans-Serif\" font-size=\"14.00\" fill=\"#000000\">X[7] &lt;= 125.5</text>\n<text text-anchor=\"middle\" x=\"856.5\" y=\"-438.8\" font-family=\"Helvetica,sans-Serif\" font-size=\"14.00\" fill=\"#000000\">entropy = 0.187</text>\n<text text-anchor=\"middle\" x=\"856.5\" y=\"-423.8\" font-family=\"Helvetica,sans-Serif\" font-size=\"14.00\" fill=\"#000000\">samples = 35</text>\n<text text-anchor=\"middle\" x=\"856.5\" y=\"-408.8\" font-family=\"Helvetica,sans-Serif\" font-size=\"14.00\" fill=\"#000000\">value = [1, 34]</text>\n</g>\n<!-- 49&#45;&gt;50 -->\n<g id=\"edge50\" class=\"edge\">\n<title>49&#45;&gt;50</title>\n<path fill=\"none\" stroke=\"#000000\" d=\"M978.2338,-504.9465C961.1136,-495.1095 942.2936,-484.2958 924.6772,-474.1736\"/>\n<polygon fill=\"#000000\" stroke=\"#000000\" points=\"926.0044,-470.8996 915.59,-468.9523 922.517,-476.9691 926.0044,-470.8996\"/>\n</g>\n<!-- 55 -->\n<g id=\"node56\" class=\"node\">\n<title>55</title>\n<polygon fill=\"#9ccef2\" stroke=\"#000000\" points=\"1096.5,-469 978.5,-469 978.5,-401 1096.5,-401 1096.5,-469\"/>\n<text text-anchor=\"middle\" x=\"1037.5\" y=\"-453.8\" font-family=\"Helvetica,sans-Serif\" font-size=\"14.00\" fill=\"#000000\">X[9] &lt;= 2.5</text>\n<text text-anchor=\"middle\" x=\"1037.5\" y=\"-438.8\" font-family=\"Helvetica,sans-Serif\" font-size=\"14.00\" fill=\"#000000\">entropy = 0.918</text>\n<text text-anchor=\"middle\" x=\"1037.5\" y=\"-423.8\" font-family=\"Helvetica,sans-Serif\" font-size=\"14.00\" fill=\"#000000\">samples = 9</text>\n<text text-anchor=\"middle\" x=\"1037.5\" y=\"-408.8\" font-family=\"Helvetica,sans-Serif\" font-size=\"14.00\" fill=\"#000000\">value = [3, 6]</text>\n</g>\n<!-- 49&#45;&gt;55 -->\n<g id=\"edge55\" class=\"edge\">\n<title>49&#45;&gt;55</title>\n<path fill=\"none\" stroke=\"#000000\" d=\"M1037.5,-504.9465C1037.5,-496.776 1037.5,-487.9318 1037.5,-479.3697\"/>\n<polygon fill=\"#000000\" stroke=\"#000000\" points=\"1041.0001,-479.13 1037.5,-469.13 1034.0001,-479.13 1041.0001,-479.13\"/>\n</g>\n<!-- 51 -->\n<g id=\"node52\" class=\"node\">\n<title>51</title>\n<polygon fill=\"#399de5\" stroke=\"#000000\" points=\"783,-357.5 676,-357.5 676,-304.5 783,-304.5 783,-357.5\"/>\n<text text-anchor=\"middle\" x=\"729.5\" y=\"-342.3\" font-family=\"Helvetica,sans-Serif\" font-size=\"14.00\" fill=\"#000000\">entropy = 0.0</text>\n<text text-anchor=\"middle\" x=\"729.5\" y=\"-327.3\" font-family=\"Helvetica,sans-Serif\" font-size=\"14.00\" fill=\"#000000\">samples = 29</text>\n<text text-anchor=\"middle\" x=\"729.5\" y=\"-312.3\" font-family=\"Helvetica,sans-Serif\" font-size=\"14.00\" fill=\"#000000\">value = [0, 29]</text>\n</g>\n<!-- 50&#45;&gt;51 -->\n<g id=\"edge51\" class=\"edge\">\n<title>50&#45;&gt;51</title>\n<path fill=\"none\" stroke=\"#000000\" d=\"M814.9155,-400.9465C800.3885,-389.0504 784.1173,-375.726 769.7049,-363.9237\"/>\n<polygon fill=\"#000000\" stroke=\"#000000\" points=\"771.8665,-361.17 761.9121,-357.5422 767.4314,-366.5858 771.8665,-361.17\"/>\n</g>\n<!-- 52 -->\n<g id=\"node53\" class=\"node\">\n<title>52</title>\n<polygon fill=\"#61b1ea\" stroke=\"#000000\" points=\"911.5,-365 801.5,-365 801.5,-297 911.5,-297 911.5,-365\"/>\n<text text-anchor=\"middle\" x=\"856.5\" y=\"-349.8\" font-family=\"Helvetica,sans-Serif\" font-size=\"14.00\" fill=\"#000000\">X[9] &lt;= 1.6</text>\n<text text-anchor=\"middle\" x=\"856.5\" y=\"-334.8\" font-family=\"Helvetica,sans-Serif\" font-size=\"14.00\" fill=\"#000000\">entropy = 0.65</text>\n<text text-anchor=\"middle\" x=\"856.5\" y=\"-319.8\" font-family=\"Helvetica,sans-Serif\" font-size=\"14.00\" fill=\"#000000\">samples = 6</text>\n<text text-anchor=\"middle\" x=\"856.5\" y=\"-304.8\" font-family=\"Helvetica,sans-Serif\" font-size=\"14.00\" fill=\"#000000\">value = [1, 5]</text>\n</g>\n<!-- 50&#45;&gt;52 -->\n<g id=\"edge52\" class=\"edge\">\n<title>50&#45;&gt;52</title>\n<path fill=\"none\" stroke=\"#000000\" d=\"M856.5,-400.9465C856.5,-392.776 856.5,-383.9318 856.5,-375.3697\"/>\n<polygon fill=\"#000000\" stroke=\"#000000\" points=\"860.0001,-375.13 856.5,-365.13 853.0001,-375.13 860.0001,-375.13\"/>\n</g>\n<!-- 53 -->\n<g id=\"node54\" class=\"node\">\n<title>53</title>\n<polygon fill=\"#e58139\" stroke=\"#000000\" points=\"791,-253.5 690,-253.5 690,-200.5 791,-200.5 791,-253.5\"/>\n<text text-anchor=\"middle\" x=\"740.5\" y=\"-238.3\" font-family=\"Helvetica,sans-Serif\" font-size=\"14.00\" fill=\"#000000\">entropy = 0.0</text>\n<text text-anchor=\"middle\" x=\"740.5\" y=\"-223.3\" font-family=\"Helvetica,sans-Serif\" font-size=\"14.00\" fill=\"#000000\">samples = 1</text>\n<text text-anchor=\"middle\" x=\"740.5\" y=\"-208.3\" font-family=\"Helvetica,sans-Serif\" font-size=\"14.00\" fill=\"#000000\">value = [1, 0]</text>\n</g>\n<!-- 52&#45;&gt;53 -->\n<g id=\"edge53\" class=\"edge\">\n<title>52&#45;&gt;53</title>\n<path fill=\"none\" stroke=\"#000000\" d=\"M818.5173,-296.9465C805.3714,-285.1606 790.6618,-271.9726 777.5887,-260.2519\"/>\n<polygon fill=\"#000000\" stroke=\"#000000\" points=\"779.8869,-257.6116 770.1047,-253.5422 775.214,-262.8236 779.8869,-257.6116\"/>\n</g>\n<!-- 54 -->\n<g id=\"node55\" class=\"node\">\n<title>54</title>\n<polygon fill=\"#399de5\" stroke=\"#000000\" points=\"910,-253.5 809,-253.5 809,-200.5 910,-200.5 910,-253.5\"/>\n<text text-anchor=\"middle\" x=\"859.5\" y=\"-238.3\" font-family=\"Helvetica,sans-Serif\" font-size=\"14.00\" fill=\"#000000\">entropy = 0.0</text>\n<text text-anchor=\"middle\" x=\"859.5\" y=\"-223.3\" font-family=\"Helvetica,sans-Serif\" font-size=\"14.00\" fill=\"#000000\">samples = 5</text>\n<text text-anchor=\"middle\" x=\"859.5\" y=\"-208.3\" font-family=\"Helvetica,sans-Serif\" font-size=\"14.00\" fill=\"#000000\">value = [0, 5]</text>\n</g>\n<!-- 52&#45;&gt;54 -->\n<g id=\"edge54\" class=\"edge\">\n<title>52&#45;&gt;54</title>\n<path fill=\"none\" stroke=\"#000000\" d=\"M857.4823,-296.9465C857.7905,-286.2621 858.132,-274.4254 858.445,-263.5742\"/>\n<polygon fill=\"#000000\" stroke=\"#000000\" points=\"861.9445,-263.639 858.7344,-253.5422 854.9474,-263.4371 861.9445,-263.639\"/>\n</g>\n<!-- 56 -->\n<g id=\"node57\" class=\"node\">\n<title>56</title>\n<polygon fill=\"#7bbeee\" stroke=\"#000000\" points=\"1047.5,-365 929.5,-365 929.5,-297 1047.5,-297 1047.5,-365\"/>\n<text text-anchor=\"middle\" x=\"988.5\" y=\"-349.8\" font-family=\"Helvetica,sans-Serif\" font-size=\"14.00\" fill=\"#000000\">X[7] &lt;= 98.0</text>\n<text text-anchor=\"middle\" x=\"988.5\" y=\"-334.8\" font-family=\"Helvetica,sans-Serif\" font-size=\"14.00\" fill=\"#000000\">entropy = 0.811</text>\n<text text-anchor=\"middle\" x=\"988.5\" y=\"-319.8\" font-family=\"Helvetica,sans-Serif\" font-size=\"14.00\" fill=\"#000000\">samples = 8</text>\n<text text-anchor=\"middle\" x=\"988.5\" y=\"-304.8\" font-family=\"Helvetica,sans-Serif\" font-size=\"14.00\" fill=\"#000000\">value = [2, 6]</text>\n</g>\n<!-- 55&#45;&gt;56 -->\n<g id=\"edge56\" class=\"edge\">\n<title>55&#45;&gt;56</title>\n<path fill=\"none\" stroke=\"#000000\" d=\"M1021.4556,-400.9465C1017.4368,-392.4169 1013.0721,-383.153 1008.8738,-374.2424\"/>\n<polygon fill=\"#000000\" stroke=\"#000000\" points=\"1012.0089,-372.6844 1004.5805,-365.13 1005.6765,-375.668 1012.0089,-372.6844\"/>\n</g>\n<!-- 63 -->\n<g id=\"node64\" class=\"node\">\n<title>63</title>\n<polygon fill=\"#e58139\" stroke=\"#000000\" points=\"1167,-357.5 1066,-357.5 1066,-304.5 1167,-304.5 1167,-357.5\"/>\n<text text-anchor=\"middle\" x=\"1116.5\" y=\"-342.3\" font-family=\"Helvetica,sans-Serif\" font-size=\"14.00\" fill=\"#000000\">entropy = 0.0</text>\n<text text-anchor=\"middle\" x=\"1116.5\" y=\"-327.3\" font-family=\"Helvetica,sans-Serif\" font-size=\"14.00\" fill=\"#000000\">samples = 1</text>\n<text text-anchor=\"middle\" x=\"1116.5\" y=\"-312.3\" font-family=\"Helvetica,sans-Serif\" font-size=\"14.00\" fill=\"#000000\">value = [1, 0]</text>\n</g>\n<!-- 55&#45;&gt;63 -->\n<g id=\"edge63\" class=\"edge\">\n<title>55&#45;&gt;63</title>\n<path fill=\"none\" stroke=\"#000000\" d=\"M1063.3676,-400.9465C1071.9857,-389.6012 1081.5906,-376.9567 1090.2383,-365.5724\"/>\n<polygon fill=\"#000000\" stroke=\"#000000\" points=\"1093.0763,-367.6224 1096.3382,-357.5422 1087.5021,-363.3882 1093.0763,-367.6224\"/>\n</g>\n<!-- 57 -->\n<g id=\"node58\" class=\"node\">\n<title>57</title>\n<polygon fill=\"#e58139\" stroke=\"#000000\" points=\"1033,-253.5 932,-253.5 932,-200.5 1033,-200.5 1033,-253.5\"/>\n<text text-anchor=\"middle\" x=\"982.5\" y=\"-238.3\" font-family=\"Helvetica,sans-Serif\" font-size=\"14.00\" fill=\"#000000\">entropy = 0.0</text>\n<text text-anchor=\"middle\" x=\"982.5\" y=\"-223.3\" font-family=\"Helvetica,sans-Serif\" font-size=\"14.00\" fill=\"#000000\">samples = 1</text>\n<text text-anchor=\"middle\" x=\"982.5\" y=\"-208.3\" font-family=\"Helvetica,sans-Serif\" font-size=\"14.00\" fill=\"#000000\">value = [1, 0]</text>\n</g>\n<!-- 56&#45;&gt;57 -->\n<g id=\"edge57\" class=\"edge\">\n<title>56&#45;&gt;57</title>\n<path fill=\"none\" stroke=\"#000000\" d=\"M986.5354,-296.9465C985.919,-286.2621 985.2361,-274.4254 984.6101,-263.5742\"/>\n<polygon fill=\"#000000\" stroke=\"#000000\" points=\"988.1015,-263.3239 984.0313,-253.5422 981.1131,-263.7272 988.1015,-263.3239\"/>\n</g>\n<!-- 58 -->\n<g id=\"node59\" class=\"node\">\n<title>58</title>\n<polygon fill=\"#5aade9\" stroke=\"#000000\" points=\"1169.5,-261 1051.5,-261 1051.5,-193 1169.5,-193 1169.5,-261\"/>\n<text text-anchor=\"middle\" x=\"1110.5\" y=\"-245.8\" font-family=\"Helvetica,sans-Serif\" font-size=\"14.00\" fill=\"#000000\">X[3] &lt;= 127.0</text>\n<text text-anchor=\"middle\" x=\"1110.5\" y=\"-230.8\" font-family=\"Helvetica,sans-Serif\" font-size=\"14.00\" fill=\"#000000\">entropy = 0.592</text>\n<text text-anchor=\"middle\" x=\"1110.5\" y=\"-215.8\" font-family=\"Helvetica,sans-Serif\" font-size=\"14.00\" fill=\"#000000\">samples = 7</text>\n<text text-anchor=\"middle\" x=\"1110.5\" y=\"-200.8\" font-family=\"Helvetica,sans-Serif\" font-size=\"14.00\" fill=\"#000000\">value = [1, 6]</text>\n</g>\n<!-- 56&#45;&gt;58 -->\n<g id=\"edge58\" class=\"edge\">\n<title>56&#45;&gt;58</title>\n<path fill=\"none\" stroke=\"#000000\" d=\"M1028.4474,-296.9465C1039.4012,-287.6088 1051.3873,-277.3911 1062.732,-267.7203\"/>\n<polygon fill=\"#000000\" stroke=\"#000000\" points=\"1065.1233,-270.2809 1070.4629,-261.13 1060.5821,-264.9538 1065.1233,-270.2809\"/>\n</g>\n<!-- 59 -->\n<g id=\"node60\" class=\"node\">\n<title>59</title>\n<polygon fill=\"#ffffff\" stroke=\"#000000\" points=\"1102,-157 999,-157 999,-89 1102,-89 1102,-157\"/>\n<text text-anchor=\"middle\" x=\"1050.5\" y=\"-141.8\" font-family=\"Helvetica,sans-Serif\" font-size=\"14.00\" fill=\"#000000\">X[3] &lt;= 123.0</text>\n<text text-anchor=\"middle\" x=\"1050.5\" y=\"-126.8\" font-family=\"Helvetica,sans-Serif\" font-size=\"14.00\" fill=\"#000000\">entropy = 1.0</text>\n<text text-anchor=\"middle\" x=\"1050.5\" y=\"-111.8\" font-family=\"Helvetica,sans-Serif\" font-size=\"14.00\" fill=\"#000000\">samples = 2</text>\n<text text-anchor=\"middle\" x=\"1050.5\" y=\"-96.8\" font-family=\"Helvetica,sans-Serif\" font-size=\"14.00\" fill=\"#000000\">value = [1, 1]</text>\n</g>\n<!-- 58&#45;&gt;59 -->\n<g id=\"edge59\" class=\"edge\">\n<title>58&#45;&gt;59</title>\n<path fill=\"none\" stroke=\"#000000\" d=\"M1090.8538,-192.9465C1085.881,-184.3271 1080.4757,-174.9579 1075.2852,-165.9611\"/>\n<polygon fill=\"#000000\" stroke=\"#000000\" points=\"1078.2193,-164.0428 1070.1904,-157.13 1072.156,-167.5409 1078.2193,-164.0428\"/>\n</g>\n<!-- 62 -->\n<g id=\"node63\" class=\"node\">\n<title>62</title>\n<polygon fill=\"#399de5\" stroke=\"#000000\" points=\"1221,-149.5 1120,-149.5 1120,-96.5 1221,-96.5 1221,-149.5\"/>\n<text text-anchor=\"middle\" x=\"1170.5\" y=\"-134.3\" font-family=\"Helvetica,sans-Serif\" font-size=\"14.00\" fill=\"#000000\">entropy = 0.0</text>\n<text text-anchor=\"middle\" x=\"1170.5\" y=\"-119.3\" font-family=\"Helvetica,sans-Serif\" font-size=\"14.00\" fill=\"#000000\">samples = 5</text>\n<text text-anchor=\"middle\" x=\"1170.5\" y=\"-104.3\" font-family=\"Helvetica,sans-Serif\" font-size=\"14.00\" fill=\"#000000\">value = [0, 5]</text>\n</g>\n<!-- 58&#45;&gt;62 -->\n<g id=\"edge62\" class=\"edge\">\n<title>58&#45;&gt;62</title>\n<path fill=\"none\" stroke=\"#000000\" d=\"M1130.1462,-192.9465C1136.5645,-181.8215 1143.7035,-169.4473 1150.171,-158.237\"/>\n<polygon fill=\"#000000\" stroke=\"#000000\" points=\"1153.2216,-159.9531 1155.1872,-149.5422 1147.1583,-156.455 1153.2216,-159.9531\"/>\n</g>\n<!-- 60 -->\n<g id=\"node61\" class=\"node\">\n<title>60</title>\n<polygon fill=\"#399de5\" stroke=\"#000000\" points=\"1042,-53 941,-53 941,0 1042,0 1042,-53\"/>\n<text text-anchor=\"middle\" x=\"991.5\" y=\"-37.8\" font-family=\"Helvetica,sans-Serif\" font-size=\"14.00\" fill=\"#000000\">entropy = 0.0</text>\n<text text-anchor=\"middle\" x=\"991.5\" y=\"-22.8\" font-family=\"Helvetica,sans-Serif\" font-size=\"14.00\" fill=\"#000000\">samples = 1</text>\n<text text-anchor=\"middle\" x=\"991.5\" y=\"-7.8\" font-family=\"Helvetica,sans-Serif\" font-size=\"14.00\" fill=\"#000000\">value = [0, 1]</text>\n</g>\n<!-- 59&#45;&gt;60 -->\n<g id=\"edge60\" class=\"edge\">\n<title>59&#45;&gt;60</title>\n<path fill=\"none\" stroke=\"#000000\" d=\"M1029.6988,-88.9777C1024.3242,-80.187 1018.5265,-70.7044 1013.1115,-61.8477\"/>\n<polygon fill=\"#000000\" stroke=\"#000000\" points=\"1016.0564,-59.9545 1007.854,-53.2485 1010.0842,-63.6059 1016.0564,-59.9545\"/>\n</g>\n<!-- 61 -->\n<g id=\"node62\" class=\"node\">\n<title>61</title>\n<polygon fill=\"#e58139\" stroke=\"#000000\" points=\"1161,-53 1060,-53 1060,0 1161,0 1161,-53\"/>\n<text text-anchor=\"middle\" x=\"1110.5\" y=\"-37.8\" font-family=\"Helvetica,sans-Serif\" font-size=\"14.00\" fill=\"#000000\">entropy = 0.0</text>\n<text text-anchor=\"middle\" x=\"1110.5\" y=\"-22.8\" font-family=\"Helvetica,sans-Serif\" font-size=\"14.00\" fill=\"#000000\">samples = 1</text>\n<text text-anchor=\"middle\" x=\"1110.5\" y=\"-7.8\" font-family=\"Helvetica,sans-Serif\" font-size=\"14.00\" fill=\"#000000\">value = [1, 0]</text>\n</g>\n<!-- 59&#45;&gt;61 -->\n<g id=\"edge61\" class=\"edge\">\n<title>59&#45;&gt;61</title>\n<path fill=\"none\" stroke=\"#000000\" d=\"M1071.6538,-88.9777C1077.1195,-80.187 1083.0154,-70.7044 1088.5222,-61.8477\"/>\n<polygon fill=\"#000000\" stroke=\"#000000\" points=\"1091.5609,-63.5889 1093.8688,-53.2485 1085.6163,-59.8927 1091.5609,-63.5889\"/>\n</g>\n<!-- 65 -->\n<g id=\"node66\" class=\"node\">\n<title>65</title>\n<polygon fill=\"#399de5\" stroke=\"#000000\" points=\"1224,-461.5 1117,-461.5 1117,-408.5 1224,-408.5 1224,-461.5\"/>\n<text text-anchor=\"middle\" x=\"1170.5\" y=\"-446.3\" font-family=\"Helvetica,sans-Serif\" font-size=\"14.00\" fill=\"#000000\">entropy = 0.0</text>\n<text text-anchor=\"middle\" x=\"1170.5\" y=\"-431.3\" font-family=\"Helvetica,sans-Serif\" font-size=\"14.00\" fill=\"#000000\">samples = 77</text>\n<text text-anchor=\"middle\" x=\"1170.5\" y=\"-416.3\" font-family=\"Helvetica,sans-Serif\" font-size=\"14.00\" fill=\"#000000\">value = [0, 77]</text>\n</g>\n<!-- 64&#45;&gt;65 -->\n<g id=\"edge65\" class=\"edge\">\n<title>64&#45;&gt;65</title>\n<path fill=\"none\" stroke=\"#000000\" d=\"M1172.5177,-504.9465C1172.2095,-494.2621 1171.868,-482.4254 1171.555,-471.5742\"/>\n<polygon fill=\"#000000\" stroke=\"#000000\" points=\"1175.0526,-471.4371 1171.2656,-461.5422 1168.0555,-471.639 1175.0526,-471.4371\"/>\n</g>\n<!-- 66 -->\n<g id=\"node67\" class=\"node\">\n<title>66</title>\n<polygon fill=\"#61b1ea\" stroke=\"#000000\" points=\"1352.5,-469 1242.5,-469 1242.5,-401 1352.5,-401 1352.5,-469\"/>\n<text text-anchor=\"middle\" x=\"1297.5\" y=\"-453.8\" font-family=\"Helvetica,sans-Serif\" font-size=\"14.00\" fill=\"#000000\">X[4] &lt;= 61.5</text>\n<text text-anchor=\"middle\" x=\"1297.5\" y=\"-438.8\" font-family=\"Helvetica,sans-Serif\" font-size=\"14.00\" fill=\"#000000\">entropy = 0.65</text>\n<text text-anchor=\"middle\" x=\"1297.5\" y=\"-423.8\" font-family=\"Helvetica,sans-Serif\" font-size=\"14.00\" fill=\"#000000\">samples = 6</text>\n<text text-anchor=\"middle\" x=\"1297.5\" y=\"-408.8\" font-family=\"Helvetica,sans-Serif\" font-size=\"14.00\" fill=\"#000000\">value = [1, 5]</text>\n</g>\n<!-- 64&#45;&gt;66 -->\n<g id=\"edge66\" class=\"edge\">\n<title>64&#45;&gt;66</title>\n<path fill=\"none\" stroke=\"#000000\" d=\"M1214.1022,-504.9465C1225.2356,-495.6088 1237.4183,-485.3911 1248.9489,-475.7203\"/>\n<polygon fill=\"#000000\" stroke=\"#000000\" points=\"1251.3938,-478.2378 1256.8065,-469.13 1246.8954,-472.8745 1251.3938,-478.2378\"/>\n</g>\n<!-- 67 -->\n<g id=\"node68\" class=\"node\">\n<title>67</title>\n<polygon fill=\"#e58139\" stroke=\"#000000\" points=\"1286,-357.5 1185,-357.5 1185,-304.5 1286,-304.5 1286,-357.5\"/>\n<text text-anchor=\"middle\" x=\"1235.5\" y=\"-342.3\" font-family=\"Helvetica,sans-Serif\" font-size=\"14.00\" fill=\"#000000\">entropy = 0.0</text>\n<text text-anchor=\"middle\" x=\"1235.5\" y=\"-327.3\" font-family=\"Helvetica,sans-Serif\" font-size=\"14.00\" fill=\"#000000\">samples = 1</text>\n<text text-anchor=\"middle\" x=\"1235.5\" y=\"-312.3\" font-family=\"Helvetica,sans-Serif\" font-size=\"14.00\" fill=\"#000000\">value = [1, 0]</text>\n</g>\n<!-- 66&#45;&gt;67 -->\n<g id=\"edge67\" class=\"edge\">\n<title>66&#45;&gt;67</title>\n<path fill=\"none\" stroke=\"#000000\" d=\"M1277.1989,-400.9465C1270.5666,-389.8215 1263.1897,-377.4473 1256.5067,-366.237\"/>\n<polygon fill=\"#000000\" stroke=\"#000000\" points=\"1259.4502,-364.3394 1251.3232,-357.5422 1253.4376,-367.9239 1259.4502,-364.3394\"/>\n</g>\n<!-- 68 -->\n<g id=\"node69\" class=\"node\">\n<title>68</title>\n<polygon fill=\"#399de5\" stroke=\"#000000\" points=\"1405,-357.5 1304,-357.5 1304,-304.5 1405,-304.5 1405,-357.5\"/>\n<text text-anchor=\"middle\" x=\"1354.5\" y=\"-342.3\" font-family=\"Helvetica,sans-Serif\" font-size=\"14.00\" fill=\"#000000\">entropy = 0.0</text>\n<text text-anchor=\"middle\" x=\"1354.5\" y=\"-327.3\" font-family=\"Helvetica,sans-Serif\" font-size=\"14.00\" fill=\"#000000\">samples = 5</text>\n<text text-anchor=\"middle\" x=\"1354.5\" y=\"-312.3\" font-family=\"Helvetica,sans-Serif\" font-size=\"14.00\" fill=\"#000000\">value = [0, 5]</text>\n</g>\n<!-- 66&#45;&gt;68 -->\n<g id=\"edge68\" class=\"edge\">\n<title>66&#45;&gt;68</title>\n<path fill=\"none\" stroke=\"#000000\" d=\"M1316.1639,-400.9465C1322.2009,-389.9316 1328.9091,-377.6922 1335.0047,-366.5703\"/>\n<polygon fill=\"#000000\" stroke=\"#000000\" points=\"1338.2158,-367.9936 1339.9529,-357.5422 1332.0773,-364.6292 1338.2158,-367.9936\"/>\n</g>\n<!-- 70 -->\n<g id=\"node71\" class=\"node\">\n<title>70</title>\n<polygon fill=\"#72b9ec\" stroke=\"#000000\" points=\"1368.5,-573 1250.5,-573 1250.5,-505 1368.5,-505 1368.5,-573\"/>\n<text text-anchor=\"middle\" x=\"1309.5\" y=\"-557.8\" font-family=\"Helvetica,sans-Serif\" font-size=\"14.00\" fill=\"#000000\">X[9] &lt;= 1.25</text>\n<text text-anchor=\"middle\" x=\"1309.5\" y=\"-542.8\" font-family=\"Helvetica,sans-Serif\" font-size=\"14.00\" fill=\"#000000\">entropy = 0.764</text>\n<text text-anchor=\"middle\" x=\"1309.5\" y=\"-527.8\" font-family=\"Helvetica,sans-Serif\" font-size=\"14.00\" fill=\"#000000\">samples = 9</text>\n<text text-anchor=\"middle\" x=\"1309.5\" y=\"-512.8\" font-family=\"Helvetica,sans-Serif\" font-size=\"14.00\" fill=\"#000000\">value = [2, 7]</text>\n</g>\n<!-- 69&#45;&gt;70 -->\n<g id=\"edge70\" class=\"edge\">\n<title>69&#45;&gt;70</title>\n<path fill=\"none\" stroke=\"#000000\" d=\"M1309.5,-608.9465C1309.5,-600.776 1309.5,-591.9318 1309.5,-583.3697\"/>\n<polygon fill=\"#000000\" stroke=\"#000000\" points=\"1313.0001,-583.13 1309.5,-573.13 1306.0001,-583.13 1313.0001,-583.13\"/>\n</g>\n<!-- 75 -->\n<g id=\"node76\" class=\"node\">\n<title>75</title>\n<polygon fill=\"#e58139\" stroke=\"#000000\" points=\"1488,-565.5 1387,-565.5 1387,-512.5 1488,-512.5 1488,-565.5\"/>\n<text text-anchor=\"middle\" x=\"1437.5\" y=\"-550.3\" font-family=\"Helvetica,sans-Serif\" font-size=\"14.00\" fill=\"#000000\">entropy = 0.0</text>\n<text text-anchor=\"middle\" x=\"1437.5\" y=\"-535.3\" font-family=\"Helvetica,sans-Serif\" font-size=\"14.00\" fill=\"#000000\">samples = 1</text>\n<text text-anchor=\"middle\" x=\"1437.5\" y=\"-520.3\" font-family=\"Helvetica,sans-Serif\" font-size=\"14.00\" fill=\"#000000\">value = [1, 0]</text>\n</g>\n<!-- 69&#45;&gt;75 -->\n<g id=\"edge75\" class=\"edge\">\n<title>69&#45;&gt;75</title>\n<path fill=\"none\" stroke=\"#000000\" d=\"M1351.412,-608.9465C1366.0533,-597.0504 1382.4526,-583.726 1396.9785,-571.9237\"/>\n<polygon fill=\"#000000\" stroke=\"#000000\" points=\"1399.2786,-574.5645 1404.8327,-565.5422 1394.8645,-569.1317 1399.2786,-574.5645\"/>\n</g>\n<!-- 71 -->\n<g id=\"node72\" class=\"node\">\n<title>71</title>\n<polygon fill=\"#f2c09c\" stroke=\"#000000\" points=\"1510.5,-469 1392.5,-469 1392.5,-401 1510.5,-401 1510.5,-469\"/>\n<text text-anchor=\"middle\" x=\"1451.5\" y=\"-453.8\" font-family=\"Helvetica,sans-Serif\" font-size=\"14.00\" fill=\"#000000\">X[4] &lt;= 530.5</text>\n<text text-anchor=\"middle\" x=\"1451.5\" y=\"-438.8\" font-family=\"Helvetica,sans-Serif\" font-size=\"14.00\" fill=\"#000000\">entropy = 0.918</text>\n<text text-anchor=\"middle\" x=\"1451.5\" y=\"-423.8\" font-family=\"Helvetica,sans-Serif\" font-size=\"14.00\" fill=\"#000000\">samples = 3</text>\n<text text-anchor=\"middle\" x=\"1451.5\" y=\"-408.8\" font-family=\"Helvetica,sans-Serif\" font-size=\"14.00\" fill=\"#000000\">value = [2, 1]</text>\n</g>\n<!-- 70&#45;&gt;71 -->\n<g id=\"edge71\" class=\"edge\">\n<title>70&#45;&gt;71</title>\n<path fill=\"none\" stroke=\"#000000\" d=\"M1355.9961,-504.9465C1368.9908,-495.4293 1383.2337,-484.9978 1396.6621,-475.163\"/>\n<polygon fill=\"#000000\" stroke=\"#000000\" points=\"1398.8998,-477.8624 1404.8994,-469.13 1394.7637,-472.2151 1398.8998,-477.8624\"/>\n</g>\n<!-- 74 -->\n<g id=\"node75\" class=\"node\">\n<title>74</title>\n<polygon fill=\"#399de5\" stroke=\"#000000\" points=\"1630,-461.5 1529,-461.5 1529,-408.5 1630,-408.5 1630,-461.5\"/>\n<text text-anchor=\"middle\" x=\"1579.5\" y=\"-446.3\" font-family=\"Helvetica,sans-Serif\" font-size=\"14.00\" fill=\"#000000\">entropy = 0.0</text>\n<text text-anchor=\"middle\" x=\"1579.5\" y=\"-431.3\" font-family=\"Helvetica,sans-Serif\" font-size=\"14.00\" fill=\"#000000\">samples = 6</text>\n<text text-anchor=\"middle\" x=\"1579.5\" y=\"-416.3\" font-family=\"Helvetica,sans-Serif\" font-size=\"14.00\" fill=\"#000000\">value = [0, 6]</text>\n</g>\n<!-- 70&#45;&gt;74 -->\n<g id=\"edge74\" class=\"edge\">\n<title>70&#45;&gt;74</title>\n<path fill=\"none\" stroke=\"#000000\" d=\"M1368.5034,-508.5605C1371.5207,-507.2998 1374.5308,-506.104 1377.5,-505 1438.5261,-482.3101 1459.0832,-493.2658 1519.5,-469 1521.8332,-468.0629 1524.1873,-467.0508 1526.5432,-465.9822\"/>\n<polygon fill=\"#000000\" stroke=\"#000000\" points=\"1528.1083,-469.1132 1535.5988,-461.6203 1525.0706,-462.8067 1528.1083,-469.1132\"/>\n</g>\n<!-- 72 -->\n<g id=\"node73\" class=\"node\">\n<title>72</title>\n<polygon fill=\"#e58139\" stroke=\"#000000\" points=\"1524,-357.5 1423,-357.5 1423,-304.5 1524,-304.5 1524,-357.5\"/>\n<text text-anchor=\"middle\" x=\"1473.5\" y=\"-342.3\" font-family=\"Helvetica,sans-Serif\" font-size=\"14.00\" fill=\"#000000\">entropy = 0.0</text>\n<text text-anchor=\"middle\" x=\"1473.5\" y=\"-327.3\" font-family=\"Helvetica,sans-Serif\" font-size=\"14.00\" fill=\"#000000\">samples = 2</text>\n<text text-anchor=\"middle\" x=\"1473.5\" y=\"-312.3\" font-family=\"Helvetica,sans-Serif\" font-size=\"14.00\" fill=\"#000000\">value = [2, 0]</text>\n</g>\n<!-- 71&#45;&gt;72 -->\n<g id=\"edge72\" class=\"edge\">\n<title>71&#45;&gt;72</title>\n<path fill=\"none\" stroke=\"#000000\" d=\"M1458.7036,-400.9465C1460.9638,-390.2621 1463.4677,-378.4254 1465.7631,-367.5742\"/>\n<polygon fill=\"#000000\" stroke=\"#000000\" points=\"1469.2399,-368.05 1467.8853,-357.5422 1462.3914,-366.6013 1469.2399,-368.05\"/>\n</g>\n<!-- 73 -->\n<g id=\"node74\" class=\"node\">\n<title>73</title>\n<polygon fill=\"#399de5\" stroke=\"#000000\" points=\"1643,-357.5 1542,-357.5 1542,-304.5 1643,-304.5 1643,-357.5\"/>\n<text text-anchor=\"middle\" x=\"1592.5\" y=\"-342.3\" font-family=\"Helvetica,sans-Serif\" font-size=\"14.00\" fill=\"#000000\">entropy = 0.0</text>\n<text text-anchor=\"middle\" x=\"1592.5\" y=\"-327.3\" font-family=\"Helvetica,sans-Serif\" font-size=\"14.00\" fill=\"#000000\">samples = 1</text>\n<text text-anchor=\"middle\" x=\"1592.5\" y=\"-312.3\" font-family=\"Helvetica,sans-Serif\" font-size=\"14.00\" fill=\"#000000\">value = [0, 1]</text>\n</g>\n<!-- 71&#45;&gt;73 -->\n<g id=\"edge73\" class=\"edge\">\n<title>71&#45;&gt;73</title>\n<path fill=\"none\" stroke=\"#000000\" d=\"M1497.6687,-400.9465C1513.9464,-388.9403 1532.1965,-375.4791 1548.307,-363.5962\"/>\n<polygon fill=\"#000000\" stroke=\"#000000\" points=\"1550.5448,-366.2948 1556.515,-357.5422 1546.3897,-360.6614 1550.5448,-366.2948\"/>\n</g>\n<!-- 77 -->\n<g id=\"node78\" class=\"node\">\n<title>77</title>\n<polygon fill=\"#48a4e7\" stroke=\"#000000\" points=\"1796.5,-989 1678.5,-989 1678.5,-921 1796.5,-921 1796.5,-989\"/>\n<text text-anchor=\"middle\" x=\"1737.5\" y=\"-973.8\" font-family=\"Helvetica,sans-Serif\" font-size=\"14.00\" fill=\"#000000\">X[3] &lt;= 112.0</text>\n<text text-anchor=\"middle\" x=\"1737.5\" y=\"-958.8\" font-family=\"Helvetica,sans-Serif\" font-size=\"14.00\" fill=\"#000000\">entropy = 0.367</text>\n<text text-anchor=\"middle\" x=\"1737.5\" y=\"-943.8\" font-family=\"Helvetica,sans-Serif\" font-size=\"14.00\" fill=\"#000000\">samples = 57</text>\n<text text-anchor=\"middle\" x=\"1737.5\" y=\"-928.8\" font-family=\"Helvetica,sans-Serif\" font-size=\"14.00\" fill=\"#000000\">value = [4, 53]</text>\n</g>\n<!-- 76&#45;&gt;77 -->\n<g id=\"edge77\" class=\"edge\">\n<title>76&#45;&gt;77</title>\n<path fill=\"none\" stroke=\"#000000\" d=\"M1737.5,-1024.9465C1737.5,-1016.776 1737.5,-1007.9318 1737.5,-999.3697\"/>\n<polygon fill=\"#000000\" stroke=\"#000000\" points=\"1741.0001,-999.13 1737.5,-989.13 1734.0001,-999.13 1741.0001,-999.13\"/>\n</g>\n<!-- 92 -->\n<g id=\"node93\" class=\"node\">\n<title>92</title>\n<polygon fill=\"#94caf1\" stroke=\"#000000\" points=\"1998.5,-989 1880.5,-989 1880.5,-921 1998.5,-921 1998.5,-989\"/>\n<text text-anchor=\"middle\" x=\"1939.5\" y=\"-973.8\" font-family=\"Helvetica,sans-Serif\" font-size=\"14.00\" fill=\"#000000\">X[10] &lt;= 0.5</text>\n<text text-anchor=\"middle\" x=\"1939.5\" y=\"-958.8\" font-family=\"Helvetica,sans-Serif\" font-size=\"14.00\" fill=\"#000000\">entropy = 0.898</text>\n<text text-anchor=\"middle\" x=\"1939.5\" y=\"-943.8\" font-family=\"Helvetica,sans-Serif\" font-size=\"14.00\" fill=\"#000000\">samples = 35</text>\n<text text-anchor=\"middle\" x=\"1939.5\" y=\"-928.8\" font-family=\"Helvetica,sans-Serif\" font-size=\"14.00\" fill=\"#000000\">value = [11, 24]</text>\n</g>\n<!-- 76&#45;&gt;92 -->\n<g id=\"edge92\" class=\"edge\">\n<title>76&#45;&gt;92</title>\n<path fill=\"none\" stroke=\"#000000\" d=\"M1796.7418,-1028.4993C1820.0711,-1016.4881 1847.0082,-1002.6196 1871.1548,-990.1876\"/>\n<polygon fill=\"#000000\" stroke=\"#000000\" points=\"1872.9706,-993.1895 1880.2593,-985.5002 1869.7663,-986.9659 1872.9706,-993.1895\"/>\n</g>\n<!-- 78 -->\n<g id=\"node79\" class=\"node\">\n<title>78</title>\n<polygon fill=\"#83c2ef\" stroke=\"#000000\" points=\"1731.5,-885 1613.5,-885 1613.5,-817 1731.5,-817 1731.5,-885\"/>\n<text text-anchor=\"middle\" x=\"1672.5\" y=\"-869.8\" font-family=\"Helvetica,sans-Serif\" font-size=\"14.00\" fill=\"#000000\">X[4] &lt;= 238.5</text>\n<text text-anchor=\"middle\" x=\"1672.5\" y=\"-854.8\" font-family=\"Helvetica,sans-Serif\" font-size=\"14.00\" fill=\"#000000\">entropy = 0.845</text>\n<text text-anchor=\"middle\" x=\"1672.5\" y=\"-839.8\" font-family=\"Helvetica,sans-Serif\" font-size=\"14.00\" fill=\"#000000\">samples = 11</text>\n<text text-anchor=\"middle\" x=\"1672.5\" y=\"-824.8\" font-family=\"Helvetica,sans-Serif\" font-size=\"14.00\" fill=\"#000000\">value = [3, 8]</text>\n</g>\n<!-- 77&#45;&gt;78 -->\n<g id=\"edge78\" class=\"edge\">\n<title>77&#45;&gt;78</title>\n<path fill=\"none\" stroke=\"#000000\" d=\"M1716.2166,-920.9465C1710.7733,-912.2373 1704.8516,-902.7626 1699.175,-893.6801\"/>\n<polygon fill=\"#000000\" stroke=\"#000000\" points=\"1702.0993,-891.755 1693.8312,-885.13 1696.1633,-895.465 1702.0993,-891.755\"/>\n</g>\n<!-- 85 -->\n<g id=\"node86\" class=\"node\">\n<title>85</title>\n<polygon fill=\"#3d9fe6\" stroke=\"#000000\" points=\"1867.5,-885 1749.5,-885 1749.5,-817 1867.5,-817 1867.5,-885\"/>\n<text text-anchor=\"middle\" x=\"1808.5\" y=\"-869.8\" font-family=\"Helvetica,sans-Serif\" font-size=\"14.00\" fill=\"#000000\">X[9] &lt;= 0.45</text>\n<text text-anchor=\"middle\" x=\"1808.5\" y=\"-854.8\" font-family=\"Helvetica,sans-Serif\" font-size=\"14.00\" fill=\"#000000\">entropy = 0.151</text>\n<text text-anchor=\"middle\" x=\"1808.5\" y=\"-839.8\" font-family=\"Helvetica,sans-Serif\" font-size=\"14.00\" fill=\"#000000\">samples = 46</text>\n<text text-anchor=\"middle\" x=\"1808.5\" y=\"-824.8\" font-family=\"Helvetica,sans-Serif\" font-size=\"14.00\" fill=\"#000000\">value = [1, 45]</text>\n</g>\n<!-- 77&#45;&gt;85 -->\n<g id=\"edge85\" class=\"edge\">\n<title>77&#45;&gt;85</title>\n<path fill=\"none\" stroke=\"#000000\" d=\"M1760.7481,-920.9465C1766.755,-912.1475 1773.2955,-902.5672 1779.5543,-893.3993\"/>\n<polygon fill=\"#000000\" stroke=\"#000000\" points=\"1782.452,-895.3623 1785.1997,-885.13 1776.6707,-891.4155 1782.452,-895.3623\"/>\n</g>\n<!-- 79 -->\n<g id=\"node80\" class=\"node\">\n<title>79</title>\n<polygon fill=\"#cee6f8\" stroke=\"#000000\" points=\"1609.5,-781 1491.5,-781 1491.5,-713 1609.5,-713 1609.5,-781\"/>\n<text text-anchor=\"middle\" x=\"1550.5\" y=\"-765.8\" font-family=\"Helvetica,sans-Serif\" font-size=\"14.00\" fill=\"#000000\">X[4] &lt;= 205.0</text>\n<text text-anchor=\"middle\" x=\"1550.5\" y=\"-750.8\" font-family=\"Helvetica,sans-Serif\" font-size=\"14.00\" fill=\"#000000\">entropy = 0.985</text>\n<text text-anchor=\"middle\" x=\"1550.5\" y=\"-735.8\" font-family=\"Helvetica,sans-Serif\" font-size=\"14.00\" fill=\"#000000\">samples = 7</text>\n<text text-anchor=\"middle\" x=\"1550.5\" y=\"-720.8\" font-family=\"Helvetica,sans-Serif\" font-size=\"14.00\" fill=\"#000000\">value = [3, 4]</text>\n</g>\n<!-- 78&#45;&gt;79 -->\n<g id=\"edge79\" class=\"edge\">\n<title>78&#45;&gt;79</title>\n<path fill=\"none\" stroke=\"#000000\" d=\"M1632.5526,-816.9465C1621.5988,-807.6088 1609.6127,-797.3911 1598.268,-787.7203\"/>\n<polygon fill=\"#000000\" stroke=\"#000000\" points=\"1600.4179,-784.9538 1590.5371,-781.13 1595.8767,-790.2809 1600.4179,-784.9538\"/>\n</g>\n<!-- 84 -->\n<g id=\"node85\" class=\"node\">\n<title>84</title>\n<polygon fill=\"#399de5\" stroke=\"#000000\" points=\"1729,-773.5 1628,-773.5 1628,-720.5 1729,-720.5 1729,-773.5\"/>\n<text text-anchor=\"middle\" x=\"1678.5\" y=\"-758.3\" font-family=\"Helvetica,sans-Serif\" font-size=\"14.00\" fill=\"#000000\">entropy = 0.0</text>\n<text text-anchor=\"middle\" x=\"1678.5\" y=\"-743.3\" font-family=\"Helvetica,sans-Serif\" font-size=\"14.00\" fill=\"#000000\">samples = 4</text>\n<text text-anchor=\"middle\" x=\"1678.5\" y=\"-728.3\" font-family=\"Helvetica,sans-Serif\" font-size=\"14.00\" fill=\"#000000\">value = [0, 4]</text>\n</g>\n<!-- 78&#45;&gt;84 -->\n<g id=\"edge84\" class=\"edge\">\n<title>78&#45;&gt;84</title>\n<path fill=\"none\" stroke=\"#000000\" d=\"M1674.4646,-816.9465C1675.081,-806.2621 1675.7639,-794.4254 1676.3899,-783.5742\"/>\n<polygon fill=\"#000000\" stroke=\"#000000\" points=\"1679.8869,-783.7272 1676.9687,-773.5422 1672.8985,-783.3239 1679.8869,-783.7272\"/>\n</g>\n<!-- 80 -->\n<g id=\"node81\" class=\"node\">\n<title>80</title>\n<polygon fill=\"#6ab6ec\" stroke=\"#000000\" points=\"1612.5,-677 1494.5,-677 1494.5,-609 1612.5,-609 1612.5,-677\"/>\n<text text-anchor=\"middle\" x=\"1553.5\" y=\"-661.8\" font-family=\"Helvetica,sans-Serif\" font-size=\"14.00\" fill=\"#000000\">X[0] &lt;= 49.5</text>\n<text text-anchor=\"middle\" x=\"1553.5\" y=\"-646.8\" font-family=\"Helvetica,sans-Serif\" font-size=\"14.00\" fill=\"#000000\">entropy = 0.722</text>\n<text text-anchor=\"middle\" x=\"1553.5\" y=\"-631.8\" font-family=\"Helvetica,sans-Serif\" font-size=\"14.00\" fill=\"#000000\">samples = 5</text>\n<text text-anchor=\"middle\" x=\"1553.5\" y=\"-616.8\" font-family=\"Helvetica,sans-Serif\" font-size=\"14.00\" fill=\"#000000\">value = [1, 4]</text>\n</g>\n<!-- 79&#45;&gt;80 -->\n<g id=\"edge80\" class=\"edge\">\n<title>79&#45;&gt;80</title>\n<path fill=\"none\" stroke=\"#000000\" d=\"M1551.4823,-712.9465C1551.718,-704.776 1551.9731,-695.9318 1552.2201,-687.3697\"/>\n<polygon fill=\"#000000\" stroke=\"#000000\" points=\"1555.7256,-687.2268 1552.5155,-677.13 1548.7285,-687.0249 1555.7256,-687.2268\"/>\n</g>\n<!-- 83 -->\n<g id=\"node84\" class=\"node\">\n<title>83</title>\n<polygon fill=\"#e58139\" stroke=\"#000000\" points=\"1732,-669.5 1631,-669.5 1631,-616.5 1732,-616.5 1732,-669.5\"/>\n<text text-anchor=\"middle\" x=\"1681.5\" y=\"-654.3\" font-family=\"Helvetica,sans-Serif\" font-size=\"14.00\" fill=\"#000000\">entropy = 0.0</text>\n<text text-anchor=\"middle\" x=\"1681.5\" y=\"-639.3\" font-family=\"Helvetica,sans-Serif\" font-size=\"14.00\" fill=\"#000000\">samples = 2</text>\n<text text-anchor=\"middle\" x=\"1681.5\" y=\"-624.3\" font-family=\"Helvetica,sans-Serif\" font-size=\"14.00\" fill=\"#000000\">value = [2, 0]</text>\n</g>\n<!-- 79&#45;&gt;83 -->\n<g id=\"edge83\" class=\"edge\">\n<title>79&#45;&gt;83</title>\n<path fill=\"none\" stroke=\"#000000\" d=\"M1593.3943,-712.9465C1608.3788,-701.0504 1625.1624,-687.726 1640.0288,-675.9237\"/>\n<polygon fill=\"#000000\" stroke=\"#000000\" points=\"1642.4113,-678.5011 1648.0671,-669.5422 1638.0589,-673.0187 1642.4113,-678.5011\"/>\n</g>\n<!-- 81 -->\n<g id=\"node82\" class=\"node\">\n<title>81</title>\n<polygon fill=\"#399de5\" stroke=\"#000000\" points=\"1607,-565.5 1506,-565.5 1506,-512.5 1607,-512.5 1607,-565.5\"/>\n<text text-anchor=\"middle\" x=\"1556.5\" y=\"-550.3\" font-family=\"Helvetica,sans-Serif\" font-size=\"14.00\" fill=\"#000000\">entropy = 0.0</text>\n<text text-anchor=\"middle\" x=\"1556.5\" y=\"-535.3\" font-family=\"Helvetica,sans-Serif\" font-size=\"14.00\" fill=\"#000000\">samples = 4</text>\n<text text-anchor=\"middle\" x=\"1556.5\" y=\"-520.3\" font-family=\"Helvetica,sans-Serif\" font-size=\"14.00\" fill=\"#000000\">value = [0, 4]</text>\n</g>\n<!-- 80&#45;&gt;81 -->\n<g id=\"edge81\" class=\"edge\">\n<title>80&#45;&gt;81</title>\n<path fill=\"none\" stroke=\"#000000\" d=\"M1554.4823,-608.9465C1554.7905,-598.2621 1555.132,-586.4254 1555.445,-575.5742\"/>\n<polygon fill=\"#000000\" stroke=\"#000000\" points=\"1558.9445,-575.639 1555.7344,-565.5422 1551.9474,-575.4371 1558.9445,-575.639\"/>\n</g>\n<!-- 82 -->\n<g id=\"node83\" class=\"node\">\n<title>82</title>\n<polygon fill=\"#e58139\" stroke=\"#000000\" points=\"1726,-565.5 1625,-565.5 1625,-512.5 1726,-512.5 1726,-565.5\"/>\n<text text-anchor=\"middle\" x=\"1675.5\" y=\"-550.3\" font-family=\"Helvetica,sans-Serif\" font-size=\"14.00\" fill=\"#000000\">entropy = 0.0</text>\n<text text-anchor=\"middle\" x=\"1675.5\" y=\"-535.3\" font-family=\"Helvetica,sans-Serif\" font-size=\"14.00\" fill=\"#000000\">samples = 1</text>\n<text text-anchor=\"middle\" x=\"1675.5\" y=\"-520.3\" font-family=\"Helvetica,sans-Serif\" font-size=\"14.00\" fill=\"#000000\">value = [1, 0]</text>\n</g>\n<!-- 80&#45;&gt;82 -->\n<g id=\"edge82\" class=\"edge\">\n<title>80&#45;&gt;82</title>\n<path fill=\"none\" stroke=\"#000000\" d=\"M1593.4474,-608.9465C1607.2732,-597.1606 1622.7436,-583.9726 1636.4929,-572.2519\"/>\n<polygon fill=\"#000000\" stroke=\"#000000\" points=\"1639.0244,-574.6931 1644.364,-565.5422 1634.4832,-569.366 1639.0244,-574.6931\"/>\n</g>\n<!-- 86 -->\n<g id=\"node87\" class=\"node\">\n<title>86</title>\n<polygon fill=\"#52a9e8\" stroke=\"#000000\" points=\"1865.5,-781 1747.5,-781 1747.5,-713 1865.5,-713 1865.5,-781\"/>\n<text text-anchor=\"middle\" x=\"1806.5\" y=\"-765.8\" font-family=\"Helvetica,sans-Serif\" font-size=\"14.00\" fill=\"#000000\">X[9] &lt;= 0.2</text>\n<text text-anchor=\"middle\" x=\"1806.5\" y=\"-750.8\" font-family=\"Helvetica,sans-Serif\" font-size=\"14.00\" fill=\"#000000\">entropy = 0.503</text>\n<text text-anchor=\"middle\" x=\"1806.5\" y=\"-735.8\" font-family=\"Helvetica,sans-Serif\" font-size=\"14.00\" fill=\"#000000\">samples = 9</text>\n<text text-anchor=\"middle\" x=\"1806.5\" y=\"-720.8\" font-family=\"Helvetica,sans-Serif\" font-size=\"14.00\" fill=\"#000000\">value = [1, 8]</text>\n</g>\n<!-- 85&#45;&gt;86 -->\n<g id=\"edge86\" class=\"edge\">\n<title>85&#45;&gt;86</title>\n<path fill=\"none\" stroke=\"#000000\" d=\"M1807.8451,-816.9465C1807.688,-808.776 1807.5179,-799.9318 1807.3533,-791.3697\"/>\n<polygon fill=\"#000000\" stroke=\"#000000\" points=\"1810.8481,-791.0608 1807.1563,-781.13 1803.8494,-791.1955 1810.8481,-791.0608\"/>\n</g>\n<!-- 91 -->\n<g id=\"node92\" class=\"node\">\n<title>91</title>\n<polygon fill=\"#399de5\" stroke=\"#000000\" points=\"1991,-773.5 1884,-773.5 1884,-720.5 1991,-720.5 1991,-773.5\"/>\n<text text-anchor=\"middle\" x=\"1937.5\" y=\"-758.3\" font-family=\"Helvetica,sans-Serif\" font-size=\"14.00\" fill=\"#000000\">entropy = 0.0</text>\n<text text-anchor=\"middle\" x=\"1937.5\" y=\"-743.3\" font-family=\"Helvetica,sans-Serif\" font-size=\"14.00\" fill=\"#000000\">samples = 37</text>\n<text text-anchor=\"middle\" x=\"1937.5\" y=\"-728.3\" font-family=\"Helvetica,sans-Serif\" font-size=\"14.00\" fill=\"#000000\">value = [0, 37]</text>\n</g>\n<!-- 85&#45;&gt;91 -->\n<g id=\"edge91\" class=\"edge\">\n<title>85&#45;&gt;91</title>\n<path fill=\"none\" stroke=\"#000000\" d=\"M1850.7394,-816.9465C1865.4952,-805.0504 1882.0225,-791.726 1896.662,-779.9237\"/>\n<polygon fill=\"#000000\" stroke=\"#000000\" points=\"1898.9891,-782.5433 1904.5775,-773.5422 1894.5957,-777.0938 1898.9891,-782.5433\"/>\n</g>\n<!-- 87 -->\n<g id=\"node88\" class=\"node\">\n<title>87</title>\n<polygon fill=\"#399de5\" stroke=\"#000000\" points=\"1855,-669.5 1754,-669.5 1754,-616.5 1855,-616.5 1855,-669.5\"/>\n<text text-anchor=\"middle\" x=\"1804.5\" y=\"-654.3\" font-family=\"Helvetica,sans-Serif\" font-size=\"14.00\" fill=\"#000000\">entropy = 0.0</text>\n<text text-anchor=\"middle\" x=\"1804.5\" y=\"-639.3\" font-family=\"Helvetica,sans-Serif\" font-size=\"14.00\" fill=\"#000000\">samples = 7</text>\n<text text-anchor=\"middle\" x=\"1804.5\" y=\"-624.3\" font-family=\"Helvetica,sans-Serif\" font-size=\"14.00\" fill=\"#000000\">value = [0, 7]</text>\n</g>\n<!-- 86&#45;&gt;87 -->\n<g id=\"edge87\" class=\"edge\">\n<title>86&#45;&gt;87</title>\n<path fill=\"none\" stroke=\"#000000\" d=\"M1805.8451,-712.9465C1805.6397,-702.2621 1805.412,-690.4254 1805.2034,-679.5742\"/>\n<polygon fill=\"#000000\" stroke=\"#000000\" points=\"1808.7021,-679.473 1805.0104,-669.5422 1801.7034,-679.6076 1808.7021,-679.473\"/>\n</g>\n<!-- 88 -->\n<g id=\"node89\" class=\"node\">\n<title>88</title>\n<polygon fill=\"#ffffff\" stroke=\"#000000\" points=\"1974,-677 1873,-677 1873,-609 1974,-609 1974,-677\"/>\n<text text-anchor=\"middle\" x=\"1923.5\" y=\"-661.8\" font-family=\"Helvetica,sans-Serif\" font-size=\"14.00\" fill=\"#000000\">X[4] &lt;= 96.0</text>\n<text text-anchor=\"middle\" x=\"1923.5\" y=\"-646.8\" font-family=\"Helvetica,sans-Serif\" font-size=\"14.00\" fill=\"#000000\">entropy = 1.0</text>\n<text text-anchor=\"middle\" x=\"1923.5\" y=\"-631.8\" font-family=\"Helvetica,sans-Serif\" font-size=\"14.00\" fill=\"#000000\">samples = 2</text>\n<text text-anchor=\"middle\" x=\"1923.5\" y=\"-616.8\" font-family=\"Helvetica,sans-Serif\" font-size=\"14.00\" fill=\"#000000\">value = [1, 1]</text>\n</g>\n<!-- 86&#45;&gt;88 -->\n<g id=\"edge88\" class=\"edge\">\n<title>86&#45;&gt;88</title>\n<path fill=\"none\" stroke=\"#000000\" d=\"M1844.8102,-712.9465C1855.2141,-703.6986 1866.589,-693.5876 1877.3757,-683.9994\"/>\n<polygon fill=\"#000000\" stroke=\"#000000\" points=\"1879.9549,-686.3896 1885.1038,-677.13 1875.3044,-681.1577 1879.9549,-686.3896\"/>\n</g>\n<!-- 89 -->\n<g id=\"node90\" class=\"node\">\n<title>89</title>\n<polygon fill=\"#399de5\" stroke=\"#000000\" points=\"1857,-565.5 1756,-565.5 1756,-512.5 1857,-512.5 1857,-565.5\"/>\n<text text-anchor=\"middle\" x=\"1806.5\" y=\"-550.3\" font-family=\"Helvetica,sans-Serif\" font-size=\"14.00\" fill=\"#000000\">entropy = 0.0</text>\n<text text-anchor=\"middle\" x=\"1806.5\" y=\"-535.3\" font-family=\"Helvetica,sans-Serif\" font-size=\"14.00\" fill=\"#000000\">samples = 1</text>\n<text text-anchor=\"middle\" x=\"1806.5\" y=\"-520.3\" font-family=\"Helvetica,sans-Serif\" font-size=\"14.00\" fill=\"#000000\">value = [0, 1]</text>\n</g>\n<!-- 88&#45;&gt;89 -->\n<g id=\"edge89\" class=\"edge\">\n<title>88&#45;&gt;89</title>\n<path fill=\"none\" stroke=\"#000000\" d=\"M1885.1898,-608.9465C1871.9306,-597.1606 1857.0942,-583.9726 1843.9084,-572.2519\"/>\n<polygon fill=\"#000000\" stroke=\"#000000\" points=\"1846.1593,-569.5699 1836.3599,-565.5422 1841.5088,-574.8018 1846.1593,-569.5699\"/>\n</g>\n<!-- 90 -->\n<g id=\"node91\" class=\"node\">\n<title>90</title>\n<polygon fill=\"#e58139\" stroke=\"#000000\" points=\"1976,-565.5 1875,-565.5 1875,-512.5 1976,-512.5 1976,-565.5\"/>\n<text text-anchor=\"middle\" x=\"1925.5\" y=\"-550.3\" font-family=\"Helvetica,sans-Serif\" font-size=\"14.00\" fill=\"#000000\">entropy = 0.0</text>\n<text text-anchor=\"middle\" x=\"1925.5\" y=\"-535.3\" font-family=\"Helvetica,sans-Serif\" font-size=\"14.00\" fill=\"#000000\">samples = 1</text>\n<text text-anchor=\"middle\" x=\"1925.5\" y=\"-520.3\" font-family=\"Helvetica,sans-Serif\" font-size=\"14.00\" fill=\"#000000\">value = [1, 0]</text>\n</g>\n<!-- 88&#45;&gt;90 -->\n<g id=\"edge90\" class=\"edge\">\n<title>88&#45;&gt;90</title>\n<path fill=\"none\" stroke=\"#000000\" d=\"M1924.1549,-608.9465C1924.3603,-598.2621 1924.588,-586.4254 1924.7966,-575.5742\"/>\n<polygon fill=\"#000000\" stroke=\"#000000\" points=\"1928.2966,-575.6076 1924.9896,-565.5422 1921.2979,-575.473 1928.2966,-575.6076\"/>\n</g>\n<!-- 93 -->\n<g id=\"node94\" class=\"node\">\n<title>93</title>\n<polygon fill=\"#e58139\" stroke=\"#000000\" points=\"1990,-877.5 1889,-877.5 1889,-824.5 1990,-824.5 1990,-877.5\"/>\n<text text-anchor=\"middle\" x=\"1939.5\" y=\"-862.3\" font-family=\"Helvetica,sans-Serif\" font-size=\"14.00\" fill=\"#000000\">entropy = 0.0</text>\n<text text-anchor=\"middle\" x=\"1939.5\" y=\"-847.3\" font-family=\"Helvetica,sans-Serif\" font-size=\"14.00\" fill=\"#000000\">samples = 2</text>\n<text text-anchor=\"middle\" x=\"1939.5\" y=\"-832.3\" font-family=\"Helvetica,sans-Serif\" font-size=\"14.00\" fill=\"#000000\">value = [2, 0]</text>\n</g>\n<!-- 92&#45;&gt;93 -->\n<g id=\"edge93\" class=\"edge\">\n<title>92&#45;&gt;93</title>\n<path fill=\"none\" stroke=\"#000000\" d=\"M1939.5,-920.9465C1939.5,-910.2621 1939.5,-898.4254 1939.5,-887.5742\"/>\n<polygon fill=\"#000000\" stroke=\"#000000\" points=\"1943.0001,-887.5421 1939.5,-877.5422 1936.0001,-887.5422 1943.0001,-887.5421\"/>\n</g>\n<!-- 94 -->\n<g id=\"node95\" class=\"node\">\n<title>94</title>\n<polygon fill=\"#83c2ef\" stroke=\"#000000\" points=\"2127.5,-885 2009.5,-885 2009.5,-817 2127.5,-817 2127.5,-885\"/>\n<text text-anchor=\"middle\" x=\"2068.5\" y=\"-869.8\" font-family=\"Helvetica,sans-Serif\" font-size=\"14.00\" fill=\"#000000\">X[9] &lt;= 1.9</text>\n<text text-anchor=\"middle\" x=\"2068.5\" y=\"-854.8\" font-family=\"Helvetica,sans-Serif\" font-size=\"14.00\" fill=\"#000000\">entropy = 0.845</text>\n<text text-anchor=\"middle\" x=\"2068.5\" y=\"-839.8\" font-family=\"Helvetica,sans-Serif\" font-size=\"14.00\" fill=\"#000000\">samples = 33</text>\n<text text-anchor=\"middle\" x=\"2068.5\" y=\"-824.8\" font-family=\"Helvetica,sans-Serif\" font-size=\"14.00\" fill=\"#000000\">value = [9, 24]</text>\n</g>\n<!-- 92&#45;&gt;94 -->\n<g id=\"edge94\" class=\"edge\">\n<title>92&#45;&gt;94</title>\n<path fill=\"none\" stroke=\"#000000\" d=\"M1981.7394,-920.9465C1993.4331,-911.519 2006.2394,-901.1946 2018.337,-891.4415\"/>\n<polygon fill=\"#000000\" stroke=\"#000000\" points=\"2020.5773,-894.1312 2026.1657,-885.13 2016.1838,-888.6816 2020.5773,-894.1312\"/>\n</g>\n<!-- 95 -->\n<g id=\"node96\" class=\"node\">\n<title>95</title>\n<polygon fill=\"#b0d8f5\" stroke=\"#000000\" points=\"2127.5,-781 2009.5,-781 2009.5,-713 2127.5,-713 2127.5,-781\"/>\n<text text-anchor=\"middle\" x=\"2068.5\" y=\"-765.8\" font-family=\"Helvetica,sans-Serif\" font-size=\"14.00\" fill=\"#000000\">X[4] &lt;= 261.0</text>\n<text text-anchor=\"middle\" x=\"2068.5\" y=\"-750.8\" font-family=\"Helvetica,sans-Serif\" font-size=\"14.00\" fill=\"#000000\">entropy = 0.954</text>\n<text text-anchor=\"middle\" x=\"2068.5\" y=\"-735.8\" font-family=\"Helvetica,sans-Serif\" font-size=\"14.00\" fill=\"#000000\">samples = 24</text>\n<text text-anchor=\"middle\" x=\"2068.5\" y=\"-720.8\" font-family=\"Helvetica,sans-Serif\" font-size=\"14.00\" fill=\"#000000\">value = [9, 15]</text>\n</g>\n<!-- 94&#45;&gt;95 -->\n<g id=\"edge95\" class=\"edge\">\n<title>94&#45;&gt;95</title>\n<path fill=\"none\" stroke=\"#000000\" d=\"M2068.5,-816.9465C2068.5,-808.776 2068.5,-799.9318 2068.5,-791.3697\"/>\n<polygon fill=\"#000000\" stroke=\"#000000\" points=\"2072.0001,-791.13 2068.5,-781.13 2065.0001,-791.13 2072.0001,-791.13\"/>\n</g>\n<!-- 110 -->\n<g id=\"node111\" class=\"node\">\n<title>110</title>\n<polygon fill=\"#399de5\" stroke=\"#000000\" points=\"2247,-773.5 2146,-773.5 2146,-720.5 2247,-720.5 2247,-773.5\"/>\n<text text-anchor=\"middle\" x=\"2196.5\" y=\"-758.3\" font-family=\"Helvetica,sans-Serif\" font-size=\"14.00\" fill=\"#000000\">entropy = 0.0</text>\n<text text-anchor=\"middle\" x=\"2196.5\" y=\"-743.3\" font-family=\"Helvetica,sans-Serif\" font-size=\"14.00\" fill=\"#000000\">samples = 9</text>\n<text text-anchor=\"middle\" x=\"2196.5\" y=\"-728.3\" font-family=\"Helvetica,sans-Serif\" font-size=\"14.00\" fill=\"#000000\">value = [0, 9]</text>\n</g>\n<!-- 94&#45;&gt;110 -->\n<g id=\"edge110\" class=\"edge\">\n<title>94&#45;&gt;110</title>\n<path fill=\"none\" stroke=\"#000000\" d=\"M2110.412,-816.9465C2125.0533,-805.0504 2141.4526,-791.726 2155.9785,-779.9237\"/>\n<polygon fill=\"#000000\" stroke=\"#000000\" points=\"2158.2786,-782.5645 2163.8327,-773.5422 2153.8645,-777.1317 2158.2786,-782.5645\"/>\n</g>\n<!-- 96 -->\n<g id=\"node97\" class=\"node\">\n<title>96</title>\n<polygon fill=\"#ebf5fc\" stroke=\"#000000\" points=\"2121.5,-677 2003.5,-677 2003.5,-609 2121.5,-609 2121.5,-677\"/>\n<text text-anchor=\"middle\" x=\"2062.5\" y=\"-661.8\" font-family=\"Helvetica,sans-Serif\" font-size=\"14.00\" fill=\"#000000\">X[7] &lt;= 147.5</text>\n<text text-anchor=\"middle\" x=\"2062.5\" y=\"-646.8\" font-family=\"Helvetica,sans-Serif\" font-size=\"14.00\" fill=\"#000000\">entropy = 0.998</text>\n<text text-anchor=\"middle\" x=\"2062.5\" y=\"-631.8\" font-family=\"Helvetica,sans-Serif\" font-size=\"14.00\" fill=\"#000000\">samples = 19</text>\n<text text-anchor=\"middle\" x=\"2062.5\" y=\"-616.8\" font-family=\"Helvetica,sans-Serif\" font-size=\"14.00\" fill=\"#000000\">value = [9, 10]</text>\n</g>\n<!-- 95&#45;&gt;96 -->\n<g id=\"edge96\" class=\"edge\">\n<title>95&#45;&gt;96</title>\n<path fill=\"none\" stroke=\"#000000\" d=\"M2066.5354,-712.9465C2066.064,-704.776 2065.5538,-695.9318 2065.0598,-687.3697\"/>\n<polygon fill=\"#000000\" stroke=\"#000000\" points=\"2068.5393,-686.9118 2064.469,-677.13 2061.5509,-687.315 2068.5393,-686.9118\"/>\n</g>\n<!-- 109 -->\n<g id=\"node110\" class=\"node\">\n<title>109</title>\n<polygon fill=\"#399de5\" stroke=\"#000000\" points=\"2241,-669.5 2140,-669.5 2140,-616.5 2241,-616.5 2241,-669.5\"/>\n<text text-anchor=\"middle\" x=\"2190.5\" y=\"-654.3\" font-family=\"Helvetica,sans-Serif\" font-size=\"14.00\" fill=\"#000000\">entropy = 0.0</text>\n<text text-anchor=\"middle\" x=\"2190.5\" y=\"-639.3\" font-family=\"Helvetica,sans-Serif\" font-size=\"14.00\" fill=\"#000000\">samples = 5</text>\n<text text-anchor=\"middle\" x=\"2190.5\" y=\"-624.3\" font-family=\"Helvetica,sans-Serif\" font-size=\"14.00\" fill=\"#000000\">value = [0, 5]</text>\n</g>\n<!-- 95&#45;&gt;109 -->\n<g id=\"edge109\" class=\"edge\">\n<title>95&#45;&gt;109</title>\n<path fill=\"none\" stroke=\"#000000\" d=\"M2108.4474,-712.9465C2122.2732,-701.1606 2137.7436,-687.9726 2151.4929,-676.2519\"/>\n<polygon fill=\"#000000\" stroke=\"#000000\" points=\"2154.0244,-678.6931 2159.364,-669.5422 2149.4832,-673.366 2154.0244,-678.6931\"/>\n</g>\n<!-- 97 -->\n<g id=\"node98\" class=\"node\">\n<title>97</title>\n<polygon fill=\"#f6d5bd\" stroke=\"#000000\" points=\"2118.5,-573 2000.5,-573 2000.5,-505 2118.5,-505 2118.5,-573\"/>\n<text text-anchor=\"middle\" x=\"2059.5\" y=\"-557.8\" font-family=\"Helvetica,sans-Serif\" font-size=\"14.00\" fill=\"#000000\">X[9] &lt;= 0.05</text>\n<text text-anchor=\"middle\" x=\"2059.5\" y=\"-542.8\" font-family=\"Helvetica,sans-Serif\" font-size=\"14.00\" fill=\"#000000\">entropy = 0.971</text>\n<text text-anchor=\"middle\" x=\"2059.5\" y=\"-527.8\" font-family=\"Helvetica,sans-Serif\" font-size=\"14.00\" fill=\"#000000\">samples = 15</text>\n<text text-anchor=\"middle\" x=\"2059.5\" y=\"-512.8\" font-family=\"Helvetica,sans-Serif\" font-size=\"14.00\" fill=\"#000000\">value = [9, 6]</text>\n</g>\n<!-- 96&#45;&gt;97 -->\n<g id=\"edge97\" class=\"edge\">\n<title>96&#45;&gt;97</title>\n<path fill=\"none\" stroke=\"#000000\" d=\"M2061.5177,-608.9465C2061.282,-600.776 2061.0269,-591.9318 2060.7799,-583.3697\"/>\n<polygon fill=\"#000000\" stroke=\"#000000\" points=\"2064.2715,-583.0249 2060.4845,-573.13 2057.2744,-583.2268 2064.2715,-583.0249\"/>\n</g>\n<!-- 108 -->\n<g id=\"node109\" class=\"node\">\n<title>108</title>\n<polygon fill=\"#399de5\" stroke=\"#000000\" points=\"2238,-565.5 2137,-565.5 2137,-512.5 2238,-512.5 2238,-565.5\"/>\n<text text-anchor=\"middle\" x=\"2187.5\" y=\"-550.3\" font-family=\"Helvetica,sans-Serif\" font-size=\"14.00\" fill=\"#000000\">entropy = 0.0</text>\n<text text-anchor=\"middle\" x=\"2187.5\" y=\"-535.3\" font-family=\"Helvetica,sans-Serif\" font-size=\"14.00\" fill=\"#000000\">samples = 4</text>\n<text text-anchor=\"middle\" x=\"2187.5\" y=\"-520.3\" font-family=\"Helvetica,sans-Serif\" font-size=\"14.00\" fill=\"#000000\">value = [0, 4]</text>\n</g>\n<!-- 96&#45;&gt;108 -->\n<g id=\"edge108\" class=\"edge\">\n<title>96&#45;&gt;108</title>\n<path fill=\"none\" stroke=\"#000000\" d=\"M2103.4297,-608.9465C2117.5955,-597.1606 2133.4463,-583.9726 2147.5338,-572.2519\"/>\n<polygon fill=\"#000000\" stroke=\"#000000\" points=\"2150.1496,-574.6285 2155.5984,-565.5422 2145.6725,-569.2474 2150.1496,-574.6285\"/>\n</g>\n<!-- 98 -->\n<g id=\"node99\" class=\"node\">\n<title>98</title>\n<polygon fill=\"#6ab6ec\" stroke=\"#000000\" points=\"1998.5,-469 1880.5,-469 1880.5,-401 1998.5,-401 1998.5,-469\"/>\n<text text-anchor=\"middle\" x=\"1939.5\" y=\"-453.8\" font-family=\"Helvetica,sans-Serif\" font-size=\"14.00\" fill=\"#000000\">X[0] &lt;= 49.5</text>\n<text text-anchor=\"middle\" x=\"1939.5\" y=\"-438.8\" font-family=\"Helvetica,sans-Serif\" font-size=\"14.00\" fill=\"#000000\">entropy = 0.722</text>\n<text text-anchor=\"middle\" x=\"1939.5\" y=\"-423.8\" font-family=\"Helvetica,sans-Serif\" font-size=\"14.00\" fill=\"#000000\">samples = 5</text>\n<text text-anchor=\"middle\" x=\"1939.5\" y=\"-408.8\" font-family=\"Helvetica,sans-Serif\" font-size=\"14.00\" fill=\"#000000\">value = [1, 4]</text>\n</g>\n<!-- 97&#45;&gt;98 -->\n<g id=\"edge98\" class=\"edge\">\n<title>97&#45;&gt;98</title>\n<path fill=\"none\" stroke=\"#000000\" d=\"M2020.2075,-504.9465C2009.4333,-495.6088 1997.6436,-485.3911 1986.485,-475.7203\"/>\n<polygon fill=\"#000000\" stroke=\"#000000\" points=\"1988.7299,-473.0344 1978.8808,-469.13 1984.1454,-478.3243 1988.7299,-473.0344\"/>\n</g>\n<!-- 103 -->\n<g id=\"node104\" class=\"node\">\n<title>103</title>\n<polygon fill=\"#eca06a\" stroke=\"#000000\" points=\"2134.5,-469 2016.5,-469 2016.5,-401 2134.5,-401 2134.5,-469\"/>\n<text text-anchor=\"middle\" x=\"2075.5\" y=\"-453.8\" font-family=\"Helvetica,sans-Serif\" font-size=\"14.00\" fill=\"#000000\">X[4] &lt;= 244.0</text>\n<text text-anchor=\"middle\" x=\"2075.5\" y=\"-438.8\" font-family=\"Helvetica,sans-Serif\" font-size=\"14.00\" fill=\"#000000\">entropy = 0.722</text>\n<text text-anchor=\"middle\" x=\"2075.5\" y=\"-423.8\" font-family=\"Helvetica,sans-Serif\" font-size=\"14.00\" fill=\"#000000\">samples = 10</text>\n<text text-anchor=\"middle\" x=\"2075.5\" y=\"-408.8\" font-family=\"Helvetica,sans-Serif\" font-size=\"14.00\" fill=\"#000000\">value = [8, 2]</text>\n</g>\n<!-- 97&#45;&gt;103 -->\n<g id=\"edge103\" class=\"edge\">\n<title>97&#45;&gt;103</title>\n<path fill=\"none\" stroke=\"#000000\" d=\"M2064.739,-504.9465C2066.0098,-496.6863 2067.3866,-487.7374 2068.7173,-479.0875\"/>\n<polygon fill=\"#000000\" stroke=\"#000000\" points=\"2072.1879,-479.5459 2070.2492,-469.13 2065.2693,-478.4815 2072.1879,-479.5459\"/>\n</g>\n<!-- 99 -->\n<g id=\"node100\" class=\"node\">\n<title>99</title>\n<polygon fill=\"#ffffff\" stroke=\"#000000\" points=\"1876,-365 1773,-365 1773,-297 1876,-297 1876,-365\"/>\n<text text-anchor=\"middle\" x=\"1824.5\" y=\"-349.8\" font-family=\"Helvetica,sans-Serif\" font-size=\"14.00\" fill=\"#000000\">X[7] &lt;= 136.0</text>\n<text text-anchor=\"middle\" x=\"1824.5\" y=\"-334.8\" font-family=\"Helvetica,sans-Serif\" font-size=\"14.00\" fill=\"#000000\">entropy = 1.0</text>\n<text text-anchor=\"middle\" x=\"1824.5\" y=\"-319.8\" font-family=\"Helvetica,sans-Serif\" font-size=\"14.00\" fill=\"#000000\">samples = 2</text>\n<text text-anchor=\"middle\" x=\"1824.5\" y=\"-304.8\" font-family=\"Helvetica,sans-Serif\" font-size=\"14.00\" fill=\"#000000\">value = [1, 1]</text>\n</g>\n<!-- 98&#45;&gt;99 -->\n<g id=\"edge99\" class=\"edge\">\n<title>98&#45;&gt;99</title>\n<path fill=\"none\" stroke=\"#000000\" d=\"M1901.8447,-400.9465C1891.6187,-391.6986 1880.4382,-381.5876 1869.8359,-371.9994\"/>\n<polygon fill=\"#000000\" stroke=\"#000000\" points=\"1872.0044,-369.2416 1862.2399,-365.13 1867.3092,-374.4334 1872.0044,-369.2416\"/>\n</g>\n<!-- 102 -->\n<g id=\"node103\" class=\"node\">\n<title>102</title>\n<polygon fill=\"#399de5\" stroke=\"#000000\" points=\"1995,-357.5 1894,-357.5 1894,-304.5 1995,-304.5 1995,-357.5\"/>\n<text text-anchor=\"middle\" x=\"1944.5\" y=\"-342.3\" font-family=\"Helvetica,sans-Serif\" font-size=\"14.00\" fill=\"#000000\">entropy = 0.0</text>\n<text text-anchor=\"middle\" x=\"1944.5\" y=\"-327.3\" font-family=\"Helvetica,sans-Serif\" font-size=\"14.00\" fill=\"#000000\">samples = 3</text>\n<text text-anchor=\"middle\" x=\"1944.5\" y=\"-312.3\" font-family=\"Helvetica,sans-Serif\" font-size=\"14.00\" fill=\"#000000\">value = [0, 3]</text>\n</g>\n<!-- 98&#45;&gt;102 -->\n<g id=\"edge102\" class=\"edge\">\n<title>98&#45;&gt;102</title>\n<path fill=\"none\" stroke=\"#000000\" d=\"M1941.1372,-400.9465C1941.6509,-390.2621 1942.2199,-378.4254 1942.7416,-367.5742\"/>\n<polygon fill=\"#000000\" stroke=\"#000000\" points=\"1946.2396,-367.6987 1943.2239,-357.5422 1939.2477,-367.3625 1946.2396,-367.6987\"/>\n</g>\n<!-- 100 -->\n<g id=\"node101\" class=\"node\">\n<title>100</title>\n<polygon fill=\"#e58139\" stroke=\"#000000\" points=\"1815,-253.5 1714,-253.5 1714,-200.5 1815,-200.5 1815,-253.5\"/>\n<text text-anchor=\"middle\" x=\"1764.5\" y=\"-238.3\" font-family=\"Helvetica,sans-Serif\" font-size=\"14.00\" fill=\"#000000\">entropy = 0.0</text>\n<text text-anchor=\"middle\" x=\"1764.5\" y=\"-223.3\" font-family=\"Helvetica,sans-Serif\" font-size=\"14.00\" fill=\"#000000\">samples = 1</text>\n<text text-anchor=\"middle\" x=\"1764.5\" y=\"-208.3\" font-family=\"Helvetica,sans-Serif\" font-size=\"14.00\" fill=\"#000000\">value = [1, 0]</text>\n</g>\n<!-- 99&#45;&gt;100 -->\n<g id=\"edge100\" class=\"edge\">\n<title>99&#45;&gt;100</title>\n<path fill=\"none\" stroke=\"#000000\" d=\"M1804.8538,-296.9465C1798.4355,-285.8215 1791.2965,-273.4473 1784.829,-262.237\"/>\n<polygon fill=\"#000000\" stroke=\"#000000\" points=\"1787.8417,-260.455 1779.8128,-253.5422 1781.7784,-263.9531 1787.8417,-260.455\"/>\n</g>\n<!-- 101 -->\n<g id=\"node102\" class=\"node\">\n<title>101</title>\n<polygon fill=\"#399de5\" stroke=\"#000000\" points=\"1934,-253.5 1833,-253.5 1833,-200.5 1934,-200.5 1934,-253.5\"/>\n<text text-anchor=\"middle\" x=\"1883.5\" y=\"-238.3\" font-family=\"Helvetica,sans-Serif\" font-size=\"14.00\" fill=\"#000000\">entropy = 0.0</text>\n<text text-anchor=\"middle\" x=\"1883.5\" y=\"-223.3\" font-family=\"Helvetica,sans-Serif\" font-size=\"14.00\" fill=\"#000000\">samples = 1</text>\n<text text-anchor=\"middle\" x=\"1883.5\" y=\"-208.3\" font-family=\"Helvetica,sans-Serif\" font-size=\"14.00\" fill=\"#000000\">value = [0, 1]</text>\n</g>\n<!-- 99&#45;&gt;101 -->\n<g id=\"edge101\" class=\"edge\">\n<title>99&#45;&gt;101</title>\n<path fill=\"none\" stroke=\"#000000\" d=\"M1843.8188,-296.9465C1850.0676,-285.9316 1857.0112,-273.6922 1863.3207,-262.5703\"/>\n<polygon fill=\"#000000\" stroke=\"#000000\" points=\"1866.5523,-263.967 1868.4424,-253.5422 1860.4638,-260.513 1866.5523,-263.967\"/>\n</g>\n<!-- 104 -->\n<g id=\"node105\" class=\"node\">\n<title>104</title>\n<polygon fill=\"#e58139\" stroke=\"#000000\" points=\"2122,-357.5 2021,-357.5 2021,-304.5 2122,-304.5 2122,-357.5\"/>\n<text text-anchor=\"middle\" x=\"2071.5\" y=\"-342.3\" font-family=\"Helvetica,sans-Serif\" font-size=\"14.00\" fill=\"#000000\">entropy = 0.0</text>\n<text text-anchor=\"middle\" x=\"2071.5\" y=\"-327.3\" font-family=\"Helvetica,sans-Serif\" font-size=\"14.00\" fill=\"#000000\">samples = 7</text>\n<text text-anchor=\"middle\" x=\"2071.5\" y=\"-312.3\" font-family=\"Helvetica,sans-Serif\" font-size=\"14.00\" fill=\"#000000\">value = [7, 0]</text>\n</g>\n<!-- 103&#45;&gt;104 -->\n<g id=\"edge104\" class=\"edge\">\n<title>103&#45;&gt;104</title>\n<path fill=\"none\" stroke=\"#000000\" d=\"M2074.1903,-400.9465C2073.7793,-390.2621 2073.3241,-378.4254 2072.9067,-367.5742\"/>\n<polygon fill=\"#000000\" stroke=\"#000000\" points=\"2076.4027,-367.4002 2072.5209,-357.5422 2069.4079,-367.6693 2076.4027,-367.4002\"/>\n</g>\n<!-- 105 -->\n<g id=\"node106\" class=\"node\">\n<title>105</title>\n<polygon fill=\"#9ccef2\" stroke=\"#000000\" points=\"2258.5,-365 2140.5,-365 2140.5,-297 2258.5,-297 2258.5,-365\"/>\n<text text-anchor=\"middle\" x=\"2199.5\" y=\"-349.8\" font-family=\"Helvetica,sans-Serif\" font-size=\"14.00\" fill=\"#000000\">X[3] &lt;= 125.0</text>\n<text text-anchor=\"middle\" x=\"2199.5\" y=\"-334.8\" font-family=\"Helvetica,sans-Serif\" font-size=\"14.00\" fill=\"#000000\">entropy = 0.918</text>\n<text text-anchor=\"middle\" x=\"2199.5\" y=\"-319.8\" font-family=\"Helvetica,sans-Serif\" font-size=\"14.00\" fill=\"#000000\">samples = 3</text>\n<text text-anchor=\"middle\" x=\"2199.5\" y=\"-304.8\" font-family=\"Helvetica,sans-Serif\" font-size=\"14.00\" fill=\"#000000\">value = [1, 2]</text>\n</g>\n<!-- 103&#45;&gt;105 -->\n<g id=\"edge105\" class=\"edge\">\n<title>103&#45;&gt;105</title>\n<path fill=\"none\" stroke=\"#000000\" d=\"M2116.1022,-400.9465C2127.2356,-391.6088 2139.4183,-381.3911 2150.9489,-371.7203\"/>\n<polygon fill=\"#000000\" stroke=\"#000000\" points=\"2153.3938,-374.2378 2158.8065,-365.13 2148.8954,-368.8745 2153.3938,-374.2378\"/>\n</g>\n<!-- 106 -->\n<g id=\"node107\" class=\"node\">\n<title>106</title>\n<polygon fill=\"#e58139\" stroke=\"#000000\" points=\"2191,-253.5 2090,-253.5 2090,-200.5 2191,-200.5 2191,-253.5\"/>\n<text text-anchor=\"middle\" x=\"2140.5\" y=\"-238.3\" font-family=\"Helvetica,sans-Serif\" font-size=\"14.00\" fill=\"#000000\">entropy = 0.0</text>\n<text text-anchor=\"middle\" x=\"2140.5\" y=\"-223.3\" font-family=\"Helvetica,sans-Serif\" font-size=\"14.00\" fill=\"#000000\">samples = 1</text>\n<text text-anchor=\"middle\" x=\"2140.5\" y=\"-208.3\" font-family=\"Helvetica,sans-Serif\" font-size=\"14.00\" fill=\"#000000\">value = [1, 0]</text>\n</g>\n<!-- 105&#45;&gt;106 -->\n<g id=\"edge106\" class=\"edge\">\n<title>105&#45;&gt;106</title>\n<path fill=\"none\" stroke=\"#000000\" d=\"M2180.1812,-296.9465C2173.9324,-285.9316 2166.9888,-273.6922 2160.6793,-262.5703\"/>\n<polygon fill=\"#000000\" stroke=\"#000000\" points=\"2163.5362,-260.513 2155.5576,-253.5422 2157.4477,-263.967 2163.5362,-260.513\"/>\n</g>\n<!-- 107 -->\n<g id=\"node108\" class=\"node\">\n<title>107</title>\n<polygon fill=\"#399de5\" stroke=\"#000000\" points=\"2310,-253.5 2209,-253.5 2209,-200.5 2310,-200.5 2310,-253.5\"/>\n<text text-anchor=\"middle\" x=\"2259.5\" y=\"-238.3\" font-family=\"Helvetica,sans-Serif\" font-size=\"14.00\" fill=\"#000000\">entropy = 0.0</text>\n<text text-anchor=\"middle\" x=\"2259.5\" y=\"-223.3\" font-family=\"Helvetica,sans-Serif\" font-size=\"14.00\" fill=\"#000000\">samples = 2</text>\n<text text-anchor=\"middle\" x=\"2259.5\" y=\"-208.3\" font-family=\"Helvetica,sans-Serif\" font-size=\"14.00\" fill=\"#000000\">value = [0, 2]</text>\n</g>\n<!-- 105&#45;&gt;107 -->\n<g id=\"edge107\" class=\"edge\">\n<title>105&#45;&gt;107</title>\n<path fill=\"none\" stroke=\"#000000\" d=\"M2219.1462,-296.9465C2225.5645,-285.8215 2232.7035,-273.4473 2239.171,-262.237\"/>\n<polygon fill=\"#000000\" stroke=\"#000000\" points=\"2242.2216,-263.9531 2244.1872,-253.5422 2236.1583,-260.455 2242.2216,-263.9531\"/>\n</g>\n<!-- 112 -->\n<g id=\"node113\" class=\"node\">\n<title>112</title>\n<polygon fill=\"#72b9ec\" stroke=\"#000000\" points=\"2495.5,-1197 2377.5,-1197 2377.5,-1129 2495.5,-1129 2495.5,-1197\"/>\n<text text-anchor=\"middle\" x=\"2436.5\" y=\"-1181.8\" font-family=\"Helvetica,sans-Serif\" font-size=\"14.00\" fill=\"#000000\">X[7] &lt;= 152.5</text>\n<text text-anchor=\"middle\" x=\"2436.5\" y=\"-1166.8\" font-family=\"Helvetica,sans-Serif\" font-size=\"14.00\" fill=\"#000000\">entropy = 0.764</text>\n<text text-anchor=\"middle\" x=\"2436.5\" y=\"-1151.8\" font-family=\"Helvetica,sans-Serif\" font-size=\"14.00\" fill=\"#000000\">samples = 27</text>\n<text text-anchor=\"middle\" x=\"2436.5\" y=\"-1136.8\" font-family=\"Helvetica,sans-Serif\" font-size=\"14.00\" fill=\"#000000\">value = [6, 21]</text>\n</g>\n<!-- 111&#45;&gt;112 -->\n<g id=\"edge112\" class=\"edge\">\n<title>111&#45;&gt;112</title>\n<path fill=\"none\" stroke=\"#000000\" d=\"M2482.2343,-1232.9465C2476.5398,-1224.2373 2470.3448,-1214.7626 2464.4062,-1205.6801\"/>\n<polygon fill=\"#000000\" stroke=\"#000000\" points=\"2467.2177,-1203.5843 2458.8158,-1197.13 2461.3589,-1207.4151 2467.2177,-1203.5843\"/>\n</g>\n<!-- 129 -->\n<g id=\"node130\" class=\"node\">\n<title>129</title>\n<polygon fill=\"#f5ceb2\" stroke=\"#000000\" points=\"2631.5,-1197 2513.5,-1197 2513.5,-1129 2631.5,-1129 2631.5,-1197\"/>\n<text text-anchor=\"middle\" x=\"2572.5\" y=\"-1181.8\" font-family=\"Helvetica,sans-Serif\" font-size=\"14.00\" fill=\"#000000\">X[7] &lt;= 154.5</text>\n<text text-anchor=\"middle\" x=\"2572.5\" y=\"-1166.8\" font-family=\"Helvetica,sans-Serif\" font-size=\"14.00\" fill=\"#000000\">entropy = 0.958</text>\n<text text-anchor=\"middle\" x=\"2572.5\" y=\"-1151.8\" font-family=\"Helvetica,sans-Serif\" font-size=\"14.00\" fill=\"#000000\">samples = 50</text>\n<text text-anchor=\"middle\" x=\"2572.5\" y=\"-1136.8\" font-family=\"Helvetica,sans-Serif\" font-size=\"14.00\" fill=\"#000000\">value = [31, 19]</text>\n</g>\n<!-- 111&#45;&gt;129 -->\n<g id=\"edge129\" class=\"edge\">\n<title>111&#45;&gt;129</title>\n<path fill=\"none\" stroke=\"#000000\" d=\"M2526.7657,-1232.9465C2532.4602,-1224.2373 2538.6552,-1214.7626 2544.5938,-1205.6801\"/>\n<polygon fill=\"#000000\" stroke=\"#000000\" points=\"2547.6411,-1207.4151 2550.1842,-1197.13 2541.7823,-1203.5843 2547.6411,-1207.4151\"/>\n</g>\n<!-- 113 -->\n<g id=\"node114\" class=\"node\">\n<title>113</title>\n<polygon fill=\"#e58139\" stroke=\"#000000\" points=\"2362,-1085.5 2261,-1085.5 2261,-1032.5 2362,-1032.5 2362,-1085.5\"/>\n<text text-anchor=\"middle\" x=\"2311.5\" y=\"-1070.3\" font-family=\"Helvetica,sans-Serif\" font-size=\"14.00\" fill=\"#000000\">entropy = 0.0</text>\n<text text-anchor=\"middle\" x=\"2311.5\" y=\"-1055.3\" font-family=\"Helvetica,sans-Serif\" font-size=\"14.00\" fill=\"#000000\">samples = 2</text>\n<text text-anchor=\"middle\" x=\"2311.5\" y=\"-1040.3\" font-family=\"Helvetica,sans-Serif\" font-size=\"14.00\" fill=\"#000000\">value = [2, 0]</text>\n</g>\n<!-- 112&#45;&gt;113 -->\n<g id=\"edge113\" class=\"edge\">\n<title>112&#45;&gt;113</title>\n<path fill=\"none\" stroke=\"#000000\" d=\"M2395.5703,-1128.9465C2381.4045,-1117.1606 2365.5537,-1103.9726 2351.4662,-1092.2519\"/>\n<polygon fill=\"#000000\" stroke=\"#000000\" points=\"2353.3275,-1089.2474 2343.4016,-1085.5422 2348.8504,-1094.6285 2353.3275,-1089.2474\"/>\n</g>\n<!-- 114 -->\n<g id=\"node115\" class=\"node\">\n<title>114</title>\n<polygon fill=\"#5fb0ea\" stroke=\"#000000\" points=\"2498.5,-1093 2380.5,-1093 2380.5,-1025 2498.5,-1025 2498.5,-1093\"/>\n<text text-anchor=\"middle\" x=\"2439.5\" y=\"-1077.8\" font-family=\"Helvetica,sans-Serif\" font-size=\"14.00\" fill=\"#000000\">X[4] &lt;= 231.0</text>\n<text text-anchor=\"middle\" x=\"2439.5\" y=\"-1062.8\" font-family=\"Helvetica,sans-Serif\" font-size=\"14.00\" fill=\"#000000\">entropy = 0.634</text>\n<text text-anchor=\"middle\" x=\"2439.5\" y=\"-1047.8\" font-family=\"Helvetica,sans-Serif\" font-size=\"14.00\" fill=\"#000000\">samples = 25</text>\n<text text-anchor=\"middle\" x=\"2439.5\" y=\"-1032.8\" font-family=\"Helvetica,sans-Serif\" font-size=\"14.00\" fill=\"#000000\">value = [4, 21]</text>\n</g>\n<!-- 112&#45;&gt;114 -->\n<g id=\"edge114\" class=\"edge\">\n<title>112&#45;&gt;114</title>\n<path fill=\"none\" stroke=\"#000000\" d=\"M2437.4823,-1128.9465C2437.718,-1120.776 2437.9731,-1111.9318 2438.2201,-1103.3697\"/>\n<polygon fill=\"#000000\" stroke=\"#000000\" points=\"2441.7256,-1103.2268 2438.5155,-1093.13 2434.7285,-1103.0249 2441.7256,-1103.2268\"/>\n</g>\n<!-- 115 -->\n<g id=\"node116\" class=\"node\">\n<title>115</title>\n<polygon fill=\"#399de5\" stroke=\"#000000\" points=\"2363,-981.5 2256,-981.5 2256,-928.5 2363,-928.5 2363,-981.5\"/>\n<text text-anchor=\"middle\" x=\"2309.5\" y=\"-966.3\" font-family=\"Helvetica,sans-Serif\" font-size=\"14.00\" fill=\"#000000\">entropy = 0.0</text>\n<text text-anchor=\"middle\" x=\"2309.5\" y=\"-951.3\" font-family=\"Helvetica,sans-Serif\" font-size=\"14.00\" fill=\"#000000\">samples = 10</text>\n<text text-anchor=\"middle\" x=\"2309.5\" y=\"-936.3\" font-family=\"Helvetica,sans-Serif\" font-size=\"14.00\" fill=\"#000000\">value = [0, 10]</text>\n</g>\n<!-- 114&#45;&gt;115 -->\n<g id=\"edge115\" class=\"edge\">\n<title>114&#45;&gt;115</title>\n<path fill=\"none\" stroke=\"#000000\" d=\"M2396.9331,-1024.9465C2382.063,-1013.0504 2365.4075,-999.726 2350.6546,-987.9237\"/>\n<polygon fill=\"#000000\" stroke=\"#000000\" points=\"2352.6729,-985.0561 2342.6777,-981.5422 2348.3,-990.5222 2352.6729,-985.0561\"/>\n</g>\n<!-- 116 -->\n<g id=\"node117\" class=\"node\">\n<title>116</title>\n<polygon fill=\"#81c1ee\" stroke=\"#000000\" points=\"2499.5,-989 2381.5,-989 2381.5,-921 2499.5,-921 2499.5,-989\"/>\n<text text-anchor=\"middle\" x=\"2440.5\" y=\"-973.8\" font-family=\"Helvetica,sans-Serif\" font-size=\"14.00\" fill=\"#000000\">X[4] &lt;= 239.0</text>\n<text text-anchor=\"middle\" x=\"2440.5\" y=\"-958.8\" font-family=\"Helvetica,sans-Serif\" font-size=\"14.00\" fill=\"#000000\">entropy = 0.837</text>\n<text text-anchor=\"middle\" x=\"2440.5\" y=\"-943.8\" font-family=\"Helvetica,sans-Serif\" font-size=\"14.00\" fill=\"#000000\">samples = 15</text>\n<text text-anchor=\"middle\" x=\"2440.5\" y=\"-928.8\" font-family=\"Helvetica,sans-Serif\" font-size=\"14.00\" fill=\"#000000\">value = [4, 11]</text>\n</g>\n<!-- 114&#45;&gt;116 -->\n<g id=\"edge116\" class=\"edge\">\n<title>114&#45;&gt;116</title>\n<path fill=\"none\" stroke=\"#000000\" d=\"M2439.8274,-1024.9465C2439.906,-1016.776 2439.991,-1007.9318 2440.0734,-999.3697\"/>\n<polygon fill=\"#000000\" stroke=\"#000000\" points=\"2443.5754,-999.1632 2440.1718,-989.13 2436.5757,-999.0958 2443.5754,-999.1632\"/>\n</g>\n<!-- 117 -->\n<g id=\"node118\" class=\"node\">\n<title>117</title>\n<polygon fill=\"#e58139\" stroke=\"#000000\" points=\"2367,-877.5 2266,-877.5 2266,-824.5 2367,-824.5 2367,-877.5\"/>\n<text text-anchor=\"middle\" x=\"2316.5\" y=\"-862.3\" font-family=\"Helvetica,sans-Serif\" font-size=\"14.00\" fill=\"#000000\">entropy = 0.0</text>\n<text text-anchor=\"middle\" x=\"2316.5\" y=\"-847.3\" font-family=\"Helvetica,sans-Serif\" font-size=\"14.00\" fill=\"#000000\">samples = 1</text>\n<text text-anchor=\"middle\" x=\"2316.5\" y=\"-832.3\" font-family=\"Helvetica,sans-Serif\" font-size=\"14.00\" fill=\"#000000\">value = [1, 0]</text>\n</g>\n<!-- 116&#45;&gt;117 -->\n<g id=\"edge117\" class=\"edge\">\n<title>116&#45;&gt;117</title>\n<path fill=\"none\" stroke=\"#000000\" d=\"M2399.8978,-920.9465C2385.8453,-909.1606 2370.1212,-895.9726 2356.1465,-884.2519\"/>\n<polygon fill=\"#000000\" stroke=\"#000000\" points=\"2358.0575,-881.2866 2348.1464,-877.5422 2353.5592,-886.65 2358.0575,-881.2866\"/>\n</g>\n<!-- 118 -->\n<g id=\"node119\" class=\"node\">\n<title>118</title>\n<polygon fill=\"#6fb8ec\" stroke=\"#000000\" points=\"2495.5,-885 2385.5,-885 2385.5,-817 2495.5,-817 2495.5,-885\"/>\n<text text-anchor=\"middle\" x=\"2440.5\" y=\"-869.8\" font-family=\"Helvetica,sans-Serif\" font-size=\"14.00\" fill=\"#000000\">X[7] &lt;= 175.5</text>\n<text text-anchor=\"middle\" x=\"2440.5\" y=\"-854.8\" font-family=\"Helvetica,sans-Serif\" font-size=\"14.00\" fill=\"#000000\">entropy = 0.75</text>\n<text text-anchor=\"middle\" x=\"2440.5\" y=\"-839.8\" font-family=\"Helvetica,sans-Serif\" font-size=\"14.00\" fill=\"#000000\">samples = 14</text>\n<text text-anchor=\"middle\" x=\"2440.5\" y=\"-824.8\" font-family=\"Helvetica,sans-Serif\" font-size=\"14.00\" fill=\"#000000\">value = [3, 11]</text>\n</g>\n<!-- 116&#45;&gt;118 -->\n<g id=\"edge118\" class=\"edge\">\n<title>116&#45;&gt;118</title>\n<path fill=\"none\" stroke=\"#000000\" d=\"M2440.5,-920.9465C2440.5,-912.776 2440.5,-903.9318 2440.5,-895.3697\"/>\n<polygon fill=\"#000000\" stroke=\"#000000\" points=\"2444.0001,-895.13 2440.5,-885.13 2437.0001,-895.13 2444.0001,-895.13\"/>\n</g>\n<!-- 119 -->\n<g id=\"node120\" class=\"node\">\n<title>119</title>\n<polygon fill=\"#5dafea\" stroke=\"#000000\" points=\"2383.5,-781 2265.5,-781 2265.5,-713 2383.5,-713 2383.5,-781\"/>\n<text text-anchor=\"middle\" x=\"2324.5\" y=\"-765.8\" font-family=\"Helvetica,sans-Serif\" font-size=\"14.00\" fill=\"#000000\">X[7] &lt;= 158.5</text>\n<text text-anchor=\"middle\" x=\"2324.5\" y=\"-750.8\" font-family=\"Helvetica,sans-Serif\" font-size=\"14.00\" fill=\"#000000\">entropy = 0.619</text>\n<text text-anchor=\"middle\" x=\"2324.5\" y=\"-735.8\" font-family=\"Helvetica,sans-Serif\" font-size=\"14.00\" fill=\"#000000\">samples = 13</text>\n<text text-anchor=\"middle\" x=\"2324.5\" y=\"-720.8\" font-family=\"Helvetica,sans-Serif\" font-size=\"14.00\" fill=\"#000000\">value = [2, 11]</text>\n</g>\n<!-- 118&#45;&gt;119 -->\n<g id=\"edge119\" class=\"edge\">\n<title>118&#45;&gt;119</title>\n<path fill=\"none\" stroke=\"#000000\" d=\"M2402.5173,-816.9465C2392.2023,-807.6986 2380.9246,-797.5876 2370.2301,-787.9994\"/>\n<polygon fill=\"#000000\" stroke=\"#000000\" points=\"2372.3502,-785.1995 2362.5681,-781.13 2367.6774,-790.4115 2372.3502,-785.1995\"/>\n</g>\n<!-- 128 -->\n<g id=\"node129\" class=\"node\">\n<title>128</title>\n<polygon fill=\"#e58139\" stroke=\"#000000\" points=\"2503,-773.5 2402,-773.5 2402,-720.5 2503,-720.5 2503,-773.5\"/>\n<text text-anchor=\"middle\" x=\"2452.5\" y=\"-758.3\" font-family=\"Helvetica,sans-Serif\" font-size=\"14.00\" fill=\"#000000\">entropy = 0.0</text>\n<text text-anchor=\"middle\" x=\"2452.5\" y=\"-743.3\" font-family=\"Helvetica,sans-Serif\" font-size=\"14.00\" fill=\"#000000\">samples = 1</text>\n<text text-anchor=\"middle\" x=\"2452.5\" y=\"-728.3\" font-family=\"Helvetica,sans-Serif\" font-size=\"14.00\" fill=\"#000000\">value = [1, 0]</text>\n</g>\n<!-- 118&#45;&gt;128 -->\n<g id=\"edge128\" class=\"edge\">\n<title>118&#45;&gt;128</title>\n<path fill=\"none\" stroke=\"#000000\" d=\"M2444.4292,-816.9465C2445.6621,-806.2621 2447.0278,-794.4254 2448.2799,-783.5742\"/>\n<polygon fill=\"#000000\" stroke=\"#000000\" points=\"2451.768,-783.8775 2449.4374,-773.5422 2444.8142,-783.075 2451.768,-783.8775\"/>\n</g>\n<!-- 120 -->\n<g id=\"node121\" class=\"node\">\n<title>120</title>\n<polygon fill=\"#88c4ef\" stroke=\"#000000\" points=\"2381.5,-677 2263.5,-677 2263.5,-609 2381.5,-609 2381.5,-677\"/>\n<text text-anchor=\"middle\" x=\"2322.5\" y=\"-661.8\" font-family=\"Helvetica,sans-Serif\" font-size=\"14.00\" fill=\"#000000\">X[4] &lt;= 272.0</text>\n<text text-anchor=\"middle\" x=\"2322.5\" y=\"-646.8\" font-family=\"Helvetica,sans-Serif\" font-size=\"14.00\" fill=\"#000000\">entropy = 0.863</text>\n<text text-anchor=\"middle\" x=\"2322.5\" y=\"-631.8\" font-family=\"Helvetica,sans-Serif\" font-size=\"14.00\" fill=\"#000000\">samples = 7</text>\n<text text-anchor=\"middle\" x=\"2322.5\" y=\"-616.8\" font-family=\"Helvetica,sans-Serif\" font-size=\"14.00\" fill=\"#000000\">value = [2, 5]</text>\n</g>\n<!-- 119&#45;&gt;120 -->\n<g id=\"edge120\" class=\"edge\">\n<title>119&#45;&gt;120</title>\n<path fill=\"none\" stroke=\"#000000\" d=\"M2323.8451,-712.9465C2323.688,-704.776 2323.5179,-695.9318 2323.3533,-687.3697\"/>\n<polygon fill=\"#000000\" stroke=\"#000000\" points=\"2326.8481,-687.0608 2323.1563,-677.13 2319.8494,-687.1955 2326.8481,-687.0608\"/>\n</g>\n<!-- 127 -->\n<g id=\"node128\" class=\"node\">\n<title>127</title>\n<polygon fill=\"#399de5\" stroke=\"#000000\" points=\"2501,-669.5 2400,-669.5 2400,-616.5 2501,-616.5 2501,-669.5\"/>\n<text text-anchor=\"middle\" x=\"2450.5\" y=\"-654.3\" font-family=\"Helvetica,sans-Serif\" font-size=\"14.00\" fill=\"#000000\">entropy = 0.0</text>\n<text text-anchor=\"middle\" x=\"2450.5\" y=\"-639.3\" font-family=\"Helvetica,sans-Serif\" font-size=\"14.00\" fill=\"#000000\">samples = 6</text>\n<text text-anchor=\"middle\" x=\"2450.5\" y=\"-624.3\" font-family=\"Helvetica,sans-Serif\" font-size=\"14.00\" fill=\"#000000\">value = [0, 6]</text>\n</g>\n<!-- 119&#45;&gt;127 -->\n<g id=\"edge127\" class=\"edge\">\n<title>119&#45;&gt;127</title>\n<path fill=\"none\" stroke=\"#000000\" d=\"M2365.7571,-712.9465C2380.1697,-701.0504 2396.3127,-687.726 2410.6117,-675.9237\"/>\n<polygon fill=\"#000000\" stroke=\"#000000\" points=\"2412.8589,-678.6071 2418.3431,-669.5422 2408.4029,-673.2086 2412.8589,-678.6071\"/>\n</g>\n<!-- 121 -->\n<g id=\"node122\" class=\"node\">\n<title>121</title>\n<polygon fill=\"#399de5\" stroke=\"#000000\" points=\"2361,-565.5 2260,-565.5 2260,-512.5 2361,-512.5 2361,-565.5\"/>\n<text text-anchor=\"middle\" x=\"2310.5\" y=\"-550.3\" font-family=\"Helvetica,sans-Serif\" font-size=\"14.00\" fill=\"#000000\">entropy = 0.0</text>\n<text text-anchor=\"middle\" x=\"2310.5\" y=\"-535.3\" font-family=\"Helvetica,sans-Serif\" font-size=\"14.00\" fill=\"#000000\">samples = 3</text>\n<text text-anchor=\"middle\" x=\"2310.5\" y=\"-520.3\" font-family=\"Helvetica,sans-Serif\" font-size=\"14.00\" fill=\"#000000\">value = [0, 3]</text>\n</g>\n<!-- 120&#45;&gt;121 -->\n<g id=\"edge121\" class=\"edge\">\n<title>120&#45;&gt;121</title>\n<path fill=\"none\" stroke=\"#000000\" d=\"M2318.5708,-608.9465C2317.3379,-598.2621 2315.9722,-586.4254 2314.7201,-575.5742\"/>\n<polygon fill=\"#000000\" stroke=\"#000000\" points=\"2318.1858,-575.075 2313.5626,-565.5422 2311.232,-575.8775 2318.1858,-575.075\"/>\n</g>\n<!-- 122 -->\n<g id=\"node123\" class=\"node\">\n<title>122</title>\n<polygon fill=\"#ffffff\" stroke=\"#000000\" points=\"2482,-573 2379,-573 2379,-505 2482,-505 2482,-573\"/>\n<text text-anchor=\"middle\" x=\"2430.5\" y=\"-557.8\" font-family=\"Helvetica,sans-Serif\" font-size=\"14.00\" fill=\"#000000\">X[7] &lt;= 155.5</text>\n<text text-anchor=\"middle\" x=\"2430.5\" y=\"-542.8\" font-family=\"Helvetica,sans-Serif\" font-size=\"14.00\" fill=\"#000000\">entropy = 1.0</text>\n<text text-anchor=\"middle\" x=\"2430.5\" y=\"-527.8\" font-family=\"Helvetica,sans-Serif\" font-size=\"14.00\" fill=\"#000000\">samples = 4</text>\n<text text-anchor=\"middle\" x=\"2430.5\" y=\"-512.8\" font-family=\"Helvetica,sans-Serif\" font-size=\"14.00\" fill=\"#000000\">value = [2, 2]</text>\n</g>\n<!-- 120&#45;&gt;122 -->\n<g id=\"edge122\" class=\"edge\">\n<title>120&#45;&gt;122</title>\n<path fill=\"none\" stroke=\"#000000\" d=\"M2357.8632,-608.9465C2367.3736,-599.7884 2377.763,-589.7838 2387.6335,-580.2788\"/>\n<polygon fill=\"#000000\" stroke=\"#000000\" points=\"2390.2818,-582.5876 2395.0573,-573.13 2385.4263,-577.5453 2390.2818,-582.5876\"/>\n</g>\n<!-- 123 -->\n<g id=\"node124\" class=\"node\">\n<title>123</title>\n<polygon fill=\"#9ccef2\" stroke=\"#000000\" points=\"2457.5,-469 2339.5,-469 2339.5,-401 2457.5,-401 2457.5,-469\"/>\n<text text-anchor=\"middle\" x=\"2398.5\" y=\"-453.8\" font-family=\"Helvetica,sans-Serif\" font-size=\"14.00\" fill=\"#000000\">X[4] &lt;= 303.5</text>\n<text text-anchor=\"middle\" x=\"2398.5\" y=\"-438.8\" font-family=\"Helvetica,sans-Serif\" font-size=\"14.00\" fill=\"#000000\">entropy = 0.918</text>\n<text text-anchor=\"middle\" x=\"2398.5\" y=\"-423.8\" font-family=\"Helvetica,sans-Serif\" font-size=\"14.00\" fill=\"#000000\">samples = 3</text>\n<text text-anchor=\"middle\" x=\"2398.5\" y=\"-408.8\" font-family=\"Helvetica,sans-Serif\" font-size=\"14.00\" fill=\"#000000\">value = [1, 2]</text>\n</g>\n<!-- 122&#45;&gt;123 -->\n<g id=\"edge123\" class=\"edge\">\n<title>122&#45;&gt;123</title>\n<path fill=\"none\" stroke=\"#000000\" d=\"M2420.022,-504.9465C2417.4528,-496.5965 2414.667,-487.5427 2411.9786,-478.8056\"/>\n<polygon fill=\"#000000\" stroke=\"#000000\" points=\"2415.2877,-477.6585 2409.0015,-469.13 2408.5972,-479.7171 2415.2877,-477.6585\"/>\n</g>\n<!-- 126 -->\n<g id=\"node127\" class=\"node\">\n<title>126</title>\n<polygon fill=\"#e58139\" stroke=\"#000000\" points=\"2577,-461.5 2476,-461.5 2476,-408.5 2577,-408.5 2577,-461.5\"/>\n<text text-anchor=\"middle\" x=\"2526.5\" y=\"-446.3\" font-family=\"Helvetica,sans-Serif\" font-size=\"14.00\" fill=\"#000000\">entropy = 0.0</text>\n<text text-anchor=\"middle\" x=\"2526.5\" y=\"-431.3\" font-family=\"Helvetica,sans-Serif\" font-size=\"14.00\" fill=\"#000000\">samples = 1</text>\n<text text-anchor=\"middle\" x=\"2526.5\" y=\"-416.3\" font-family=\"Helvetica,sans-Serif\" font-size=\"14.00\" fill=\"#000000\">value = [1, 0]</text>\n</g>\n<!-- 122&#45;&gt;126 -->\n<g id=\"edge126\" class=\"edge\">\n<title>122&#45;&gt;126</title>\n<path fill=\"none\" stroke=\"#000000\" d=\"M2461.934,-504.9465C2472.61,-493.3809 2484.5322,-480.4652 2495.1978,-468.9107\"/>\n<polygon fill=\"#000000\" stroke=\"#000000\" points=\"2497.7885,-471.2642 2501.9995,-461.5422 2492.6449,-466.5162 2497.7885,-471.2642\"/>\n</g>\n<!-- 124 -->\n<g id=\"node125\" class=\"node\">\n<title>124</title>\n<polygon fill=\"#e58139\" stroke=\"#000000\" points=\"2433,-357.5 2332,-357.5 2332,-304.5 2433,-304.5 2433,-357.5\"/>\n<text text-anchor=\"middle\" x=\"2382.5\" y=\"-342.3\" font-family=\"Helvetica,sans-Serif\" font-size=\"14.00\" fill=\"#000000\">entropy = 0.0</text>\n<text text-anchor=\"middle\" x=\"2382.5\" y=\"-327.3\" font-family=\"Helvetica,sans-Serif\" font-size=\"14.00\" fill=\"#000000\">samples = 1</text>\n<text text-anchor=\"middle\" x=\"2382.5\" y=\"-312.3\" font-family=\"Helvetica,sans-Serif\" font-size=\"14.00\" fill=\"#000000\">value = [1, 0]</text>\n</g>\n<!-- 123&#45;&gt;124 -->\n<g id=\"edge124\" class=\"edge\">\n<title>123&#45;&gt;124</title>\n<path fill=\"none\" stroke=\"#000000\" d=\"M2393.261,-400.9465C2391.6172,-390.2621 2389.7962,-378.4254 2388.1268,-367.5742\"/>\n<polygon fill=\"#000000\" stroke=\"#000000\" points=\"2391.5634,-366.8937 2386.5834,-357.5422 2384.6448,-367.9581 2391.5634,-366.8937\"/>\n</g>\n<!-- 125 -->\n<g id=\"node126\" class=\"node\">\n<title>125</title>\n<polygon fill=\"#399de5\" stroke=\"#000000\" points=\"2552,-357.5 2451,-357.5 2451,-304.5 2552,-304.5 2552,-357.5\"/>\n<text text-anchor=\"middle\" x=\"2501.5\" y=\"-342.3\" font-family=\"Helvetica,sans-Serif\" font-size=\"14.00\" fill=\"#000000\">entropy = 0.0</text>\n<text text-anchor=\"middle\" x=\"2501.5\" y=\"-327.3\" font-family=\"Helvetica,sans-Serif\" font-size=\"14.00\" fill=\"#000000\">samples = 2</text>\n<text text-anchor=\"middle\" x=\"2501.5\" y=\"-312.3\" font-family=\"Helvetica,sans-Serif\" font-size=\"14.00\" fill=\"#000000\">value = [0, 2]</text>\n</g>\n<!-- 123&#45;&gt;125 -->\n<g id=\"edge125\" class=\"edge\">\n<title>123&#45;&gt;125</title>\n<path fill=\"none\" stroke=\"#000000\" d=\"M2432.2261,-400.9465C2443.6805,-389.3809 2456.472,-376.4652 2467.9154,-364.9107\"/>\n<polygon fill=\"#000000\" stroke=\"#000000\" points=\"2470.663,-367.1102 2475.213,-357.5422 2465.6894,-362.1844 2470.663,-367.1102\"/>\n</g>\n<!-- 130 -->\n<g id=\"node131\" class=\"node\">\n<title>130</title>\n<polygon fill=\"#e58139\" stroke=\"#000000\" points=\"2622,-1085.5 2521,-1085.5 2521,-1032.5 2622,-1032.5 2622,-1085.5\"/>\n<text text-anchor=\"middle\" x=\"2571.5\" y=\"-1070.3\" font-family=\"Helvetica,sans-Serif\" font-size=\"14.00\" fill=\"#000000\">entropy = 0.0</text>\n<text text-anchor=\"middle\" x=\"2571.5\" y=\"-1055.3\" font-family=\"Helvetica,sans-Serif\" font-size=\"14.00\" fill=\"#000000\">samples = 7</text>\n<text text-anchor=\"middle\" x=\"2571.5\" y=\"-1040.3\" font-family=\"Helvetica,sans-Serif\" font-size=\"14.00\" fill=\"#000000\">value = [7, 0]</text>\n</g>\n<!-- 129&#45;&gt;130 -->\n<g id=\"edge130\" class=\"edge\">\n<title>129&#45;&gt;130</title>\n<path fill=\"none\" stroke=\"#000000\" d=\"M2572.1726,-1128.9465C2572.0698,-1118.2621 2571.956,-1106.4254 2571.8517,-1095.5742\"/>\n<polygon fill=\"#000000\" stroke=\"#000000\" points=\"2575.3513,-1095.508 2571.7552,-1085.5422 2568.3516,-1095.5754 2575.3513,-1095.508\"/>\n</g>\n<!-- 131 -->\n<g id=\"node132\" class=\"node\">\n<title>131</title>\n<polygon fill=\"#fae5d6\" stroke=\"#000000\" points=\"2756.5,-1093 2640.5,-1093 2640.5,-1025 2756.5,-1025 2756.5,-1093\"/>\n<text text-anchor=\"middle\" x=\"2698.5\" y=\"-1077.8\" font-family=\"Helvetica,sans-Serif\" font-size=\"14.00\" fill=\"#000000\">X[1] &lt;= 0.5</text>\n<text text-anchor=\"middle\" x=\"2698.5\" y=\"-1062.8\" font-family=\"Helvetica,sans-Serif\" font-size=\"14.00\" fill=\"#000000\">entropy = 0.99</text>\n<text text-anchor=\"middle\" x=\"2698.5\" y=\"-1047.8\" font-family=\"Helvetica,sans-Serif\" font-size=\"14.00\" fill=\"#000000\">samples = 43</text>\n<text text-anchor=\"middle\" x=\"2698.5\" y=\"-1032.8\" font-family=\"Helvetica,sans-Serif\" font-size=\"14.00\" fill=\"#000000\">value = [24, 19]</text>\n</g>\n<!-- 129&#45;&gt;131 -->\n<g id=\"edge131\" class=\"edge\">\n<title>129&#45;&gt;131</title>\n<path fill=\"none\" stroke=\"#000000\" d=\"M2613.7571,-1128.9465C2625.0701,-1119.6088 2637.4492,-1109.3911 2649.1658,-1099.7203\"/>\n<polygon fill=\"#000000\" stroke=\"#000000\" points=\"2651.6659,-1102.195 2657.1502,-1093.13 2647.21,-1096.7964 2651.6659,-1102.195\"/>\n</g>\n<!-- 132 -->\n<g id=\"node133\" class=\"node\">\n<title>132</title>\n<polygon fill=\"#ea9a61\" stroke=\"#000000\" points=\"2753.5,-989 2643.5,-989 2643.5,-921 2753.5,-921 2753.5,-989\"/>\n<text text-anchor=\"middle\" x=\"2698.5\" y=\"-973.8\" font-family=\"Helvetica,sans-Serif\" font-size=\"14.00\" fill=\"#000000\">X[3] &lt;= 151.0</text>\n<text text-anchor=\"middle\" x=\"2698.5\" y=\"-958.8\" font-family=\"Helvetica,sans-Serif\" font-size=\"14.00\" fill=\"#000000\">entropy = 0.65</text>\n<text text-anchor=\"middle\" x=\"2698.5\" y=\"-943.8\" font-family=\"Helvetica,sans-Serif\" font-size=\"14.00\" fill=\"#000000\">samples = 12</text>\n<text text-anchor=\"middle\" x=\"2698.5\" y=\"-928.8\" font-family=\"Helvetica,sans-Serif\" font-size=\"14.00\" fill=\"#000000\">value = [10, 2]</text>\n</g>\n<!-- 131&#45;&gt;132 -->\n<g id=\"edge132\" class=\"edge\">\n<title>131&#45;&gt;132</title>\n<path fill=\"none\" stroke=\"#000000\" d=\"M2698.5,-1024.9465C2698.5,-1016.776 2698.5,-1007.9318 2698.5,-999.3697\"/>\n<polygon fill=\"#000000\" stroke=\"#000000\" points=\"2702.0001,-999.13 2698.5,-989.13 2695.0001,-999.13 2702.0001,-999.13\"/>\n</g>\n<!-- 137 -->\n<g id=\"node138\" class=\"node\">\n<title>137</title>\n<polygon fill=\"#dceefa\" stroke=\"#000000\" points=\"2889.5,-989 2771.5,-989 2771.5,-921 2889.5,-921 2889.5,-989\"/>\n<text text-anchor=\"middle\" x=\"2830.5\" y=\"-973.8\" font-family=\"Helvetica,sans-Serif\" font-size=\"14.00\" fill=\"#000000\">X[7] &lt;= 183.0</text>\n<text text-anchor=\"middle\" x=\"2830.5\" y=\"-958.8\" font-family=\"Helvetica,sans-Serif\" font-size=\"14.00\" fill=\"#000000\">entropy = 0.993</text>\n<text text-anchor=\"middle\" x=\"2830.5\" y=\"-943.8\" font-family=\"Helvetica,sans-Serif\" font-size=\"14.00\" fill=\"#000000\">samples = 31</text>\n<text text-anchor=\"middle\" x=\"2830.5\" y=\"-928.8\" font-family=\"Helvetica,sans-Serif\" font-size=\"14.00\" fill=\"#000000\">value = [14, 17]</text>\n</g>\n<!-- 131&#45;&gt;137 -->\n<g id=\"edge137\" class=\"edge\">\n<title>131&#45;&gt;137</title>\n<path fill=\"none\" stroke=\"#000000\" d=\"M2741.7217,-1024.9465C2753.6874,-1015.519 2766.7915,-1005.1946 2779.1704,-995.4415\"/>\n<polygon fill=\"#000000\" stroke=\"#000000\" points=\"2781.4923,-998.068 2787.1812,-989.13 2777.1602,-992.5695 2781.4923,-998.068\"/>\n</g>\n<!-- 133 -->\n<g id=\"node134\" class=\"node\">\n<title>133</title>\n<polygon fill=\"#e88e4d\" stroke=\"#000000\" points=\"2633.5,-885 2515.5,-885 2515.5,-817 2633.5,-817 2633.5,-885\"/>\n<text text-anchor=\"middle\" x=\"2574.5\" y=\"-869.8\" font-family=\"Helvetica,sans-Serif\" font-size=\"14.00\" fill=\"#000000\">X[5] &lt;= 0.5</text>\n<text text-anchor=\"middle\" x=\"2574.5\" y=\"-854.8\" font-family=\"Helvetica,sans-Serif\" font-size=\"14.00\" fill=\"#000000\">entropy = 0.439</text>\n<text text-anchor=\"middle\" x=\"2574.5\" y=\"-839.8\" font-family=\"Helvetica,sans-Serif\" font-size=\"14.00\" fill=\"#000000\">samples = 11</text>\n<text text-anchor=\"middle\" x=\"2574.5\" y=\"-824.8\" font-family=\"Helvetica,sans-Serif\" font-size=\"14.00\" fill=\"#000000\">value = [10, 1]</text>\n</g>\n<!-- 132&#45;&gt;133 -->\n<g id=\"edge133\" class=\"edge\">\n<title>132&#45;&gt;133</title>\n<path fill=\"none\" stroke=\"#000000\" d=\"M2657.8978,-920.9465C2646.7644,-911.6088 2634.5817,-901.3911 2623.0511,-891.7203\"/>\n<polygon fill=\"#000000\" stroke=\"#000000\" points=\"2625.1046,-888.8745 2615.1935,-885.13 2620.6062,-894.2378 2625.1046,-888.8745\"/>\n</g>\n<!-- 136 -->\n<g id=\"node137\" class=\"node\">\n<title>136</title>\n<polygon fill=\"#399de5\" stroke=\"#000000\" points=\"2753,-877.5 2652,-877.5 2652,-824.5 2753,-824.5 2753,-877.5\"/>\n<text text-anchor=\"middle\" x=\"2702.5\" y=\"-862.3\" font-family=\"Helvetica,sans-Serif\" font-size=\"14.00\" fill=\"#000000\">entropy = 0.0</text>\n<text text-anchor=\"middle\" x=\"2702.5\" y=\"-847.3\" font-family=\"Helvetica,sans-Serif\" font-size=\"14.00\" fill=\"#000000\">samples = 1</text>\n<text text-anchor=\"middle\" x=\"2702.5\" y=\"-832.3\" font-family=\"Helvetica,sans-Serif\" font-size=\"14.00\" fill=\"#000000\">value = [0, 1]</text>\n</g>\n<!-- 132&#45;&gt;136 -->\n<g id=\"edge136\" class=\"edge\">\n<title>132&#45;&gt;136</title>\n<path fill=\"none\" stroke=\"#000000\" d=\"M2699.8097,-920.9465C2700.2207,-910.2621 2700.6759,-898.4254 2701.0933,-887.5742\"/>\n<polygon fill=\"#000000\" stroke=\"#000000\" points=\"2704.5921,-887.6693 2701.4791,-877.5422 2697.5973,-887.4002 2704.5921,-887.6693\"/>\n</g>\n<!-- 134 -->\n<g id=\"node135\" class=\"node\">\n<title>134</title>\n<polygon fill=\"#e58139\" stroke=\"#000000\" points=\"2628,-773.5 2521,-773.5 2521,-720.5 2628,-720.5 2628,-773.5\"/>\n<text text-anchor=\"middle\" x=\"2574.5\" y=\"-758.3\" font-family=\"Helvetica,sans-Serif\" font-size=\"14.00\" fill=\"#000000\">entropy = 0.0</text>\n<text text-anchor=\"middle\" x=\"2574.5\" y=\"-743.3\" font-family=\"Helvetica,sans-Serif\" font-size=\"14.00\" fill=\"#000000\">samples = 10</text>\n<text text-anchor=\"middle\" x=\"2574.5\" y=\"-728.3\" font-family=\"Helvetica,sans-Serif\" font-size=\"14.00\" fill=\"#000000\">value = [10, 0]</text>\n</g>\n<!-- 133&#45;&gt;134 -->\n<g id=\"edge134\" class=\"edge\">\n<title>133&#45;&gt;134</title>\n<path fill=\"none\" stroke=\"#000000\" d=\"M2574.5,-816.9465C2574.5,-806.2621 2574.5,-794.4254 2574.5,-783.5742\"/>\n<polygon fill=\"#000000\" stroke=\"#000000\" points=\"2578.0001,-783.5421 2574.5,-773.5422 2571.0001,-783.5422 2578.0001,-783.5421\"/>\n</g>\n<!-- 135 -->\n<g id=\"node136\" class=\"node\">\n<title>135</title>\n<polygon fill=\"#399de5\" stroke=\"#000000\" points=\"2747,-773.5 2646,-773.5 2646,-720.5 2747,-720.5 2747,-773.5\"/>\n<text text-anchor=\"middle\" x=\"2696.5\" y=\"-758.3\" font-family=\"Helvetica,sans-Serif\" font-size=\"14.00\" fill=\"#000000\">entropy = 0.0</text>\n<text text-anchor=\"middle\" x=\"2696.5\" y=\"-743.3\" font-family=\"Helvetica,sans-Serif\" font-size=\"14.00\" fill=\"#000000\">samples = 1</text>\n<text text-anchor=\"middle\" x=\"2696.5\" y=\"-728.3\" font-family=\"Helvetica,sans-Serif\" font-size=\"14.00\" fill=\"#000000\">value = [0, 1]</text>\n</g>\n<!-- 133&#45;&gt;135 -->\n<g id=\"edge135\" class=\"edge\">\n<title>133&#45;&gt;135</title>\n<path fill=\"none\" stroke=\"#000000\" d=\"M2614.4474,-816.9465C2628.2732,-805.1606 2643.7436,-791.9726 2657.4929,-780.2519\"/>\n<polygon fill=\"#000000\" stroke=\"#000000\" points=\"2660.0244,-782.6931 2665.364,-773.5422 2655.4832,-777.366 2660.0244,-782.6931\"/>\n</g>\n<!-- 138 -->\n<g id=\"node139\" class=\"node\">\n<title>138</title>\n<polygon fill=\"#add7f4\" stroke=\"#000000\" points=\"2889.5,-885 2771.5,-885 2771.5,-817 2889.5,-817 2889.5,-885\"/>\n<text text-anchor=\"middle\" x=\"2830.5\" y=\"-869.8\" font-family=\"Helvetica,sans-Serif\" font-size=\"14.00\" fill=\"#000000\">X[4] &lt;= 255.0</text>\n<text text-anchor=\"middle\" x=\"2830.5\" y=\"-854.8\" font-family=\"Helvetica,sans-Serif\" font-size=\"14.00\" fill=\"#000000\">entropy = 0.951</text>\n<text text-anchor=\"middle\" x=\"2830.5\" y=\"-839.8\" font-family=\"Helvetica,sans-Serif\" font-size=\"14.00\" fill=\"#000000\">samples = 27</text>\n<text text-anchor=\"middle\" x=\"2830.5\" y=\"-824.8\" font-family=\"Helvetica,sans-Serif\" font-size=\"14.00\" fill=\"#000000\">value = [10, 17]</text>\n</g>\n<!-- 137&#45;&gt;138 -->\n<g id=\"edge138\" class=\"edge\">\n<title>137&#45;&gt;138</title>\n<path fill=\"none\" stroke=\"#000000\" d=\"M2830.5,-920.9465C2830.5,-912.776 2830.5,-903.9318 2830.5,-895.3697\"/>\n<polygon fill=\"#000000\" stroke=\"#000000\" points=\"2834.0001,-895.13 2830.5,-885.13 2827.0001,-895.13 2834.0001,-895.13\"/>\n</g>\n<!-- 153 -->\n<g id=\"node154\" class=\"node\">\n<title>153</title>\n<polygon fill=\"#e58139\" stroke=\"#000000\" points=\"3009,-877.5 2908,-877.5 2908,-824.5 3009,-824.5 3009,-877.5\"/>\n<text text-anchor=\"middle\" x=\"2958.5\" y=\"-862.3\" font-family=\"Helvetica,sans-Serif\" font-size=\"14.00\" fill=\"#000000\">entropy = 0.0</text>\n<text text-anchor=\"middle\" x=\"2958.5\" y=\"-847.3\" font-family=\"Helvetica,sans-Serif\" font-size=\"14.00\" fill=\"#000000\">samples = 4</text>\n<text text-anchor=\"middle\" x=\"2958.5\" y=\"-832.3\" font-family=\"Helvetica,sans-Serif\" font-size=\"14.00\" fill=\"#000000\">value = [4, 0]</text>\n</g>\n<!-- 137&#45;&gt;153 -->\n<g id=\"edge153\" class=\"edge\">\n<title>137&#45;&gt;153</title>\n<path fill=\"none\" stroke=\"#000000\" d=\"M2872.412,-920.9465C2887.0533,-909.0504 2903.4526,-895.726 2917.9785,-883.9237\"/>\n<polygon fill=\"#000000\" stroke=\"#000000\" points=\"2920.2786,-886.5645 2925.8327,-877.5422 2915.8645,-881.1317 2920.2786,-886.5645\"/>\n</g>\n<!-- 139 -->\n<g id=\"node140\" class=\"node\">\n<title>139</title>\n<polygon fill=\"#ffffff\" stroke=\"#000000\" points=\"2873.5,-781 2769.5,-781 2769.5,-713 2873.5,-713 2873.5,-781\"/>\n<text text-anchor=\"middle\" x=\"2821.5\" y=\"-765.8\" font-family=\"Helvetica,sans-Serif\" font-size=\"14.00\" fill=\"#000000\">X[3] &lt;= 115.0</text>\n<text text-anchor=\"middle\" x=\"2821.5\" y=\"-750.8\" font-family=\"Helvetica,sans-Serif\" font-size=\"14.00\" fill=\"#000000\">entropy = 1.0</text>\n<text text-anchor=\"middle\" x=\"2821.5\" y=\"-735.8\" font-family=\"Helvetica,sans-Serif\" font-size=\"14.00\" fill=\"#000000\">samples = 18</text>\n<text text-anchor=\"middle\" x=\"2821.5\" y=\"-720.8\" font-family=\"Helvetica,sans-Serif\" font-size=\"14.00\" fill=\"#000000\">value = [9, 9]</text>\n</g>\n<!-- 138&#45;&gt;139 -->\n<g id=\"edge139\" class=\"edge\">\n<title>138&#45;&gt;139</title>\n<path fill=\"none\" stroke=\"#000000\" d=\"M2827.5531,-816.9465C2826.846,-808.776 2826.0806,-799.9318 2825.3397,-791.3697\"/>\n<polygon fill=\"#000000\" stroke=\"#000000\" points=\"2828.8028,-790.791 2824.4536,-781.13 2821.8288,-791.3945 2828.8028,-790.791\"/>\n</g>\n<!-- 150 -->\n<g id=\"node151\" class=\"node\">\n<title>150</title>\n<polygon fill=\"#52a9e8\" stroke=\"#000000\" points=\"3009.5,-781 2891.5,-781 2891.5,-713 3009.5,-713 3009.5,-781\"/>\n<text text-anchor=\"middle\" x=\"2950.5\" y=\"-765.8\" font-family=\"Helvetica,sans-Serif\" font-size=\"14.00\" fill=\"#000000\">X[7] &lt;= 176.5</text>\n<text text-anchor=\"middle\" x=\"2950.5\" y=\"-750.8\" font-family=\"Helvetica,sans-Serif\" font-size=\"14.00\" fill=\"#000000\">entropy = 0.503</text>\n<text text-anchor=\"middle\" x=\"2950.5\" y=\"-735.8\" font-family=\"Helvetica,sans-Serif\" font-size=\"14.00\" fill=\"#000000\">samples = 9</text>\n<text text-anchor=\"middle\" x=\"2950.5\" y=\"-720.8\" font-family=\"Helvetica,sans-Serif\" font-size=\"14.00\" fill=\"#000000\">value = [1, 8]</text>\n</g>\n<!-- 138&#45;&gt;150 -->\n<g id=\"edge150\" class=\"edge\">\n<title>138&#45;&gt;150</title>\n<path fill=\"none\" stroke=\"#000000\" d=\"M2869.7925,-816.9465C2880.5667,-807.6088 2892.3564,-797.3911 2903.515,-787.7203\"/>\n<polygon fill=\"#000000\" stroke=\"#000000\" points=\"2905.8546,-790.3243 2911.1192,-781.13 2901.2701,-785.0344 2905.8546,-790.3243\"/>\n</g>\n<!-- 140 -->\n<g id=\"node141\" class=\"node\">\n<title>140</title>\n<polygon fill=\"#399de5\" stroke=\"#000000\" points=\"2745,-669.5 2644,-669.5 2644,-616.5 2745,-616.5 2745,-669.5\"/>\n<text text-anchor=\"middle\" x=\"2694.5\" y=\"-654.3\" font-family=\"Helvetica,sans-Serif\" font-size=\"14.00\" fill=\"#000000\">entropy = 0.0</text>\n<text text-anchor=\"middle\" x=\"2694.5\" y=\"-639.3\" font-family=\"Helvetica,sans-Serif\" font-size=\"14.00\" fill=\"#000000\">samples = 3</text>\n<text text-anchor=\"middle\" x=\"2694.5\" y=\"-624.3\" font-family=\"Helvetica,sans-Serif\" font-size=\"14.00\" fill=\"#000000\">value = [0, 3]</text>\n</g>\n<!-- 139&#45;&gt;140 -->\n<g id=\"edge140\" class=\"edge\">\n<title>139&#45;&gt;140</title>\n<path fill=\"none\" stroke=\"#000000\" d=\"M2779.9155,-712.9465C2765.3885,-701.0504 2749.1173,-687.726 2734.7049,-675.9237\"/>\n<polygon fill=\"#000000\" stroke=\"#000000\" points=\"2736.8665,-673.17 2726.9121,-669.5422 2732.4314,-678.5858 2736.8665,-673.17\"/>\n</g>\n<!-- 141 -->\n<g id=\"node142\" class=\"node\">\n<title>141</title>\n<polygon fill=\"#f6d5bd\" stroke=\"#000000\" points=\"2881.5,-677 2763.5,-677 2763.5,-609 2881.5,-609 2881.5,-677\"/>\n<text text-anchor=\"middle\" x=\"2822.5\" y=\"-661.8\" font-family=\"Helvetica,sans-Serif\" font-size=\"14.00\" fill=\"#000000\">X[3] &lt;= 131.0</text>\n<text text-anchor=\"middle\" x=\"2822.5\" y=\"-646.8\" font-family=\"Helvetica,sans-Serif\" font-size=\"14.00\" fill=\"#000000\">entropy = 0.971</text>\n<text text-anchor=\"middle\" x=\"2822.5\" y=\"-631.8\" font-family=\"Helvetica,sans-Serif\" font-size=\"14.00\" fill=\"#000000\">samples = 15</text>\n<text text-anchor=\"middle\" x=\"2822.5\" y=\"-616.8\" font-family=\"Helvetica,sans-Serif\" font-size=\"14.00\" fill=\"#000000\">value = [9, 6]</text>\n</g>\n<!-- 139&#45;&gt;141 -->\n<g id=\"edge141\" class=\"edge\">\n<title>139&#45;&gt;141</title>\n<path fill=\"none\" stroke=\"#000000\" d=\"M2821.8274,-712.9465C2821.906,-704.776 2821.991,-695.9318 2822.0734,-687.3697\"/>\n<polygon fill=\"#000000\" stroke=\"#000000\" points=\"2825.5754,-687.1632 2822.1718,-677.13 2818.5757,-687.0958 2825.5754,-687.1632\"/>\n</g>\n<!-- 142 -->\n<g id=\"node143\" class=\"node\">\n<title>142</title>\n<polygon fill=\"#eca06a\" stroke=\"#000000\" points=\"2857.5,-573 2739.5,-573 2739.5,-505 2857.5,-505 2857.5,-573\"/>\n<text text-anchor=\"middle\" x=\"2798.5\" y=\"-557.8\" font-family=\"Helvetica,sans-Serif\" font-size=\"14.00\" fill=\"#000000\">X[7] &lt;= 172.0</text>\n<text text-anchor=\"middle\" x=\"2798.5\" y=\"-542.8\" font-family=\"Helvetica,sans-Serif\" font-size=\"14.00\" fill=\"#000000\">entropy = 0.722</text>\n<text text-anchor=\"middle\" x=\"2798.5\" y=\"-527.8\" font-family=\"Helvetica,sans-Serif\" font-size=\"14.00\" fill=\"#000000\">samples = 10</text>\n<text text-anchor=\"middle\" x=\"2798.5\" y=\"-512.8\" font-family=\"Helvetica,sans-Serif\" font-size=\"14.00\" fill=\"#000000\">value = [8, 2]</text>\n</g>\n<!-- 141&#45;&gt;142 -->\n<g id=\"edge142\" class=\"edge\">\n<title>141&#45;&gt;142</title>\n<path fill=\"none\" stroke=\"#000000\" d=\"M2814.6415,-608.9465C2812.7353,-600.6863 2810.6702,-591.7374 2808.674,-583.0875\"/>\n<polygon fill=\"#000000\" stroke=\"#000000\" points=\"2812.0352,-582.0869 2806.3762,-573.13 2805.2145,-583.6609 2812.0352,-582.0869\"/>\n</g>\n<!-- 147 -->\n<g id=\"node148\" class=\"node\">\n<title>147</title>\n<polygon fill=\"#6ab6ec\" stroke=\"#000000\" points=\"2993.5,-573 2875.5,-573 2875.5,-505 2993.5,-505 2993.5,-573\"/>\n<text text-anchor=\"middle\" x=\"2934.5\" y=\"-557.8\" font-family=\"Helvetica,sans-Serif\" font-size=\"14.00\" fill=\"#000000\">X[0] &lt;= 62.0</text>\n<text text-anchor=\"middle\" x=\"2934.5\" y=\"-542.8\" font-family=\"Helvetica,sans-Serif\" font-size=\"14.00\" fill=\"#000000\">entropy = 0.722</text>\n<text text-anchor=\"middle\" x=\"2934.5\" y=\"-527.8\" font-family=\"Helvetica,sans-Serif\" font-size=\"14.00\" fill=\"#000000\">samples = 5</text>\n<text text-anchor=\"middle\" x=\"2934.5\" y=\"-512.8\" font-family=\"Helvetica,sans-Serif\" font-size=\"14.00\" fill=\"#000000\">value = [1, 4]</text>\n</g>\n<!-- 141&#45;&gt;147 -->\n<g id=\"edge147\" class=\"edge\">\n<title>141&#45;&gt;147</title>\n<path fill=\"none\" stroke=\"#000000\" d=\"M2859.173,-608.9465C2869.1323,-599.6986 2880.0211,-589.5876 2890.3468,-579.9994\"/>\n<polygon fill=\"#000000\" stroke=\"#000000\" points=\"2892.7982,-582.4993 2897.7446,-573.13 2888.0351,-577.3698 2892.7982,-582.4993\"/>\n</g>\n<!-- 143 -->\n<g id=\"node144\" class=\"node\">\n<title>143</title>\n<polygon fill=\"#e58139\" stroke=\"#000000\" points=\"2723,-461.5 2622,-461.5 2622,-408.5 2723,-408.5 2723,-461.5\"/>\n<text text-anchor=\"middle\" x=\"2672.5\" y=\"-446.3\" font-family=\"Helvetica,sans-Serif\" font-size=\"14.00\" fill=\"#000000\">entropy = 0.0</text>\n<text text-anchor=\"middle\" x=\"2672.5\" y=\"-431.3\" font-family=\"Helvetica,sans-Serif\" font-size=\"14.00\" fill=\"#000000\">samples = 7</text>\n<text text-anchor=\"middle\" x=\"2672.5\" y=\"-416.3\" font-family=\"Helvetica,sans-Serif\" font-size=\"14.00\" fill=\"#000000\">value = [7, 0]</text>\n</g>\n<!-- 142&#45;&gt;143 -->\n<g id=\"edge143\" class=\"edge\">\n<title>142&#45;&gt;143</title>\n<path fill=\"none\" stroke=\"#000000\" d=\"M2757.2429,-504.9465C2742.8303,-493.0504 2726.6873,-479.726 2712.3883,-467.9237\"/>\n<polygon fill=\"#000000\" stroke=\"#000000\" points=\"2714.5971,-465.2086 2704.6569,-461.5422 2710.1411,-470.6071 2714.5971,-465.2086\"/>\n</g>\n<!-- 144 -->\n<g id=\"node145\" class=\"node\">\n<title>144</title>\n<polygon fill=\"#9ccef2\" stroke=\"#000000\" points=\"2859.5,-469 2741.5,-469 2741.5,-401 2859.5,-401 2859.5,-469\"/>\n<text text-anchor=\"middle\" x=\"2800.5\" y=\"-453.8\" font-family=\"Helvetica,sans-Serif\" font-size=\"14.00\" fill=\"#000000\">X[3] &lt;= 127.5</text>\n<text text-anchor=\"middle\" x=\"2800.5\" y=\"-438.8\" font-family=\"Helvetica,sans-Serif\" font-size=\"14.00\" fill=\"#000000\">entropy = 0.918</text>\n<text text-anchor=\"middle\" x=\"2800.5\" y=\"-423.8\" font-family=\"Helvetica,sans-Serif\" font-size=\"14.00\" fill=\"#000000\">samples = 3</text>\n<text text-anchor=\"middle\" x=\"2800.5\" y=\"-408.8\" font-family=\"Helvetica,sans-Serif\" font-size=\"14.00\" fill=\"#000000\">value = [1, 2]</text>\n</g>\n<!-- 142&#45;&gt;144 -->\n<g id=\"edge144\" class=\"edge\">\n<title>142&#45;&gt;144</title>\n<path fill=\"none\" stroke=\"#000000\" d=\"M2799.1549,-504.9465C2799.312,-496.776 2799.4821,-487.9318 2799.6467,-479.3697\"/>\n<polygon fill=\"#000000\" stroke=\"#000000\" points=\"2803.1506,-479.1955 2799.8437,-469.13 2796.1519,-479.0608 2803.1506,-479.1955\"/>\n</g>\n<!-- 145 -->\n<g id=\"node146\" class=\"node\">\n<title>145</title>\n<polygon fill=\"#399de5\" stroke=\"#000000\" points=\"2792,-357.5 2691,-357.5 2691,-304.5 2792,-304.5 2792,-357.5\"/>\n<text text-anchor=\"middle\" x=\"2741.5\" y=\"-342.3\" font-family=\"Helvetica,sans-Serif\" font-size=\"14.00\" fill=\"#000000\">entropy = 0.0</text>\n<text text-anchor=\"middle\" x=\"2741.5\" y=\"-327.3\" font-family=\"Helvetica,sans-Serif\" font-size=\"14.00\" fill=\"#000000\">samples = 2</text>\n<text text-anchor=\"middle\" x=\"2741.5\" y=\"-312.3\" font-family=\"Helvetica,sans-Serif\" font-size=\"14.00\" fill=\"#000000\">value = [0, 2]</text>\n</g>\n<!-- 144&#45;&gt;145 -->\n<g id=\"edge145\" class=\"edge\">\n<title>144&#45;&gt;145</title>\n<path fill=\"none\" stroke=\"#000000\" d=\"M2781.1812,-400.9465C2774.9324,-389.9316 2767.9888,-377.6922 2761.6793,-366.5703\"/>\n<polygon fill=\"#000000\" stroke=\"#000000\" points=\"2764.5362,-364.513 2756.5576,-357.5422 2758.4477,-367.967 2764.5362,-364.513\"/>\n</g>\n<!-- 146 -->\n<g id=\"node147\" class=\"node\">\n<title>146</title>\n<polygon fill=\"#e58139\" stroke=\"#000000\" points=\"2911,-357.5 2810,-357.5 2810,-304.5 2911,-304.5 2911,-357.5\"/>\n<text text-anchor=\"middle\" x=\"2860.5\" y=\"-342.3\" font-family=\"Helvetica,sans-Serif\" font-size=\"14.00\" fill=\"#000000\">entropy = 0.0</text>\n<text text-anchor=\"middle\" x=\"2860.5\" y=\"-327.3\" font-family=\"Helvetica,sans-Serif\" font-size=\"14.00\" fill=\"#000000\">samples = 1</text>\n<text text-anchor=\"middle\" x=\"2860.5\" y=\"-312.3\" font-family=\"Helvetica,sans-Serif\" font-size=\"14.00\" fill=\"#000000\">value = [1, 0]</text>\n</g>\n<!-- 144&#45;&gt;146 -->\n<g id=\"edge146\" class=\"edge\">\n<title>144&#45;&gt;146</title>\n<path fill=\"none\" stroke=\"#000000\" d=\"M2820.1462,-400.9465C2826.5645,-389.8215 2833.7035,-377.4473 2840.171,-366.237\"/>\n<polygon fill=\"#000000\" stroke=\"#000000\" points=\"2843.2216,-367.9531 2845.1872,-357.5422 2837.1583,-364.455 2843.2216,-367.9531\"/>\n</g>\n<!-- 148 -->\n<g id=\"node149\" class=\"node\">\n<title>148</title>\n<polygon fill=\"#399de5\" stroke=\"#000000\" points=\"2981,-461.5 2880,-461.5 2880,-408.5 2981,-408.5 2981,-461.5\"/>\n<text text-anchor=\"middle\" x=\"2930.5\" y=\"-446.3\" font-family=\"Helvetica,sans-Serif\" font-size=\"14.00\" fill=\"#000000\">entropy = 0.0</text>\n<text text-anchor=\"middle\" x=\"2930.5\" y=\"-431.3\" font-family=\"Helvetica,sans-Serif\" font-size=\"14.00\" fill=\"#000000\">samples = 4</text>\n<text text-anchor=\"middle\" x=\"2930.5\" y=\"-416.3\" font-family=\"Helvetica,sans-Serif\" font-size=\"14.00\" fill=\"#000000\">value = [0, 4]</text>\n</g>\n<!-- 147&#45;&gt;148 -->\n<g id=\"edge148\" class=\"edge\">\n<title>147&#45;&gt;148</title>\n<path fill=\"none\" stroke=\"#000000\" d=\"M2933.1903,-504.9465C2932.7793,-494.2621 2932.3241,-482.4254 2931.9067,-471.5742\"/>\n<polygon fill=\"#000000\" stroke=\"#000000\" points=\"2935.4027,-471.4002 2931.5209,-461.5422 2928.4079,-471.6693 2935.4027,-471.4002\"/>\n</g>\n<!-- 149 -->\n<g id=\"node150\" class=\"node\">\n<title>149</title>\n<polygon fill=\"#e58139\" stroke=\"#000000\" points=\"3100,-461.5 2999,-461.5 2999,-408.5 3100,-408.5 3100,-461.5\"/>\n<text text-anchor=\"middle\" x=\"3049.5\" y=\"-446.3\" font-family=\"Helvetica,sans-Serif\" font-size=\"14.00\" fill=\"#000000\">entropy = 0.0</text>\n<text text-anchor=\"middle\" x=\"3049.5\" y=\"-431.3\" font-family=\"Helvetica,sans-Serif\" font-size=\"14.00\" fill=\"#000000\">samples = 1</text>\n<text text-anchor=\"middle\" x=\"3049.5\" y=\"-416.3\" font-family=\"Helvetica,sans-Serif\" font-size=\"14.00\" fill=\"#000000\">value = [1, 0]</text>\n</g>\n<!-- 147&#45;&gt;149 -->\n<g id=\"edge149\" class=\"edge\">\n<title>147&#45;&gt;149</title>\n<path fill=\"none\" stroke=\"#000000\" d=\"M2972.1553,-504.9465C2985.1878,-493.1606 2999.7706,-479.9726 3012.7311,-468.2519\"/>\n<polygon fill=\"#000000\" stroke=\"#000000\" points=\"3015.0812,-470.8456 3020.1505,-461.5422 3010.386,-465.6537 3015.0812,-470.8456\"/>\n</g>\n<!-- 151 -->\n<g id=\"node152\" class=\"node\">\n<title>151</title>\n<polygon fill=\"#399de5\" stroke=\"#000000\" points=\"3001,-669.5 2900,-669.5 2900,-616.5 3001,-616.5 3001,-669.5\"/>\n<text text-anchor=\"middle\" x=\"2950.5\" y=\"-654.3\" font-family=\"Helvetica,sans-Serif\" font-size=\"14.00\" fill=\"#000000\">entropy = 0.0</text>\n<text text-anchor=\"middle\" x=\"2950.5\" y=\"-639.3\" font-family=\"Helvetica,sans-Serif\" font-size=\"14.00\" fill=\"#000000\">samples = 8</text>\n<text text-anchor=\"middle\" x=\"2950.5\" y=\"-624.3\" font-family=\"Helvetica,sans-Serif\" font-size=\"14.00\" fill=\"#000000\">value = [0, 8]</text>\n</g>\n<!-- 150&#45;&gt;151 -->\n<g id=\"edge151\" class=\"edge\">\n<title>150&#45;&gt;151</title>\n<path fill=\"none\" stroke=\"#000000\" d=\"M2950.5,-712.9465C2950.5,-702.2621 2950.5,-690.4254 2950.5,-679.5742\"/>\n<polygon fill=\"#000000\" stroke=\"#000000\" points=\"2954.0001,-679.5421 2950.5,-669.5422 2947.0001,-679.5422 2954.0001,-679.5421\"/>\n</g>\n<!-- 152 -->\n<g id=\"node153\" class=\"node\">\n<title>152</title>\n<polygon fill=\"#e58139\" stroke=\"#000000\" points=\"3120,-669.5 3019,-669.5 3019,-616.5 3120,-616.5 3120,-669.5\"/>\n<text text-anchor=\"middle\" x=\"3069.5\" y=\"-654.3\" font-family=\"Helvetica,sans-Serif\" font-size=\"14.00\" fill=\"#000000\">entropy = 0.0</text>\n<text text-anchor=\"middle\" x=\"3069.5\" y=\"-639.3\" font-family=\"Helvetica,sans-Serif\" font-size=\"14.00\" fill=\"#000000\">samples = 1</text>\n<text text-anchor=\"middle\" x=\"3069.5\" y=\"-624.3\" font-family=\"Helvetica,sans-Serif\" font-size=\"14.00\" fill=\"#000000\">value = [1, 0]</text>\n</g>\n<!-- 150&#45;&gt;152 -->\n<g id=\"edge152\" class=\"edge\">\n<title>150&#45;&gt;152</title>\n<path fill=\"none\" stroke=\"#000000\" d=\"M2989.4651,-712.9465C3002.9509,-701.1606 3018.0409,-687.9726 3031.4521,-676.2519\"/>\n<polygon fill=\"#000000\" stroke=\"#000000\" points=\"3033.9031,-678.7582 3039.1296,-669.5422 3029.2967,-673.4874 3033.9031,-678.7582\"/>\n</g>\n<!-- 155 -->\n<g id=\"node156\" class=\"node\">\n<title>155</title>\n<polygon fill=\"#fae7d9\" stroke=\"#000000\" points=\"3961.5,-1301 3843.5,-1301 3843.5,-1233 3961.5,-1233 3961.5,-1301\"/>\n<text text-anchor=\"middle\" x=\"3902.5\" y=\"-1285.8\" font-family=\"Helvetica,sans-Serif\" font-size=\"14.00\" fill=\"#000000\">X[9] &lt;= 0.45</text>\n<text text-anchor=\"middle\" x=\"3902.5\" y=\"-1270.8\" font-family=\"Helvetica,sans-Serif\" font-size=\"14.00\" fill=\"#000000\">entropy = 0.992</text>\n<text text-anchor=\"middle\" x=\"3902.5\" y=\"-1255.8\" font-family=\"Helvetica,sans-Serif\" font-size=\"14.00\" fill=\"#000000\">samples = 121</text>\n<text text-anchor=\"middle\" x=\"3902.5\" y=\"-1240.8\" font-family=\"Helvetica,sans-Serif\" font-size=\"14.00\" fill=\"#000000\">value = [67, 54]</text>\n</g>\n<!-- 154&#45;&gt;155 -->\n<g id=\"edge155\" class=\"edge\">\n<title>154&#45;&gt;155</title>\n<path fill=\"none\" stroke=\"#000000\" d=\"M3902.5,-1336.9465C3902.5,-1328.776 3902.5,-1319.9318 3902.5,-1311.3697\"/>\n<polygon fill=\"#000000\" stroke=\"#000000\" points=\"3906.0001,-1311.13 3902.5,-1301.13 3899.0001,-1311.13 3906.0001,-1311.13\"/>\n</g>\n<!-- 208 -->\n<g id=\"node209\" class=\"node\">\n<title>208</title>\n<polygon fill=\"#e78a47\" stroke=\"#000000\" points=\"4645.5,-1301 4521.5,-1301 4521.5,-1233 4645.5,-1233 4645.5,-1301\"/>\n<text text-anchor=\"middle\" x=\"4583.5\" y=\"-1285.8\" font-family=\"Helvetica,sans-Serif\" font-size=\"14.00\" fill=\"#000000\">X[9] &lt;= 2.2</text>\n<text text-anchor=\"middle\" x=\"4583.5\" y=\"-1270.8\" font-family=\"Helvetica,sans-Serif\" font-size=\"14.00\" fill=\"#000000\">entropy = 0.357</text>\n<text text-anchor=\"middle\" x=\"4583.5\" y=\"-1255.8\" font-family=\"Helvetica,sans-Serif\" font-size=\"14.00\" fill=\"#000000\">samples = 237</text>\n<text text-anchor=\"middle\" x=\"4583.5\" y=\"-1240.8\" font-family=\"Helvetica,sans-Serif\" font-size=\"14.00\" fill=\"#000000\">value = [221, 16]</text>\n</g>\n<!-- 154&#45;&gt;208 -->\n<g id=\"edge208\" class=\"edge\">\n<title>154&#45;&gt;208</title>\n<path fill=\"none\" stroke=\"#000000\" d=\"M3964.7395,-1361.495C4090.9828,-1342.2155 4376.5524,-1298.6043 4510.9672,-1278.077\"/>\n<polygon fill=\"#000000\" stroke=\"#000000\" points=\"4511.8024,-1281.4901 4521.1593,-1276.5205 4510.7455,-1274.5703 4511.8024,-1281.4901\"/>\n</g>\n<!-- 156 -->\n<g id=\"node157\" class=\"node\">\n<title>156</title>\n<polygon fill=\"#f0b58a\" stroke=\"#000000\" points=\"3821.5,-1197 3705.5,-1197 3705.5,-1129 3821.5,-1129 3821.5,-1197\"/>\n<text text-anchor=\"middle\" x=\"3763.5\" y=\"-1181.8\" font-family=\"Helvetica,sans-Serif\" font-size=\"14.00\" fill=\"#000000\">X[7] &lt;= 149.0</text>\n<text text-anchor=\"middle\" x=\"3763.5\" y=\"-1166.8\" font-family=\"Helvetica,sans-Serif\" font-size=\"14.00\" fill=\"#000000\">entropy = 0.87</text>\n<text text-anchor=\"middle\" x=\"3763.5\" y=\"-1151.8\" font-family=\"Helvetica,sans-Serif\" font-size=\"14.00\" fill=\"#000000\">samples = 79</text>\n<text text-anchor=\"middle\" x=\"3763.5\" y=\"-1136.8\" font-family=\"Helvetica,sans-Serif\" font-size=\"14.00\" fill=\"#000000\">value = [56, 23]</text>\n</g>\n<!-- 155&#45;&gt;156 -->\n<g id=\"edge156\" class=\"edge\">\n<title>155&#45;&gt;156</title>\n<path fill=\"none\" stroke=\"#000000\" d=\"M3856.9862,-1232.9465C3844.266,-1223.4293 3830.324,-1212.9978 3817.1794,-1203.163\"/>\n<polygon fill=\"#000000\" stroke=\"#000000\" points=\"3819.2198,-1200.3184 3809.1161,-1197.13 3815.0262,-1205.9232 3819.2198,-1200.3184\"/>\n</g>\n<!-- 191 -->\n<g id=\"node192\" class=\"node\">\n<title>191</title>\n<polygon fill=\"#7fc0ee\" stroke=\"#000000\" points=\"4078.5,-1197 3962.5,-1197 3962.5,-1129 4078.5,-1129 4078.5,-1197\"/>\n<text text-anchor=\"middle\" x=\"4020.5\" y=\"-1181.8\" font-family=\"Helvetica,sans-Serif\" font-size=\"14.00\" fill=\"#000000\">X[5] &lt;= 0.5</text>\n<text text-anchor=\"middle\" x=\"4020.5\" y=\"-1166.8\" font-family=\"Helvetica,sans-Serif\" font-size=\"14.00\" fill=\"#000000\">entropy = 0.83</text>\n<text text-anchor=\"middle\" x=\"4020.5\" y=\"-1151.8\" font-family=\"Helvetica,sans-Serif\" font-size=\"14.00\" fill=\"#000000\">samples = 42</text>\n<text text-anchor=\"middle\" x=\"4020.5\" y=\"-1136.8\" font-family=\"Helvetica,sans-Serif\" font-size=\"14.00\" fill=\"#000000\">value = [11, 31]</text>\n</g>\n<!-- 155&#45;&gt;191 -->\n<g id=\"edge191\" class=\"edge\">\n<title>155&#45;&gt;191</title>\n<path fill=\"none\" stroke=\"#000000\" d=\"M3941.1376,-1232.9465C3951.6304,-1223.6986 3963.1026,-1213.5876 3973.9814,-1203.9994\"/>\n<polygon fill=\"#000000\" stroke=\"#000000\" points=\"3976.5877,-1206.3678 3981.7756,-1197.13 3971.9593,-1201.1163 3976.5877,-1206.3678\"/>\n</g>\n<!-- 157 -->\n<g id=\"node158\" class=\"node\">\n<title>157</title>\n<polygon fill=\"#e99559\" stroke=\"#000000\" points=\"3463.5,-1093 3345.5,-1093 3345.5,-1025 3463.5,-1025 3463.5,-1093\"/>\n<text text-anchor=\"middle\" x=\"3404.5\" y=\"-1077.8\" font-family=\"Helvetica,sans-Serif\" font-size=\"14.00\" fill=\"#000000\">X[4] &lt;= 42.5</text>\n<text text-anchor=\"middle\" x=\"3404.5\" y=\"-1062.8\" font-family=\"Helvetica,sans-Serif\" font-size=\"14.00\" fill=\"#000000\">entropy = 0.583</text>\n<text text-anchor=\"middle\" x=\"3404.5\" y=\"-1047.8\" font-family=\"Helvetica,sans-Serif\" font-size=\"14.00\" fill=\"#000000\">samples = 43</text>\n<text text-anchor=\"middle\" x=\"3404.5\" y=\"-1032.8\" font-family=\"Helvetica,sans-Serif\" font-size=\"14.00\" fill=\"#000000\">value = [37, 6]</text>\n</g>\n<!-- 156&#45;&gt;157 -->\n<g id=\"edge157\" class=\"edge\">\n<title>156&#45;&gt;157</title>\n<path fill=\"none\" stroke=\"#000000\" d=\"M3705.4214,-1146.175C3642.058,-1127.819 3540.6934,-1098.4543 3473.3674,-1078.9504\"/>\n<polygon fill=\"#000000\" stroke=\"#000000\" points=\"3474.2686,-1075.5677 3463.6896,-1076.1468 3472.3208,-1082.2912 3474.2686,-1075.5677\"/>\n</g>\n<!-- 170 -->\n<g id=\"node171\" class=\"node\">\n<title>170</title>\n<polygon fill=\"#fcf2ea\" stroke=\"#000000\" points=\"3822.5,-1093 3704.5,-1093 3704.5,-1025 3822.5,-1025 3822.5,-1093\"/>\n<text text-anchor=\"middle\" x=\"3763.5\" y=\"-1077.8\" font-family=\"Helvetica,sans-Serif\" font-size=\"14.00\" fill=\"#000000\">X[7] &lt;= 181.5</text>\n<text text-anchor=\"middle\" x=\"3763.5\" y=\"-1062.8\" font-family=\"Helvetica,sans-Serif\" font-size=\"14.00\" fill=\"#000000\">entropy = 0.998</text>\n<text text-anchor=\"middle\" x=\"3763.5\" y=\"-1047.8\" font-family=\"Helvetica,sans-Serif\" font-size=\"14.00\" fill=\"#000000\">samples = 36</text>\n<text text-anchor=\"middle\" x=\"3763.5\" y=\"-1032.8\" font-family=\"Helvetica,sans-Serif\" font-size=\"14.00\" fill=\"#000000\">value = [19, 17]</text>\n</g>\n<!-- 156&#45;&gt;170 -->\n<g id=\"edge170\" class=\"edge\">\n<title>156&#45;&gt;170</title>\n<path fill=\"none\" stroke=\"#000000\" d=\"M3763.5,-1128.9465C3763.5,-1120.776 3763.5,-1111.9318 3763.5,-1103.3697\"/>\n<polygon fill=\"#000000\" stroke=\"#000000\" points=\"3767.0001,-1103.13 3763.5,-1093.13 3760.0001,-1103.13 3767.0001,-1103.13\"/>\n</g>\n<!-- 158 -->\n<g id=\"node159\" class=\"node\">\n<title>158</title>\n<polygon fill=\"#b0d8f5\" stroke=\"#000000\" points=\"3273.5,-989 3155.5,-989 3155.5,-921 3273.5,-921 3273.5,-989\"/>\n<text text-anchor=\"middle\" x=\"3214.5\" y=\"-973.8\" font-family=\"Helvetica,sans-Serif\" font-size=\"14.00\" fill=\"#000000\">X[5] &lt;= 0.5</text>\n<text text-anchor=\"middle\" x=\"3214.5\" y=\"-958.8\" font-family=\"Helvetica,sans-Serif\" font-size=\"14.00\" fill=\"#000000\">entropy = 0.954</text>\n<text text-anchor=\"middle\" x=\"3214.5\" y=\"-943.8\" font-family=\"Helvetica,sans-Serif\" font-size=\"14.00\" fill=\"#000000\">samples = 8</text>\n<text text-anchor=\"middle\" x=\"3214.5\" y=\"-928.8\" font-family=\"Helvetica,sans-Serif\" font-size=\"14.00\" fill=\"#000000\">value = [3, 5]</text>\n</g>\n<!-- 157&#45;&gt;158 -->\n<g id=\"edge158\" class=\"edge\">\n<title>157&#45;&gt;158</title>\n<path fill=\"none\" stroke=\"#000000\" d=\"M3345.4243,-1026.6638C3325.4968,-1015.7561 3303.0961,-1003.4947 3282.5332,-992.2392\"/>\n<polygon fill=\"#000000\" stroke=\"#000000\" points=\"3283.9916,-989.0475 3273.5391,-987.3162 3280.6305,-995.1878 3283.9916,-989.0475\"/>\n</g>\n<!-- 165 -->\n<g id=\"node166\" class=\"node\">\n<title>165</title>\n<polygon fill=\"#e6853f\" stroke=\"#000000\" points=\"3463.5,-989 3345.5,-989 3345.5,-921 3463.5,-921 3463.5,-989\"/>\n<text text-anchor=\"middle\" x=\"3404.5\" y=\"-973.8\" font-family=\"Helvetica,sans-Serif\" font-size=\"14.00\" fill=\"#000000\">X[0] &lt;= 65.5</text>\n<text text-anchor=\"middle\" x=\"3404.5\" y=\"-958.8\" font-family=\"Helvetica,sans-Serif\" font-size=\"14.00\" fill=\"#000000\">entropy = 0.187</text>\n<text text-anchor=\"middle\" x=\"3404.5\" y=\"-943.8\" font-family=\"Helvetica,sans-Serif\" font-size=\"14.00\" fill=\"#000000\">samples = 35</text>\n<text text-anchor=\"middle\" x=\"3404.5\" y=\"-928.8\" font-family=\"Helvetica,sans-Serif\" font-size=\"14.00\" fill=\"#000000\">value = [34, 1]</text>\n</g>\n<!-- 157&#45;&gt;165 -->\n<g id=\"edge165\" class=\"edge\">\n<title>157&#45;&gt;165</title>\n<path fill=\"none\" stroke=\"#000000\" d=\"M3404.5,-1024.9465C3404.5,-1016.776 3404.5,-1007.9318 3404.5,-999.3697\"/>\n<polygon fill=\"#000000\" stroke=\"#000000\" points=\"3408.0001,-999.13 3404.5,-989.13 3401.0001,-999.13 3408.0001,-999.13\"/>\n</g>\n<!-- 159 -->\n<g id=\"node160\" class=\"node\">\n<title>159</title>\n<polygon fill=\"#f6d5bd\" stroke=\"#000000\" points=\"3145.5,-885 3027.5,-885 3027.5,-817 3145.5,-817 3145.5,-885\"/>\n<text text-anchor=\"middle\" x=\"3086.5\" y=\"-869.8\" font-family=\"Helvetica,sans-Serif\" font-size=\"14.00\" fill=\"#000000\">X[0] &lt;= 53.0</text>\n<text text-anchor=\"middle\" x=\"3086.5\" y=\"-854.8\" font-family=\"Helvetica,sans-Serif\" font-size=\"14.00\" fill=\"#000000\">entropy = 0.971</text>\n<text text-anchor=\"middle\" x=\"3086.5\" y=\"-839.8\" font-family=\"Helvetica,sans-Serif\" font-size=\"14.00\" fill=\"#000000\">samples = 5</text>\n<text text-anchor=\"middle\" x=\"3086.5\" y=\"-824.8\" font-family=\"Helvetica,sans-Serif\" font-size=\"14.00\" fill=\"#000000\">value = [3, 2]</text>\n</g>\n<!-- 158&#45;&gt;159 -->\n<g id=\"edge159\" class=\"edge\">\n<title>158&#45;&gt;159</title>\n<path fill=\"none\" stroke=\"#000000\" d=\"M3172.588,-920.9465C3160.985,-911.519 3148.2779,-901.1946 3136.2741,-891.4415\"/>\n<polygon fill=\"#000000\" stroke=\"#000000\" points=\"3138.4744,-888.7196 3128.5061,-885.13 3134.0602,-894.1524 3138.4744,-888.7196\"/>\n</g>\n<!-- 164 -->\n<g id=\"node165\" class=\"node\">\n<title>164</title>\n<polygon fill=\"#399de5\" stroke=\"#000000\" points=\"3265,-877.5 3164,-877.5 3164,-824.5 3265,-824.5 3265,-877.5\"/>\n<text text-anchor=\"middle\" x=\"3214.5\" y=\"-862.3\" font-family=\"Helvetica,sans-Serif\" font-size=\"14.00\" fill=\"#000000\">entropy = 0.0</text>\n<text text-anchor=\"middle\" x=\"3214.5\" y=\"-847.3\" font-family=\"Helvetica,sans-Serif\" font-size=\"14.00\" fill=\"#000000\">samples = 3</text>\n<text text-anchor=\"middle\" x=\"3214.5\" y=\"-832.3\" font-family=\"Helvetica,sans-Serif\" font-size=\"14.00\" fill=\"#000000\">value = [0, 3]</text>\n</g>\n<!-- 158&#45;&gt;164 -->\n<g id=\"edge164\" class=\"edge\">\n<title>158&#45;&gt;164</title>\n<path fill=\"none\" stroke=\"#000000\" d=\"M3214.5,-920.9465C3214.5,-910.2621 3214.5,-898.4254 3214.5,-887.5742\"/>\n<polygon fill=\"#000000\" stroke=\"#000000\" points=\"3218.0001,-887.5421 3214.5,-877.5422 3211.0001,-887.5422 3218.0001,-887.5421\"/>\n</g>\n<!-- 160 -->\n<g id=\"node161\" class=\"node\">\n<title>160</title>\n<polygon fill=\"#e58139\" stroke=\"#000000\" points=\"3131,-773.5 3030,-773.5 3030,-720.5 3131,-720.5 3131,-773.5\"/>\n<text text-anchor=\"middle\" x=\"3080.5\" y=\"-758.3\" font-family=\"Helvetica,sans-Serif\" font-size=\"14.00\" fill=\"#000000\">entropy = 0.0</text>\n<text text-anchor=\"middle\" x=\"3080.5\" y=\"-743.3\" font-family=\"Helvetica,sans-Serif\" font-size=\"14.00\" fill=\"#000000\">samples = 2</text>\n<text text-anchor=\"middle\" x=\"3080.5\" y=\"-728.3\" font-family=\"Helvetica,sans-Serif\" font-size=\"14.00\" fill=\"#000000\">value = [2, 0]</text>\n</g>\n<!-- 159&#45;&gt;160 -->\n<g id=\"edge160\" class=\"edge\">\n<title>159&#45;&gt;160</title>\n<path fill=\"none\" stroke=\"#000000\" d=\"M3084.5354,-816.9465C3083.919,-806.2621 3083.2361,-794.4254 3082.6101,-783.5742\"/>\n<polygon fill=\"#000000\" stroke=\"#000000\" points=\"3086.1015,-783.3239 3082.0313,-773.5422 3079.1131,-783.7272 3086.1015,-783.3239\"/>\n</g>\n<!-- 161 -->\n<g id=\"node162\" class=\"node\">\n<title>161</title>\n<polygon fill=\"#9ccef2\" stroke=\"#000000\" points=\"3267.5,-781 3149.5,-781 3149.5,-713 3267.5,-713 3267.5,-781\"/>\n<text text-anchor=\"middle\" x=\"3208.5\" y=\"-765.8\" font-family=\"Helvetica,sans-Serif\" font-size=\"14.00\" fill=\"#000000\">X[3] &lt;= 143.5</text>\n<text text-anchor=\"middle\" x=\"3208.5\" y=\"-750.8\" font-family=\"Helvetica,sans-Serif\" font-size=\"14.00\" fill=\"#000000\">entropy = 0.918</text>\n<text text-anchor=\"middle\" x=\"3208.5\" y=\"-735.8\" font-family=\"Helvetica,sans-Serif\" font-size=\"14.00\" fill=\"#000000\">samples = 3</text>\n<text text-anchor=\"middle\" x=\"3208.5\" y=\"-720.8\" font-family=\"Helvetica,sans-Serif\" font-size=\"14.00\" fill=\"#000000\">value = [1, 2]</text>\n</g>\n<!-- 159&#45;&gt;161 -->\n<g id=\"edge161\" class=\"edge\">\n<title>159&#45;&gt;161</title>\n<path fill=\"none\" stroke=\"#000000\" d=\"M3126.4474,-816.9465C3137.4012,-807.6088 3149.3873,-797.3911 3160.732,-787.7203\"/>\n<polygon fill=\"#000000\" stroke=\"#000000\" points=\"3163.1233,-790.2809 3168.4629,-781.13 3158.5821,-784.9538 3163.1233,-790.2809\"/>\n</g>\n<!-- 162 -->\n<g id=\"node163\" class=\"node\">\n<title>162</title>\n<polygon fill=\"#399de5\" stroke=\"#000000\" points=\"3248,-669.5 3147,-669.5 3147,-616.5 3248,-616.5 3248,-669.5\"/>\n<text text-anchor=\"middle\" x=\"3197.5\" y=\"-654.3\" font-family=\"Helvetica,sans-Serif\" font-size=\"14.00\" fill=\"#000000\">entropy = 0.0</text>\n<text text-anchor=\"middle\" x=\"3197.5\" y=\"-639.3\" font-family=\"Helvetica,sans-Serif\" font-size=\"14.00\" fill=\"#000000\">samples = 2</text>\n<text text-anchor=\"middle\" x=\"3197.5\" y=\"-624.3\" font-family=\"Helvetica,sans-Serif\" font-size=\"14.00\" fill=\"#000000\">value = [0, 2]</text>\n</g>\n<!-- 161&#45;&gt;162 -->\n<g id=\"edge162\" class=\"edge\">\n<title>161&#45;&gt;162</title>\n<path fill=\"none\" stroke=\"#000000\" d=\"M3204.8982,-712.9465C3203.7681,-702.2621 3202.5162,-690.4254 3201.3684,-679.5742\"/>\n<polygon fill=\"#000000\" stroke=\"#000000\" points=\"3204.8398,-679.1185 3200.3073,-669.5422 3197.8787,-679.8549 3204.8398,-679.1185\"/>\n</g>\n<!-- 163 -->\n<g id=\"node164\" class=\"node\">\n<title>163</title>\n<polygon fill=\"#e58139\" stroke=\"#000000\" points=\"3367,-669.5 3266,-669.5 3266,-616.5 3367,-616.5 3367,-669.5\"/>\n<text text-anchor=\"middle\" x=\"3316.5\" y=\"-654.3\" font-family=\"Helvetica,sans-Serif\" font-size=\"14.00\" fill=\"#000000\">entropy = 0.0</text>\n<text text-anchor=\"middle\" x=\"3316.5\" y=\"-639.3\" font-family=\"Helvetica,sans-Serif\" font-size=\"14.00\" fill=\"#000000\">samples = 1</text>\n<text text-anchor=\"middle\" x=\"3316.5\" y=\"-624.3\" font-family=\"Helvetica,sans-Serif\" font-size=\"14.00\" fill=\"#000000\">value = [1, 0]</text>\n</g>\n<!-- 161&#45;&gt;163 -->\n<g id=\"edge163\" class=\"edge\">\n<title>161&#45;&gt;163</title>\n<path fill=\"none\" stroke=\"#000000\" d=\"M3243.8632,-712.9465C3255.9881,-701.2707 3269.5418,-688.219 3281.6275,-676.5809\"/>\n<polygon fill=\"#000000\" stroke=\"#000000\" points=\"3284.1615,-678.9997 3288.937,-669.5422 3279.306,-673.9575 3284.1615,-678.9997\"/>\n</g>\n<!-- 166 -->\n<g id=\"node167\" class=\"node\">\n<title>166</title>\n<polygon fill=\"#e58139\" stroke=\"#000000\" points=\"3390,-877.5 3283,-877.5 3283,-824.5 3390,-824.5 3390,-877.5\"/>\n<text text-anchor=\"middle\" x=\"3336.5\" y=\"-862.3\" font-family=\"Helvetica,sans-Serif\" font-size=\"14.00\" fill=\"#000000\">entropy = 0.0</text>\n<text text-anchor=\"middle\" x=\"3336.5\" y=\"-847.3\" font-family=\"Helvetica,sans-Serif\" font-size=\"14.00\" fill=\"#000000\">samples = 33</text>\n<text text-anchor=\"middle\" x=\"3336.5\" y=\"-832.3\" font-family=\"Helvetica,sans-Serif\" font-size=\"14.00\" fill=\"#000000\">value = [33, 0]</text>\n</g>\n<!-- 165&#45;&gt;166 -->\n<g id=\"edge166\" class=\"edge\">\n<title>165&#45;&gt;166</title>\n<path fill=\"none\" stroke=\"#000000\" d=\"M3382.2343,-920.9465C3374.9602,-909.8215 3366.8694,-897.4473 3359.5396,-886.237\"/>\n<polygon fill=\"#000000\" stroke=\"#000000\" points=\"3362.2564,-883.9965 3353.8545,-877.5422 3356.3976,-887.8273 3362.2564,-883.9965\"/>\n</g>\n<!-- 167 -->\n<g id=\"node168\" class=\"node\">\n<title>167</title>\n<polygon fill=\"#ffffff\" stroke=\"#000000\" points=\"3509,-885 3408,-885 3408,-817 3509,-817 3509,-885\"/>\n<text text-anchor=\"middle\" x=\"3458.5\" y=\"-869.8\" font-family=\"Helvetica,sans-Serif\" font-size=\"14.00\" fill=\"#000000\">X[6] &lt;= 0.5</text>\n<text text-anchor=\"middle\" x=\"3458.5\" y=\"-854.8\" font-family=\"Helvetica,sans-Serif\" font-size=\"14.00\" fill=\"#000000\">entropy = 1.0</text>\n<text text-anchor=\"middle\" x=\"3458.5\" y=\"-839.8\" font-family=\"Helvetica,sans-Serif\" font-size=\"14.00\" fill=\"#000000\">samples = 2</text>\n<text text-anchor=\"middle\" x=\"3458.5\" y=\"-824.8\" font-family=\"Helvetica,sans-Serif\" font-size=\"14.00\" fill=\"#000000\">value = [1, 1]</text>\n</g>\n<!-- 165&#45;&gt;167 -->\n<g id=\"edge167\" class=\"edge\">\n<title>165&#45;&gt;167</title>\n<path fill=\"none\" stroke=\"#000000\" d=\"M3422.1816,-920.9465C3426.6105,-912.4169 3431.4206,-903.153 3436.0472,-894.2424\"/>\n<polygon fill=\"#000000\" stroke=\"#000000\" points=\"3439.2767,-895.6178 3440.7787,-885.13 3433.0642,-892.3921 3439.2767,-895.6178\"/>\n</g>\n<!-- 168 -->\n<g id=\"node169\" class=\"node\">\n<title>168</title>\n<polygon fill=\"#399de5\" stroke=\"#000000\" points=\"3388,-773.5 3287,-773.5 3287,-720.5 3388,-720.5 3388,-773.5\"/>\n<text text-anchor=\"middle\" x=\"3337.5\" y=\"-758.3\" font-family=\"Helvetica,sans-Serif\" font-size=\"14.00\" fill=\"#000000\">entropy = 0.0</text>\n<text text-anchor=\"middle\" x=\"3337.5\" y=\"-743.3\" font-family=\"Helvetica,sans-Serif\" font-size=\"14.00\" fill=\"#000000\">samples = 1</text>\n<text text-anchor=\"middle\" x=\"3337.5\" y=\"-728.3\" font-family=\"Helvetica,sans-Serif\" font-size=\"14.00\" fill=\"#000000\">value = [0, 1]</text>\n</g>\n<!-- 167&#45;&gt;168 -->\n<g id=\"edge168\" class=\"edge\">\n<title>167&#45;&gt;168</title>\n<path fill=\"none\" stroke=\"#000000\" d=\"M3418.8801,-816.9465C3405.1676,-805.1606 3389.8239,-791.9726 3376.1873,-780.2519\"/>\n<polygon fill=\"#000000\" stroke=\"#000000\" points=\"3378.2459,-777.4061 3368.3808,-773.5422 3373.6831,-782.7147 3378.2459,-777.4061\"/>\n</g>\n<!-- 169 -->\n<g id=\"node170\" class=\"node\">\n<title>169</title>\n<polygon fill=\"#e58139\" stroke=\"#000000\" points=\"3507,-773.5 3406,-773.5 3406,-720.5 3507,-720.5 3507,-773.5\"/>\n<text text-anchor=\"middle\" x=\"3456.5\" y=\"-758.3\" font-family=\"Helvetica,sans-Serif\" font-size=\"14.00\" fill=\"#000000\">entropy = 0.0</text>\n<text text-anchor=\"middle\" x=\"3456.5\" y=\"-743.3\" font-family=\"Helvetica,sans-Serif\" font-size=\"14.00\" fill=\"#000000\">samples = 1</text>\n<text text-anchor=\"middle\" x=\"3456.5\" y=\"-728.3\" font-family=\"Helvetica,sans-Serif\" font-size=\"14.00\" fill=\"#000000\">value = [1, 0]</text>\n</g>\n<!-- 167&#45;&gt;169 -->\n<g id=\"edge169\" class=\"edge\">\n<title>167&#45;&gt;169</title>\n<path fill=\"none\" stroke=\"#000000\" d=\"M3457.8451,-816.9465C3457.6397,-806.2621 3457.412,-794.4254 3457.2034,-783.5742\"/>\n<polygon fill=\"#000000\" stroke=\"#000000\" points=\"3460.7021,-783.473 3457.0104,-773.5422 3453.7034,-783.6076 3460.7021,-783.473\"/>\n</g>\n<!-- 171 -->\n<g id=\"node172\" class=\"node\">\n<title>171</title>\n<polygon fill=\"#dceefa\" stroke=\"#000000\" points=\"3758.5,-989 3640.5,-989 3640.5,-921 3758.5,-921 3758.5,-989\"/>\n<text text-anchor=\"middle\" x=\"3699.5\" y=\"-973.8\" font-family=\"Helvetica,sans-Serif\" font-size=\"14.00\" fill=\"#000000\">X[4] &lt;= 205.0</text>\n<text text-anchor=\"middle\" x=\"3699.5\" y=\"-958.8\" font-family=\"Helvetica,sans-Serif\" font-size=\"14.00\" fill=\"#000000\">entropy = 0.993</text>\n<text text-anchor=\"middle\" x=\"3699.5\" y=\"-943.8\" font-family=\"Helvetica,sans-Serif\" font-size=\"14.00\" fill=\"#000000\">samples = 31</text>\n<text text-anchor=\"middle\" x=\"3699.5\" y=\"-928.8\" font-family=\"Helvetica,sans-Serif\" font-size=\"14.00\" fill=\"#000000\">value = [14, 17]</text>\n</g>\n<!-- 170&#45;&gt;171 -->\n<g id=\"edge171\" class=\"edge\">\n<title>170&#45;&gt;171</title>\n<path fill=\"none\" stroke=\"#000000\" d=\"M3742.544,-1024.9465C3737.1845,-1016.2373 3731.3539,-1006.7626 3725.7647,-997.6801\"/>\n<polygon fill=\"#000000\" stroke=\"#000000\" points=\"3728.7249,-995.8122 3720.5031,-989.13 3722.7633,-999.481 3728.7249,-995.8122\"/>\n</g>\n<!-- 190 -->\n<g id=\"node191\" class=\"node\">\n<title>190</title>\n<polygon fill=\"#e58139\" stroke=\"#000000\" points=\"3878,-981.5 3777,-981.5 3777,-928.5 3878,-928.5 3878,-981.5\"/>\n<text text-anchor=\"middle\" x=\"3827.5\" y=\"-966.3\" font-family=\"Helvetica,sans-Serif\" font-size=\"14.00\" fill=\"#000000\">entropy = 0.0</text>\n<text text-anchor=\"middle\" x=\"3827.5\" y=\"-951.3\" font-family=\"Helvetica,sans-Serif\" font-size=\"14.00\" fill=\"#000000\">samples = 5</text>\n<text text-anchor=\"middle\" x=\"3827.5\" y=\"-936.3\" font-family=\"Helvetica,sans-Serif\" font-size=\"14.00\" fill=\"#000000\">value = [5, 0]</text>\n</g>\n<!-- 170&#45;&gt;190 -->\n<g id=\"edge190\" class=\"edge\">\n<title>170&#45;&gt;190</title>\n<path fill=\"none\" stroke=\"#000000\" d=\"M3784.456,-1024.9465C3791.3022,-1013.8215 3798.9171,-1001.4473 3805.8157,-990.237\"/>\n<polygon fill=\"#000000\" stroke=\"#000000\" points=\"3808.9061,-991.8931 3811.1664,-981.5422 3802.9445,-988.2244 3808.9061,-991.8931\"/>\n</g>\n<!-- 172 -->\n<g id=\"node173\" class=\"node\">\n<title>172</title>\n<polygon fill=\"#55abe9\" stroke=\"#000000\" points=\"3749.5,-885 3631.5,-885 3631.5,-817 3749.5,-817 3749.5,-885\"/>\n<text text-anchor=\"middle\" x=\"3690.5\" y=\"-869.8\" font-family=\"Helvetica,sans-Serif\" font-size=\"14.00\" fill=\"#000000\">X[7] &lt;= 152.0</text>\n<text text-anchor=\"middle\" x=\"3690.5\" y=\"-854.8\" font-family=\"Helvetica,sans-Serif\" font-size=\"14.00\" fill=\"#000000\">entropy = 0.544</text>\n<text text-anchor=\"middle\" x=\"3690.5\" y=\"-839.8\" font-family=\"Helvetica,sans-Serif\" font-size=\"14.00\" fill=\"#000000\">samples = 8</text>\n<text text-anchor=\"middle\" x=\"3690.5\" y=\"-824.8\" font-family=\"Helvetica,sans-Serif\" font-size=\"14.00\" fill=\"#000000\">value = [1, 7]</text>\n</g>\n<!-- 171&#45;&gt;172 -->\n<g id=\"edge172\" class=\"edge\">\n<title>171&#45;&gt;172</title>\n<path fill=\"none\" stroke=\"#000000\" d=\"M3696.5531,-920.9465C3695.846,-912.776 3695.0806,-903.9318 3694.3397,-895.3697\"/>\n<polygon fill=\"#000000\" stroke=\"#000000\" points=\"3697.8028,-894.791 3693.4536,-885.13 3690.8288,-895.3945 3697.8028,-894.791\"/>\n</g>\n<!-- 175 -->\n<g id=\"node176\" class=\"node\">\n<title>175</title>\n<polygon fill=\"#f9e2d1\" stroke=\"#000000\" points=\"3885.5,-885 3767.5,-885 3767.5,-817 3885.5,-817 3885.5,-885\"/>\n<text text-anchor=\"middle\" x=\"3826.5\" y=\"-869.8\" font-family=\"Helvetica,sans-Serif\" font-size=\"14.00\" fill=\"#000000\">X[6] &lt;= 0.5</text>\n<text text-anchor=\"middle\" x=\"3826.5\" y=\"-854.8\" font-family=\"Helvetica,sans-Serif\" font-size=\"14.00\" fill=\"#000000\">entropy = 0.988</text>\n<text text-anchor=\"middle\" x=\"3826.5\" y=\"-839.8\" font-family=\"Helvetica,sans-Serif\" font-size=\"14.00\" fill=\"#000000\">samples = 23</text>\n<text text-anchor=\"middle\" x=\"3826.5\" y=\"-824.8\" font-family=\"Helvetica,sans-Serif\" font-size=\"14.00\" fill=\"#000000\">value = [13, 10]</text>\n</g>\n<!-- 171&#45;&gt;175 -->\n<g id=\"edge175\" class=\"edge\">\n<title>171&#45;&gt;175</title>\n<path fill=\"none\" stroke=\"#000000\" d=\"M3741.0845,-920.9465C3752.4873,-911.6088 3764.9647,-901.3911 3776.7743,-891.7203\"/>\n<polygon fill=\"#000000\" stroke=\"#000000\" points=\"3779.3026,-894.1736 3784.822,-885.13 3774.8676,-888.7578 3779.3026,-894.1736\"/>\n</g>\n<!-- 173 -->\n<g id=\"node174\" class=\"node\">\n<title>173</title>\n<polygon fill=\"#e58139\" stroke=\"#000000\" points=\"3626,-773.5 3525,-773.5 3525,-720.5 3626,-720.5 3626,-773.5\"/>\n<text text-anchor=\"middle\" x=\"3575.5\" y=\"-758.3\" font-family=\"Helvetica,sans-Serif\" font-size=\"14.00\" fill=\"#000000\">entropy = 0.0</text>\n<text text-anchor=\"middle\" x=\"3575.5\" y=\"-743.3\" font-family=\"Helvetica,sans-Serif\" font-size=\"14.00\" fill=\"#000000\">samples = 1</text>\n<text text-anchor=\"middle\" x=\"3575.5\" y=\"-728.3\" font-family=\"Helvetica,sans-Serif\" font-size=\"14.00\" fill=\"#000000\">value = [1, 0]</text>\n</g>\n<!-- 172&#45;&gt;173 -->\n<g id=\"edge173\" class=\"edge\">\n<title>172&#45;&gt;173</title>\n<path fill=\"none\" stroke=\"#000000\" d=\"M3652.8447,-816.9465C3639.8122,-805.1606 3625.2294,-791.9726 3612.2689,-780.2519\"/>\n<polygon fill=\"#000000\" stroke=\"#000000\" points=\"3614.614,-777.6537 3604.8495,-773.5422 3609.9188,-782.8456 3614.614,-777.6537\"/>\n</g>\n<!-- 174 -->\n<g id=\"node175\" class=\"node\">\n<title>174</title>\n<polygon fill=\"#399de5\" stroke=\"#000000\" points=\"3745,-773.5 3644,-773.5 3644,-720.5 3745,-720.5 3745,-773.5\"/>\n<text text-anchor=\"middle\" x=\"3694.5\" y=\"-758.3\" font-family=\"Helvetica,sans-Serif\" font-size=\"14.00\" fill=\"#000000\">entropy = 0.0</text>\n<text text-anchor=\"middle\" x=\"3694.5\" y=\"-743.3\" font-family=\"Helvetica,sans-Serif\" font-size=\"14.00\" fill=\"#000000\">samples = 7</text>\n<text text-anchor=\"middle\" x=\"3694.5\" y=\"-728.3\" font-family=\"Helvetica,sans-Serif\" font-size=\"14.00\" fill=\"#000000\">value = [0, 7]</text>\n</g>\n<!-- 172&#45;&gt;174 -->\n<g id=\"edge174\" class=\"edge\">\n<title>172&#45;&gt;174</title>\n<path fill=\"none\" stroke=\"#000000\" d=\"M3691.8097,-816.9465C3692.2207,-806.2621 3692.6759,-794.4254 3693.0933,-783.5742\"/>\n<polygon fill=\"#000000\" stroke=\"#000000\" points=\"3696.5921,-783.6693 3693.4791,-773.5422 3689.5973,-783.4002 3696.5921,-783.6693\"/>\n</g>\n<!-- 176 -->\n<g id=\"node177\" class=\"node\">\n<title>176</title>\n<polygon fill=\"#8ec7f0\" stroke=\"#000000\" points=\"3881.5,-781 3763.5,-781 3763.5,-713 3881.5,-713 3881.5,-781\"/>\n<text text-anchor=\"middle\" x=\"3822.5\" y=\"-765.8\" font-family=\"Helvetica,sans-Serif\" font-size=\"14.00\" fill=\"#000000\">X[4] &lt;= 255.0</text>\n<text text-anchor=\"middle\" x=\"3822.5\" y=\"-750.8\" font-family=\"Helvetica,sans-Serif\" font-size=\"14.00\" fill=\"#000000\">entropy = 0.881</text>\n<text text-anchor=\"middle\" x=\"3822.5\" y=\"-735.8\" font-family=\"Helvetica,sans-Serif\" font-size=\"14.00\" fill=\"#000000\">samples = 10</text>\n<text text-anchor=\"middle\" x=\"3822.5\" y=\"-720.8\" font-family=\"Helvetica,sans-Serif\" font-size=\"14.00\" fill=\"#000000\">value = [3, 7]</text>\n</g>\n<!-- 175&#45;&gt;176 -->\n<g id=\"edge176\" class=\"edge\">\n<title>175&#45;&gt;176</title>\n<path fill=\"none\" stroke=\"#000000\" d=\"M3825.1903,-816.9465C3824.876,-808.776 3824.5358,-799.9318 3824.2065,-791.3697\"/>\n<polygon fill=\"#000000\" stroke=\"#000000\" points=\"3827.6945,-790.9881 3823.8127,-781.13 3820.6997,-791.2572 3827.6945,-790.9881\"/>\n</g>\n<!-- 183 -->\n<g id=\"node184\" class=\"node\">\n<title>183</title>\n<polygon fill=\"#eda774\" stroke=\"#000000\" points=\"4017.5,-781 3899.5,-781 3899.5,-713 4017.5,-713 4017.5,-781\"/>\n<text text-anchor=\"middle\" x=\"3958.5\" y=\"-765.8\" font-family=\"Helvetica,sans-Serif\" font-size=\"14.00\" fill=\"#000000\">X[7] &lt;= 179.5</text>\n<text text-anchor=\"middle\" x=\"3958.5\" y=\"-750.8\" font-family=\"Helvetica,sans-Serif\" font-size=\"14.00\" fill=\"#000000\">entropy = 0.779</text>\n<text text-anchor=\"middle\" x=\"3958.5\" y=\"-735.8\" font-family=\"Helvetica,sans-Serif\" font-size=\"14.00\" fill=\"#000000\">samples = 13</text>\n<text text-anchor=\"middle\" x=\"3958.5\" y=\"-720.8\" font-family=\"Helvetica,sans-Serif\" font-size=\"14.00\" fill=\"#000000\">value = [10, 3]</text>\n</g>\n<!-- 175&#45;&gt;183 -->\n<g id=\"edge183\" class=\"edge\">\n<title>175&#45;&gt;183</title>\n<path fill=\"none\" stroke=\"#000000\" d=\"M3869.7217,-816.9465C3881.6874,-807.519 3894.7915,-797.1946 3907.1704,-787.4415\"/>\n<polygon fill=\"#000000\" stroke=\"#000000\" points=\"3909.4923,-790.068 3915.1812,-781.13 3905.1602,-784.5695 3909.4923,-790.068\"/>\n</g>\n<!-- 177 -->\n<g id=\"node178\" class=\"node\">\n<title>177</title>\n<polygon fill=\"#e58139\" stroke=\"#000000\" points=\"3745,-669.5 3644,-669.5 3644,-616.5 3745,-616.5 3745,-669.5\"/>\n<text text-anchor=\"middle\" x=\"3694.5\" y=\"-654.3\" font-family=\"Helvetica,sans-Serif\" font-size=\"14.00\" fill=\"#000000\">entropy = 0.0</text>\n<text text-anchor=\"middle\" x=\"3694.5\" y=\"-639.3\" font-family=\"Helvetica,sans-Serif\" font-size=\"14.00\" fill=\"#000000\">samples = 2</text>\n<text text-anchor=\"middle\" x=\"3694.5\" y=\"-624.3\" font-family=\"Helvetica,sans-Serif\" font-size=\"14.00\" fill=\"#000000\">value = [2, 0]</text>\n</g>\n<!-- 176&#45;&gt;177 -->\n<g id=\"edge177\" class=\"edge\">\n<title>176&#45;&gt;177</title>\n<path fill=\"none\" stroke=\"#000000\" d=\"M3780.588,-712.9465C3765.9467,-701.0504 3749.5474,-687.726 3735.0215,-675.9237\"/>\n<polygon fill=\"#000000\" stroke=\"#000000\" points=\"3737.1355,-673.1317 3727.1673,-669.5422 3732.7214,-678.5645 3737.1355,-673.1317\"/>\n</g>\n<!-- 178 -->\n<g id=\"node179\" class=\"node\">\n<title>178</title>\n<polygon fill=\"#55abe9\" stroke=\"#000000\" points=\"3881.5,-677 3763.5,-677 3763.5,-609 3881.5,-609 3881.5,-677\"/>\n<text text-anchor=\"middle\" x=\"3822.5\" y=\"-661.8\" font-family=\"Helvetica,sans-Serif\" font-size=\"14.00\" fill=\"#000000\">X[1] &lt;= 0.5</text>\n<text text-anchor=\"middle\" x=\"3822.5\" y=\"-646.8\" font-family=\"Helvetica,sans-Serif\" font-size=\"14.00\" fill=\"#000000\">entropy = 0.544</text>\n<text text-anchor=\"middle\" x=\"3822.5\" y=\"-631.8\" font-family=\"Helvetica,sans-Serif\" font-size=\"14.00\" fill=\"#000000\">samples = 8</text>\n<text text-anchor=\"middle\" x=\"3822.5\" y=\"-616.8\" font-family=\"Helvetica,sans-Serif\" font-size=\"14.00\" fill=\"#000000\">value = [1, 7]</text>\n</g>\n<!-- 176&#45;&gt;178 -->\n<g id=\"edge178\" class=\"edge\">\n<title>176&#45;&gt;178</title>\n<path fill=\"none\" stroke=\"#000000\" d=\"M3822.5,-712.9465C3822.5,-704.776 3822.5,-695.9318 3822.5,-687.3697\"/>\n<polygon fill=\"#000000\" stroke=\"#000000\" points=\"3826.0001,-687.13 3822.5,-677.13 3819.0001,-687.13 3826.0001,-687.13\"/>\n</g>\n<!-- 179 -->\n<g id=\"node180\" class=\"node\">\n<title>179</title>\n<polygon fill=\"#9ccef2\" stroke=\"#000000\" points=\"3754.5,-573 3636.5,-573 3636.5,-505 3754.5,-505 3754.5,-573\"/>\n<text text-anchor=\"middle\" x=\"3695.5\" y=\"-557.8\" font-family=\"Helvetica,sans-Serif\" font-size=\"14.00\" fill=\"#000000\">X[0] &lt;= 58.5</text>\n<text text-anchor=\"middle\" x=\"3695.5\" y=\"-542.8\" font-family=\"Helvetica,sans-Serif\" font-size=\"14.00\" fill=\"#000000\">entropy = 0.918</text>\n<text text-anchor=\"middle\" x=\"3695.5\" y=\"-527.8\" font-family=\"Helvetica,sans-Serif\" font-size=\"14.00\" fill=\"#000000\">samples = 3</text>\n<text text-anchor=\"middle\" x=\"3695.5\" y=\"-512.8\" font-family=\"Helvetica,sans-Serif\" font-size=\"14.00\" fill=\"#000000\">value = [1, 2]</text>\n</g>\n<!-- 178&#45;&gt;179 -->\n<g id=\"edge179\" class=\"edge\">\n<title>178&#45;&gt;179</title>\n<path fill=\"none\" stroke=\"#000000\" d=\"M3780.9155,-608.9465C3769.5127,-599.6088 3757.0353,-589.3911 3745.2257,-579.7203\"/>\n<polygon fill=\"#000000\" stroke=\"#000000\" points=\"3747.1324,-576.7578 3737.178,-573.13 3742.6974,-582.1736 3747.1324,-576.7578\"/>\n</g>\n<!-- 182 -->\n<g id=\"node183\" class=\"node\">\n<title>182</title>\n<polygon fill=\"#399de5\" stroke=\"#000000\" points=\"3874,-565.5 3773,-565.5 3773,-512.5 3874,-512.5 3874,-565.5\"/>\n<text text-anchor=\"middle\" x=\"3823.5\" y=\"-550.3\" font-family=\"Helvetica,sans-Serif\" font-size=\"14.00\" fill=\"#000000\">entropy = 0.0</text>\n<text text-anchor=\"middle\" x=\"3823.5\" y=\"-535.3\" font-family=\"Helvetica,sans-Serif\" font-size=\"14.00\" fill=\"#000000\">samples = 5</text>\n<text text-anchor=\"middle\" x=\"3823.5\" y=\"-520.3\" font-family=\"Helvetica,sans-Serif\" font-size=\"14.00\" fill=\"#000000\">value = [0, 5]</text>\n</g>\n<!-- 178&#45;&gt;182 -->\n<g id=\"edge182\" class=\"edge\">\n<title>178&#45;&gt;182</title>\n<path fill=\"none\" stroke=\"#000000\" d=\"M3822.8274,-608.9465C3822.9302,-598.2621 3823.044,-586.4254 3823.1483,-575.5742\"/>\n<polygon fill=\"#000000\" stroke=\"#000000\" points=\"3826.6484,-575.5754 3823.2448,-565.5422 3819.6487,-575.508 3826.6484,-575.5754\"/>\n</g>\n<!-- 180 -->\n<g id=\"node181\" class=\"node\">\n<title>180</title>\n<polygon fill=\"#e58139\" stroke=\"#000000\" points=\"3686,-461.5 3585,-461.5 3585,-408.5 3686,-408.5 3686,-461.5\"/>\n<text text-anchor=\"middle\" x=\"3635.5\" y=\"-446.3\" font-family=\"Helvetica,sans-Serif\" font-size=\"14.00\" fill=\"#000000\">entropy = 0.0</text>\n<text text-anchor=\"middle\" x=\"3635.5\" y=\"-431.3\" font-family=\"Helvetica,sans-Serif\" font-size=\"14.00\" fill=\"#000000\">samples = 1</text>\n<text text-anchor=\"middle\" x=\"3635.5\" y=\"-416.3\" font-family=\"Helvetica,sans-Serif\" font-size=\"14.00\" fill=\"#000000\">value = [1, 0]</text>\n</g>\n<!-- 179&#45;&gt;180 -->\n<g id=\"edge180\" class=\"edge\">\n<title>179&#45;&gt;180</title>\n<path fill=\"none\" stroke=\"#000000\" d=\"M3675.8538,-504.9465C3669.4355,-493.8215 3662.2965,-481.4473 3655.829,-470.237\"/>\n<polygon fill=\"#000000\" stroke=\"#000000\" points=\"3658.8417,-468.455 3650.8128,-461.5422 3652.7784,-471.9531 3658.8417,-468.455\"/>\n</g>\n<!-- 181 -->\n<g id=\"node182\" class=\"node\">\n<title>181</title>\n<polygon fill=\"#399de5\" stroke=\"#000000\" points=\"3805,-461.5 3704,-461.5 3704,-408.5 3805,-408.5 3805,-461.5\"/>\n<text text-anchor=\"middle\" x=\"3754.5\" y=\"-446.3\" font-family=\"Helvetica,sans-Serif\" font-size=\"14.00\" fill=\"#000000\">entropy = 0.0</text>\n<text text-anchor=\"middle\" x=\"3754.5\" y=\"-431.3\" font-family=\"Helvetica,sans-Serif\" font-size=\"14.00\" fill=\"#000000\">samples = 2</text>\n<text text-anchor=\"middle\" x=\"3754.5\" y=\"-416.3\" font-family=\"Helvetica,sans-Serif\" font-size=\"14.00\" fill=\"#000000\">value = [0, 2]</text>\n</g>\n<!-- 179&#45;&gt;181 -->\n<g id=\"edge181\" class=\"edge\">\n<title>179&#45;&gt;181</title>\n<path fill=\"none\" stroke=\"#000000\" d=\"M3714.8188,-504.9465C3721.0676,-493.9316 3728.0112,-481.6922 3734.3207,-470.5703\"/>\n<polygon fill=\"#000000\" stroke=\"#000000\" points=\"3737.5523,-471.967 3739.4424,-461.5422 3731.4638,-468.513 3737.5523,-471.967\"/>\n</g>\n<!-- 184 -->\n<g id=\"node185\" class=\"node\">\n<title>184</title>\n<polygon fill=\"#ea9a61\" stroke=\"#000000\" points=\"4009.5,-677 3899.5,-677 3899.5,-609 4009.5,-609 4009.5,-677\"/>\n<text text-anchor=\"middle\" x=\"3954.5\" y=\"-661.8\" font-family=\"Helvetica,sans-Serif\" font-size=\"14.00\" fill=\"#000000\">X[3] &lt;= 129.0</text>\n<text text-anchor=\"middle\" x=\"3954.5\" y=\"-646.8\" font-family=\"Helvetica,sans-Serif\" font-size=\"14.00\" fill=\"#000000\">entropy = 0.65</text>\n<text text-anchor=\"middle\" x=\"3954.5\" y=\"-631.8\" font-family=\"Helvetica,sans-Serif\" font-size=\"14.00\" fill=\"#000000\">samples = 12</text>\n<text text-anchor=\"middle\" x=\"3954.5\" y=\"-616.8\" font-family=\"Helvetica,sans-Serif\" font-size=\"14.00\" fill=\"#000000\">value = [10, 2]</text>\n</g>\n<!-- 183&#45;&gt;184 -->\n<g id=\"edge184\" class=\"edge\">\n<title>183&#45;&gt;184</title>\n<path fill=\"none\" stroke=\"#000000\" d=\"M3957.1903,-712.9465C3956.876,-704.776 3956.5358,-695.9318 3956.2065,-687.3697\"/>\n<polygon fill=\"#000000\" stroke=\"#000000\" points=\"3959.6945,-686.9881 3955.8127,-677.13 3952.6997,-687.2572 3959.6945,-686.9881\"/>\n</g>\n<!-- 189 -->\n<g id=\"node190\" class=\"node\">\n<title>189</title>\n<polygon fill=\"#399de5\" stroke=\"#000000\" points=\"4129,-669.5 4028,-669.5 4028,-616.5 4129,-616.5 4129,-669.5\"/>\n<text text-anchor=\"middle\" x=\"4078.5\" y=\"-654.3\" font-family=\"Helvetica,sans-Serif\" font-size=\"14.00\" fill=\"#000000\">entropy = 0.0</text>\n<text text-anchor=\"middle\" x=\"4078.5\" y=\"-639.3\" font-family=\"Helvetica,sans-Serif\" font-size=\"14.00\" fill=\"#000000\">samples = 1</text>\n<text text-anchor=\"middle\" x=\"4078.5\" y=\"-624.3\" font-family=\"Helvetica,sans-Serif\" font-size=\"14.00\" fill=\"#000000\">value = [0, 1]</text>\n</g>\n<!-- 183&#45;&gt;189 -->\n<g id=\"edge189\" class=\"edge\">\n<title>183&#45;&gt;189</title>\n<path fill=\"none\" stroke=\"#000000\" d=\"M3997.7925,-712.9465C4011.3917,-701.1606 4026.6085,-687.9726 4040.1324,-676.2519\"/>\n<polygon fill=\"#000000\" stroke=\"#000000\" points=\"4042.6098,-678.7364 4047.8744,-669.5422 4038.0252,-673.4466 4042.6098,-678.7364\"/>\n</g>\n<!-- 185 -->\n<g id=\"node186\" class=\"node\">\n<title>185</title>\n<polygon fill=\"#f6d5bd\" stroke=\"#000000\" points=\"4011.5,-573 3893.5,-573 3893.5,-505 4011.5,-505 4011.5,-573\"/>\n<text text-anchor=\"middle\" x=\"3952.5\" y=\"-557.8\" font-family=\"Helvetica,sans-Serif\" font-size=\"14.00\" fill=\"#000000\">X[4] &lt;= 226.5</text>\n<text text-anchor=\"middle\" x=\"3952.5\" y=\"-542.8\" font-family=\"Helvetica,sans-Serif\" font-size=\"14.00\" fill=\"#000000\">entropy = 0.971</text>\n<text text-anchor=\"middle\" x=\"3952.5\" y=\"-527.8\" font-family=\"Helvetica,sans-Serif\" font-size=\"14.00\" fill=\"#000000\">samples = 5</text>\n<text text-anchor=\"middle\" x=\"3952.5\" y=\"-512.8\" font-family=\"Helvetica,sans-Serif\" font-size=\"14.00\" fill=\"#000000\">value = [3, 2]</text>\n</g>\n<!-- 184&#45;&gt;185 -->\n<g id=\"edge185\" class=\"edge\">\n<title>184&#45;&gt;185</title>\n<path fill=\"none\" stroke=\"#000000\" d=\"M3953.8451,-608.9465C3953.688,-600.776 3953.5179,-591.9318 3953.3533,-583.3697\"/>\n<polygon fill=\"#000000\" stroke=\"#000000\" points=\"3956.8481,-583.0608 3953.1563,-573.13 3949.8494,-583.1955 3956.8481,-583.0608\"/>\n</g>\n<!-- 188 -->\n<g id=\"node189\" class=\"node\">\n<title>188</title>\n<polygon fill=\"#e58139\" stroke=\"#000000\" points=\"4131,-565.5 4030,-565.5 4030,-512.5 4131,-512.5 4131,-565.5\"/>\n<text text-anchor=\"middle\" x=\"4080.5\" y=\"-550.3\" font-family=\"Helvetica,sans-Serif\" font-size=\"14.00\" fill=\"#000000\">entropy = 0.0</text>\n<text text-anchor=\"middle\" x=\"4080.5\" y=\"-535.3\" font-family=\"Helvetica,sans-Serif\" font-size=\"14.00\" fill=\"#000000\">samples = 7</text>\n<text text-anchor=\"middle\" x=\"4080.5\" y=\"-520.3\" font-family=\"Helvetica,sans-Serif\" font-size=\"14.00\" fill=\"#000000\">value = [7, 0]</text>\n</g>\n<!-- 184&#45;&gt;188 -->\n<g id=\"edge188\" class=\"edge\">\n<title>184&#45;&gt;188</title>\n<path fill=\"none\" stroke=\"#000000\" d=\"M3995.7571,-608.9465C4010.1697,-597.0504 4026.3127,-583.726 4040.6117,-571.9237\"/>\n<polygon fill=\"#000000\" stroke=\"#000000\" points=\"4042.8589,-574.6071 4048.3431,-565.5422 4038.4029,-569.2086 4042.8589,-574.6071\"/>\n</g>\n<!-- 186 -->\n<g id=\"node187\" class=\"node\">\n<title>186</title>\n<polygon fill=\"#e58139\" stroke=\"#000000\" points=\"3964,-461.5 3863,-461.5 3863,-408.5 3964,-408.5 3964,-461.5\"/>\n<text text-anchor=\"middle\" x=\"3913.5\" y=\"-446.3\" font-family=\"Helvetica,sans-Serif\" font-size=\"14.00\" fill=\"#000000\">entropy = 0.0</text>\n<text text-anchor=\"middle\" x=\"3913.5\" y=\"-431.3\" font-family=\"Helvetica,sans-Serif\" font-size=\"14.00\" fill=\"#000000\">samples = 3</text>\n<text text-anchor=\"middle\" x=\"3913.5\" y=\"-416.3\" font-family=\"Helvetica,sans-Serif\" font-size=\"14.00\" fill=\"#000000\">value = [3, 0]</text>\n</g>\n<!-- 185&#45;&gt;186 -->\n<g id=\"edge186\" class=\"edge\">\n<title>185&#45;&gt;186</title>\n<path fill=\"none\" stroke=\"#000000\" d=\"M3939.7299,-504.9465C3935.682,-494.1519 3931.193,-482.1813 3927.0896,-471.2389\"/>\n<polygon fill=\"#000000\" stroke=\"#000000\" points=\"3930.2418,-469.6765 3923.4533,-461.5422 3923.6875,-472.1344 3930.2418,-469.6765\"/>\n</g>\n<!-- 187 -->\n<g id=\"node188\" class=\"node\">\n<title>187</title>\n<polygon fill=\"#399de5\" stroke=\"#000000\" points=\"4083,-461.5 3982,-461.5 3982,-408.5 4083,-408.5 4083,-461.5\"/>\n<text text-anchor=\"middle\" x=\"4032.5\" y=\"-446.3\" font-family=\"Helvetica,sans-Serif\" font-size=\"14.00\" fill=\"#000000\">entropy = 0.0</text>\n<text text-anchor=\"middle\" x=\"4032.5\" y=\"-431.3\" font-family=\"Helvetica,sans-Serif\" font-size=\"14.00\" fill=\"#000000\">samples = 2</text>\n<text text-anchor=\"middle\" x=\"4032.5\" y=\"-416.3\" font-family=\"Helvetica,sans-Serif\" font-size=\"14.00\" fill=\"#000000\">value = [0, 2]</text>\n</g>\n<!-- 185&#45;&gt;187 -->\n<g id=\"edge187\" class=\"edge\">\n<title>185&#45;&gt;187</title>\n<path fill=\"none\" stroke=\"#000000\" d=\"M3978.695,-504.9465C3987.4222,-493.6012 3997.1487,-480.9567 4005.9059,-469.5724\"/>\n<polygon fill=\"#000000\" stroke=\"#000000\" points=\"4008.76,-471.6024 4012.083,-461.5422 4003.2116,-467.3344 4008.76,-471.6024\"/>\n</g>\n<!-- 192 -->\n<g id=\"node193\" class=\"node\">\n<title>192</title>\n<polygon fill=\"#b5daf5\" stroke=\"#000000\" points=\"4079.5,-1093 3961.5,-1093 3961.5,-1025 4079.5,-1025 4079.5,-1093\"/>\n<text text-anchor=\"middle\" x=\"4020.5\" y=\"-1077.8\" font-family=\"Helvetica,sans-Serif\" font-size=\"14.00\" fill=\"#000000\">X[7] &lt;= 126.0</text>\n<text text-anchor=\"middle\" x=\"4020.5\" y=\"-1062.8\" font-family=\"Helvetica,sans-Serif\" font-size=\"14.00\" fill=\"#000000\">entropy = 0.961</text>\n<text text-anchor=\"middle\" x=\"4020.5\" y=\"-1047.8\" font-family=\"Helvetica,sans-Serif\" font-size=\"14.00\" fill=\"#000000\">samples = 26</text>\n<text text-anchor=\"middle\" x=\"4020.5\" y=\"-1032.8\" font-family=\"Helvetica,sans-Serif\" font-size=\"14.00\" fill=\"#000000\">value = [10, 16]</text>\n</g>\n<!-- 191&#45;&gt;192 -->\n<g id=\"edge192\" class=\"edge\">\n<title>191&#45;&gt;192</title>\n<path fill=\"none\" stroke=\"#000000\" d=\"M4020.5,-1128.9465C4020.5,-1120.776 4020.5,-1111.9318 4020.5,-1103.3697\"/>\n<polygon fill=\"#000000\" stroke=\"#000000\" points=\"4024.0001,-1103.13 4020.5,-1093.13 4017.0001,-1103.13 4024.0001,-1103.13\"/>\n</g>\n<!-- 205 -->\n<g id=\"node206\" class=\"node\">\n<title>205</title>\n<polygon fill=\"#46a4e7\" stroke=\"#000000\" points=\"4272.5,-1093 4154.5,-1093 4154.5,-1025 4272.5,-1025 4272.5,-1093\"/>\n<text text-anchor=\"middle\" x=\"4213.5\" y=\"-1077.8\" font-family=\"Helvetica,sans-Serif\" font-size=\"14.00\" fill=\"#000000\">X[7] &lt;= 103.0</text>\n<text text-anchor=\"middle\" x=\"4213.5\" y=\"-1062.8\" font-family=\"Helvetica,sans-Serif\" font-size=\"14.00\" fill=\"#000000\">entropy = 0.337</text>\n<text text-anchor=\"middle\" x=\"4213.5\" y=\"-1047.8\" font-family=\"Helvetica,sans-Serif\" font-size=\"14.00\" fill=\"#000000\">samples = 16</text>\n<text text-anchor=\"middle\" x=\"4213.5\" y=\"-1032.8\" font-family=\"Helvetica,sans-Serif\" font-size=\"14.00\" fill=\"#000000\">value = [1, 15]</text>\n</g>\n<!-- 191&#45;&gt;205 -->\n<g id=\"edge205\" class=\"edge\">\n<title>191&#45;&gt;205</title>\n<path fill=\"none\" stroke=\"#000000\" d=\"M4078.6681,-1131.6555C4099.7391,-1120.3012 4123.7215,-1107.378 4145.5595,-1095.6104\"/>\n<polygon fill=\"#000000\" stroke=\"#000000\" points=\"4147.3075,-1098.6443 4154.4505,-1090.8194 4143.9869,-1092.4821 4147.3075,-1098.6443\"/>\n</g>\n<!-- 193 -->\n<g id=\"node194\" class=\"node\">\n<title>193</title>\n<polygon fill=\"#399de5\" stroke=\"#000000\" points=\"4010,-981.5 3909,-981.5 3909,-928.5 4010,-928.5 4010,-981.5\"/>\n<text text-anchor=\"middle\" x=\"3959.5\" y=\"-966.3\" font-family=\"Helvetica,sans-Serif\" font-size=\"14.00\" fill=\"#000000\">entropy = 0.0</text>\n<text text-anchor=\"middle\" x=\"3959.5\" y=\"-951.3\" font-family=\"Helvetica,sans-Serif\" font-size=\"14.00\" fill=\"#000000\">samples = 6</text>\n<text text-anchor=\"middle\" x=\"3959.5\" y=\"-936.3\" font-family=\"Helvetica,sans-Serif\" font-size=\"14.00\" fill=\"#000000\">value = [0, 6]</text>\n</g>\n<!-- 192&#45;&gt;193 -->\n<g id=\"edge193\" class=\"edge\">\n<title>192&#45;&gt;193</title>\n<path fill=\"none\" stroke=\"#000000\" d=\"M4000.5263,-1024.9465C3994.001,-1013.8215 3986.7431,-1001.4473 3980.1678,-990.237\"/>\n<polygon fill=\"#000000\" stroke=\"#000000\" points=\"3983.1464,-988.3971 3975.068,-981.5422 3977.1084,-991.9387 3983.1464,-988.3971\"/>\n</g>\n<!-- 194 -->\n<g id=\"node195\" class=\"node\">\n<title>194</title>\n<polygon fill=\"#ffffff\" stroke=\"#000000\" points=\"4144.5,-989 4028.5,-989 4028.5,-921 4144.5,-921 4144.5,-989\"/>\n<text text-anchor=\"middle\" x=\"4086.5\" y=\"-973.8\" font-family=\"Helvetica,sans-Serif\" font-size=\"14.00\" fill=\"#000000\">X[3] &lt;= 146.0</text>\n<text text-anchor=\"middle\" x=\"4086.5\" y=\"-958.8\" font-family=\"Helvetica,sans-Serif\" font-size=\"14.00\" fill=\"#000000\">entropy = 1.0</text>\n<text text-anchor=\"middle\" x=\"4086.5\" y=\"-943.8\" font-family=\"Helvetica,sans-Serif\" font-size=\"14.00\" fill=\"#000000\">samples = 20</text>\n<text text-anchor=\"middle\" x=\"4086.5\" y=\"-928.8\" font-family=\"Helvetica,sans-Serif\" font-size=\"14.00\" fill=\"#000000\">value = [10, 10]</text>\n</g>\n<!-- 192&#45;&gt;194 -->\n<g id=\"edge194\" class=\"edge\">\n<title>192&#45;&gt;194</title>\n<path fill=\"none\" stroke=\"#000000\" d=\"M4042.1109,-1024.9465C4047.6378,-1016.2373 4053.6506,-1006.7626 4059.4146,-997.6801\"/>\n<polygon fill=\"#000000\" stroke=\"#000000\" points=\"4062.4374,-999.4487 4064.8406,-989.13 4056.5271,-995.6979 4062.4374,-999.4487\"/>\n</g>\n<!-- 195 -->\n<g id=\"node196\" class=\"node\">\n<title>195</title>\n<polygon fill=\"#9ccef2\" stroke=\"#000000\" points=\"4145.5,-885 4027.5,-885 4027.5,-817 4145.5,-817 4145.5,-885\"/>\n<text text-anchor=\"middle\" x=\"4086.5\" y=\"-869.8\" font-family=\"Helvetica,sans-Serif\" font-size=\"14.00\" fill=\"#000000\">X[1] &lt;= 0.5</text>\n<text text-anchor=\"middle\" x=\"4086.5\" y=\"-854.8\" font-family=\"Helvetica,sans-Serif\" font-size=\"14.00\" fill=\"#000000\">entropy = 0.918</text>\n<text text-anchor=\"middle\" x=\"4086.5\" y=\"-839.8\" font-family=\"Helvetica,sans-Serif\" font-size=\"14.00\" fill=\"#000000\">samples = 15</text>\n<text text-anchor=\"middle\" x=\"4086.5\" y=\"-824.8\" font-family=\"Helvetica,sans-Serif\" font-size=\"14.00\" fill=\"#000000\">value = [5, 10]</text>\n</g>\n<!-- 194&#45;&gt;195 -->\n<g id=\"edge195\" class=\"edge\">\n<title>194&#45;&gt;195</title>\n<path fill=\"none\" stroke=\"#000000\" d=\"M4086.5,-920.9465C4086.5,-912.776 4086.5,-903.9318 4086.5,-895.3697\"/>\n<polygon fill=\"#000000\" stroke=\"#000000\" points=\"4090.0001,-895.13 4086.5,-885.13 4083.0001,-895.13 4090.0001,-895.13\"/>\n</g>\n<!-- 204 -->\n<g id=\"node205\" class=\"node\">\n<title>204</title>\n<polygon fill=\"#e58139\" stroke=\"#000000\" points=\"4265,-877.5 4164,-877.5 4164,-824.5 4265,-824.5 4265,-877.5\"/>\n<text text-anchor=\"middle\" x=\"4214.5\" y=\"-862.3\" font-family=\"Helvetica,sans-Serif\" font-size=\"14.00\" fill=\"#000000\">entropy = 0.0</text>\n<text text-anchor=\"middle\" x=\"4214.5\" y=\"-847.3\" font-family=\"Helvetica,sans-Serif\" font-size=\"14.00\" fill=\"#000000\">samples = 5</text>\n<text text-anchor=\"middle\" x=\"4214.5\" y=\"-832.3\" font-family=\"Helvetica,sans-Serif\" font-size=\"14.00\" fill=\"#000000\">value = [5, 0]</text>\n</g>\n<!-- 194&#45;&gt;204 -->\n<g id=\"edge204\" class=\"edge\">\n<title>194&#45;&gt;204</title>\n<path fill=\"none\" stroke=\"#000000\" d=\"M4128.412,-920.9465C4143.0533,-909.0504 4159.4526,-895.726 4173.9785,-883.9237\"/>\n<polygon fill=\"#000000\" stroke=\"#000000\" points=\"4176.2786,-886.5645 4181.8327,-877.5422 4171.8645,-881.1317 4176.2786,-886.5645\"/>\n</g>\n<!-- 196 -->\n<g id=\"node197\" class=\"node\">\n<title>196</title>\n<polygon fill=\"#e58139\" stroke=\"#000000\" points=\"4137,-773.5 4036,-773.5 4036,-720.5 4137,-720.5 4137,-773.5\"/>\n<text text-anchor=\"middle\" x=\"4086.5\" y=\"-758.3\" font-family=\"Helvetica,sans-Serif\" font-size=\"14.00\" fill=\"#000000\">entropy = 0.0</text>\n<text text-anchor=\"middle\" x=\"4086.5\" y=\"-743.3\" font-family=\"Helvetica,sans-Serif\" font-size=\"14.00\" fill=\"#000000\">samples = 3</text>\n<text text-anchor=\"middle\" x=\"4086.5\" y=\"-728.3\" font-family=\"Helvetica,sans-Serif\" font-size=\"14.00\" fill=\"#000000\">value = [3, 0]</text>\n</g>\n<!-- 195&#45;&gt;196 -->\n<g id=\"edge196\" class=\"edge\">\n<title>195&#45;&gt;196</title>\n<path fill=\"none\" stroke=\"#000000\" d=\"M4086.5,-816.9465C4086.5,-806.2621 4086.5,-794.4254 4086.5,-783.5742\"/>\n<polygon fill=\"#000000\" stroke=\"#000000\" points=\"4090.0001,-783.5421 4086.5,-773.5422 4083.0001,-783.5422 4090.0001,-783.5421\"/>\n</g>\n<!-- 197 -->\n<g id=\"node198\" class=\"node\">\n<title>197</title>\n<polygon fill=\"#61b1ea\" stroke=\"#000000\" points=\"4265.5,-781 4155.5,-781 4155.5,-713 4265.5,-713 4265.5,-781\"/>\n<text text-anchor=\"middle\" x=\"4210.5\" y=\"-765.8\" font-family=\"Helvetica,sans-Serif\" font-size=\"14.00\" fill=\"#000000\">X[7] &lt;= 135.5</text>\n<text text-anchor=\"middle\" x=\"4210.5\" y=\"-750.8\" font-family=\"Helvetica,sans-Serif\" font-size=\"14.00\" fill=\"#000000\">entropy = 0.65</text>\n<text text-anchor=\"middle\" x=\"4210.5\" y=\"-735.8\" font-family=\"Helvetica,sans-Serif\" font-size=\"14.00\" fill=\"#000000\">samples = 12</text>\n<text text-anchor=\"middle\" x=\"4210.5\" y=\"-720.8\" font-family=\"Helvetica,sans-Serif\" font-size=\"14.00\" fill=\"#000000\">value = [2, 10]</text>\n</g>\n<!-- 195&#45;&gt;197 -->\n<g id=\"edge197\" class=\"edge\">\n<title>195&#45;&gt;197</title>\n<path fill=\"none\" stroke=\"#000000\" d=\"M4127.1022,-816.9465C4138.2356,-807.6088 4150.4183,-797.3911 4161.9489,-787.7203\"/>\n<polygon fill=\"#000000\" stroke=\"#000000\" points=\"4164.3938,-790.2378 4169.8065,-781.13 4159.8954,-784.8745 4164.3938,-790.2378\"/>\n</g>\n<!-- 198 -->\n<g id=\"node199\" class=\"node\">\n<title>198</title>\n<polygon fill=\"#e58139\" stroke=\"#000000\" points=\"4248,-669.5 4147,-669.5 4147,-616.5 4248,-616.5 4248,-669.5\"/>\n<text text-anchor=\"middle\" x=\"4197.5\" y=\"-654.3\" font-family=\"Helvetica,sans-Serif\" font-size=\"14.00\" fill=\"#000000\">entropy = 0.0</text>\n<text text-anchor=\"middle\" x=\"4197.5\" y=\"-639.3\" font-family=\"Helvetica,sans-Serif\" font-size=\"14.00\" fill=\"#000000\">samples = 1</text>\n<text text-anchor=\"middle\" x=\"4197.5\" y=\"-624.3\" font-family=\"Helvetica,sans-Serif\" font-size=\"14.00\" fill=\"#000000\">value = [1, 0]</text>\n</g>\n<!-- 197&#45;&gt;198 -->\n<g id=\"edge198\" class=\"edge\">\n<title>197&#45;&gt;198</title>\n<path fill=\"none\" stroke=\"#000000\" d=\"M4206.2433,-712.9465C4204.9078,-702.2621 4203.4282,-690.4254 4202.0718,-679.5742\"/>\n<polygon fill=\"#000000\" stroke=\"#000000\" points=\"4205.5312,-679.0308 4200.8178,-669.5422 4198.5852,-679.8991 4205.5312,-679.0308\"/>\n</g>\n<!-- 199 -->\n<g id=\"node200\" class=\"node\">\n<title>199</title>\n<polygon fill=\"#4da7e8\" stroke=\"#000000\" points=\"4384.5,-677 4266.5,-677 4266.5,-609 4384.5,-609 4384.5,-677\"/>\n<text text-anchor=\"middle\" x=\"4325.5\" y=\"-661.8\" font-family=\"Helvetica,sans-Serif\" font-size=\"14.00\" fill=\"#000000\">X[7] &lt;= 159.5</text>\n<text text-anchor=\"middle\" x=\"4325.5\" y=\"-646.8\" font-family=\"Helvetica,sans-Serif\" font-size=\"14.00\" fill=\"#000000\">entropy = 0.439</text>\n<text text-anchor=\"middle\" x=\"4325.5\" y=\"-631.8\" font-family=\"Helvetica,sans-Serif\" font-size=\"14.00\" fill=\"#000000\">samples = 11</text>\n<text text-anchor=\"middle\" x=\"4325.5\" y=\"-616.8\" font-family=\"Helvetica,sans-Serif\" font-size=\"14.00\" fill=\"#000000\">value = [1, 10]</text>\n</g>\n<!-- 197&#45;&gt;199 -->\n<g id=\"edge199\" class=\"edge\">\n<title>197&#45;&gt;199</title>\n<path fill=\"none\" stroke=\"#000000\" d=\"M4248.1553,-712.9465C4258.3813,-703.6986 4269.5618,-693.5876 4280.1641,-683.9994\"/>\n<polygon fill=\"#000000\" stroke=\"#000000\" points=\"4282.6908,-686.4334 4287.7601,-677.13 4277.9956,-681.2416 4282.6908,-686.4334\"/>\n</g>\n<!-- 200 -->\n<g id=\"node201\" class=\"node\">\n<title>200</title>\n<polygon fill=\"#399de5\" stroke=\"#000000\" points=\"4256,-565.5 4155,-565.5 4155,-512.5 4256,-512.5 4256,-565.5\"/>\n<text text-anchor=\"middle\" x=\"4205.5\" y=\"-550.3\" font-family=\"Helvetica,sans-Serif\" font-size=\"14.00\" fill=\"#000000\">entropy = 0.0</text>\n<text text-anchor=\"middle\" x=\"4205.5\" y=\"-535.3\" font-family=\"Helvetica,sans-Serif\" font-size=\"14.00\" fill=\"#000000\">samples = 8</text>\n<text text-anchor=\"middle\" x=\"4205.5\" y=\"-520.3\" font-family=\"Helvetica,sans-Serif\" font-size=\"14.00\" fill=\"#000000\">value = [0, 8]</text>\n</g>\n<!-- 199&#45;&gt;200 -->\n<g id=\"edge200\" class=\"edge\">\n<title>199&#45;&gt;200</title>\n<path fill=\"none\" stroke=\"#000000\" d=\"M4286.2075,-608.9465C4272.6083,-597.1606 4257.3915,-583.9726 4243.8676,-572.2519\"/>\n<polygon fill=\"#000000\" stroke=\"#000000\" points=\"4245.9748,-569.4466 4236.1256,-565.5422 4241.3902,-574.7364 4245.9748,-569.4466\"/>\n</g>\n<!-- 201 -->\n<g id=\"node202\" class=\"node\">\n<title>201</title>\n<polygon fill=\"#9ccef2\" stroke=\"#000000\" points=\"4392.5,-573 4274.5,-573 4274.5,-505 4392.5,-505 4392.5,-573\"/>\n<text text-anchor=\"middle\" x=\"4333.5\" y=\"-557.8\" font-family=\"Helvetica,sans-Serif\" font-size=\"14.00\" fill=\"#000000\">X[7] &lt;= 164.0</text>\n<text text-anchor=\"middle\" x=\"4333.5\" y=\"-542.8\" font-family=\"Helvetica,sans-Serif\" font-size=\"14.00\" fill=\"#000000\">entropy = 0.918</text>\n<text text-anchor=\"middle\" x=\"4333.5\" y=\"-527.8\" font-family=\"Helvetica,sans-Serif\" font-size=\"14.00\" fill=\"#000000\">samples = 3</text>\n<text text-anchor=\"middle\" x=\"4333.5\" y=\"-512.8\" font-family=\"Helvetica,sans-Serif\" font-size=\"14.00\" fill=\"#000000\">value = [1, 2]</text>\n</g>\n<!-- 199&#45;&gt;201 -->\n<g id=\"edge201\" class=\"edge\">\n<title>199&#45;&gt;201</title>\n<path fill=\"none\" stroke=\"#000000\" d=\"M4328.1195,-608.9465C4328.748,-600.776 4329.4283,-591.9318 4330.0869,-583.3697\"/>\n<polygon fill=\"#000000\" stroke=\"#000000\" points=\"4333.5973,-583.369 4330.8746,-573.13 4326.6179,-582.8321 4333.5973,-583.369\"/>\n</g>\n<!-- 202 -->\n<g id=\"node203\" class=\"node\">\n<title>202</title>\n<polygon fill=\"#e58139\" stroke=\"#000000\" points=\"4324,-461.5 4223,-461.5 4223,-408.5 4324,-408.5 4324,-461.5\"/>\n<text text-anchor=\"middle\" x=\"4273.5\" y=\"-446.3\" font-family=\"Helvetica,sans-Serif\" font-size=\"14.00\" fill=\"#000000\">entropy = 0.0</text>\n<text text-anchor=\"middle\" x=\"4273.5\" y=\"-431.3\" font-family=\"Helvetica,sans-Serif\" font-size=\"14.00\" fill=\"#000000\">samples = 1</text>\n<text text-anchor=\"middle\" x=\"4273.5\" y=\"-416.3\" font-family=\"Helvetica,sans-Serif\" font-size=\"14.00\" fill=\"#000000\">value = [1, 0]</text>\n</g>\n<!-- 201&#45;&gt;202 -->\n<g id=\"edge202\" class=\"edge\">\n<title>201&#45;&gt;202</title>\n<path fill=\"none\" stroke=\"#000000\" d=\"M4313.8538,-504.9465C4307.4355,-493.8215 4300.2965,-481.4473 4293.829,-470.237\"/>\n<polygon fill=\"#000000\" stroke=\"#000000\" points=\"4296.8417,-468.455 4288.8128,-461.5422 4290.7784,-471.9531 4296.8417,-468.455\"/>\n</g>\n<!-- 203 -->\n<g id=\"node204\" class=\"node\">\n<title>203</title>\n<polygon fill=\"#399de5\" stroke=\"#000000\" points=\"4443,-461.5 4342,-461.5 4342,-408.5 4443,-408.5 4443,-461.5\"/>\n<text text-anchor=\"middle\" x=\"4392.5\" y=\"-446.3\" font-family=\"Helvetica,sans-Serif\" font-size=\"14.00\" fill=\"#000000\">entropy = 0.0</text>\n<text text-anchor=\"middle\" x=\"4392.5\" y=\"-431.3\" font-family=\"Helvetica,sans-Serif\" font-size=\"14.00\" fill=\"#000000\">samples = 2</text>\n<text text-anchor=\"middle\" x=\"4392.5\" y=\"-416.3\" font-family=\"Helvetica,sans-Serif\" font-size=\"14.00\" fill=\"#000000\">value = [0, 2]</text>\n</g>\n<!-- 201&#45;&gt;203 -->\n<g id=\"edge203\" class=\"edge\">\n<title>201&#45;&gt;203</title>\n<path fill=\"none\" stroke=\"#000000\" d=\"M4352.8188,-504.9465C4359.0676,-493.9316 4366.0112,-481.6922 4372.3207,-470.5703\"/>\n<polygon fill=\"#000000\" stroke=\"#000000\" points=\"4375.5523,-471.967 4377.4424,-461.5422 4369.4638,-468.513 4375.5523,-471.967\"/>\n</g>\n<!-- 206 -->\n<g id=\"node207\" class=\"node\">\n<title>206</title>\n<polygon fill=\"#e58139\" stroke=\"#000000\" points=\"4264,-981.5 4163,-981.5 4163,-928.5 4264,-928.5 4264,-981.5\"/>\n<text text-anchor=\"middle\" x=\"4213.5\" y=\"-966.3\" font-family=\"Helvetica,sans-Serif\" font-size=\"14.00\" fill=\"#000000\">entropy = 0.0</text>\n<text text-anchor=\"middle\" x=\"4213.5\" y=\"-951.3\" font-family=\"Helvetica,sans-Serif\" font-size=\"14.00\" fill=\"#000000\">samples = 1</text>\n<text text-anchor=\"middle\" x=\"4213.5\" y=\"-936.3\" font-family=\"Helvetica,sans-Serif\" font-size=\"14.00\" fill=\"#000000\">value = [1, 0]</text>\n</g>\n<!-- 205&#45;&gt;206 -->\n<g id=\"edge206\" class=\"edge\">\n<title>205&#45;&gt;206</title>\n<path fill=\"none\" stroke=\"#000000\" d=\"M4213.5,-1024.9465C4213.5,-1014.2621 4213.5,-1002.4254 4213.5,-991.5742\"/>\n<polygon fill=\"#000000\" stroke=\"#000000\" points=\"4217.0001,-991.5421 4213.5,-981.5422 4210.0001,-991.5422 4217.0001,-991.5421\"/>\n</g>\n<!-- 207 -->\n<g id=\"node208\" class=\"node\">\n<title>207</title>\n<polygon fill=\"#399de5\" stroke=\"#000000\" points=\"4389,-981.5 4282,-981.5 4282,-928.5 4389,-928.5 4389,-981.5\"/>\n<text text-anchor=\"middle\" x=\"4335.5\" y=\"-966.3\" font-family=\"Helvetica,sans-Serif\" font-size=\"14.00\" fill=\"#000000\">entropy = 0.0</text>\n<text text-anchor=\"middle\" x=\"4335.5\" y=\"-951.3\" font-family=\"Helvetica,sans-Serif\" font-size=\"14.00\" fill=\"#000000\">samples = 15</text>\n<text text-anchor=\"middle\" x=\"4335.5\" y=\"-936.3\" font-family=\"Helvetica,sans-Serif\" font-size=\"14.00\" fill=\"#000000\">value = [0, 15]</text>\n</g>\n<!-- 205&#45;&gt;207 -->\n<g id=\"edge207\" class=\"edge\">\n<title>205&#45;&gt;207</title>\n<path fill=\"none\" stroke=\"#000000\" d=\"M4253.4474,-1024.9465C4267.2732,-1013.1606 4282.7436,-999.9726 4296.4929,-988.2519\"/>\n<polygon fill=\"#000000\" stroke=\"#000000\" points=\"4299.0244,-990.6931 4304.364,-981.5422 4294.4832,-985.366 4299.0244,-990.6931\"/>\n</g>\n<!-- 209 -->\n<g id=\"node210\" class=\"node\">\n<title>209</title>\n<polygon fill=\"#e68844\" stroke=\"#000000\" points=\"4645.5,-1197 4521.5,-1197 4521.5,-1129 4645.5,-1129 4645.5,-1197\"/>\n<text text-anchor=\"middle\" x=\"4583.5\" y=\"-1181.8\" font-family=\"Helvetica,sans-Serif\" font-size=\"14.00\" fill=\"#000000\">X[0] &lt;= 56.5</text>\n<text text-anchor=\"middle\" x=\"4583.5\" y=\"-1166.8\" font-family=\"Helvetica,sans-Serif\" font-size=\"14.00\" fill=\"#000000\">entropy = 0.293</text>\n<text text-anchor=\"middle\" x=\"4583.5\" y=\"-1151.8\" font-family=\"Helvetica,sans-Serif\" font-size=\"14.00\" fill=\"#000000\">samples = 233</text>\n<text text-anchor=\"middle\" x=\"4583.5\" y=\"-1136.8\" font-family=\"Helvetica,sans-Serif\" font-size=\"14.00\" fill=\"#000000\">value = [221, 12]</text>\n</g>\n<!-- 208&#45;&gt;209 -->\n<g id=\"edge209\" class=\"edge\">\n<title>208&#45;&gt;209</title>\n<path fill=\"none\" stroke=\"#000000\" d=\"M4583.5,-1232.9465C4583.5,-1224.776 4583.5,-1215.9318 4583.5,-1207.3697\"/>\n<polygon fill=\"#000000\" stroke=\"#000000\" points=\"4587.0001,-1207.13 4583.5,-1197.13 4580.0001,-1207.13 4587.0001,-1207.13\"/>\n</g>\n<!-- 244 -->\n<g id=\"node245\" class=\"node\">\n<title>244</title>\n<polygon fill=\"#399de5\" stroke=\"#000000\" points=\"4765,-1189.5 4664,-1189.5 4664,-1136.5 4765,-1136.5 4765,-1189.5\"/>\n<text text-anchor=\"middle\" x=\"4714.5\" y=\"-1174.3\" font-family=\"Helvetica,sans-Serif\" font-size=\"14.00\" fill=\"#000000\">entropy = 0.0</text>\n<text text-anchor=\"middle\" x=\"4714.5\" y=\"-1159.3\" font-family=\"Helvetica,sans-Serif\" font-size=\"14.00\" fill=\"#000000\">samples = 4</text>\n<text text-anchor=\"middle\" x=\"4714.5\" y=\"-1144.3\" font-family=\"Helvetica,sans-Serif\" font-size=\"14.00\" fill=\"#000000\">value = [0, 4]</text>\n</g>\n<!-- 208&#45;&gt;244 -->\n<g id=\"edge244\" class=\"edge\">\n<title>208&#45;&gt;244</title>\n<path fill=\"none\" stroke=\"#000000\" d=\"M4626.3943,-1232.9465C4641.3788,-1221.0504 4658.1624,-1207.726 4673.0288,-1195.9237\"/>\n<polygon fill=\"#000000\" stroke=\"#000000\" points=\"4675.4113,-1198.5011 4681.0671,-1189.5422 4671.0589,-1193.0187 4675.4113,-1198.5011\"/>\n</g>\n<!-- 210 -->\n<g id=\"node211\" class=\"node\">\n<title>210</title>\n<polygon fill=\"#e6843d\" stroke=\"#000000\" points=\"4642.5,-1093 4524.5,-1093 4524.5,-1025 4642.5,-1025 4642.5,-1093\"/>\n<text text-anchor=\"middle\" x=\"4583.5\" y=\"-1077.8\" font-family=\"Helvetica,sans-Serif\" font-size=\"14.00\" fill=\"#000000\">X[4] &lt;= 153.0</text>\n<text text-anchor=\"middle\" x=\"4583.5\" y=\"-1062.8\" font-family=\"Helvetica,sans-Serif\" font-size=\"14.00\" fill=\"#000000\">entropy = 0.152</text>\n<text text-anchor=\"middle\" x=\"4583.5\" y=\"-1047.8\" font-family=\"Helvetica,sans-Serif\" font-size=\"14.00\" fill=\"#000000\">samples = 183</text>\n<text text-anchor=\"middle\" x=\"4583.5\" y=\"-1032.8\" font-family=\"Helvetica,sans-Serif\" font-size=\"14.00\" fill=\"#000000\">value = [179, 4]</text>\n</g>\n<!-- 209&#45;&gt;210 -->\n<g id=\"edge210\" class=\"edge\">\n<title>209&#45;&gt;210</title>\n<path fill=\"none\" stroke=\"#000000\" d=\"M4583.5,-1128.9465C4583.5,-1120.776 4583.5,-1111.9318 4583.5,-1103.3697\"/>\n<polygon fill=\"#000000\" stroke=\"#000000\" points=\"4587.0001,-1103.13 4583.5,-1093.13 4580.0001,-1103.13 4587.0001,-1103.13\"/>\n</g>\n<!-- 223 -->\n<g id=\"node224\" class=\"node\">\n<title>223</title>\n<polygon fill=\"#ea995f\" stroke=\"#000000\" points=\"4842.5,-1093 4724.5,-1093 4724.5,-1025 4842.5,-1025 4842.5,-1093\"/>\n<text text-anchor=\"middle\" x=\"4783.5\" y=\"-1077.8\" font-family=\"Helvetica,sans-Serif\" font-size=\"14.00\" fill=\"#000000\">X[3] &lt;= 122.0</text>\n<text text-anchor=\"middle\" x=\"4783.5\" y=\"-1062.8\" font-family=\"Helvetica,sans-Serif\" font-size=\"14.00\" fill=\"#000000\">entropy = 0.634</text>\n<text text-anchor=\"middle\" x=\"4783.5\" y=\"-1047.8\" font-family=\"Helvetica,sans-Serif\" font-size=\"14.00\" fill=\"#000000\">samples = 50</text>\n<text text-anchor=\"middle\" x=\"4783.5\" y=\"-1032.8\" font-family=\"Helvetica,sans-Serif\" font-size=\"14.00\" fill=\"#000000\">value = [42, 8]</text>\n</g>\n<!-- 209&#45;&gt;223 -->\n<g id=\"edge223\" class=\"edge\">\n<title>209&#45;&gt;223</title>\n<path fill=\"none\" stroke=\"#000000\" d=\"M4645.6849,-1130.6638C4667.7564,-1119.1866 4692.7103,-1106.2107 4715.2599,-1094.4849\"/>\n<polygon fill=\"#000000\" stroke=\"#000000\" points=\"4717.1722,-1097.4354 4724.4297,-1089.7166 4713.9427,-1091.2249 4717.1722,-1097.4354\"/>\n</g>\n<!-- 211 -->\n<g id=\"node212\" class=\"node\">\n<title>211</title>\n<polygon fill=\"#f2c09c\" stroke=\"#000000\" points=\"4542.5,-989 4424.5,-989 4424.5,-921 4542.5,-921 4542.5,-989\"/>\n<text text-anchor=\"middle\" x=\"4483.5\" y=\"-973.8\" font-family=\"Helvetica,sans-Serif\" font-size=\"14.00\" fill=\"#000000\">X[7] &lt;= 132.5</text>\n<text text-anchor=\"middle\" x=\"4483.5\" y=\"-958.8\" font-family=\"Helvetica,sans-Serif\" font-size=\"14.00\" fill=\"#000000\">entropy = 0.918</text>\n<text text-anchor=\"middle\" x=\"4483.5\" y=\"-943.8\" font-family=\"Helvetica,sans-Serif\" font-size=\"14.00\" fill=\"#000000\">samples = 6</text>\n<text text-anchor=\"middle\" x=\"4483.5\" y=\"-928.8\" font-family=\"Helvetica,sans-Serif\" font-size=\"14.00\" fill=\"#000000\">value = [4, 2]</text>\n</g>\n<!-- 210&#45;&gt;211 -->\n<g id=\"edge211\" class=\"edge\">\n<title>210&#45;&gt;211</title>\n<path fill=\"none\" stroke=\"#000000\" d=\"M4550.7563,-1024.9465C4542.0367,-1015.8782 4532.5191,-1005.9799 4523.4601,-996.5585\"/>\n<polygon fill=\"#000000\" stroke=\"#000000\" points=\"4525.7713,-993.9125 4516.3173,-989.13 4520.7255,-998.7642 4525.7713,-993.9125\"/>\n</g>\n<!-- 214 -->\n<g id=\"node215\" class=\"node\">\n<title>214</title>\n<polygon fill=\"#e5823b\" stroke=\"#000000\" points=\"4678.5,-989 4560.5,-989 4560.5,-921 4678.5,-921 4678.5,-989\"/>\n<text text-anchor=\"middle\" x=\"4619.5\" y=\"-973.8\" font-family=\"Helvetica,sans-Serif\" font-size=\"14.00\" fill=\"#000000\">X[3] &lt;= 191.0</text>\n<text text-anchor=\"middle\" x=\"4619.5\" y=\"-958.8\" font-family=\"Helvetica,sans-Serif\" font-size=\"14.00\" fill=\"#000000\">entropy = 0.089</text>\n<text text-anchor=\"middle\" x=\"4619.5\" y=\"-943.8\" font-family=\"Helvetica,sans-Serif\" font-size=\"14.00\" fill=\"#000000\">samples = 177</text>\n<text text-anchor=\"middle\" x=\"4619.5\" y=\"-928.8\" font-family=\"Helvetica,sans-Serif\" font-size=\"14.00\" fill=\"#000000\">value = [175, 2]</text>\n</g>\n<!-- 210&#45;&gt;214 -->\n<g id=\"edge214\" class=\"edge\">\n<title>210&#45;&gt;214</title>\n<path fill=\"none\" stroke=\"#000000\" d=\"M4595.2877,-1024.9465C4598.1781,-1016.5965 4601.3121,-1007.5427 4604.3365,-998.8056\"/>\n<polygon fill=\"#000000\" stroke=\"#000000\" points=\"4607.7221,-999.7248 4607.6858,-989.13 4601.1071,-997.435 4607.7221,-999.7248\"/>\n</g>\n<!-- 212 -->\n<g id=\"node213\" class=\"node\">\n<title>212</title>\n<polygon fill=\"#399de5\" stroke=\"#000000\" points=\"4417,-877.5 4316,-877.5 4316,-824.5 4417,-824.5 4417,-877.5\"/>\n<text text-anchor=\"middle\" x=\"4366.5\" y=\"-862.3\" font-family=\"Helvetica,sans-Serif\" font-size=\"14.00\" fill=\"#000000\">entropy = 0.0</text>\n<text text-anchor=\"middle\" x=\"4366.5\" y=\"-847.3\" font-family=\"Helvetica,sans-Serif\" font-size=\"14.00\" fill=\"#000000\">samples = 2</text>\n<text text-anchor=\"middle\" x=\"4366.5\" y=\"-832.3\" font-family=\"Helvetica,sans-Serif\" font-size=\"14.00\" fill=\"#000000\">value = [0, 2]</text>\n</g>\n<!-- 211&#45;&gt;212 -->\n<g id=\"edge212\" class=\"edge\">\n<title>211&#45;&gt;212</title>\n<path fill=\"none\" stroke=\"#000000\" d=\"M4445.1898,-920.9465C4431.9306,-909.1606 4417.0942,-895.9726 4403.9084,-884.2519\"/>\n<polygon fill=\"#000000\" stroke=\"#000000\" points=\"4406.1593,-881.5699 4396.3599,-877.5422 4401.5088,-886.8018 4406.1593,-881.5699\"/>\n</g>\n<!-- 213 -->\n<g id=\"node214\" class=\"node\">\n<title>213</title>\n<polygon fill=\"#e58139\" stroke=\"#000000\" points=\"4536,-877.5 4435,-877.5 4435,-824.5 4536,-824.5 4536,-877.5\"/>\n<text text-anchor=\"middle\" x=\"4485.5\" y=\"-862.3\" font-family=\"Helvetica,sans-Serif\" font-size=\"14.00\" fill=\"#000000\">entropy = 0.0</text>\n<text text-anchor=\"middle\" x=\"4485.5\" y=\"-847.3\" font-family=\"Helvetica,sans-Serif\" font-size=\"14.00\" fill=\"#000000\">samples = 4</text>\n<text text-anchor=\"middle\" x=\"4485.5\" y=\"-832.3\" font-family=\"Helvetica,sans-Serif\" font-size=\"14.00\" fill=\"#000000\">value = [4, 0]</text>\n</g>\n<!-- 211&#45;&gt;213 -->\n<g id=\"edge213\" class=\"edge\">\n<title>211&#45;&gt;213</title>\n<path fill=\"none\" stroke=\"#000000\" d=\"M4484.1549,-920.9465C4484.3603,-910.2621 4484.588,-898.4254 4484.7966,-887.5742\"/>\n<polygon fill=\"#000000\" stroke=\"#000000\" points=\"4488.2966,-887.6076 4484.9896,-877.5422 4481.2979,-887.473 4488.2966,-887.6076\"/>\n</g>\n<!-- 215 -->\n<g id=\"node216\" class=\"node\">\n<title>215</title>\n<polygon fill=\"#e5823a\" stroke=\"#000000\" points=\"4676.5,-885 4558.5,-885 4558.5,-817 4676.5,-817 4676.5,-885\"/>\n<text text-anchor=\"middle\" x=\"4617.5\" y=\"-869.8\" font-family=\"Helvetica,sans-Serif\" font-size=\"14.00\" fill=\"#000000\">X[3] &lt;= 109.0</text>\n<text text-anchor=\"middle\" x=\"4617.5\" y=\"-854.8\" font-family=\"Helvetica,sans-Serif\" font-size=\"14.00\" fill=\"#000000\">entropy = 0.051</text>\n<text text-anchor=\"middle\" x=\"4617.5\" y=\"-839.8\" font-family=\"Helvetica,sans-Serif\" font-size=\"14.00\" fill=\"#000000\">samples = 176</text>\n<text text-anchor=\"middle\" x=\"4617.5\" y=\"-824.8\" font-family=\"Helvetica,sans-Serif\" font-size=\"14.00\" fill=\"#000000\">value = [175, 1]</text>\n</g>\n<!-- 214&#45;&gt;215 -->\n<g id=\"edge215\" class=\"edge\">\n<title>214&#45;&gt;215</title>\n<path fill=\"none\" stroke=\"#000000\" d=\"M4618.8451,-920.9465C4618.688,-912.776 4618.5179,-903.9318 4618.3533,-895.3697\"/>\n<polygon fill=\"#000000\" stroke=\"#000000\" points=\"4621.8481,-895.0608 4618.1563,-885.13 4614.8494,-895.1955 4621.8481,-895.0608\"/>\n</g>\n<!-- 222 -->\n<g id=\"node223\" class=\"node\">\n<title>222</title>\n<polygon fill=\"#399de5\" stroke=\"#000000\" points=\"4796,-877.5 4695,-877.5 4695,-824.5 4796,-824.5 4796,-877.5\"/>\n<text text-anchor=\"middle\" x=\"4745.5\" y=\"-862.3\" font-family=\"Helvetica,sans-Serif\" font-size=\"14.00\" fill=\"#000000\">entropy = 0.0</text>\n<text text-anchor=\"middle\" x=\"4745.5\" y=\"-847.3\" font-family=\"Helvetica,sans-Serif\" font-size=\"14.00\" fill=\"#000000\">samples = 1</text>\n<text text-anchor=\"middle\" x=\"4745.5\" y=\"-832.3\" font-family=\"Helvetica,sans-Serif\" font-size=\"14.00\" fill=\"#000000\">value = [0, 1]</text>\n</g>\n<!-- 214&#45;&gt;222 -->\n<g id=\"edge222\" class=\"edge\">\n<title>214&#45;&gt;222</title>\n<path fill=\"none\" stroke=\"#000000\" d=\"M4660.7571,-920.9465C4675.1697,-909.0504 4691.3127,-895.726 4705.6117,-883.9237\"/>\n<polygon fill=\"#000000\" stroke=\"#000000\" points=\"4707.8589,-886.6071 4713.3431,-877.5422 4703.4029,-881.2086 4707.8589,-886.6071\"/>\n</g>\n<!-- 216 -->\n<g id=\"node217\" class=\"node\">\n<title>216</title>\n<polygon fill=\"#e78c4b\" stroke=\"#000000\" points=\"4588.5,-781 4470.5,-781 4470.5,-713 4588.5,-713 4588.5,-781\"/>\n<text text-anchor=\"middle\" x=\"4529.5\" y=\"-765.8\" font-family=\"Helvetica,sans-Serif\" font-size=\"14.00\" fill=\"#000000\">X[3] &lt;= 107.0</text>\n<text text-anchor=\"middle\" x=\"4529.5\" y=\"-750.8\" font-family=\"Helvetica,sans-Serif\" font-size=\"14.00\" fill=\"#000000\">entropy = 0.414</text>\n<text text-anchor=\"middle\" x=\"4529.5\" y=\"-735.8\" font-family=\"Helvetica,sans-Serif\" font-size=\"14.00\" fill=\"#000000\">samples = 12</text>\n<text text-anchor=\"middle\" x=\"4529.5\" y=\"-720.8\" font-family=\"Helvetica,sans-Serif\" font-size=\"14.00\" fill=\"#000000\">value = [11, 1]</text>\n</g>\n<!-- 215&#45;&gt;216 -->\n<g id=\"edge216\" class=\"edge\">\n<title>215&#45;&gt;216</title>\n<path fill=\"none\" stroke=\"#000000\" d=\"M4588.6855,-816.9465C4581.0883,-807.968 4572.8026,-798.1758 4564.9018,-788.8385\"/>\n<polygon fill=\"#000000\" stroke=\"#000000\" points=\"4567.5105,-786.5031 4558.3792,-781.13 4562.1668,-791.0247 4567.5105,-786.5031\"/>\n</g>\n<!-- 221 -->\n<g id=\"node222\" class=\"node\">\n<title>221</title>\n<polygon fill=\"#e58139\" stroke=\"#000000\" points=\"4722.5,-773.5 4606.5,-773.5 4606.5,-720.5 4722.5,-720.5 4722.5,-773.5\"/>\n<text text-anchor=\"middle\" x=\"4664.5\" y=\"-758.3\" font-family=\"Helvetica,sans-Serif\" font-size=\"14.00\" fill=\"#000000\">entropy = 0.0</text>\n<text text-anchor=\"middle\" x=\"4664.5\" y=\"-743.3\" font-family=\"Helvetica,sans-Serif\" font-size=\"14.00\" fill=\"#000000\">samples = 164</text>\n<text text-anchor=\"middle\" x=\"4664.5\" y=\"-728.3\" font-family=\"Helvetica,sans-Serif\" font-size=\"14.00\" fill=\"#000000\">value = [164, 0]</text>\n</g>\n<!-- 215&#45;&gt;221 -->\n<g id=\"edge221\" class=\"edge\">\n<title>215&#45;&gt;221</title>\n<path fill=\"none\" stroke=\"#000000\" d=\"M4632.8896,-816.9465C4637.8177,-806.0418 4643.2882,-793.9368 4648.274,-782.9043\"/>\n<polygon fill=\"#000000\" stroke=\"#000000\" points=\"4651.5761,-784.0962 4652.505,-773.5422 4645.1973,-781.2134 4651.5761,-784.0962\"/>\n</g>\n<!-- 217 -->\n<g id=\"node218\" class=\"node\">\n<title>217</title>\n<polygon fill=\"#e58139\" stroke=\"#000000\" points=\"4504,-669.5 4403,-669.5 4403,-616.5 4504,-616.5 4504,-669.5\"/>\n<text text-anchor=\"middle\" x=\"4453.5\" y=\"-654.3\" font-family=\"Helvetica,sans-Serif\" font-size=\"14.00\" fill=\"#000000\">entropy = 0.0</text>\n<text text-anchor=\"middle\" x=\"4453.5\" y=\"-639.3\" font-family=\"Helvetica,sans-Serif\" font-size=\"14.00\" fill=\"#000000\">samples = 9</text>\n<text text-anchor=\"middle\" x=\"4453.5\" y=\"-624.3\" font-family=\"Helvetica,sans-Serif\" font-size=\"14.00\" fill=\"#000000\">value = [9, 0]</text>\n</g>\n<!-- 216&#45;&gt;217 -->\n<g id=\"edge217\" class=\"edge\">\n<title>216&#45;&gt;217</title>\n<path fill=\"none\" stroke=\"#000000\" d=\"M4504.6148,-712.9465C4496.4044,-701.7113 4487.2631,-689.2021 4479.007,-677.9043\"/>\n<polygon fill=\"#000000\" stroke=\"#000000\" points=\"4481.6223,-675.551 4472.8962,-669.5422 4475.9705,-679.6812 4481.6223,-675.551\"/>\n</g>\n<!-- 218 -->\n<g id=\"node219\" class=\"node\">\n<title>218</title>\n<polygon fill=\"#f2c09c\" stroke=\"#000000\" points=\"4640.5,-677 4522.5,-677 4522.5,-609 4640.5,-609 4640.5,-677\"/>\n<text text-anchor=\"middle\" x=\"4581.5\" y=\"-661.8\" font-family=\"Helvetica,sans-Serif\" font-size=\"14.00\" fill=\"#000000\">X[4] &lt;= 255.0</text>\n<text text-anchor=\"middle\" x=\"4581.5\" y=\"-646.8\" font-family=\"Helvetica,sans-Serif\" font-size=\"14.00\" fill=\"#000000\">entropy = 0.918</text>\n<text text-anchor=\"middle\" x=\"4581.5\" y=\"-631.8\" font-family=\"Helvetica,sans-Serif\" font-size=\"14.00\" fill=\"#000000\">samples = 3</text>\n<text text-anchor=\"middle\" x=\"4581.5\" y=\"-616.8\" font-family=\"Helvetica,sans-Serif\" font-size=\"14.00\" fill=\"#000000\">value = [2, 1]</text>\n</g>\n<!-- 216&#45;&gt;218 -->\n<g id=\"edge218\" class=\"edge\">\n<title>216&#45;&gt;218</title>\n<path fill=\"none\" stroke=\"#000000\" d=\"M4546.5267,-712.9465C4550.7915,-704.4169 4555.4235,-695.153 4559.8788,-686.2424\"/>\n<polygon fill=\"#000000\" stroke=\"#000000\" points=\"4563.0933,-687.6395 4564.435,-677.13 4556.8323,-684.509 4563.0933,-687.6395\"/>\n</g>\n<!-- 219 -->\n<g id=\"node220\" class=\"node\">\n<title>219</title>\n<polygon fill=\"#399de5\" stroke=\"#000000\" points=\"4515,-565.5 4414,-565.5 4414,-512.5 4515,-512.5 4515,-565.5\"/>\n<text text-anchor=\"middle\" x=\"4464.5\" y=\"-550.3\" font-family=\"Helvetica,sans-Serif\" font-size=\"14.00\" fill=\"#000000\">entropy = 0.0</text>\n<text text-anchor=\"middle\" x=\"4464.5\" y=\"-535.3\" font-family=\"Helvetica,sans-Serif\" font-size=\"14.00\" fill=\"#000000\">samples = 1</text>\n<text text-anchor=\"middle\" x=\"4464.5\" y=\"-520.3\" font-family=\"Helvetica,sans-Serif\" font-size=\"14.00\" fill=\"#000000\">value = [0, 1]</text>\n</g>\n<!-- 218&#45;&gt;219 -->\n<g id=\"edge219\" class=\"edge\">\n<title>218&#45;&gt;219</title>\n<path fill=\"none\" stroke=\"#000000\" d=\"M4543.1898,-608.9465C4529.9306,-597.1606 4515.0942,-583.9726 4501.9084,-572.2519\"/>\n<polygon fill=\"#000000\" stroke=\"#000000\" points=\"4504.1593,-569.5699 4494.3599,-565.5422 4499.5088,-574.8018 4504.1593,-569.5699\"/>\n</g>\n<!-- 220 -->\n<g id=\"node221\" class=\"node\">\n<title>220</title>\n<polygon fill=\"#e58139\" stroke=\"#000000\" points=\"4634,-565.5 4533,-565.5 4533,-512.5 4634,-512.5 4634,-565.5\"/>\n<text text-anchor=\"middle\" x=\"4583.5\" y=\"-550.3\" font-family=\"Helvetica,sans-Serif\" font-size=\"14.00\" fill=\"#000000\">entropy = 0.0</text>\n<text text-anchor=\"middle\" x=\"4583.5\" y=\"-535.3\" font-family=\"Helvetica,sans-Serif\" font-size=\"14.00\" fill=\"#000000\">samples = 2</text>\n<text text-anchor=\"middle\" x=\"4583.5\" y=\"-520.3\" font-family=\"Helvetica,sans-Serif\" font-size=\"14.00\" fill=\"#000000\">value = [2, 0]</text>\n</g>\n<!-- 218&#45;&gt;220 -->\n<g id=\"edge220\" class=\"edge\">\n<title>218&#45;&gt;220</title>\n<path fill=\"none\" stroke=\"#000000\" d=\"M4582.1549,-608.9465C4582.3603,-598.2621 4582.588,-586.4254 4582.7966,-575.5742\"/>\n<polygon fill=\"#000000\" stroke=\"#000000\" points=\"4586.2966,-575.6076 4582.9896,-565.5422 4579.2979,-575.473 4586.2966,-575.6076\"/>\n</g>\n<!-- 224 -->\n<g id=\"node225\" class=\"node\">\n<title>224</title>\n<polygon fill=\"#e58139\" stroke=\"#000000\" points=\"4834,-981.5 4733,-981.5 4733,-928.5 4834,-928.5 4834,-981.5\"/>\n<text text-anchor=\"middle\" x=\"4783.5\" y=\"-966.3\" font-family=\"Helvetica,sans-Serif\" font-size=\"14.00\" fill=\"#000000\">entropy = 0.0</text>\n<text text-anchor=\"middle\" x=\"4783.5\" y=\"-951.3\" font-family=\"Helvetica,sans-Serif\" font-size=\"14.00\" fill=\"#000000\">samples = 9</text>\n<text text-anchor=\"middle\" x=\"4783.5\" y=\"-936.3\" font-family=\"Helvetica,sans-Serif\" font-size=\"14.00\" fill=\"#000000\">value = [9, 0]</text>\n</g>\n<!-- 223&#45;&gt;224 -->\n<g id=\"edge224\" class=\"edge\">\n<title>223&#45;&gt;224</title>\n<path fill=\"none\" stroke=\"#000000\" d=\"M4783.5,-1024.9465C4783.5,-1014.2621 4783.5,-1002.4254 4783.5,-991.5742\"/>\n<polygon fill=\"#000000\" stroke=\"#000000\" points=\"4787.0001,-991.5421 4783.5,-981.5422 4780.0001,-991.5422 4787.0001,-991.5421\"/>\n</g>\n<!-- 225 -->\n<g id=\"node226\" class=\"node\">\n<title>225</title>\n<polygon fill=\"#eba069\" stroke=\"#000000\" points=\"5004.5,-989 4886.5,-989 4886.5,-921 5004.5,-921 5004.5,-989\"/>\n<text text-anchor=\"middle\" x=\"4945.5\" y=\"-973.8\" font-family=\"Helvetica,sans-Serif\" font-size=\"14.00\" fill=\"#000000\">X[4] &lt;= 316.0</text>\n<text text-anchor=\"middle\" x=\"4945.5\" y=\"-958.8\" font-family=\"Helvetica,sans-Serif\" font-size=\"14.00\" fill=\"#000000\">entropy = 0.712</text>\n<text text-anchor=\"middle\" x=\"4945.5\" y=\"-943.8\" font-family=\"Helvetica,sans-Serif\" font-size=\"14.00\" fill=\"#000000\">samples = 41</text>\n<text text-anchor=\"middle\" x=\"4945.5\" y=\"-928.8\" font-family=\"Helvetica,sans-Serif\" font-size=\"14.00\" fill=\"#000000\">value = [33, 8]</text>\n</g>\n<!-- 223&#45;&gt;225 -->\n<g id=\"edge225\" class=\"edge\">\n<title>223&#45;&gt;225</title>\n<path fill=\"none\" stroke=\"#000000\" d=\"M4836.5449,-1024.9465C4851.6495,-1015.2497 4868.2324,-1004.6039 4883.8046,-994.6069\"/>\n<polygon fill=\"#000000\" stroke=\"#000000\" points=\"4885.8116,-997.4777 4892.336,-989.13 4882.03,-991.5871 4885.8116,-997.4777\"/>\n</g>\n<!-- 226 -->\n<g id=\"node227\" class=\"node\">\n<title>226</title>\n<polygon fill=\"#ea995e\" stroke=\"#000000\" points=\"5004.5,-885 4886.5,-885 4886.5,-817 5004.5,-817 5004.5,-885\"/>\n<text text-anchor=\"middle\" x=\"4945.5\" y=\"-869.8\" font-family=\"Helvetica,sans-Serif\" font-size=\"14.00\" fill=\"#000000\">X[0] &lt;= 72.0</text>\n<text text-anchor=\"middle\" x=\"4945.5\" y=\"-854.8\" font-family=\"Helvetica,sans-Serif\" font-size=\"14.00\" fill=\"#000000\">entropy = 0.629</text>\n<text text-anchor=\"middle\" x=\"4945.5\" y=\"-839.8\" font-family=\"Helvetica,sans-Serif\" font-size=\"14.00\" fill=\"#000000\">samples = 38</text>\n<text text-anchor=\"middle\" x=\"4945.5\" y=\"-824.8\" font-family=\"Helvetica,sans-Serif\" font-size=\"14.00\" fill=\"#000000\">value = [32, 6]</text>\n</g>\n<!-- 225&#45;&gt;226 -->\n<g id=\"edge226\" class=\"edge\">\n<title>225&#45;&gt;226</title>\n<path fill=\"none\" stroke=\"#000000\" d=\"M4945.5,-920.9465C4945.5,-912.776 4945.5,-903.9318 4945.5,-895.3697\"/>\n<polygon fill=\"#000000\" stroke=\"#000000\" points=\"4949.0001,-895.13 4945.5,-885.13 4942.0001,-895.13 4949.0001,-895.13\"/>\n</g>\n<!-- 241 -->\n<g id=\"node242\" class=\"node\">\n<title>241</title>\n<polygon fill=\"#9ccef2\" stroke=\"#000000\" points=\"5157.5,-885 5039.5,-885 5039.5,-817 5157.5,-817 5157.5,-885\"/>\n<text text-anchor=\"middle\" x=\"5098.5\" y=\"-869.8\" font-family=\"Helvetica,sans-Serif\" font-size=\"14.00\" fill=\"#000000\">X[7] &lt;= 151.5</text>\n<text text-anchor=\"middle\" x=\"5098.5\" y=\"-854.8\" font-family=\"Helvetica,sans-Serif\" font-size=\"14.00\" fill=\"#000000\">entropy = 0.918</text>\n<text text-anchor=\"middle\" x=\"5098.5\" y=\"-839.8\" font-family=\"Helvetica,sans-Serif\" font-size=\"14.00\" fill=\"#000000\">samples = 3</text>\n<text text-anchor=\"middle\" x=\"5098.5\" y=\"-824.8\" font-family=\"Helvetica,sans-Serif\" font-size=\"14.00\" fill=\"#000000\">value = [1, 2]</text>\n</g>\n<!-- 225&#45;&gt;241 -->\n<g id=\"edge241\" class=\"edge\">\n<title>225&#45;&gt;241</title>\n<path fill=\"none\" stroke=\"#000000\" d=\"M4995.5979,-920.9465C5009.7313,-911.3395 5025.2352,-900.8009 5039.8233,-890.8848\"/>\n<polygon fill=\"#000000\" stroke=\"#000000\" points=\"5041.9868,-893.6463 5048.2895,-885.13 5038.0517,-887.8571 5041.9868,-893.6463\"/>\n</g>\n<!-- 227 -->\n<g id=\"node228\" class=\"node\">\n<title>227</title>\n<polygon fill=\"#e89153\" stroke=\"#000000\" points=\"4893.5,-781 4775.5,-781 4775.5,-713 4893.5,-713 4893.5,-781\"/>\n<text text-anchor=\"middle\" x=\"4834.5\" y=\"-765.8\" font-family=\"Helvetica,sans-Serif\" font-size=\"14.00\" fill=\"#000000\">X[0] &lt;= 59.5</text>\n<text text-anchor=\"middle\" x=\"4834.5\" y=\"-750.8\" font-family=\"Helvetica,sans-Serif\" font-size=\"14.00\" fill=\"#000000\">entropy = 0.513</text>\n<text text-anchor=\"middle\" x=\"4834.5\" y=\"-735.8\" font-family=\"Helvetica,sans-Serif\" font-size=\"14.00\" fill=\"#000000\">samples = 35</text>\n<text text-anchor=\"middle\" x=\"4834.5\" y=\"-720.8\" font-family=\"Helvetica,sans-Serif\" font-size=\"14.00\" fill=\"#000000\">value = [31, 4]</text>\n</g>\n<!-- 226&#45;&gt;227 -->\n<g id=\"edge227\" class=\"edge\">\n<title>226&#45;&gt;227</title>\n<path fill=\"none\" stroke=\"#000000\" d=\"M4909.1544,-816.9465C4899.2841,-807.6986 4888.4925,-797.5876 4878.259,-787.9994\"/>\n<polygon fill=\"#000000\" stroke=\"#000000\" points=\"4880.6177,-785.4131 4870.9272,-781.13 4875.8316,-790.5214 4880.6177,-785.4131\"/>\n</g>\n<!-- 238 -->\n<g id=\"node239\" class=\"node\">\n<title>238</title>\n<polygon fill=\"#9ccef2\" stroke=\"#000000\" points=\"5029.5,-781 4911.5,-781 4911.5,-713 5029.5,-713 5029.5,-781\"/>\n<text text-anchor=\"middle\" x=\"4970.5\" y=\"-765.8\" font-family=\"Helvetica,sans-Serif\" font-size=\"14.00\" fill=\"#000000\">X[7] &lt;= 118.5</text>\n<text text-anchor=\"middle\" x=\"4970.5\" y=\"-750.8\" font-family=\"Helvetica,sans-Serif\" font-size=\"14.00\" fill=\"#000000\">entropy = 0.918</text>\n<text text-anchor=\"middle\" x=\"4970.5\" y=\"-735.8\" font-family=\"Helvetica,sans-Serif\" font-size=\"14.00\" fill=\"#000000\">samples = 3</text>\n<text text-anchor=\"middle\" x=\"4970.5\" y=\"-720.8\" font-family=\"Helvetica,sans-Serif\" font-size=\"14.00\" fill=\"#000000\">value = [1, 2]</text>\n</g>\n<!-- 226&#45;&gt;238 -->\n<g id=\"edge238\" class=\"edge\">\n<title>226&#45;&gt;238</title>\n<path fill=\"none\" stroke=\"#000000\" d=\"M4953.6859,-816.9465C4955.6716,-808.6863 4957.8228,-799.7374 4959.902,-791.0875\"/>\n<polygon fill=\"#000000\" stroke=\"#000000\" points=\"4963.3614,-791.6711 4962.2957,-781.13 4956.5553,-790.035 4963.3614,-791.6711\"/>\n</g>\n<!-- 228 -->\n<g id=\"node229\" class=\"node\">\n<title>228</title>\n<polygon fill=\"#eeab7b\" stroke=\"#000000\" points=\"4776.5,-677 4658.5,-677 4658.5,-609 4776.5,-609 4776.5,-677\"/>\n<text text-anchor=\"middle\" x=\"4717.5\" y=\"-661.8\" font-family=\"Helvetica,sans-Serif\" font-size=\"14.00\" fill=\"#000000\">X[5] &lt;= 0.5</text>\n<text text-anchor=\"middle\" x=\"4717.5\" y=\"-646.8\" font-family=\"Helvetica,sans-Serif\" font-size=\"14.00\" fill=\"#000000\">entropy = 0.811</text>\n<text text-anchor=\"middle\" x=\"4717.5\" y=\"-631.8\" font-family=\"Helvetica,sans-Serif\" font-size=\"14.00\" fill=\"#000000\">samples = 16</text>\n<text text-anchor=\"middle\" x=\"4717.5\" y=\"-616.8\" font-family=\"Helvetica,sans-Serif\" font-size=\"14.00\" fill=\"#000000\">value = [12, 4]</text>\n</g>\n<!-- 227&#45;&gt;228 -->\n<g id=\"edge228\" class=\"edge\">\n<title>227&#45;&gt;228</title>\n<path fill=\"none\" stroke=\"#000000\" d=\"M4796.1898,-712.9465C4785.7859,-703.6986 4774.411,-693.5876 4763.6243,-683.9994\"/>\n<polygon fill=\"#000000\" stroke=\"#000000\" points=\"4765.6956,-681.1577 4755.8962,-677.13 4761.0451,-686.3896 4765.6956,-681.1577\"/>\n</g>\n<!-- 237 -->\n<g id=\"node238\" class=\"node\">\n<title>237</title>\n<polygon fill=\"#e58139\" stroke=\"#000000\" points=\"4902,-669.5 4795,-669.5 4795,-616.5 4902,-616.5 4902,-669.5\"/>\n<text text-anchor=\"middle\" x=\"4848.5\" y=\"-654.3\" font-family=\"Helvetica,sans-Serif\" font-size=\"14.00\" fill=\"#000000\">entropy = 0.0</text>\n<text text-anchor=\"middle\" x=\"4848.5\" y=\"-639.3\" font-family=\"Helvetica,sans-Serif\" font-size=\"14.00\" fill=\"#000000\">samples = 19</text>\n<text text-anchor=\"middle\" x=\"4848.5\" y=\"-624.3\" font-family=\"Helvetica,sans-Serif\" font-size=\"14.00\" fill=\"#000000\">value = [19, 0]</text>\n</g>\n<!-- 227&#45;&gt;237 -->\n<g id=\"edge237\" class=\"edge\">\n<title>227&#45;&gt;237</title>\n<path fill=\"none\" stroke=\"#000000\" d=\"M4839.0841,-712.9465C4840.5224,-702.2621 4842.1158,-690.4254 4843.5765,-679.5742\"/>\n<polygon fill=\"#000000\" stroke=\"#000000\" points=\"4847.0615,-679.9197 4844.927,-669.5422 4840.1241,-678.9858 4847.0615,-679.9197\"/>\n</g>\n<!-- 229 -->\n<g id=\"node230\" class=\"node\">\n<title>229</title>\n<polygon fill=\"#f4c9aa\" stroke=\"#000000\" points=\"4774.5,-573 4656.5,-573 4656.5,-505 4774.5,-505 4774.5,-573\"/>\n<text text-anchor=\"middle\" x=\"4715.5\" y=\"-557.8\" font-family=\"Helvetica,sans-Serif\" font-size=\"14.00\" fill=\"#000000\">X[6] &lt;= 0.5</text>\n<text text-anchor=\"middle\" x=\"4715.5\" y=\"-542.8\" font-family=\"Helvetica,sans-Serif\" font-size=\"14.00\" fill=\"#000000\">entropy = 0.946</text>\n<text text-anchor=\"middle\" x=\"4715.5\" y=\"-527.8\" font-family=\"Helvetica,sans-Serif\" font-size=\"14.00\" fill=\"#000000\">samples = 11</text>\n<text text-anchor=\"middle\" x=\"4715.5\" y=\"-512.8\" font-family=\"Helvetica,sans-Serif\" font-size=\"14.00\" fill=\"#000000\">value = [7, 4]</text>\n</g>\n<!-- 228&#45;&gt;229 -->\n<g id=\"edge229\" class=\"edge\">\n<title>228&#45;&gt;229</title>\n<path fill=\"none\" stroke=\"#000000\" d=\"M4716.8451,-608.9465C4716.688,-600.776 4716.5179,-591.9318 4716.3533,-583.3697\"/>\n<polygon fill=\"#000000\" stroke=\"#000000\" points=\"4719.8481,-583.0608 4716.1563,-573.13 4712.8494,-583.1955 4719.8481,-583.0608\"/>\n</g>\n<!-- 236 -->\n<g id=\"node237\" class=\"node\">\n<title>236</title>\n<polygon fill=\"#e58139\" stroke=\"#000000\" points=\"4894,-565.5 4793,-565.5 4793,-512.5 4894,-512.5 4894,-565.5\"/>\n<text text-anchor=\"middle\" x=\"4843.5\" y=\"-550.3\" font-family=\"Helvetica,sans-Serif\" font-size=\"14.00\" fill=\"#000000\">entropy = 0.0</text>\n<text text-anchor=\"middle\" x=\"4843.5\" y=\"-535.3\" font-family=\"Helvetica,sans-Serif\" font-size=\"14.00\" fill=\"#000000\">samples = 5</text>\n<text text-anchor=\"middle\" x=\"4843.5\" y=\"-520.3\" font-family=\"Helvetica,sans-Serif\" font-size=\"14.00\" fill=\"#000000\">value = [5, 0]</text>\n</g>\n<!-- 228&#45;&gt;236 -->\n<g id=\"edge236\" class=\"edge\">\n<title>228&#45;&gt;236</title>\n<path fill=\"none\" stroke=\"#000000\" d=\"M4758.7571,-608.9465C4773.1697,-597.0504 4789.3127,-583.726 4803.6117,-571.9237\"/>\n<polygon fill=\"#000000\" stroke=\"#000000\" points=\"4805.8589,-574.6071 4811.3431,-565.5422 4801.4029,-569.2086 4805.8589,-574.6071\"/>\n</g>\n<!-- 230 -->\n<g id=\"node231\" class=\"node\">\n<title>230</title>\n<polygon fill=\"#399de5\" stroke=\"#000000\" points=\"4702,-461.5 4601,-461.5 4601,-408.5 4702,-408.5 4702,-461.5\"/>\n<text text-anchor=\"middle\" x=\"4651.5\" y=\"-446.3\" font-family=\"Helvetica,sans-Serif\" font-size=\"14.00\" fill=\"#000000\">entropy = 0.0</text>\n<text text-anchor=\"middle\" x=\"4651.5\" y=\"-431.3\" font-family=\"Helvetica,sans-Serif\" font-size=\"14.00\" fill=\"#000000\">samples = 2</text>\n<text text-anchor=\"middle\" x=\"4651.5\" y=\"-416.3\" font-family=\"Helvetica,sans-Serif\" font-size=\"14.00\" fill=\"#000000\">value = [0, 2]</text>\n</g>\n<!-- 229&#45;&gt;230 -->\n<g id=\"edge230\" class=\"edge\">\n<title>229&#45;&gt;230</title>\n<path fill=\"none\" stroke=\"#000000\" d=\"M4694.544,-504.9465C4687.6978,-493.8215 4680.0829,-481.4473 4673.1843,-470.237\"/>\n<polygon fill=\"#000000\" stroke=\"#000000\" points=\"4676.0555,-468.2244 4667.8336,-461.5422 4670.0939,-471.8931 4676.0555,-468.2244\"/>\n</g>\n<!-- 231 -->\n<g id=\"node232\" class=\"node\">\n<title>231</title>\n<polygon fill=\"#eca572\" stroke=\"#000000\" points=\"4838.5,-469 4720.5,-469 4720.5,-401 4838.5,-401 4838.5,-469\"/>\n<text text-anchor=\"middle\" x=\"4779.5\" y=\"-453.8\" font-family=\"Helvetica,sans-Serif\" font-size=\"14.00\" fill=\"#000000\">X[9] &lt;= 0.15</text>\n<text text-anchor=\"middle\" x=\"4779.5\" y=\"-438.8\" font-family=\"Helvetica,sans-Serif\" font-size=\"14.00\" fill=\"#000000\">entropy = 0.764</text>\n<text text-anchor=\"middle\" x=\"4779.5\" y=\"-423.8\" font-family=\"Helvetica,sans-Serif\" font-size=\"14.00\" fill=\"#000000\">samples = 9</text>\n<text text-anchor=\"middle\" x=\"4779.5\" y=\"-408.8\" font-family=\"Helvetica,sans-Serif\" font-size=\"14.00\" fill=\"#000000\">value = [7, 2]</text>\n</g>\n<!-- 229&#45;&gt;231 -->\n<g id=\"edge231\" class=\"edge\">\n<title>229&#45;&gt;231</title>\n<path fill=\"none\" stroke=\"#000000\" d=\"M4736.456,-504.9465C4741.8155,-496.2373 4747.6461,-486.7626 4753.2353,-477.6801\"/>\n<polygon fill=\"#000000\" stroke=\"#000000\" points=\"4756.2367,-479.481 4758.4969,-469.13 4750.2751,-475.8122 4756.2367,-479.481\"/>\n</g>\n<!-- 232 -->\n<g id=\"node233\" class=\"node\">\n<title>232</title>\n<polygon fill=\"#e58139\" stroke=\"#000000\" points=\"4766,-357.5 4665,-357.5 4665,-304.5 4766,-304.5 4766,-357.5\"/>\n<text text-anchor=\"middle\" x=\"4715.5\" y=\"-342.3\" font-family=\"Helvetica,sans-Serif\" font-size=\"14.00\" fill=\"#000000\">entropy = 0.0</text>\n<text text-anchor=\"middle\" x=\"4715.5\" y=\"-327.3\" font-family=\"Helvetica,sans-Serif\" font-size=\"14.00\" fill=\"#000000\">samples = 6</text>\n<text text-anchor=\"middle\" x=\"4715.5\" y=\"-312.3\" font-family=\"Helvetica,sans-Serif\" font-size=\"14.00\" fill=\"#000000\">value = [6, 0]</text>\n</g>\n<!-- 231&#45;&gt;232 -->\n<g id=\"edge232\" class=\"edge\">\n<title>231&#45;&gt;232</title>\n<path fill=\"none\" stroke=\"#000000\" d=\"M4758.544,-400.9465C4751.6978,-389.8215 4744.0829,-377.4473 4737.1843,-366.237\"/>\n<polygon fill=\"#000000\" stroke=\"#000000\" points=\"4740.0555,-364.2244 4731.8336,-357.5422 4734.0939,-367.8931 4740.0555,-364.2244\"/>\n</g>\n<!-- 233 -->\n<g id=\"node234\" class=\"node\">\n<title>233</title>\n<polygon fill=\"#9ccef2\" stroke=\"#000000\" points=\"4902.5,-365 4784.5,-365 4784.5,-297 4902.5,-297 4902.5,-365\"/>\n<text text-anchor=\"middle\" x=\"4843.5\" y=\"-349.8\" font-family=\"Helvetica,sans-Serif\" font-size=\"14.00\" fill=\"#000000\">X[7] &lt;= 168.0</text>\n<text text-anchor=\"middle\" x=\"4843.5\" y=\"-334.8\" font-family=\"Helvetica,sans-Serif\" font-size=\"14.00\" fill=\"#000000\">entropy = 0.918</text>\n<text text-anchor=\"middle\" x=\"4843.5\" y=\"-319.8\" font-family=\"Helvetica,sans-Serif\" font-size=\"14.00\" fill=\"#000000\">samples = 3</text>\n<text text-anchor=\"middle\" x=\"4843.5\" y=\"-304.8\" font-family=\"Helvetica,sans-Serif\" font-size=\"14.00\" fill=\"#000000\">value = [1, 2]</text>\n</g>\n<!-- 231&#45;&gt;233 -->\n<g id=\"edge233\" class=\"edge\">\n<title>231&#45;&gt;233</title>\n<path fill=\"none\" stroke=\"#000000\" d=\"M4800.456,-400.9465C4805.8155,-392.2373 4811.6461,-382.7626 4817.2353,-373.6801\"/>\n<polygon fill=\"#000000\" stroke=\"#000000\" points=\"4820.2367,-375.481 4822.4969,-365.13 4814.2751,-371.8122 4820.2367,-375.481\"/>\n</g>\n<!-- 234 -->\n<g id=\"node235\" class=\"node\">\n<title>234</title>\n<polygon fill=\"#399de5\" stroke=\"#000000\" points=\"4834,-253.5 4733,-253.5 4733,-200.5 4834,-200.5 4834,-253.5\"/>\n<text text-anchor=\"middle\" x=\"4783.5\" y=\"-238.3\" font-family=\"Helvetica,sans-Serif\" font-size=\"14.00\" fill=\"#000000\">entropy = 0.0</text>\n<text text-anchor=\"middle\" x=\"4783.5\" y=\"-223.3\" font-family=\"Helvetica,sans-Serif\" font-size=\"14.00\" fill=\"#000000\">samples = 2</text>\n<text text-anchor=\"middle\" x=\"4783.5\" y=\"-208.3\" font-family=\"Helvetica,sans-Serif\" font-size=\"14.00\" fill=\"#000000\">value = [0, 2]</text>\n</g>\n<!-- 233&#45;&gt;234 -->\n<g id=\"edge234\" class=\"edge\">\n<title>233&#45;&gt;234</title>\n<path fill=\"none\" stroke=\"#000000\" d=\"M4823.8538,-296.9465C4817.4355,-285.8215 4810.2965,-273.4473 4803.829,-262.237\"/>\n<polygon fill=\"#000000\" stroke=\"#000000\" points=\"4806.8417,-260.455 4798.8128,-253.5422 4800.7784,-263.9531 4806.8417,-260.455\"/>\n</g>\n<!-- 235 -->\n<g id=\"node236\" class=\"node\">\n<title>235</title>\n<polygon fill=\"#e58139\" stroke=\"#000000\" points=\"4953,-253.5 4852,-253.5 4852,-200.5 4953,-200.5 4953,-253.5\"/>\n<text text-anchor=\"middle\" x=\"4902.5\" y=\"-238.3\" font-family=\"Helvetica,sans-Serif\" font-size=\"14.00\" fill=\"#000000\">entropy = 0.0</text>\n<text text-anchor=\"middle\" x=\"4902.5\" y=\"-223.3\" font-family=\"Helvetica,sans-Serif\" font-size=\"14.00\" fill=\"#000000\">samples = 1</text>\n<text text-anchor=\"middle\" x=\"4902.5\" y=\"-208.3\" font-family=\"Helvetica,sans-Serif\" font-size=\"14.00\" fill=\"#000000\">value = [1, 0]</text>\n</g>\n<!-- 233&#45;&gt;235 -->\n<g id=\"edge235\" class=\"edge\">\n<title>233&#45;&gt;235</title>\n<path fill=\"none\" stroke=\"#000000\" d=\"M4862.8188,-296.9465C4869.0676,-285.9316 4876.0112,-273.6922 4882.3207,-262.5703\"/>\n<polygon fill=\"#000000\" stroke=\"#000000\" points=\"4885.5523,-263.967 4887.4424,-253.5422 4879.4638,-260.513 4885.5523,-263.967\"/>\n</g>\n<!-- 239 -->\n<g id=\"node240\" class=\"node\">\n<title>239</title>\n<polygon fill=\"#e58139\" stroke=\"#000000\" points=\"5021,-669.5 4920,-669.5 4920,-616.5 5021,-616.5 5021,-669.5\"/>\n<text text-anchor=\"middle\" x=\"4970.5\" y=\"-654.3\" font-family=\"Helvetica,sans-Serif\" font-size=\"14.00\" fill=\"#000000\">entropy = 0.0</text>\n<text text-anchor=\"middle\" x=\"4970.5\" y=\"-639.3\" font-family=\"Helvetica,sans-Serif\" font-size=\"14.00\" fill=\"#000000\">samples = 1</text>\n<text text-anchor=\"middle\" x=\"4970.5\" y=\"-624.3\" font-family=\"Helvetica,sans-Serif\" font-size=\"14.00\" fill=\"#000000\">value = [1, 0]</text>\n</g>\n<!-- 238&#45;&gt;239 -->\n<g id=\"edge239\" class=\"edge\">\n<title>238&#45;&gt;239</title>\n<path fill=\"none\" stroke=\"#000000\" d=\"M4970.5,-712.9465C4970.5,-702.2621 4970.5,-690.4254 4970.5,-679.5742\"/>\n<polygon fill=\"#000000\" stroke=\"#000000\" points=\"4974.0001,-679.5421 4970.5,-669.5422 4967.0001,-679.5422 4974.0001,-679.5421\"/>\n</g>\n<!-- 240 -->\n<g id=\"node241\" class=\"node\">\n<title>240</title>\n<polygon fill=\"#399de5\" stroke=\"#000000\" points=\"5140,-669.5 5039,-669.5 5039,-616.5 5140,-616.5 5140,-669.5\"/>\n<text text-anchor=\"middle\" x=\"5089.5\" y=\"-654.3\" font-family=\"Helvetica,sans-Serif\" font-size=\"14.00\" fill=\"#000000\">entropy = 0.0</text>\n<text text-anchor=\"middle\" x=\"5089.5\" y=\"-639.3\" font-family=\"Helvetica,sans-Serif\" font-size=\"14.00\" fill=\"#000000\">samples = 2</text>\n<text text-anchor=\"middle\" x=\"5089.5\" y=\"-624.3\" font-family=\"Helvetica,sans-Serif\" font-size=\"14.00\" fill=\"#000000\">value = [0, 2]</text>\n</g>\n<!-- 238&#45;&gt;240 -->\n<g id=\"edge240\" class=\"edge\">\n<title>238&#45;&gt;240</title>\n<path fill=\"none\" stroke=\"#000000\" d=\"M5009.4651,-712.9465C5022.9509,-701.1606 5038.0409,-687.9726 5051.4521,-676.2519\"/>\n<polygon fill=\"#000000\" stroke=\"#000000\" points=\"5053.9031,-678.7582 5059.1296,-669.5422 5049.2967,-673.4874 5053.9031,-678.7582\"/>\n</g>\n<!-- 242 -->\n<g id=\"node243\" class=\"node\">\n<title>242</title>\n<polygon fill=\"#e58139\" stroke=\"#000000\" points=\"5149,-773.5 5048,-773.5 5048,-720.5 5149,-720.5 5149,-773.5\"/>\n<text text-anchor=\"middle\" x=\"5098.5\" y=\"-758.3\" font-family=\"Helvetica,sans-Serif\" font-size=\"14.00\" fill=\"#000000\">entropy = 0.0</text>\n<text text-anchor=\"middle\" x=\"5098.5\" y=\"-743.3\" font-family=\"Helvetica,sans-Serif\" font-size=\"14.00\" fill=\"#000000\">samples = 1</text>\n<text text-anchor=\"middle\" x=\"5098.5\" y=\"-728.3\" font-family=\"Helvetica,sans-Serif\" font-size=\"14.00\" fill=\"#000000\">value = [1, 0]</text>\n</g>\n<!-- 241&#45;&gt;242 -->\n<g id=\"edge242\" class=\"edge\">\n<title>241&#45;&gt;242</title>\n<path fill=\"none\" stroke=\"#000000\" d=\"M5098.5,-816.9465C5098.5,-806.2621 5098.5,-794.4254 5098.5,-783.5742\"/>\n<polygon fill=\"#000000\" stroke=\"#000000\" points=\"5102.0001,-783.5421 5098.5,-773.5422 5095.0001,-783.5422 5102.0001,-783.5421\"/>\n</g>\n<!-- 243 -->\n<g id=\"node244\" class=\"node\">\n<title>243</title>\n<polygon fill=\"#399de5\" stroke=\"#000000\" points=\"5268,-773.5 5167,-773.5 5167,-720.5 5268,-720.5 5268,-773.5\"/>\n<text text-anchor=\"middle\" x=\"5217.5\" y=\"-758.3\" font-family=\"Helvetica,sans-Serif\" font-size=\"14.00\" fill=\"#000000\">entropy = 0.0</text>\n<text text-anchor=\"middle\" x=\"5217.5\" y=\"-743.3\" font-family=\"Helvetica,sans-Serif\" font-size=\"14.00\" fill=\"#000000\">samples = 2</text>\n<text text-anchor=\"middle\" x=\"5217.5\" y=\"-728.3\" font-family=\"Helvetica,sans-Serif\" font-size=\"14.00\" fill=\"#000000\">value = [0, 2]</text>\n</g>\n<!-- 241&#45;&gt;243 -->\n<g id=\"edge243\" class=\"edge\">\n<title>241&#45;&gt;243</title>\n<path fill=\"none\" stroke=\"#000000\" d=\"M5137.4651,-816.9465C5150.9509,-805.1606 5166.0409,-791.9726 5179.4521,-780.2519\"/>\n<polygon fill=\"#000000\" stroke=\"#000000\" points=\"5181.9031,-782.7582 5187.1296,-773.5422 5177.2967,-777.4874 5181.9031,-782.7582\"/>\n</g>\n</g>\n</svg>\n"
          },
          "metadata": {},
          "execution_count": 123
        }
      ]
    },
    {
      "cell_type": "code",
      "source": [
        "plt.show(graph)"
      ],
      "metadata": {
        "id": "n396XkIvc-0c"
      },
      "execution_count": null,
      "outputs": []
    },
    {
      "cell_type": "code",
      "source": [
        "# get the text representation\n",
        "text_representation = tree.export_text(dtc)\n",
        "print(text_representation)"
      ],
      "metadata": {
        "colab": {
          "base_uri": "https://localhost:8080/"
        },
        "id": "VYRSmtx2u96g",
        "outputId": "e90806ed-dc4e-4aca-e994-db053e8de7cc"
      },
      "execution_count": null,
      "outputs": [
        {
          "output_type": "stream",
          "name": "stdout",
          "text": [
            "|--- feature_10 <= 1.50\n",
            "|   |--- feature_7 <= 151.00\n",
            "|   |   |--- feature_1 <= 0.50\n",
            "|   |   |   |--- feature_5 <= 0.50\n",
            "|   |   |   |   |--- feature_8 <= 0.50\n",
            "|   |   |   |   |   |--- feature_3 <= 145.00\n",
            "|   |   |   |   |   |   |--- feature_7 <= 97.50\n",
            "|   |   |   |   |   |   |   |--- class: 1\n",
            "|   |   |   |   |   |   |--- feature_7 >  97.50\n",
            "|   |   |   |   |   |   |   |--- feature_7 <= 147.50\n",
            "|   |   |   |   |   |   |   |   |--- class: 0\n",
            "|   |   |   |   |   |   |   |--- feature_7 >  147.50\n",
            "|   |   |   |   |   |   |   |   |--- feature_4 <= 276.00\n",
            "|   |   |   |   |   |   |   |   |   |--- class: 0\n",
            "|   |   |   |   |   |   |   |   |--- feature_4 >  276.00\n",
            "|   |   |   |   |   |   |   |   |   |--- class: 1\n",
            "|   |   |   |   |   |--- feature_3 >  145.00\n",
            "|   |   |   |   |   |   |--- feature_0 <= 65.50\n",
            "|   |   |   |   |   |   |   |--- class: 1\n",
            "|   |   |   |   |   |   |--- feature_0 >  65.50\n",
            "|   |   |   |   |   |   |   |--- class: 0\n",
            "|   |   |   |   |--- feature_8 >  0.50\n",
            "|   |   |   |   |   |--- feature_9 <= 0.50\n",
            "|   |   |   |   |   |   |--- class: 1\n",
            "|   |   |   |   |   |--- feature_9 >  0.50\n",
            "|   |   |   |   |   |   |--- feature_7 <= 144.00\n",
            "|   |   |   |   |   |   |   |--- feature_7 <= 109.00\n",
            "|   |   |   |   |   |   |   |   |--- class: 1\n",
            "|   |   |   |   |   |   |   |--- feature_7 >  109.00\n",
            "|   |   |   |   |   |   |   |   |--- feature_0 <= 54.00\n",
            "|   |   |   |   |   |   |   |   |   |--- feature_4 <= 266.00\n",
            "|   |   |   |   |   |   |   |   |   |   |--- class: 0\n",
            "|   |   |   |   |   |   |   |   |   |--- feature_4 >  266.00\n",
            "|   |   |   |   |   |   |   |   |   |   |--- feature_4 <= 316.50\n",
            "|   |   |   |   |   |   |   |   |   |   |   |--- class: 1\n",
            "|   |   |   |   |   |   |   |   |   |   |--- feature_4 >  316.50\n",
            "|   |   |   |   |   |   |   |   |   |   |   |--- class: 0\n",
            "|   |   |   |   |   |   |   |   |--- feature_0 >  54.00\n",
            "|   |   |   |   |   |   |   |   |   |--- feature_9 <= 0.90\n",
            "|   |   |   |   |   |   |   |   |   |   |--- class: 0\n",
            "|   |   |   |   |   |   |   |   |   |--- feature_9 >  0.90\n",
            "|   |   |   |   |   |   |   |   |   |   |--- feature_3 <= 136.00\n",
            "|   |   |   |   |   |   |   |   |   |   |   |--- truncated branch of depth 2\n",
            "|   |   |   |   |   |   |   |   |   |   |--- feature_3 >  136.00\n",
            "|   |   |   |   |   |   |   |   |   |   |   |--- class: 1\n",
            "|   |   |   |   |   |   |--- feature_7 >  144.00\n",
            "|   |   |   |   |   |   |   |--- class: 1\n",
            "|   |   |   |--- feature_5 >  0.50\n",
            "|   |   |   |   |--- class: 1\n",
            "|   |   |--- feature_1 >  0.50\n",
            "|   |   |   |--- feature_7 <= 130.50\n",
            "|   |   |   |   |--- feature_0 <= 52.50\n",
            "|   |   |   |   |   |--- class: 1\n",
            "|   |   |   |   |--- feature_0 >  52.50\n",
            "|   |   |   |   |   |--- feature_9 <= 0.10\n",
            "|   |   |   |   |   |   |--- class: 1\n",
            "|   |   |   |   |   |--- feature_9 >  0.10\n",
            "|   |   |   |   |   |   |--- feature_9 <= 0.75\n",
            "|   |   |   |   |   |   |   |--- feature_3 <= 142.50\n",
            "|   |   |   |   |   |   |   |   |--- feature_3 <= 119.00\n",
            "|   |   |   |   |   |   |   |   |   |--- class: 1\n",
            "|   |   |   |   |   |   |   |   |--- feature_3 >  119.00\n",
            "|   |   |   |   |   |   |   |   |   |--- class: 0\n",
            "|   |   |   |   |   |   |   |--- feature_3 >  142.50\n",
            "|   |   |   |   |   |   |   |   |--- class: 1\n",
            "|   |   |   |   |   |   |--- feature_9 >  0.75\n",
            "|   |   |   |   |   |   |   |--- feature_4 <= 308.00\n",
            "|   |   |   |   |   |   |   |   |--- feature_3 <= 130.50\n",
            "|   |   |   |   |   |   |   |   |   |--- feature_6 <= 1.50\n",
            "|   |   |   |   |   |   |   |   |   |   |--- feature_7 <= 125.50\n",
            "|   |   |   |   |   |   |   |   |   |   |   |--- class: 1\n",
            "|   |   |   |   |   |   |   |   |   |   |--- feature_7 >  125.50\n",
            "|   |   |   |   |   |   |   |   |   |   |   |--- truncated branch of depth 2\n",
            "|   |   |   |   |   |   |   |   |   |--- feature_6 >  1.50\n",
            "|   |   |   |   |   |   |   |   |   |   |--- feature_9 <= 2.50\n",
            "|   |   |   |   |   |   |   |   |   |   |   |--- truncated branch of depth 4\n",
            "|   |   |   |   |   |   |   |   |   |   |--- feature_9 >  2.50\n",
            "|   |   |   |   |   |   |   |   |   |   |   |--- class: 0\n",
            "|   |   |   |   |   |   |   |   |--- feature_3 >  130.50\n",
            "|   |   |   |   |   |   |   |   |   |--- feature_0 <= 71.50\n",
            "|   |   |   |   |   |   |   |   |   |   |--- class: 1\n",
            "|   |   |   |   |   |   |   |   |   |--- feature_0 >  71.50\n",
            "|   |   |   |   |   |   |   |   |   |   |--- feature_4 <= 61.50\n",
            "|   |   |   |   |   |   |   |   |   |   |   |--- class: 0\n",
            "|   |   |   |   |   |   |   |   |   |   |--- feature_4 >  61.50\n",
            "|   |   |   |   |   |   |   |   |   |   |   |--- class: 1\n",
            "|   |   |   |   |   |   |   |--- feature_4 >  308.00\n",
            "|   |   |   |   |   |   |   |   |--- feature_0 <= 74.50\n",
            "|   |   |   |   |   |   |   |   |   |--- feature_9 <= 1.25\n",
            "|   |   |   |   |   |   |   |   |   |   |--- feature_4 <= 530.50\n",
            "|   |   |   |   |   |   |   |   |   |   |   |--- class: 0\n",
            "|   |   |   |   |   |   |   |   |   |   |--- feature_4 >  530.50\n",
            "|   |   |   |   |   |   |   |   |   |   |   |--- class: 1\n",
            "|   |   |   |   |   |   |   |   |   |--- feature_9 >  1.25\n",
            "|   |   |   |   |   |   |   |   |   |   |--- class: 1\n",
            "|   |   |   |   |   |   |   |   |--- feature_0 >  74.50\n",
            "|   |   |   |   |   |   |   |   |   |--- class: 0\n",
            "|   |   |   |--- feature_7 >  130.50\n",
            "|   |   |   |   |--- feature_2 <= 0.50\n",
            "|   |   |   |   |   |--- feature_3 <= 112.00\n",
            "|   |   |   |   |   |   |--- feature_4 <= 238.50\n",
            "|   |   |   |   |   |   |   |--- feature_4 <= 205.00\n",
            "|   |   |   |   |   |   |   |   |--- feature_0 <= 49.50\n",
            "|   |   |   |   |   |   |   |   |   |--- class: 1\n",
            "|   |   |   |   |   |   |   |   |--- feature_0 >  49.50\n",
            "|   |   |   |   |   |   |   |   |   |--- class: 0\n",
            "|   |   |   |   |   |   |   |--- feature_4 >  205.00\n",
            "|   |   |   |   |   |   |   |   |--- class: 0\n",
            "|   |   |   |   |   |   |--- feature_4 >  238.50\n",
            "|   |   |   |   |   |   |   |--- class: 1\n",
            "|   |   |   |   |   |--- feature_3 >  112.00\n",
            "|   |   |   |   |   |   |--- feature_9 <= 0.45\n",
            "|   |   |   |   |   |   |   |--- feature_9 <= 0.20\n",
            "|   |   |   |   |   |   |   |   |--- class: 1\n",
            "|   |   |   |   |   |   |   |--- feature_9 >  0.20\n",
            "|   |   |   |   |   |   |   |   |--- feature_4 <= 96.00\n",
            "|   |   |   |   |   |   |   |   |   |--- class: 1\n",
            "|   |   |   |   |   |   |   |   |--- feature_4 >  96.00\n",
            "|   |   |   |   |   |   |   |   |   |--- class: 0\n",
            "|   |   |   |   |   |   |--- feature_9 >  0.45\n",
            "|   |   |   |   |   |   |   |--- class: 1\n",
            "|   |   |   |   |--- feature_2 >  0.50\n",
            "|   |   |   |   |   |--- feature_10 <= 0.50\n",
            "|   |   |   |   |   |   |--- class: 0\n",
            "|   |   |   |   |   |--- feature_10 >  0.50\n",
            "|   |   |   |   |   |   |--- feature_9 <= 1.90\n",
            "|   |   |   |   |   |   |   |--- feature_4 <= 261.00\n",
            "|   |   |   |   |   |   |   |   |--- feature_7 <= 147.50\n",
            "|   |   |   |   |   |   |   |   |   |--- feature_9 <= 0.05\n",
            "|   |   |   |   |   |   |   |   |   |   |--- feature_0 <= 49.50\n",
            "|   |   |   |   |   |   |   |   |   |   |   |--- truncated branch of depth 2\n",
            "|   |   |   |   |   |   |   |   |   |   |--- feature_0 >  49.50\n",
            "|   |   |   |   |   |   |   |   |   |   |   |--- class: 1\n",
            "|   |   |   |   |   |   |   |   |   |--- feature_9 >  0.05\n",
            "|   |   |   |   |   |   |   |   |   |   |--- feature_4 <= 244.00\n",
            "|   |   |   |   |   |   |   |   |   |   |   |--- class: 0\n",
            "|   |   |   |   |   |   |   |   |   |   |--- feature_4 >  244.00\n",
            "|   |   |   |   |   |   |   |   |   |   |   |--- truncated branch of depth 2\n",
            "|   |   |   |   |   |   |   |   |--- feature_7 >  147.50\n",
            "|   |   |   |   |   |   |   |   |   |--- class: 1\n",
            "|   |   |   |   |   |   |   |--- feature_4 >  261.00\n",
            "|   |   |   |   |   |   |   |   |--- class: 1\n",
            "|   |   |   |   |   |   |--- feature_9 >  1.90\n",
            "|   |   |   |   |   |   |   |--- class: 1\n",
            "|   |--- feature_7 >  151.00\n",
            "|   |   |--- feature_2 <= 0.50\n",
            "|   |   |   |--- feature_7 <= 152.50\n",
            "|   |   |   |   |--- class: 0\n",
            "|   |   |   |--- feature_7 >  152.50\n",
            "|   |   |   |   |--- feature_4 <= 231.00\n",
            "|   |   |   |   |   |--- class: 1\n",
            "|   |   |   |   |--- feature_4 >  231.00\n",
            "|   |   |   |   |   |--- feature_4 <= 239.00\n",
            "|   |   |   |   |   |   |--- class: 0\n",
            "|   |   |   |   |   |--- feature_4 >  239.00\n",
            "|   |   |   |   |   |   |--- feature_7 <= 175.50\n",
            "|   |   |   |   |   |   |   |--- feature_7 <= 158.50\n",
            "|   |   |   |   |   |   |   |   |--- feature_4 <= 272.00\n",
            "|   |   |   |   |   |   |   |   |   |--- class: 1\n",
            "|   |   |   |   |   |   |   |   |--- feature_4 >  272.00\n",
            "|   |   |   |   |   |   |   |   |   |--- feature_7 <= 155.50\n",
            "|   |   |   |   |   |   |   |   |   |   |--- feature_4 <= 303.50\n",
            "|   |   |   |   |   |   |   |   |   |   |   |--- class: 0\n",
            "|   |   |   |   |   |   |   |   |   |   |--- feature_4 >  303.50\n",
            "|   |   |   |   |   |   |   |   |   |   |   |--- class: 1\n",
            "|   |   |   |   |   |   |   |   |   |--- feature_7 >  155.50\n",
            "|   |   |   |   |   |   |   |   |   |   |--- class: 0\n",
            "|   |   |   |   |   |   |   |--- feature_7 >  158.50\n",
            "|   |   |   |   |   |   |   |   |--- class: 1\n",
            "|   |   |   |   |   |   |--- feature_7 >  175.50\n",
            "|   |   |   |   |   |   |   |--- class: 0\n",
            "|   |   |--- feature_2 >  0.50\n",
            "|   |   |   |--- feature_7 <= 154.50\n",
            "|   |   |   |   |--- class: 0\n",
            "|   |   |   |--- feature_7 >  154.50\n",
            "|   |   |   |   |--- feature_1 <= 0.50\n",
            "|   |   |   |   |   |--- feature_3 <= 151.00\n",
            "|   |   |   |   |   |   |--- feature_5 <= 0.50\n",
            "|   |   |   |   |   |   |   |--- class: 0\n",
            "|   |   |   |   |   |   |--- feature_5 >  0.50\n",
            "|   |   |   |   |   |   |   |--- class: 1\n",
            "|   |   |   |   |   |--- feature_3 >  151.00\n",
            "|   |   |   |   |   |   |--- class: 1\n",
            "|   |   |   |   |--- feature_1 >  0.50\n",
            "|   |   |   |   |   |--- feature_7 <= 183.00\n",
            "|   |   |   |   |   |   |--- feature_4 <= 255.00\n",
            "|   |   |   |   |   |   |   |--- feature_3 <= 115.00\n",
            "|   |   |   |   |   |   |   |   |--- class: 1\n",
            "|   |   |   |   |   |   |   |--- feature_3 >  115.00\n",
            "|   |   |   |   |   |   |   |   |--- feature_3 <= 131.00\n",
            "|   |   |   |   |   |   |   |   |   |--- feature_7 <= 172.00\n",
            "|   |   |   |   |   |   |   |   |   |   |--- class: 0\n",
            "|   |   |   |   |   |   |   |   |   |--- feature_7 >  172.00\n",
            "|   |   |   |   |   |   |   |   |   |   |--- feature_3 <= 127.50\n",
            "|   |   |   |   |   |   |   |   |   |   |   |--- class: 1\n",
            "|   |   |   |   |   |   |   |   |   |   |--- feature_3 >  127.50\n",
            "|   |   |   |   |   |   |   |   |   |   |   |--- class: 0\n",
            "|   |   |   |   |   |   |   |   |--- feature_3 >  131.00\n",
            "|   |   |   |   |   |   |   |   |   |--- feature_0 <= 62.00\n",
            "|   |   |   |   |   |   |   |   |   |   |--- class: 1\n",
            "|   |   |   |   |   |   |   |   |   |--- feature_0 >  62.00\n",
            "|   |   |   |   |   |   |   |   |   |   |--- class: 0\n",
            "|   |   |   |   |   |   |--- feature_4 >  255.00\n",
            "|   |   |   |   |   |   |   |--- feature_7 <= 176.50\n",
            "|   |   |   |   |   |   |   |   |--- class: 1\n",
            "|   |   |   |   |   |   |   |--- feature_7 >  176.50\n",
            "|   |   |   |   |   |   |   |   |--- class: 0\n",
            "|   |   |   |   |   |--- feature_7 >  183.00\n",
            "|   |   |   |   |   |   |--- class: 0\n",
            "|--- feature_10 >  1.50\n",
            "|   |--- feature_2 <= 0.50\n",
            "|   |   |--- feature_9 <= 0.45\n",
            "|   |   |   |--- feature_7 <= 149.00\n",
            "|   |   |   |   |--- feature_4 <= 42.50\n",
            "|   |   |   |   |   |--- feature_5 <= 0.50\n",
            "|   |   |   |   |   |   |--- feature_0 <= 53.00\n",
            "|   |   |   |   |   |   |   |--- class: 0\n",
            "|   |   |   |   |   |   |--- feature_0 >  53.00\n",
            "|   |   |   |   |   |   |   |--- feature_3 <= 143.50\n",
            "|   |   |   |   |   |   |   |   |--- class: 1\n",
            "|   |   |   |   |   |   |   |--- feature_3 >  143.50\n",
            "|   |   |   |   |   |   |   |   |--- class: 0\n",
            "|   |   |   |   |   |--- feature_5 >  0.50\n",
            "|   |   |   |   |   |   |--- class: 1\n",
            "|   |   |   |   |--- feature_4 >  42.50\n",
            "|   |   |   |   |   |--- feature_0 <= 65.50\n",
            "|   |   |   |   |   |   |--- class: 0\n",
            "|   |   |   |   |   |--- feature_0 >  65.50\n",
            "|   |   |   |   |   |   |--- feature_6 <= 0.50\n",
            "|   |   |   |   |   |   |   |--- class: 1\n",
            "|   |   |   |   |   |   |--- feature_6 >  0.50\n",
            "|   |   |   |   |   |   |   |--- class: 0\n",
            "|   |   |   |--- feature_7 >  149.00\n",
            "|   |   |   |   |--- feature_7 <= 181.50\n",
            "|   |   |   |   |   |--- feature_4 <= 205.00\n",
            "|   |   |   |   |   |   |--- feature_7 <= 152.00\n",
            "|   |   |   |   |   |   |   |--- class: 0\n",
            "|   |   |   |   |   |   |--- feature_7 >  152.00\n",
            "|   |   |   |   |   |   |   |--- class: 1\n",
            "|   |   |   |   |   |--- feature_4 >  205.00\n",
            "|   |   |   |   |   |   |--- feature_6 <= 0.50\n",
            "|   |   |   |   |   |   |   |--- feature_4 <= 255.00\n",
            "|   |   |   |   |   |   |   |   |--- class: 0\n",
            "|   |   |   |   |   |   |   |--- feature_4 >  255.00\n",
            "|   |   |   |   |   |   |   |   |--- feature_1 <= 0.50\n",
            "|   |   |   |   |   |   |   |   |   |--- feature_0 <= 58.50\n",
            "|   |   |   |   |   |   |   |   |   |   |--- class: 0\n",
            "|   |   |   |   |   |   |   |   |   |--- feature_0 >  58.50\n",
            "|   |   |   |   |   |   |   |   |   |   |--- class: 1\n",
            "|   |   |   |   |   |   |   |   |--- feature_1 >  0.50\n",
            "|   |   |   |   |   |   |   |   |   |--- class: 1\n",
            "|   |   |   |   |   |   |--- feature_6 >  0.50\n",
            "|   |   |   |   |   |   |   |--- feature_7 <= 179.50\n",
            "|   |   |   |   |   |   |   |   |--- feature_3 <= 129.00\n",
            "|   |   |   |   |   |   |   |   |   |--- feature_4 <= 226.50\n",
            "|   |   |   |   |   |   |   |   |   |   |--- class: 0\n",
            "|   |   |   |   |   |   |   |   |   |--- feature_4 >  226.50\n",
            "|   |   |   |   |   |   |   |   |   |   |--- class: 1\n",
            "|   |   |   |   |   |   |   |   |--- feature_3 >  129.00\n",
            "|   |   |   |   |   |   |   |   |   |--- class: 0\n",
            "|   |   |   |   |   |   |   |--- feature_7 >  179.50\n",
            "|   |   |   |   |   |   |   |   |--- class: 1\n",
            "|   |   |   |   |--- feature_7 >  181.50\n",
            "|   |   |   |   |   |--- class: 0\n",
            "|   |   |--- feature_9 >  0.45\n",
            "|   |   |   |--- feature_5 <= 0.50\n",
            "|   |   |   |   |--- feature_7 <= 126.00\n",
            "|   |   |   |   |   |--- class: 1\n",
            "|   |   |   |   |--- feature_7 >  126.00\n",
            "|   |   |   |   |   |--- feature_3 <= 146.00\n",
            "|   |   |   |   |   |   |--- feature_1 <= 0.50\n",
            "|   |   |   |   |   |   |   |--- class: 0\n",
            "|   |   |   |   |   |   |--- feature_1 >  0.50\n",
            "|   |   |   |   |   |   |   |--- feature_7 <= 135.50\n",
            "|   |   |   |   |   |   |   |   |--- class: 0\n",
            "|   |   |   |   |   |   |   |--- feature_7 >  135.50\n",
            "|   |   |   |   |   |   |   |   |--- feature_7 <= 159.50\n",
            "|   |   |   |   |   |   |   |   |   |--- class: 1\n",
            "|   |   |   |   |   |   |   |   |--- feature_7 >  159.50\n",
            "|   |   |   |   |   |   |   |   |   |--- feature_7 <= 164.00\n",
            "|   |   |   |   |   |   |   |   |   |   |--- class: 0\n",
            "|   |   |   |   |   |   |   |   |   |--- feature_7 >  164.00\n",
            "|   |   |   |   |   |   |   |   |   |   |--- class: 1\n",
            "|   |   |   |   |   |--- feature_3 >  146.00\n",
            "|   |   |   |   |   |   |--- class: 0\n",
            "|   |   |   |--- feature_5 >  0.50\n",
            "|   |   |   |   |--- feature_7 <= 103.00\n",
            "|   |   |   |   |   |--- class: 0\n",
            "|   |   |   |   |--- feature_7 >  103.00\n",
            "|   |   |   |   |   |--- class: 1\n",
            "|   |--- feature_2 >  0.50\n",
            "|   |   |--- feature_9 <= 2.20\n",
            "|   |   |   |--- feature_0 <= 56.50\n",
            "|   |   |   |   |--- feature_4 <= 153.00\n",
            "|   |   |   |   |   |--- feature_7 <= 132.50\n",
            "|   |   |   |   |   |   |--- class: 1\n",
            "|   |   |   |   |   |--- feature_7 >  132.50\n",
            "|   |   |   |   |   |   |--- class: 0\n",
            "|   |   |   |   |--- feature_4 >  153.00\n",
            "|   |   |   |   |   |--- feature_3 <= 191.00\n",
            "|   |   |   |   |   |   |--- feature_3 <= 109.00\n",
            "|   |   |   |   |   |   |   |--- feature_3 <= 107.00\n",
            "|   |   |   |   |   |   |   |   |--- class: 0\n",
            "|   |   |   |   |   |   |   |--- feature_3 >  107.00\n",
            "|   |   |   |   |   |   |   |   |--- feature_4 <= 255.00\n",
            "|   |   |   |   |   |   |   |   |   |--- class: 1\n",
            "|   |   |   |   |   |   |   |   |--- feature_4 >  255.00\n",
            "|   |   |   |   |   |   |   |   |   |--- class: 0\n",
            "|   |   |   |   |   |   |--- feature_3 >  109.00\n",
            "|   |   |   |   |   |   |   |--- class: 0\n",
            "|   |   |   |   |   |--- feature_3 >  191.00\n",
            "|   |   |   |   |   |   |--- class: 1\n",
            "|   |   |   |--- feature_0 >  56.50\n",
            "|   |   |   |   |--- feature_3 <= 122.00\n",
            "|   |   |   |   |   |--- class: 0\n",
            "|   |   |   |   |--- feature_3 >  122.00\n",
            "|   |   |   |   |   |--- feature_4 <= 316.00\n",
            "|   |   |   |   |   |   |--- feature_0 <= 72.00\n",
            "|   |   |   |   |   |   |   |--- feature_0 <= 59.50\n",
            "|   |   |   |   |   |   |   |   |--- feature_5 <= 0.50\n",
            "|   |   |   |   |   |   |   |   |   |--- feature_6 <= 0.50\n",
            "|   |   |   |   |   |   |   |   |   |   |--- class: 1\n",
            "|   |   |   |   |   |   |   |   |   |--- feature_6 >  0.50\n",
            "|   |   |   |   |   |   |   |   |   |   |--- feature_9 <= 0.15\n",
            "|   |   |   |   |   |   |   |   |   |   |   |--- class: 0\n",
            "|   |   |   |   |   |   |   |   |   |   |--- feature_9 >  0.15\n",
            "|   |   |   |   |   |   |   |   |   |   |   |--- truncated branch of depth 2\n",
            "|   |   |   |   |   |   |   |   |--- feature_5 >  0.50\n",
            "|   |   |   |   |   |   |   |   |   |--- class: 0\n",
            "|   |   |   |   |   |   |   |--- feature_0 >  59.50\n",
            "|   |   |   |   |   |   |   |   |--- class: 0\n",
            "|   |   |   |   |   |   |--- feature_0 >  72.00\n",
            "|   |   |   |   |   |   |   |--- feature_7 <= 118.50\n",
            "|   |   |   |   |   |   |   |   |--- class: 0\n",
            "|   |   |   |   |   |   |   |--- feature_7 >  118.50\n",
            "|   |   |   |   |   |   |   |   |--- class: 1\n",
            "|   |   |   |   |   |--- feature_4 >  316.00\n",
            "|   |   |   |   |   |   |--- feature_7 <= 151.50\n",
            "|   |   |   |   |   |   |   |--- class: 0\n",
            "|   |   |   |   |   |   |--- feature_7 >  151.50\n",
            "|   |   |   |   |   |   |   |--- class: 1\n",
            "|   |   |--- feature_9 >  2.20\n",
            "|   |   |   |--- class: 1\n",
            "\n"
          ]
        }
      ]
    },
    {
      "cell_type": "code",
      "source": [
        "from sklearn.tree import _tree\n",
        "def get_rules(tree, feature_names, class_names):\n",
        "    tree_ = tree.tree_\n",
        "    feature_name = [\n",
        "        feature_names[i] if i != _tree.TREE_UNDEFINED else \"undefined!\"\n",
        "        for i in tree_.feature\n",
        "    ]\n",
        "\n",
        "    paths = []\n",
        "    path = []\n",
        "    \n",
        "    def recurse(node, path, paths):\n",
        "        \n",
        "        if tree_.feature[node] != _tree.TREE_UNDEFINED:\n",
        "            name = feature_name[node]\n",
        "            threshold = tree_.threshold[node]\n",
        "            p1, p2 = list(path), list(path)\n",
        "            p1 += [f\"({name} <= {np.round(threshold, 3)})\"]\n",
        "            recurse(tree_.children_left[node], p1, paths)\n",
        "            p2 += [f\"({name} > {np.round(threshold, 3)})\"]\n",
        "            recurse(tree_.children_right[node], p2, paths)\n",
        "        else:\n",
        "            path += [(tree_.value[node], tree_.n_node_samples[node])]\n",
        "            paths += [path]\n",
        "            \n",
        "    recurse(0, path, paths)\n",
        "\n",
        "    # sort by samples count\n",
        "    samples_count = [p[-1][1] for p in paths]\n",
        "    ii = list(np.argsort(samples_count))\n",
        "    paths = [paths[i] for i in reversed(ii)]\n",
        "    \n",
        "    rules = []\n",
        "    for path in paths:\n",
        "        rule = \"if \"\n",
        "        \n",
        "        for p in path[:-1]:\n",
        "            if rule != \"if \":\n",
        "                rule += \" and \"\n",
        "            rule += str(p)\n",
        "        rule += \" then \"\n",
        "        if class_names is None:\n",
        "            rule += \"response: \"+str(np.round(path[-1][0][0][0],3))\n",
        "        else:\n",
        "            classes = path[-1][0][0]\n",
        "            l = np.argmax(classes)\n",
        "            rule += f\"class: {class_names[l]} (proba: {np.round(100.0*classes[l]/np.sum(classes),2)}%)\"\n",
        "        rule += f\" | based on {path[-1][1]:,} samples\"\n",
        "        rules += [rule]\n",
        "        \n",
        "    return rules"
      ],
      "metadata": {
        "id": "amGnxWybvcDS"
      },
      "execution_count": null,
      "outputs": []
    },
    {
      "cell_type": "code",
      "source": [
        "y_train"
      ],
      "metadata": {
        "colab": {
          "base_uri": "https://localhost:8080/"
        },
        "id": "Dvfc_WoKvf2S",
        "outputId": "6b10f851-e8b9-478e-9f3a-392b9ed0843a"
      },
      "execution_count": null,
      "outputs": [
        {
          "output_type": "execute_result",
          "data": {
            "text/plain": [
              "34     0\n",
              "144    1\n",
              "308    1\n",
              "839    0\n",
              "358    1\n",
              "      ..\n",
              "835    1\n",
              "192    0\n",
              "629    0\n",
              "559    1\n",
              "684    1\n",
              "Name: HeartDisease, Length: 826, dtype: int64"
            ]
          },
          "metadata": {},
          "execution_count": 116
        }
      ]
    },
    {
      "cell_type": "code",
      "source": [
        "rules = get_rules(dtc, x_train.columns, \"HeartDisease\")\n",
        "for r in rules:\n",
        "    print(r)"
      ],
      "metadata": {
        "colab": {
          "base_uri": "https://localhost:8080/"
        },
        "id": "2Wo9LgWovdGs",
        "outputId": "77d59a46-5132-44f7-dae8-25b24235c452"
      },
      "execution_count": null,
      "outputs": [
        {
          "output_type": "stream",
          "name": "stdout",
          "text": [
            "if (ST_Slope > 1.5) and (ChestPainType > 0.5) and (Oldpeak <= 2.2) and (Age <= 56.5) and (Cholesterol > 153.0) and (RestingBP <= 191.0) and (RestingBP > 109.0) then class: H (proba: 100.0%) | based on 164 samples\n",
            "if (ST_Slope <= 1.5) and (MaxHR <= 151.0) and (Sex > 0.5) and (MaxHR <= 130.5) and (Age > 52.5) and (Oldpeak > 0.1) and (Oldpeak > 0.75) and (Cholesterol <= 308.0) and (RestingBP > 130.5) and (Age <= 71.5) then class: e (proba: 100.0%) | based on 77 samples\n",
            "if (ST_Slope <= 1.5) and (MaxHR <= 151.0) and (Sex > 0.5) and (MaxHR <= 130.5) and (Age <= 52.5) then class: e (proba: 100.0%) | based on 60 samples\n",
            "if (ST_Slope <= 1.5) and (MaxHR <= 151.0) and (Sex > 0.5) and (MaxHR <= 130.5) and (Age > 52.5) and (Oldpeak <= 0.1) then class: e (proba: 100.0%) | based on 44 samples\n",
            "if (ST_Slope <= 1.5) and (MaxHR <= 151.0) and (Sex > 0.5) and (MaxHR > 130.5) and (ChestPainType <= 0.5) and (RestingBP > 112.0) and (Oldpeak > 0.45) then class: e (proba: 100.0%) | based on 37 samples\n",
            "if (ST_Slope > 1.5) and (ChestPainType <= 0.5) and (Oldpeak <= 0.45) and (MaxHR <= 149.0) and (Cholesterol > 42.5) and (Age <= 65.5) then class: H (proba: 100.0%) | based on 33 samples\n",
            "if (ST_Slope <= 1.5) and (MaxHR <= 151.0) and (Sex > 0.5) and (MaxHR <= 130.5) and (Age > 52.5) and (Oldpeak > 0.1) and (Oldpeak > 0.75) and (Cholesterol <= 308.0) and (RestingBP <= 130.5) and (RestingECG <= 1.5) and (MaxHR <= 125.5) then class: e (proba: 100.0%) | based on 29 samples\n",
            "if (ST_Slope > 1.5) and (ChestPainType > 0.5) and (Oldpeak <= 2.2) and (Age > 56.5) and (RestingBP > 122.0) and (Cholesterol <= 316.0) and (Age <= 72.0) and (Age > 59.5) then class: H (proba: 100.0%) | based on 19 samples\n",
            "if (ST_Slope > 1.5) and (ChestPainType <= 0.5) and (Oldpeak > 0.45) and (FastingBS > 0.5) and (MaxHR > 103.0) then class: e (proba: 100.0%) | based on 15 samples\n",
            "if (ST_Slope <= 1.5) and (MaxHR > 151.0) and (ChestPainType <= 0.5) and (MaxHR > 152.5) and (Cholesterol <= 231.0) then class: e (proba: 100.0%) | based on 10 samples\n",
            "if (ST_Slope <= 1.5) and (MaxHR <= 151.0) and (Sex <= 0.5) and (FastingBS <= 0.5) and (ExerciseAngina <= 0.5) and (RestingBP <= 145.0) and (MaxHR > 97.5) and (MaxHR <= 147.5) then class: H (proba: 100.0%) | based on 10 samples\n",
            "if (ST_Slope <= 1.5) and (MaxHR > 151.0) and (ChestPainType > 0.5) and (MaxHR > 154.5) and (Sex <= 0.5) and (RestingBP <= 151.0) and (FastingBS <= 0.5) then class: H (proba: 100.0%) | based on 10 samples\n",
            "if (ST_Slope <= 1.5) and (MaxHR <= 151.0) and (Sex <= 0.5) and (FastingBS > 0.5) then class: e (proba: 100.0%) | based on 9 samples\n",
            "if (ST_Slope > 1.5) and (ChestPainType > 0.5) and (Oldpeak <= 2.2) and (Age > 56.5) and (RestingBP <= 122.0) then class: H (proba: 100.0%) | based on 9 samples\n",
            "if (ST_Slope <= 1.5) and (MaxHR <= 151.0) and (Sex > 0.5) and (MaxHR > 130.5) and (ChestPainType > 0.5) and (ST_Slope > 0.5) and (Oldpeak > 1.9) then class: e (proba: 100.0%) | based on 9 samples\n",
            "if (ST_Slope > 1.5) and (ChestPainType > 0.5) and (Oldpeak <= 2.2) and (Age <= 56.5) and (Cholesterol > 153.0) and (RestingBP <= 191.0) and (RestingBP <= 109.0) and (RestingBP <= 107.0) then class: H (proba: 100.0%) | based on 9 samples\n",
            "if (ST_Slope <= 1.5) and (MaxHR > 151.0) and (ChestPainType > 0.5) and (MaxHR > 154.5) and (Sex > 0.5) and (MaxHR <= 183.0) and (Cholesterol > 255.0) and (MaxHR <= 176.5) then class: e (proba: 100.0%) | based on 8 samples\n",
            "if (ST_Slope > 1.5) and (ChestPainType <= 0.5) and (Oldpeak > 0.45) and (FastingBS <= 0.5) and (MaxHR > 126.0) and (RestingBP <= 146.0) and (Sex > 0.5) and (MaxHR > 135.5) and (MaxHR <= 159.5) then class: e (proba: 100.0%) | based on 8 samples\n",
            "if (ST_Slope > 1.5) and (ChestPainType <= 0.5) and (Oldpeak <= 0.45) and (MaxHR > 149.0) and (MaxHR <= 181.5) and (Cholesterol <= 205.0) and (MaxHR > 152.0) then class: e (proba: 100.0%) | based on 7 samples\n",
            "if (ST_Slope <= 1.5) and (MaxHR > 151.0) and (ChestPainType > 0.5) and (MaxHR > 154.5) and (Sex > 0.5) and (MaxHR <= 183.0) and (Cholesterol <= 255.0) and (RestingBP > 115.0) and (RestingBP <= 131.0) and (MaxHR <= 172.0) then class: H (proba: 100.0%) | based on 7 samples\n",
            "if (ST_Slope <= 1.5) and (MaxHR <= 151.0) and (Sex > 0.5) and (MaxHR > 130.5) and (ChestPainType > 0.5) and (ST_Slope > 0.5) and (Oldpeak <= 1.9) and (Cholesterol <= 261.0) and (MaxHR <= 147.5) and (Oldpeak > 0.05) and (Cholesterol <= 244.0) then class: H (proba: 100.0%) | based on 7 samples\n",
            "if (ST_Slope > 1.5) and (ChestPainType <= 0.5) and (Oldpeak <= 0.45) and (MaxHR > 149.0) and (MaxHR <= 181.5) and (Cholesterol > 205.0) and (RestingECG > 0.5) and (MaxHR <= 179.5) and (RestingBP > 129.0) then class: H (proba: 100.0%) | based on 7 samples\n",
            "if (ST_Slope <= 1.5) and (MaxHR > 151.0) and (ChestPainType > 0.5) and (MaxHR <= 154.5) then class: H (proba: 100.0%) | based on 7 samples\n",
            "if (ST_Slope <= 1.5) and (MaxHR <= 151.0) and (Sex > 0.5) and (MaxHR > 130.5) and (ChestPainType <= 0.5) and (RestingBP > 112.0) and (Oldpeak <= 0.45) and (Oldpeak <= 0.2) then class: e (proba: 100.0%) | based on 7 samples\n",
            "if (ST_Slope > 1.5) and (ChestPainType <= 0.5) and (Oldpeak > 0.45) and (FastingBS <= 0.5) and (MaxHR <= 126.0) then class: e (proba: 100.0%) | based on 6 samples\n",
            "if (ST_Slope <= 1.5) and (MaxHR > 151.0) and (ChestPainType <= 0.5) and (MaxHR > 152.5) and (Cholesterol > 231.0) and (Cholesterol > 239.0) and (MaxHR <= 175.5) and (MaxHR > 158.5) then class: e (proba: 100.0%) | based on 6 samples\n",
            "if (ST_Slope > 1.5) and (ChestPainType > 0.5) and (Oldpeak <= 2.2) and (Age > 56.5) and (RestingBP > 122.0) and (Cholesterol <= 316.0) and (Age <= 72.0) and (Age <= 59.5) and (FastingBS <= 0.5) and (RestingECG > 0.5) and (Oldpeak <= 0.15) then class: H (proba: 100.0%) | based on 6 samples\n",
            "if (ST_Slope <= 1.5) and (MaxHR <= 151.0) and (Sex > 0.5) and (MaxHR <= 130.5) and (Age > 52.5) and (Oldpeak > 0.1) and (Oldpeak > 0.75) and (Cholesterol > 308.0) and (Age <= 74.5) and (Oldpeak > 1.25) then class: e (proba: 100.0%) | based on 6 samples\n",
            "if (ST_Slope > 1.5) and (ChestPainType <= 0.5) and (Oldpeak <= 0.45) and (MaxHR > 149.0) and (MaxHR <= 181.5) and (Cholesterol > 205.0) and (RestingECG <= 0.5) and (Cholesterol > 255.0) and (Sex > 0.5) then class: e (proba: 100.0%) | based on 5 samples\n",
            "if (ST_Slope <= 1.5) and (MaxHR <= 151.0) and (Sex > 0.5) and (MaxHR <= 130.5) and (Age > 52.5) and (Oldpeak > 0.1) and (Oldpeak > 0.75) and (Cholesterol <= 308.0) and (RestingBP > 130.5) and (Age > 71.5) and (Cholesterol > 61.5) then class: e (proba: 100.0%) | based on 5 samples\n",
            "if (ST_Slope <= 1.5) and (MaxHR <= 151.0) and (Sex > 0.5) and (MaxHR > 130.5) and (ChestPainType > 0.5) and (ST_Slope > 0.5) and (Oldpeak <= 1.9) and (Cholesterol > 261.0) then class: e (proba: 100.0%) | based on 5 samples\n",
            "if (ST_Slope > 1.5) and (ChestPainType <= 0.5) and (Oldpeak <= 0.45) and (MaxHR > 149.0) and (MaxHR > 181.5) then class: H (proba: 100.0%) | based on 5 samples\n",
            "if (ST_Slope > 1.5) and (ChestPainType <= 0.5) and (Oldpeak > 0.45) and (FastingBS <= 0.5) and (MaxHR > 126.0) and (RestingBP > 146.0) then class: H (proba: 100.0%) | based on 5 samples\n",
            "if (ST_Slope <= 1.5) and (MaxHR <= 151.0) and (Sex <= 0.5) and (FastingBS <= 0.5) and (ExerciseAngina > 0.5) and (Oldpeak <= 0.5) then class: e (proba: 100.0%) | based on 5 samples\n",
            "if (ST_Slope <= 1.5) and (MaxHR <= 151.0) and (Sex > 0.5) and (MaxHR <= 130.5) and (Age > 52.5) and (Oldpeak > 0.1) and (Oldpeak > 0.75) and (Cholesterol <= 308.0) and (RestingBP <= 130.5) and (RestingECG <= 1.5) and (MaxHR > 125.5) and (Oldpeak > 1.6) then class: e (proba: 100.0%) | based on 5 samples\n",
            "if (ST_Slope <= 1.5) and (MaxHR <= 151.0) and (Sex > 0.5) and (MaxHR <= 130.5) and (Age > 52.5) and (Oldpeak > 0.1) and (Oldpeak > 0.75) and (Cholesterol <= 308.0) and (RestingBP <= 130.5) and (RestingECG > 1.5) and (Oldpeak <= 2.5) and (MaxHR > 98.0) and (RestingBP > 127.0) then class: e (proba: 100.0%) | based on 5 samples\n",
            "if (ST_Slope > 1.5) and (ChestPainType > 0.5) and (Oldpeak <= 2.2) and (Age > 56.5) and (RestingBP > 122.0) and (Cholesterol <= 316.0) and (Age <= 72.0) and (Age <= 59.5) and (FastingBS > 0.5) then class: H (proba: 100.0%) | based on 5 samples\n",
            "if (ST_Slope <= 1.5) and (MaxHR <= 151.0) and (Sex > 0.5) and (MaxHR <= 130.5) and (Age > 52.5) and (Oldpeak > 0.1) and (Oldpeak <= 0.75) and (RestingBP <= 142.5) and (RestingBP > 119.0) then class: H (proba: 100.0%) | based on 4 samples\n",
            "if (ST_Slope <= 1.5) and (MaxHR > 151.0) and (ChestPainType > 0.5) and (MaxHR > 154.5) and (Sex > 0.5) and (MaxHR > 183.0) then class: H (proba: 100.0%) | based on 4 samples\n",
            "if (ST_Slope <= 1.5) and (MaxHR <= 151.0) and (Sex > 0.5) and (MaxHR > 130.5) and (ChestPainType > 0.5) and (ST_Slope > 0.5) and (Oldpeak <= 1.9) and (Cholesterol <= 261.0) and (MaxHR > 147.5) then class: e (proba: 100.0%) | based on 4 samples\n",
            "if (ST_Slope <= 1.5) and (MaxHR <= 151.0) and (Sex > 0.5) and (MaxHR > 130.5) and (ChestPainType <= 0.5) and (RestingBP <= 112.0) and (Cholesterol > 238.5) then class: e (proba: 100.0%) | based on 4 samples\n",
            "if (ST_Slope <= 1.5) and (MaxHR > 151.0) and (ChestPainType > 0.5) and (MaxHR > 154.5) and (Sex > 0.5) and (MaxHR <= 183.0) and (Cholesterol <= 255.0) and (RestingBP > 115.0) and (RestingBP > 131.0) and (Age <= 62.0) then class: e (proba: 100.0%) | based on 4 samples\n",
            "if (ST_Slope <= 1.5) and (MaxHR <= 151.0) and (Sex > 0.5) and (MaxHR > 130.5) and (ChestPainType <= 0.5) and (RestingBP <= 112.0) and (Cholesterol <= 238.5) and (Cholesterol <= 205.0) and (Age <= 49.5) then class: e (proba: 100.0%) | based on 4 samples\n",
            "if (ST_Slope <= 1.5) and (MaxHR <= 151.0) and (Sex <= 0.5) and (FastingBS <= 0.5) and (ExerciseAngina > 0.5) and (Oldpeak > 0.5) and (MaxHR > 144.0) then class: e (proba: 100.0%) | based on 4 samples\n",
            "if (ST_Slope > 1.5) and (ChestPainType > 0.5) and (Oldpeak > 2.2) then class: e (proba: 100.0%) | based on 4 samples\n",
            "if (ST_Slope <= 1.5) and (MaxHR <= 151.0) and (Sex <= 0.5) and (FastingBS <= 0.5) and (ExerciseAngina > 0.5) and (Oldpeak > 0.5) and (MaxHR <= 144.0) and (MaxHR > 109.0) and (Age > 54.0) and (Oldpeak > 0.9) and (RestingBP > 136.0) then class: e (proba: 100.0%) | based on 4 samples\n",
            "if (ST_Slope > 1.5) and (ChestPainType > 0.5) and (Oldpeak <= 2.2) and (Age <= 56.5) and (Cholesterol <= 153.0) and (MaxHR > 132.5) then class: H (proba: 100.0%) | based on 4 samples\n",
            "if (ST_Slope <= 1.5) and (MaxHR <= 151.0) and (Sex <= 0.5) and (FastingBS <= 0.5) and (ExerciseAngina > 0.5) and (Oldpeak > 0.5) and (MaxHR <= 144.0) and (MaxHR <= 109.0) then class: e (proba: 100.0%) | based on 3 samples\n",
            "if (ST_Slope <= 1.5) and (MaxHR <= 151.0) and (Sex > 0.5) and (MaxHR > 130.5) and (ChestPainType > 0.5) and (ST_Slope > 0.5) and (Oldpeak <= 1.9) and (Cholesterol <= 261.0) and (MaxHR <= 147.5) and (Oldpeak <= 0.05) and (Age > 49.5) then class: e (proba: 100.0%) | based on 3 samples\n",
            "if (ST_Slope > 1.5) and (ChestPainType <= 0.5) and (Oldpeak <= 0.45) and (MaxHR <= 149.0) and (Cholesterol <= 42.5) and (FastingBS > 0.5) then class: e (proba: 100.0%) | based on 3 samples\n",
            "if (ST_Slope <= 1.5) and (MaxHR <= 151.0) and (Sex <= 0.5) and (FastingBS <= 0.5) and (ExerciseAngina > 0.5) and (Oldpeak > 0.5) and (MaxHR <= 144.0) and (MaxHR > 109.0) and (Age <= 54.0) and (Cholesterol <= 266.0) then class: H (proba: 100.0%) | based on 3 samples\n",
            "if (ST_Slope > 1.5) and (ChestPainType <= 0.5) and (Oldpeak > 0.45) and (FastingBS <= 0.5) and (MaxHR > 126.0) and (RestingBP <= 146.0) and (Sex <= 0.5) then class: H (proba: 100.0%) | based on 3 samples\n",
            "if (ST_Slope <= 1.5) and (MaxHR > 151.0) and (ChestPainType <= 0.5) and (MaxHR > 152.5) and (Cholesterol > 231.0) and (Cholesterol > 239.0) and (MaxHR <= 175.5) and (MaxHR <= 158.5) and (Cholesterol <= 272.0) then class: e (proba: 100.0%) | based on 3 samples\n",
            "if (ST_Slope <= 1.5) and (MaxHR <= 151.0) and (Sex > 0.5) and (MaxHR <= 130.5) and (Age > 52.5) and (Oldpeak > 0.1) and (Oldpeak <= 0.75) and (RestingBP > 142.5) then class: e (proba: 100.0%) | based on 3 samples\n",
            "if (ST_Slope <= 1.5) and (MaxHR > 151.0) and (ChestPainType > 0.5) and (MaxHR > 154.5) and (Sex > 0.5) and (MaxHR <= 183.0) and (Cholesterol <= 255.0) and (RestingBP <= 115.0) then class: e (proba: 100.0%) | based on 3 samples\n",
            "if (ST_Slope <= 1.5) and (MaxHR <= 151.0) and (Sex <= 0.5) and (FastingBS <= 0.5) and (ExerciseAngina <= 0.5) and (RestingBP > 145.0) and (Age <= 65.5) then class: e (proba: 100.0%) | based on 3 samples\n",
            "if (ST_Slope > 1.5) and (ChestPainType <= 0.5) and (Oldpeak <= 0.45) and (MaxHR > 149.0) and (MaxHR <= 181.5) and (Cholesterol > 205.0) and (RestingECG > 0.5) and (MaxHR <= 179.5) and (RestingBP <= 129.0) and (Cholesterol <= 226.5) then class: H (proba: 100.0%) | based on 3 samples\n",
            "if (ST_Slope > 1.5) and (ChestPainType > 0.5) and (Oldpeak <= 2.2) and (Age <= 56.5) and (Cholesterol <= 153.0) and (MaxHR <= 132.5) then class: e (proba: 100.0%) | based on 2 samples\n",
            "if (ST_Slope <= 1.5) and (MaxHR <= 151.0) and (Sex > 0.5) and (MaxHR > 130.5) and (ChestPainType > 0.5) and (ST_Slope > 0.5) and (Oldpeak <= 1.9) and (Cholesterol <= 261.0) and (MaxHR <= 147.5) and (Oldpeak > 0.05) and (Cholesterol > 244.0) and (RestingBP > 125.0) then class: e (proba: 100.0%) | based on 2 samples\n",
            "if (ST_Slope > 1.5) and (ChestPainType > 0.5) and (Oldpeak <= 2.2) and (Age <= 56.5) and (Cholesterol > 153.0) and (RestingBP <= 191.0) and (RestingBP <= 109.0) and (RestingBP > 107.0) and (Cholesterol > 255.0) then class: H (proba: 100.0%) | based on 2 samples\n",
            "if (ST_Slope <= 1.5) and (MaxHR <= 151.0) and (Sex > 0.5) and (MaxHR > 130.5) and (ChestPainType > 0.5) and (ST_Slope <= 0.5) then class: H (proba: 100.0%) | based on 2 samples\n",
            "if (ST_Slope > 1.5) and (ChestPainType <= 0.5) and (Oldpeak <= 0.45) and (MaxHR <= 149.0) and (Cholesterol <= 42.5) and (FastingBS <= 0.5) and (Age > 53.0) and (RestingBP <= 143.5) then class: e (proba: 100.0%) | based on 2 samples\n",
            "if (ST_Slope > 1.5) and (ChestPainType > 0.5) and (Oldpeak <= 2.2) and (Age > 56.5) and (RestingBP > 122.0) and (Cholesterol <= 316.0) and (Age <= 72.0) and (Age <= 59.5) and (FastingBS <= 0.5) and (RestingECG <= 0.5) then class: e (proba: 100.0%) | based on 2 samples\n",
            "if (ST_Slope <= 1.5) and (MaxHR <= 151.0) and (Sex > 0.5) and (MaxHR > 130.5) and (ChestPainType <= 0.5) and (RestingBP <= 112.0) and (Cholesterol <= 238.5) and (Cholesterol > 205.0) then class: H (proba: 100.0%) | based on 2 samples\n",
            "if (ST_Slope > 1.5) and (ChestPainType > 0.5) and (Oldpeak <= 2.2) and (Age > 56.5) and (RestingBP > 122.0) and (Cholesterol <= 316.0) and (Age <= 72.0) and (Age <= 59.5) and (FastingBS <= 0.5) and (RestingECG > 0.5) and (Oldpeak > 0.15) and (MaxHR <= 168.0) then class: e (proba: 100.0%) | based on 2 samples\n",
            "if (ST_Slope > 1.5) and (ChestPainType > 0.5) and (Oldpeak <= 2.2) and (Age > 56.5) and (RestingBP > 122.0) and (Cholesterol <= 316.0) and (Age > 72.0) and (MaxHR > 118.5) then class: e (proba: 100.0%) | based on 2 samples\n",
            "if (ST_Slope <= 1.5) and (MaxHR <= 151.0) and (Sex > 0.5) and (MaxHR <= 130.5) and (Age > 52.5) and (Oldpeak > 0.1) and (Oldpeak > 0.75) and (Cholesterol > 308.0) and (Age <= 74.5) and (Oldpeak <= 1.25) and (Cholesterol <= 530.5) then class: H (proba: 100.0%) | based on 2 samples\n",
            "if (ST_Slope > 1.5) and (ChestPainType <= 0.5) and (Oldpeak > 0.45) and (FastingBS <= 0.5) and (MaxHR > 126.0) and (RestingBP <= 146.0) and (Sex > 0.5) and (MaxHR > 135.5) and (MaxHR > 159.5) and (MaxHR > 164.0) then class: e (proba: 100.0%) | based on 2 samples\n",
            "if (ST_Slope > 1.5) and (ChestPainType <= 0.5) and (Oldpeak <= 0.45) and (MaxHR <= 149.0) and (Cholesterol <= 42.5) and (FastingBS <= 0.5) and (Age <= 53.0) then class: H (proba: 100.0%) | based on 2 samples\n",
            "if (ST_Slope <= 1.5) and (MaxHR > 151.0) and (ChestPainType <= 0.5) and (MaxHR <= 152.5) then class: H (proba: 100.0%) | based on 2 samples\n",
            "if (ST_Slope > 1.5) and (ChestPainType <= 0.5) and (Oldpeak <= 0.45) and (MaxHR > 149.0) and (MaxHR <= 181.5) and (Cholesterol > 205.0) and (RestingECG <= 0.5) and (Cholesterol <= 255.0) then class: H (proba: 100.0%) | based on 2 samples\n",
            "if (ST_Slope > 1.5) and (ChestPainType > 0.5) and (Oldpeak <= 2.2) and (Age > 56.5) and (RestingBP > 122.0) and (Cholesterol > 316.0) and (MaxHR > 151.5) then class: e (proba: 100.0%) | based on 2 samples\n",
            "if (ST_Slope > 1.5) and (ChestPainType <= 0.5) and (Oldpeak <= 0.45) and (MaxHR > 149.0) and (MaxHR <= 181.5) and (Cholesterol > 205.0) and (RestingECG > 0.5) and (MaxHR <= 179.5) and (RestingBP <= 129.0) and (Cholesterol > 226.5) then class: e (proba: 100.0%) | based on 2 samples\n",
            "if (ST_Slope > 1.5) and (ChestPainType <= 0.5) and (Oldpeak <= 0.45) and (MaxHR > 149.0) and (MaxHR <= 181.5) and (Cholesterol > 205.0) and (RestingECG <= 0.5) and (Cholesterol > 255.0) and (Sex <= 0.5) and (Age > 58.5) then class: e (proba: 100.0%) | based on 2 samples\n",
            "if (ST_Slope <= 1.5) and (MaxHR > 151.0) and (ChestPainType <= 0.5) and (MaxHR > 152.5) and (Cholesterol > 231.0) and (Cholesterol > 239.0) and (MaxHR <= 175.5) and (MaxHR <= 158.5) and (Cholesterol > 272.0) and (MaxHR <= 155.5) and (Cholesterol > 303.5) then class: e (proba: 100.0%) | based on 2 samples\n",
            "if (ST_Slope <= 1.5) and (MaxHR > 151.0) and (ChestPainType > 0.5) and (MaxHR > 154.5) and (Sex > 0.5) and (MaxHR <= 183.0) and (Cholesterol <= 255.0) and (RestingBP > 115.0) and (RestingBP <= 131.0) and (MaxHR > 172.0) and (RestingBP <= 127.5) then class: e (proba: 100.0%) | based on 2 samples\n",
            "if (ST_Slope <= 1.5) and (MaxHR <= 151.0) and (Sex <= 0.5) and (FastingBS <= 0.5) and (ExerciseAngina > 0.5) and (Oldpeak > 0.5) and (MaxHR <= 144.0) and (MaxHR > 109.0) and (Age > 54.0) and (Oldpeak > 0.9) and (RestingBP <= 136.0) and (MaxHR > 125.0) then class: e (proba: 100.0%) | based on 1 samples\n",
            "if (ST_Slope <= 1.5) and (MaxHR <= 151.0) and (Sex <= 0.5) and (FastingBS <= 0.5) and (ExerciseAngina > 0.5) and (Oldpeak > 0.5) and (MaxHR <= 144.0) and (MaxHR > 109.0) and (Age > 54.0) and (Oldpeak > 0.9) and (RestingBP <= 136.0) and (MaxHR <= 125.0) then class: H (proba: 100.0%) | based on 1 samples\n",
            "if (ST_Slope <= 1.5) and (MaxHR <= 151.0) and (Sex <= 0.5) and (FastingBS <= 0.5) and (ExerciseAngina <= 0.5) and (RestingBP <= 145.0) and (MaxHR > 97.5) and (MaxHR > 147.5) and (Cholesterol <= 276.0) then class: H (proba: 100.0%) | based on 1 samples\n",
            "if (ST_Slope <= 1.5) and (MaxHR <= 151.0) and (Sex > 0.5) and (MaxHR <= 130.5) and (Age > 52.5) and (Oldpeak > 0.1) and (Oldpeak > 0.75) and (Cholesterol <= 308.0) and (RestingBP <= 130.5) and (RestingECG > 1.5) and (Oldpeak > 2.5) then class: H (proba: 100.0%) | based on 1 samples\n",
            "if (ST_Slope <= 1.5) and (MaxHR <= 151.0) and (Sex <= 0.5) and (FastingBS <= 0.5) and (ExerciseAngina <= 0.5) and (RestingBP <= 145.0) and (MaxHR > 97.5) and (MaxHR > 147.5) and (Cholesterol > 276.0) then class: e (proba: 100.0%) | based on 1 samples\n",
            "if (ST_Slope <= 1.5) and (MaxHR <= 151.0) and (Sex <= 0.5) and (FastingBS <= 0.5) and (ExerciseAngina > 0.5) and (Oldpeak > 0.5) and (MaxHR <= 144.0) and (MaxHR > 109.0) and (Age > 54.0) and (Oldpeak <= 0.9) then class: H (proba: 100.0%) | based on 1 samples\n",
            "if (ST_Slope <= 1.5) and (MaxHR <= 151.0) and (Sex > 0.5) and (MaxHR <= 130.5) and (Age > 52.5) and (Oldpeak > 0.1) and (Oldpeak > 0.75) and (Cholesterol <= 308.0) and (RestingBP <= 130.5) and (RestingECG > 1.5) and (Oldpeak <= 2.5) and (MaxHR > 98.0) and (RestingBP <= 127.0) and (RestingBP > 123.0) then class: H (proba: 100.0%) | based on 1 samples\n",
            "if (ST_Slope <= 1.5) and (MaxHR <= 151.0) and (Sex <= 0.5) and (FastingBS <= 0.5) and (ExerciseAngina > 0.5) and (Oldpeak > 0.5) and (MaxHR <= 144.0) and (MaxHR > 109.0) and (Age <= 54.0) and (Cholesterol > 266.0) and (Cholesterol > 316.5) then class: H (proba: 100.0%) | based on 1 samples\n",
            "if (ST_Slope <= 1.5) and (MaxHR <= 151.0) and (Sex > 0.5) and (MaxHR <= 130.5) and (Age > 52.5) and (Oldpeak > 0.1) and (Oldpeak > 0.75) and (Cholesterol <= 308.0) and (RestingBP <= 130.5) and (RestingECG > 1.5) and (Oldpeak <= 2.5) and (MaxHR > 98.0) and (RestingBP <= 127.0) and (RestingBP <= 123.0) then class: e (proba: 100.0%) | based on 1 samples\n",
            "if (ST_Slope <= 1.5) and (MaxHR <= 151.0) and (Sex > 0.5) and (MaxHR <= 130.5) and (Age > 52.5) and (Oldpeak > 0.1) and (Oldpeak <= 0.75) and (RestingBP <= 142.5) and (RestingBP <= 119.0) then class: e (proba: 100.0%) | based on 1 samples\n",
            "if (ST_Slope <= 1.5) and (MaxHR <= 151.0) and (Sex > 0.5) and (MaxHR <= 130.5) and (Age > 52.5) and (Oldpeak > 0.1) and (Oldpeak > 0.75) and (Cholesterol <= 308.0) and (RestingBP <= 130.5) and (RestingECG > 1.5) and (Oldpeak <= 2.5) and (MaxHR <= 98.0) then class: H (proba: 100.0%) | based on 1 samples\n",
            "if (ST_Slope <= 1.5) and (MaxHR <= 151.0) and (Sex <= 0.5) and (FastingBS <= 0.5) and (ExerciseAngina <= 0.5) and (RestingBP > 145.0) and (Age > 65.5) then class: H (proba: 100.0%) | based on 1 samples\n",
            "if (ST_Slope <= 1.5) and (MaxHR <= 151.0) and (Sex <= 0.5) and (FastingBS <= 0.5) and (ExerciseAngina > 0.5) and (Oldpeak > 0.5) and (MaxHR <= 144.0) and (MaxHR > 109.0) and (Age <= 54.0) and (Cholesterol > 266.0) and (Cholesterol <= 316.5) then class: e (proba: 100.0%) | based on 1 samples\n",
            "if (ST_Slope <= 1.5) and (MaxHR <= 151.0) and (Sex > 0.5) and (MaxHR <= 130.5) and (Age > 52.5) and (Oldpeak > 0.1) and (Oldpeak > 0.75) and (Cholesterol <= 308.0) and (RestingBP <= 130.5) and (RestingECG <= 1.5) and (MaxHR > 125.5) and (Oldpeak <= 1.6) then class: H (proba: 100.0%) | based on 1 samples\n",
            "if (ST_Slope <= 1.5) and (MaxHR <= 151.0) and (Sex > 0.5) and (MaxHR <= 130.5) and (Age > 52.5) and (Oldpeak > 0.1) and (Oldpeak > 0.75) and (Cholesterol <= 308.0) and (RestingBP > 130.5) and (Age > 71.5) and (Cholesterol <= 61.5) then class: H (proba: 100.0%) | based on 1 samples\n",
            "if (ST_Slope <= 1.5) and (MaxHR > 151.0) and (ChestPainType <= 0.5) and (MaxHR > 152.5) and (Cholesterol > 231.0) and (Cholesterol > 239.0) and (MaxHR <= 175.5) and (MaxHR <= 158.5) and (Cholesterol > 272.0) and (MaxHR > 155.5) then class: H (proba: 100.0%) | based on 1 samples\n",
            "if (ST_Slope <= 1.5) and (MaxHR <= 151.0) and (Sex > 0.5) and (MaxHR <= 130.5) and (Age > 52.5) and (Oldpeak > 0.1) and (Oldpeak > 0.75) and (Cholesterol > 308.0) and (Age <= 74.5) and (Oldpeak <= 1.25) and (Cholesterol > 530.5) then class: e (proba: 100.0%) | based on 1 samples\n",
            "if (ST_Slope > 1.5) and (ChestPainType <= 0.5) and (Oldpeak <= 0.45) and (MaxHR <= 149.0) and (Cholesterol <= 42.5) and (FastingBS <= 0.5) and (Age > 53.0) and (RestingBP > 143.5) then class: H (proba: 100.0%) | based on 1 samples\n",
            "if (ST_Slope > 1.5) and (ChestPainType > 0.5) and (Oldpeak <= 2.2) and (Age > 56.5) and (RestingBP > 122.0) and (Cholesterol > 316.0) and (MaxHR <= 151.5) then class: H (proba: 100.0%) | based on 1 samples\n",
            "if (ST_Slope > 1.5) and (ChestPainType > 0.5) and (Oldpeak <= 2.2) and (Age > 56.5) and (RestingBP > 122.0) and (Cholesterol <= 316.0) and (Age > 72.0) and (MaxHR <= 118.5) then class: H (proba: 100.0%) | based on 1 samples\n",
            "if (ST_Slope > 1.5) and (ChestPainType > 0.5) and (Oldpeak <= 2.2) and (Age > 56.5) and (RestingBP > 122.0) and (Cholesterol <= 316.0) and (Age <= 72.0) and (Age <= 59.5) and (FastingBS <= 0.5) and (RestingECG > 0.5) and (Oldpeak > 0.15) and (MaxHR > 168.0) then class: H (proba: 100.0%) | based on 1 samples\n",
            "if (ST_Slope > 1.5) and (ChestPainType > 0.5) and (Oldpeak <= 2.2) and (Age <= 56.5) and (Cholesterol > 153.0) and (RestingBP > 191.0) then class: e (proba: 100.0%) | based on 1 samples\n",
            "if (ST_Slope > 1.5) and (ChestPainType > 0.5) and (Oldpeak <= 2.2) and (Age <= 56.5) and (Cholesterol > 153.0) and (RestingBP <= 191.0) and (RestingBP <= 109.0) and (RestingBP > 107.0) and (Cholesterol <= 255.0) then class: e (proba: 100.0%) | based on 1 samples\n",
            "if (ST_Slope > 1.5) and (ChestPainType <= 0.5) and (Oldpeak > 0.45) and (FastingBS > 0.5) and (MaxHR <= 103.0) then class: H (proba: 100.0%) | based on 1 samples\n",
            "if (ST_Slope > 1.5) and (ChestPainType <= 0.5) and (Oldpeak > 0.45) and (FastingBS <= 0.5) and (MaxHR > 126.0) and (RestingBP <= 146.0) and (Sex > 0.5) and (MaxHR > 135.5) and (MaxHR > 159.5) and (MaxHR <= 164.0) then class: H (proba: 100.0%) | based on 1 samples\n",
            "if (ST_Slope > 1.5) and (ChestPainType <= 0.5) and (Oldpeak > 0.45) and (FastingBS <= 0.5) and (MaxHR > 126.0) and (RestingBP <= 146.0) and (Sex > 0.5) and (MaxHR <= 135.5) then class: H (proba: 100.0%) | based on 1 samples\n",
            "if (ST_Slope > 1.5) and (ChestPainType <= 0.5) and (Oldpeak <= 0.45) and (MaxHR > 149.0) and (MaxHR <= 181.5) and (Cholesterol > 205.0) and (RestingECG > 0.5) and (MaxHR > 179.5) then class: e (proba: 100.0%) | based on 1 samples\n",
            "if (ST_Slope > 1.5) and (ChestPainType <= 0.5) and (Oldpeak <= 0.45) and (MaxHR > 149.0) and (MaxHR <= 181.5) and (Cholesterol > 205.0) and (RestingECG <= 0.5) and (Cholesterol > 255.0) and (Sex <= 0.5) and (Age <= 58.5) then class: H (proba: 100.0%) | based on 1 samples\n",
            "if (ST_Slope > 1.5) and (ChestPainType <= 0.5) and (Oldpeak <= 0.45) and (MaxHR > 149.0) and (MaxHR <= 181.5) and (Cholesterol <= 205.0) and (MaxHR <= 152.0) then class: H (proba: 100.0%) | based on 1 samples\n",
            "if (ST_Slope > 1.5) and (ChestPainType <= 0.5) and (Oldpeak <= 0.45) and (MaxHR <= 149.0) and (Cholesterol > 42.5) and (Age > 65.5) and (RestingECG > 0.5) then class: H (proba: 100.0%) | based on 1 samples\n",
            "if (ST_Slope > 1.5) and (ChestPainType <= 0.5) and (Oldpeak <= 0.45) and (MaxHR <= 149.0) and (Cholesterol > 42.5) and (Age > 65.5) and (RestingECG <= 0.5) then class: e (proba: 100.0%) | based on 1 samples\n",
            "if (ST_Slope <= 1.5) and (MaxHR > 151.0) and (ChestPainType > 0.5) and (MaxHR > 154.5) and (Sex > 0.5) and (MaxHR <= 183.0) and (Cholesterol > 255.0) and (MaxHR > 176.5) then class: H (proba: 100.0%) | based on 1 samples\n",
            "if (ST_Slope <= 1.5) and (MaxHR <= 151.0) and (Sex > 0.5) and (MaxHR <= 130.5) and (Age > 52.5) and (Oldpeak > 0.1) and (Oldpeak > 0.75) and (Cholesterol > 308.0) and (Age > 74.5) then class: H (proba: 100.0%) | based on 1 samples\n",
            "if (ST_Slope <= 1.5) and (MaxHR > 151.0) and (ChestPainType > 0.5) and (MaxHR > 154.5) and (Sex > 0.5) and (MaxHR <= 183.0) and (Cholesterol <= 255.0) and (RestingBP > 115.0) and (RestingBP > 131.0) and (Age > 62.0) then class: H (proba: 100.0%) | based on 1 samples\n",
            "if (ST_Slope <= 1.5) and (MaxHR > 151.0) and (ChestPainType > 0.5) and (MaxHR > 154.5) and (Sex > 0.5) and (MaxHR <= 183.0) and (Cholesterol <= 255.0) and (RestingBP > 115.0) and (RestingBP <= 131.0) and (MaxHR > 172.0) and (RestingBP > 127.5) then class: H (proba: 100.0%) | based on 1 samples\n",
            "if (ST_Slope <= 1.5) and (MaxHR > 151.0) and (ChestPainType > 0.5) and (MaxHR > 154.5) and (Sex <= 0.5) and (RestingBP > 151.0) then class: e (proba: 100.0%) | based on 1 samples\n",
            "if (ST_Slope <= 1.5) and (MaxHR > 151.0) and (ChestPainType > 0.5) and (MaxHR > 154.5) and (Sex <= 0.5) and (RestingBP <= 151.0) and (FastingBS > 0.5) then class: e (proba: 100.0%) | based on 1 samples\n",
            "if (ST_Slope <= 1.5) and (MaxHR > 151.0) and (ChestPainType <= 0.5) and (MaxHR > 152.5) and (Cholesterol > 231.0) and (Cholesterol > 239.0) and (MaxHR > 175.5) then class: H (proba: 100.0%) | based on 1 samples\n",
            "if (ST_Slope <= 1.5) and (MaxHR > 151.0) and (ChestPainType <= 0.5) and (MaxHR > 152.5) and (Cholesterol > 231.0) and (Cholesterol > 239.0) and (MaxHR <= 175.5) and (MaxHR <= 158.5) and (Cholesterol > 272.0) and (MaxHR <= 155.5) and (Cholesterol <= 303.5) then class: H (proba: 100.0%) | based on 1 samples\n",
            "if (ST_Slope <= 1.5) and (MaxHR > 151.0) and (ChestPainType <= 0.5) and (MaxHR > 152.5) and (Cholesterol > 231.0) and (Cholesterol <= 239.0) then class: H (proba: 100.0%) | based on 1 samples\n",
            "if (ST_Slope <= 1.5) and (MaxHR <= 151.0) and (Sex > 0.5) and (MaxHR > 130.5) and (ChestPainType > 0.5) and (ST_Slope > 0.5) and (Oldpeak <= 1.9) and (Cholesterol <= 261.0) and (MaxHR <= 147.5) and (Oldpeak > 0.05) and (Cholesterol > 244.0) and (RestingBP <= 125.0) then class: H (proba: 100.0%) | based on 1 samples\n",
            "if (ST_Slope <= 1.5) and (MaxHR <= 151.0) and (Sex > 0.5) and (MaxHR > 130.5) and (ChestPainType > 0.5) and (ST_Slope > 0.5) and (Oldpeak <= 1.9) and (Cholesterol <= 261.0) and (MaxHR <= 147.5) and (Oldpeak <= 0.05) and (Age <= 49.5) and (MaxHR > 136.0) then class: e (proba: 100.0%) | based on 1 samples\n",
            "if (ST_Slope <= 1.5) and (MaxHR <= 151.0) and (Sex > 0.5) and (MaxHR > 130.5) and (ChestPainType > 0.5) and (ST_Slope > 0.5) and (Oldpeak <= 1.9) and (Cholesterol <= 261.0) and (MaxHR <= 147.5) and (Oldpeak <= 0.05) and (Age <= 49.5) and (MaxHR <= 136.0) then class: H (proba: 100.0%) | based on 1 samples\n",
            "if (ST_Slope <= 1.5) and (MaxHR <= 151.0) and (Sex > 0.5) and (MaxHR > 130.5) and (ChestPainType <= 0.5) and (RestingBP > 112.0) and (Oldpeak <= 0.45) and (Oldpeak > 0.2) and (Cholesterol > 96.0) then class: H (proba: 100.0%) | based on 1 samples\n",
            "if (ST_Slope <= 1.5) and (MaxHR <= 151.0) and (Sex > 0.5) and (MaxHR > 130.5) and (ChestPainType <= 0.5) and (RestingBP > 112.0) and (Oldpeak <= 0.45) and (Oldpeak > 0.2) and (Cholesterol <= 96.0) then class: e (proba: 100.0%) | based on 1 samples\n",
            "if (ST_Slope <= 1.5) and (MaxHR <= 151.0) and (Sex > 0.5) and (MaxHR > 130.5) and (ChestPainType <= 0.5) and (RestingBP <= 112.0) and (Cholesterol <= 238.5) and (Cholesterol <= 205.0) and (Age > 49.5) then class: H (proba: 100.0%) | based on 1 samples\n",
            "if (ST_Slope <= 1.5) and (MaxHR <= 151.0) and (Sex <= 0.5) and (FastingBS <= 0.5) and (ExerciseAngina <= 0.5) and (RestingBP <= 145.0) and (MaxHR <= 97.5) then class: e (proba: 100.0%) | based on 1 samples\n"
          ]
        }
      ]
    },
    {
      "cell_type": "code",
      "source": [
        ""
      ],
      "metadata": {
        "colab": {
          "base_uri": "https://localhost:8080/",
          "height": 183
        },
        "id": "ydHbMzjTcMN0",
        "outputId": "16e1200b-e1cc-414a-ce8a-51bd1302370c"
      },
      "execution_count": null,
      "outputs": [
        {
          "output_type": "error",
          "ename": "SystemError",
          "evalue": "ignored",
          "traceback": [
            "\u001b[0;31m---------------------------------------------------------------------------\u001b[0m",
            "\u001b[0;31mSystemError\u001b[0m                               Traceback (most recent call last)",
            "\u001b[0;32m<ipython-input-120-f475f227ab37>\u001b[0m in \u001b[0;36m<module>\u001b[0;34m()\u001b[0m\n\u001b[1;32m      1\u001b[0m \u001b[0;32mimport\u001b[0m \u001b[0mcv2\u001b[0m\u001b[0;34m\u001b[0m\u001b[0;34m\u001b[0m\u001b[0m\n\u001b[0;32m----> 2\u001b[0;31m \u001b[0miamge\u001b[0m\u001b[0;34m=\u001b[0m\u001b[0mcv2\u001b[0m\u001b[0;34m.\u001b[0m\u001b[0mimread\u001b[0m\u001b[0;34m(\u001b[0m\u001b[0mgraph\u001b[0m\u001b[0;34m)\u001b[0m\u001b[0;34m\u001b[0m\u001b[0;34m\u001b[0m\u001b[0m\n\u001b[0m",
            "\u001b[0;31mSystemError\u001b[0m: <built-in function imread> returned NULL without setting an error"
          ]
        }
      ]
    }
  ]
}